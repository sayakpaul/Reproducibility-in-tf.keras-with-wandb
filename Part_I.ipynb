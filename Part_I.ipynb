{
  "nbformat": 4,
  "nbformat_minor": 0,
  "metadata": {
    "kernelspec": {
      "display_name": "Python 3",
      "language": "python",
      "name": "python3"
    },
    "language_info": {
      "codemirror_mode": {
        "name": "ipython",
        "version": 3
      },
      "file_extension": ".py",
      "mimetype": "text/x-python",
      "name": "python",
      "nbconvert_exporter": "python",
      "pygments_lexer": "ipython3",
      "version": "3.7.6"
    },
    "colab": {
      "name": "Part_I.ipynb",
      "provenance": [],
      "include_colab_link": true
    }
  },
  "cells": [
    {
      "cell_type": "markdown",
      "metadata": {
        "id": "view-in-github",
        "colab_type": "text"
      },
      "source": [
        "<a href=\"https://colab.research.google.com/github/sayakpaul/Reproducibility-in-tf.keras-with-wandb/blob/master/Part_I.ipynb\" target=\"_parent\"><img src=\"https://colab.research.google.com/assets/colab-badge.svg\" alt=\"Open In Colab\"/></a>"
      ]
    },
    {
      "cell_type": "code",
      "metadata": {
        "id": "l6X1q9ejkhZs",
        "colab_type": "code",
        "colab": {}
      },
      "source": [
        "# Set up deterministic flag\n",
        "import tensorflow as tf\n",
        "import os\n",
        "os.environ[\"TF_DETERMINISTIC_OPS\"] = \"1\""
      ],
      "execution_count": 0,
      "outputs": []
    },
    {
      "cell_type": "code",
      "metadata": {
        "id": "bAMqwrXjkhZ0",
        "colab_type": "code",
        "colab": {}
      },
      "source": [
        "# Fix random seeds\n",
        "SEED = 666\n",
        "tf.random.set_seed(SEED)\n",
        "import numpy as np\n",
        "np.random.seed(SEED)"
      ],
      "execution_count": 0,
      "outputs": []
    },
    {
      "cell_type": "code",
      "metadata": {
        "id": "JdevLT-PkhZ5",
        "colab_type": "code",
        "colab": {}
      },
      "source": [
        "# Import wandb\n",
        "import wandb\n",
        "from wandb.keras import WandbCallback"
      ],
      "execution_count": 0,
      "outputs": []
    },
    {
      "cell_type": "code",
      "metadata": {
        "id": "VEfNpBg-khZ-",
        "colab_type": "code",
        "colab": {}
      },
      "source": [
        "# Other imports\n",
        "import time"
      ],
      "execution_count": 0,
      "outputs": []
    },
    {
      "cell_type": "code",
      "metadata": {
        "id": "eX8padokkhaH",
        "colab_type": "code",
        "colab": {}
      },
      "source": [
        "# Load up and preprocess data\n",
        "fashion_mnist = tf.keras.datasets.fashion_mnist\n",
        "(train_images, train_labels), (test_images, test_labels) = fashion_mnist.load_data()\n",
        "\n",
        "train_images = train_images / 255.0\n",
        "test_images = test_images / 255.0"
      ],
      "execution_count": 0,
      "outputs": []
    },
    {
      "cell_type": "code",
      "metadata": {
        "id": "A6P-MPQukhaL",
        "colab_type": "code",
        "colab": {},
        "outputId": "46dc1dfb-ba09-4be4-fafe-190417f9faa4"
      },
      "source": [
        "# Verify shapes\n",
        "train_images.shape, train_labels.shape, test_images.shape, test_labels.shape"
      ],
      "execution_count": 0,
      "outputs": [
        {
          "output_type": "execute_result",
          "data": {
            "text/plain": [
              "((60000, 28, 28), (60000,), (10000, 28, 28), (10000,))"
            ]
          },
          "metadata": {
            "tags": []
          },
          "execution_count": 6
        }
      ]
    },
    {
      "cell_type": "code",
      "metadata": {
        "id": "u1eiN-NekhaU",
        "colab_type": "code",
        "colab": {}
      },
      "source": [
        "# Specify the class labels\n",
        "LABELS = [\"T-shirt/top\",\"Trouser\",\"Pullover\",\"Dress\",\"Coat\",\n",
        "        \"Sandal\",\"Shirt\",\"Sneaker\",\"Bag\",\"Ankle boot\"]"
      ],
      "execution_count": 0,
      "outputs": []
    },
    {
      "cell_type": "code",
      "metadata": {
        "id": "Jusg-zc5khaX",
        "colab_type": "code",
        "colab": {}
      },
      "source": [
        "# Create a sepcific validation set from the test set\n",
        "X_val = []\n",
        "y_val = []\n",
        "\n",
        "idx = np.random.choice(test_images.shape[0], 32)\n",
        "for i in idx:\n",
        "    X_val.append(test_images[i])\n",
        "    y_val.append(test_labels[i])\n",
        "    \n",
        "X_val, y_val = np.array(X_val), np.array(y_val)"
      ],
      "execution_count": 0,
      "outputs": []
    },
    {
      "cell_type": "code",
      "metadata": {
        "id": "NVLDsPStkhab",
        "colab_type": "code",
        "colab": {},
        "outputId": "61caf434-a93b-46c1-81f1-7fb5a3bd7fa9"
      },
      "source": [
        "# Verify shapes\n",
        "X_val.shape, y_val.shape"
      ],
      "execution_count": 0,
      "outputs": [
        {
          "output_type": "execute_result",
          "data": {
            "text/plain": [
              "((32, 28, 28), (32,))"
            ]
          },
          "metadata": {
            "tags": []
          },
          "execution_count": 9
        }
      ]
    },
    {
      "cell_type": "code",
      "metadata": {
        "id": "KIZuPe9ckhae",
        "colab_type": "code",
        "colab": {}
      },
      "source": [
        "# Define model configurations in a dictionary\n",
        "config_defaults = {\n",
        "        \"epochs\": 10,\n",
        "        \"batch_size\": 128,\n",
        "        \"prefinal_activation\": \"relu\",\n",
        "        \"final_activation\": \"softmax\",\n",
        "        \"optimizer\": \"adam\",\n",
        "        'seed': 42\n",
        "}"
      ],
      "execution_count": 0,
      "outputs": []
    },
    {
      "cell_type": "code",
      "metadata": {
        "id": "H7x-uUcYkhah",
        "colab_type": "code",
        "colab": {},
        "outputId": "c18d3ccf-2aba-4caf-cce7-50f23a97a6e3"
      },
      "source": [
        "# Initialize a new wandb run\n",
        "wandb.init(project=\"reproducible-ml\", id=\"no-sweeps\", config=config_defaults)\n",
        "\n",
        "# Config is a variable that holds and saves hyperparameters and inputs\n",
        "config = wandb.config"
      ],
      "execution_count": 0,
      "outputs": [
        {
          "output_type": "display_data",
          "data": {
            "text/html": [
              "\n",
              "                Logging results to <a href=\"https://wandb.com\" target=\"_blank\">Weights & Biases</a> <a href=\"https://docs.wandb.com/integrations/jupyter.html\" target=\"_blank\">(Documentation)</a>.<br/>\n",
              "                Project page: <a href=\"https://app.wandb.ai/sayakpaul/reproducible-ml\" target=\"_blank\">https://app.wandb.ai/sayakpaul/reproducible-ml</a><br/>\n",
              "                Run page: <a href=\"https://app.wandb.ai/sayakpaul/reproducible-ml/runs/no-sweeps\" target=\"_blank\">https://app.wandb.ai/sayakpaul/reproducible-ml/runs/no-sweeps</a><br/>\n",
              "            "
            ],
            "text/plain": [
              "<IPython.core.display.HTML object>"
            ]
          },
          "metadata": {
            "tags": []
          }
        },
        {
          "output_type": "stream",
          "text": [
            "Error generating diff: Reference at 'refs/remotes/origin/master' does not exist\n"
          ],
          "name": "stderr"
        }
      ]
    },
    {
      "cell_type": "code",
      "metadata": {
        "id": "ZdCHGL8Ukhap",
        "colab_type": "code",
        "colab": {}
      },
      "source": [
        "# Set up early stopping callback\n",
        "es = tf.keras.callbacks.EarlyStopping(monitor=\"val_loss\", \n",
        "                                      patience=1,\n",
        "                                      restore_best_weights=True,\n",
        "                                      verbose=3)"
      ],
      "execution_count": 0,
      "outputs": []
    },
    {
      "cell_type": "code",
      "metadata": {
        "id": "UDTzB1IHkhaw",
        "colab_type": "code",
        "colab": {}
      },
      "source": [
        "# Utility function for model\n",
        "def get_training_model():\n",
        "    # Define the model\n",
        "    model = tf.keras.Sequential([\n",
        "        tf.keras.layers.Flatten(input_shape=(28, 28)),\n",
        "        tf.keras.layers.Dense(256, activation=config.prefinal_activation),\n",
        "        tf.keras.layers.Dense(10, activation=config.final_activation)\n",
        "    ])\n",
        "    \n",
        "    # Compile the model\n",
        "    model.compile(optimizer=config.optimizer,\n",
        "                  loss=\"sparse_categorical_crossentropy\",\n",
        "                  metrics=[\"accuracy\"])\n",
        "    \n",
        "    return model"
      ],
      "execution_count": 0,
      "outputs": []
    },
    {
      "cell_type": "code",
      "metadata": {
        "id": "_I8wy57Bkha1",
        "colab_type": "code",
        "colab": {},
        "outputId": "12ff8653-d48e-4322-a79b-95e699bc3dc3"
      },
      "source": [
        "# Train the model\n",
        "start = time.time()\n",
        "mlp_model = get_training_model()\n",
        "mlp_model.fit(train_images, train_labels, \n",
        "    validation_data=(test_images, test_labels),\n",
        "    batch_size=config.batch_size,\n",
        "    epochs=config.epochs,\n",
        "    callbacks=[WandbCallback(data_type=\"image\", validation_data=(X_val, y_val), \n",
        "                    labels=LABELS),\n",
        "              es])\n",
        "wandb.log({\"training_time\":time.time()-start})"
      ],
      "execution_count": 0,
      "outputs": [
        {
          "output_type": "stream",
          "text": [
            "Error generating diff: Reference at 'refs/remotes/origin/master' does not exist\n"
          ],
          "name": "stderr"
        },
        {
          "output_type": "stream",
          "text": [
            "Train on 60000 samples, validate on 10000 samples\n",
            "Epoch 1/10\n",
            "60000/60000 [==============================] - 3s 45us/sample - loss: 0.5299 - accuracy: 0.8147 - val_loss: 0.4510 - val_accuracy: 0.8429\n",
            "Epoch 2/10\n",
            "60000/60000 [==============================] - 1s 24us/sample - loss: 0.3899 - accuracy: 0.8612 - val_loss: 0.4069 - val_accuracy: 0.8550\n",
            "Epoch 3/10\n",
            "60000/60000 [==============================] - 1s 24us/sample - loss: 0.3474 - accuracy: 0.8751 - val_loss: 0.3722 - val_accuracy: 0.8629\n",
            "Epoch 4/10\n",
            "60000/60000 [==============================] - 1s 24us/sample - loss: 0.3189 - accuracy: 0.8850 - val_loss: 0.3599 - val_accuracy: 0.8709\n",
            "Epoch 5/10\n",
            "60000/60000 [==============================] - 1s 24us/sample - loss: 0.3039 - accuracy: 0.8880 - val_loss: 0.3498 - val_accuracy: 0.8755\n",
            "Epoch 6/10\n",
            "60000/60000 [==============================] - 1s 24us/sample - loss: 0.2871 - accuracy: 0.8940 - val_loss: 0.3409 - val_accuracy: 0.8783\n",
            "Epoch 7/10\n",
            "60000/60000 [==============================] - 1s 24us/sample - loss: 0.2706 - accuracy: 0.9003 - val_loss: 0.3250 - val_accuracy: 0.8864\n",
            "Epoch 8/10\n",
            "59136/60000 [============================>.] - ETA: 0s - loss: 0.2618 - accuracy: 0.9036Restoring model weights from the end of the best epoch.\n",
            "60000/60000 [==============================] - 1s 24us/sample - loss: 0.2618 - accuracy: 0.9035 - val_loss: 0.3449 - val_accuracy: 0.8744\n",
            "Epoch 00008: early stopping\n"
          ],
          "name": "stdout"
        }
      ]
    },
    {
      "cell_type": "code",
      "metadata": {
        "id": "bj3tHMsOkha4",
        "colab_type": "code",
        "colab": {},
        "outputId": "cb3c8a21-17af-4a7b-a736-5e597f572f24"
      },
      "source": [
        "# Running the model a few times locally\n",
        "accuracy_list = []\n",
        "loss_list = []\n",
        "times = []\n",
        "\n",
        "for i in range(15):\n",
        "    print(\"Running run number \",i+1)\n",
        "    start = time.time()\n",
        "    mlp_model = get_training_model()\n",
        "    history = mlp_model.fit(train_images, train_labels, \n",
        "        validation_data=(test_images, test_labels),\n",
        "        batch_size=config.batch_size,\n",
        "        epochs=config.epochs,\n",
        "        callbacks=[es],\n",
        "        verbose=0)\n",
        "    end = time.time() - start\n",
        "    \n",
        "    val_accuracy = history.history[\"val_accuracy\"][-1]\n",
        "    val_loss = history.history[\"val_loss\"][-1]\n",
        "    \n",
        "    accuracy_list.append(val_accuracy)\n",
        "    loss_list.append(val_loss)\n",
        "    times.append(end)\n",
        "    \n",
        "print(\"Mean val accuracy {} mean val loss {}\".format(np.mean(accuracy_list), np.mean(loss_list)))\n",
        "print(\"Std val accuracy {} Std val loss {}\".format(np.std(accuracy_list), np.std(loss_list)))\n",
        "print(\"Mean time to train {}\".format(np.mean(times)))\n",
        "print(\"Std time to train {}\".format(np.std(times)))"
      ],
      "execution_count": 0,
      "outputs": [
        {
          "output_type": "stream",
          "text": [
            "Running run number  1\n",
            "Restoring model weights from the end of the best epoch.\n",
            "Epoch 00008: early stopping\n",
            "Running run number  2\n",
            "Restoring model weights from the end of the best epoch.\n",
            "Epoch 00008: early stopping\n",
            "Running run number  3\n",
            "Restoring model weights from the end of the best epoch.\n",
            "Epoch 00006: early stopping\n",
            "Running run number  4\n",
            "Restoring model weights from the end of the best epoch.\n",
            "Epoch 00008: early stopping\n",
            "Running run number  5\n",
            "Restoring model weights from the end of the best epoch.\n",
            "Epoch 00008: early stopping\n",
            "Running run number  6\n",
            "Restoring model weights from the end of the best epoch.\n",
            "Epoch 00008: early stopping\n",
            "Running run number  7\n",
            "Restoring model weights from the end of the best epoch.\n",
            "Epoch 00006: early stopping\n",
            "Running run number  8\n",
            "Restoring model weights from the end of the best epoch.\n",
            "Epoch 00008: early stopping\n",
            "Running run number  9\n",
            "Restoring model weights from the end of the best epoch.\n",
            "Epoch 00008: early stopping\n",
            "Running run number  10\n",
            "Restoring model weights from the end of the best epoch.\n",
            "Epoch 00008: early stopping\n",
            "Running run number  11\n",
            "Restoring model weights from the end of the best epoch.\n",
            "Epoch 00007: early stopping\n",
            "Running run number  12\n",
            "Restoring model weights from the end of the best epoch.\n",
            "Epoch 00006: early stopping\n",
            "Running run number  13\n",
            "Restoring model weights from the end of the best epoch.\n",
            "Epoch 00006: early stopping\n",
            "Running run number  14\n",
            "Restoring model weights from the end of the best epoch.\n",
            "Epoch 00008: early stopping\n",
            "Running run number  15\n",
            "Restoring model weights from the end of the best epoch.\n",
            "Epoch 00008: early stopping\n",
            "Mean val accuracy 0.8763200640678406 mean val loss 0.3461266803105672\n",
            "Std val accuracy 0.0033160645980387926 Std val loss 0.0053014456736163\n",
            "Mean time to train 10.15922474861145\n",
            "Std time to train 1.0823407448161604\n"
          ],
          "name": "stdout"
        }
      ]
    },
    {
      "cell_type": "markdown",
      "metadata": {
        "id": "h6PsHl19kha8",
        "colab_type": "text"
      },
      "source": [
        "We can see that the standard deviation of the validation accuracy and validation loss are pretty low. So, we are good here. You might thnik that the dataset and the model are too low to conclude anything but note that as you would scale up these concepts would still apply there :)"
      ]
    }
  ]
}