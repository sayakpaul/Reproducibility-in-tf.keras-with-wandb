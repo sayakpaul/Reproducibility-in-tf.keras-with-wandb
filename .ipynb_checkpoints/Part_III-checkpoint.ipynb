{
 "cells": [
  {
   "cell_type": "code",
   "execution_count": 1,
   "metadata": {
    "colab": {},
    "colab_type": "code",
    "id": "lIYdn1woOS1n"
   },
   "outputs": [],
   "source": [
    "# Set up deterministic flag\n",
    "import tensorflow as tf\n",
    "import os\n",
    "os.environ[\"TF_DETERMINISTIC_OPS\"] = \"1\""
   ]
  },
  {
   "cell_type": "code",
   "execution_count": 2,
   "metadata": {
    "colab": {},
    "colab_type": "code",
    "id": "BJUIXhd6EMlM"
   },
   "outputs": [],
   "source": [
    "# Fix random seeds\n",
    "SEED = 666\n",
    "tf.random.set_seed(SEED)\n",
    "import numpy as np\n",
    "np.random.seed(SEED)"
   ]
  },
  {
   "cell_type": "code",
   "execution_count": 3,
   "metadata": {},
   "outputs": [],
   "source": [
    "# Import wandb\n",
    "import wandb\n",
    "from wandb.keras import WandbCallback"
   ]
  },
  {
   "cell_type": "code",
   "execution_count": 4,
   "metadata": {},
   "outputs": [],
   "source": [
    "# Other imports\n",
    "import time"
   ]
  },
  {
   "cell_type": "code",
   "execution_count": 5,
   "metadata": {
    "colab": {
     "base_uri": "https://localhost:8080/",
     "height": 153
    },
    "colab_type": "code",
    "id": "OylNgJVjEOVi",
    "outputId": "d0b0781b-6cd8-4059-a45b-68773913f298"
   },
   "outputs": [],
   "source": [
    "# Load up and preprocess data\n",
    "fashion_mnist = tf.keras.datasets.fashion_mnist\n",
    "(train_images, train_labels), (test_images, test_labels) = fashion_mnist.load_data()\n",
    "\n",
    "train_images = train_images / 255.0\n",
    "test_images = test_images / 255.0"
   ]
  },
  {
   "cell_type": "code",
   "execution_count": 6,
   "metadata": {
    "colab": {
     "base_uri": "https://localhost:8080/",
     "height": 34
    },
    "colab_type": "code",
    "id": "-yrqQ3ofEVru",
    "outputId": "5c576882-6928-4dbe-a179-814a908743a9"
   },
   "outputs": [
    {
     "data": {
      "text/plain": [
       "((60000, 28, 28), (60000,), (10000, 28, 28), (10000,))"
      ]
     },
     "execution_count": 6,
     "metadata": {},
     "output_type": "execute_result"
    }
   ],
   "source": [
    "# Verify shapes\n",
    "train_images.shape, train_labels.shape, test_images.shape, test_labels.shape"
   ]
  },
  {
   "cell_type": "code",
   "execution_count": 7,
   "metadata": {},
   "outputs": [],
   "source": [
    "# Specify the class labels\n",
    "LABELS = [\"T-shirt/top\",\"Trouser\",\"Pullover\",\"Dress\",\"Coat\",\n",
    "        \"Sandal\",\"Shirt\",\"Sneaker\",\"Bag\",\"Ankle boot\"]"
   ]
  },
  {
   "cell_type": "code",
   "execution_count": 8,
   "metadata": {},
   "outputs": [],
   "source": [
    "# Define model configurations in a dictionary\n",
    "config_defaults = {\n",
    "        \"epochs\": 10,\n",
    "        \"batch_size\": 128,\n",
    "        \"prefinal_activation\": \"relu\",\n",
    "        \"final_activation\": \"softmax\",\n",
    "        \"optimizer\": \"adam\",\n",
    "        'seed': 42\n",
    "}"
   ]
  },
  {
   "cell_type": "code",
   "execution_count": 9,
   "metadata": {},
   "outputs": [
    {
     "data": {
      "text/html": [
       "\n",
       "                Logging results to <a href=\"https://wandb.com\" target=\"_blank\">Weights & Biases</a> <a href=\"https://docs.wandb.com/integrations/jupyter.html\" target=\"_blank\">(Documentation)</a>.<br/>\n",
       "                Project page: <a href=\"https://app.wandb.ai/sayakpaul/reproducible-ml\" target=\"_blank\">https://app.wandb.ai/sayakpaul/reproducible-ml</a><br/>\n",
       "                Run page: <a href=\"https://app.wandb.ai/sayakpaul/reproducible-ml/runs/save-restore-exp\" target=\"_blank\">https://app.wandb.ai/sayakpaul/reproducible-ml/runs/save-restore-exp</a><br/>\n",
       "            "
      ],
      "text/plain": [
       "<IPython.core.display.HTML object>"
      ]
     },
     "metadata": {},
     "output_type": "display_data"
    },
    {
     "name": "stderr",
     "output_type": "stream",
     "text": [
      "Error generating diff: Reference at 'refs/remotes/origin/master' does not exist\n"
     ]
    }
   ],
   "source": [
    "# Initialize a new wandb run\n",
    "wandb.init(project=\"reproducible-ml\", id=\"save-restore-exp\", config=config_defaults)\n",
    "\n",
    "# Config is a variable that holds and saves hyperparameters and inputs\n",
    "config = wandb.config"
   ]
  },
  {
   "cell_type": "code",
   "execution_count": 10,
   "metadata": {
    "colab": {},
    "colab_type": "code",
    "id": "iW0DeK4jEj4p"
   },
   "outputs": [],
   "source": [
    "# Define model using sub-classing\n",
    "class MLPModel(tf.keras.models.Model):\n",
    "    def __init__(self, classes):\n",
    "        super(MLPModel, self).__init__()\n",
    "        self.classes = classes\n",
    "\n",
    "        self.flatten = tf.keras.layers.Flatten(input_shape=(28, 28))\n",
    "        self.dense_1 = tf.keras.layers.Dense(256)\n",
    "        self.final = tf.keras.layers.Dense(classes)\n",
    "\n",
    "        self.relu = tf.keras.layers.Activation(config.prefinal_activation)\n",
    "        self.softmax = tf.keras.layers.Activation(config.final_activation)\n",
    "\n",
    "    def call(self, inputs):\n",
    "        x = self.flatten(inputs)\n",
    "        x = self.dense_1(x)\n",
    "        x = self.relu(x)\n",
    "        x = self.final(x)\n",
    "        x = self.softmax(x)\n",
    "\n",
    "        return x"
   ]
  },
  {
   "cell_type": "markdown",
   "metadata": {},
   "source": [
    "From [TensorFlow documentation](https://www.tensorflow.org/guide/keras/save_and_serialize#part_ii_saving_and_loading_of_subclassed_models):\n",
    "\n",
    "\"First of all, a subclassed model that has never been used cannot be saved.\n",
    "\n",
    "That's because a subclassed model needs to be called on some data in order to create its weights.\n",
    "\n",
    "Until the model has been called, it does not know the shape and dtype of the input data it should be expecting, and thus cannot create its weight variables. You may remember that in the Functional model from the first section, the shape and dtype of the inputs was specified in advance (via keras.Input(...)) -- that's why Functional models have a state as soon as they're instantiated.\""
   ]
  },
  {
   "cell_type": "code",
   "execution_count": 14,
   "metadata": {},
   "outputs": [],
   "source": [
    "# Create a sepcific validation set from the test set\n",
    "X_val = []\n",
    "y_val = []\n",
    "\n",
    "idx = np.random.choice(test_images.shape[0], 32)\n",
    "for i in idx:\n",
    "    X_val.append(test_images[i])\n",
    "    y_val.append(test_labels[i])\n",
    "    \n",
    "X_val, y_val = np.array(X_val), np.array(y_val)"
   ]
  },
  {
   "cell_type": "code",
   "execution_count": 15,
   "metadata": {},
   "outputs": [
    {
     "data": {
      "text/plain": [
       "((32, 28, 28), (32,))"
      ]
     },
     "execution_count": 15,
     "metadata": {},
     "output_type": "execute_result"
    }
   ],
   "source": [
    "# Verify shapes\n",
    "X_val.shape, y_val.shape"
   ]
  },
  {
   "cell_type": "code",
   "execution_count": 16,
   "metadata": {
    "colab": {},
    "colab_type": "code",
    "id": "-uifzaVWGLtn"
   },
   "outputs": [],
   "source": [
    "# Set up model checkpoint callback\n",
    "filepath = wandb.run.dir + \"/{epoch:02d}-{val_accuracy:.2f}.ckpt\"\n",
    "checkpoint = tf.keras.callbacks.ModelCheckpoint(filepath,\n",
    "                                                monitor=\"val_accuracy\", \n",
    "                                                verbose=1, \n",
    "                                                save_best_only=True, mode=\"max\")"
   ]
  },
  {
   "cell_type": "code",
   "execution_count": 17,
   "metadata": {
    "colab": {},
    "colab_type": "code",
    "id": "emZnnsIaF1qC"
   },
   "outputs": [
    {
     "name": "stderr",
     "output_type": "stream",
     "text": [
      "Error generating diff: Reference at 'refs/remotes/origin/master' does not exist\n"
     ]
    },
    {
     "name": "stdout",
     "output_type": "stream",
     "text": [
      "Train on 60000 samples, validate on 10000 samples\n",
      "Epoch 1/10\n",
      "59648/60000 [============================>.] - ETA: 0s - loss: 0.5265 - accuracy: 0.8180"
     ]
    },
    {
     "name": "stderr",
     "output_type": "stream",
     "text": [
      "\u001b[34m\u001b[1mwandb\u001b[0m: \u001b[32m\u001b[41mERROR\u001b[0m Can't save model, h5py returned error: Saving the model to HDF5 format requires the model to be a Functional model or a Sequential model. It does not work for subclassed models, because such models are defined via the body of a Python method, which isn't safely serializable. Consider saving to the Tensorflow SavedModel format (by setting save_format=\"tf\") or using `save_weights`.\n"
     ]
    },
    {
     "name": "stdout",
     "output_type": "stream",
     "text": [
      "\n",
      "Epoch 00001: val_accuracy improved from -inf to 0.84600, saving model to /home/jupyter/Rerproducibility-in-tf.keras-with-wandb/wandb/run-20200410_133121-save-restore-exp/01-0.85.ckpt\n",
      "60000/60000 [==============================] - 2s 37us/sample - loss: 0.5257 - accuracy: 0.8180 - val_loss: 0.4436 - val_accuracy: 0.8460\n",
      "Epoch 2/10\n",
      "57984/60000 [===========================>..] - ETA: 0s - loss: 0.3909 - accuracy: 0.8608\n",
      "Epoch 00002: val_accuracy improved from 0.84600 to 0.86110, saving model to /home/jupyter/Rerproducibility-in-tf.keras-with-wandb/wandb/run-20200410_133121-save-restore-exp/02-0.86.ckpt\n",
      "60000/60000 [==============================] - 1s 25us/sample - loss: 0.3913 - accuracy: 0.8607 - val_loss: 0.3942 - val_accuracy: 0.8611\n",
      "Epoch 3/10\n",
      "59392/60000 [============================>.] - ETA: 0s - loss: 0.3495 - accuracy: 0.8747\n",
      "Epoch 00003: val_accuracy improved from 0.86110 to 0.86120, saving model to /home/jupyter/Rerproducibility-in-tf.keras-with-wandb/wandb/run-20200410_133121-save-restore-exp/03-0.86.ckpt\n",
      "60000/60000 [==============================] - 1s 24us/sample - loss: 0.3493 - accuracy: 0.8747 - val_loss: 0.3751 - val_accuracy: 0.8612\n",
      "Epoch 4/10\n",
      "57728/60000 [===========================>..] - ETA: 0s - loss: 0.3210 - accuracy: 0.8839\n",
      "Epoch 00004: val_accuracy improved from 0.86120 to 0.87160, saving model to /home/jupyter/Rerproducibility-in-tf.keras-with-wandb/wandb/run-20200410_133121-save-restore-exp/04-0.87.ckpt\n",
      "60000/60000 [==============================] - 1s 25us/sample - loss: 0.3207 - accuracy: 0.8842 - val_loss: 0.3597 - val_accuracy: 0.8716\n",
      "Epoch 5/10\n",
      "57856/60000 [===========================>..] - ETA: 0s - loss: 0.3078 - accuracy: 0.8879\n",
      "Epoch 00005: val_accuracy improved from 0.87160 to 0.87470, saving model to /home/jupyter/Rerproducibility-in-tf.keras-with-wandb/wandb/run-20200410_133121-save-restore-exp/05-0.87.ckpt\n",
      "60000/60000 [==============================] - 1s 24us/sample - loss: 0.3072 - accuracy: 0.8881 - val_loss: 0.3488 - val_accuracy: 0.8747\n",
      "Epoch 6/10\n",
      "59648/60000 [============================>.] - ETA: 0s - loss: 0.2893 - accuracy: 0.8936\n",
      "Epoch 00006: val_accuracy improved from 0.87470 to 0.87490, saving model to /home/jupyter/Rerproducibility-in-tf.keras-with-wandb/wandb/run-20200410_133121-save-restore-exp/06-0.87.ckpt\n",
      "60000/60000 [==============================] - 1s 25us/sample - loss: 0.2888 - accuracy: 0.8938 - val_loss: 0.3519 - val_accuracy: 0.8749\n",
      "Epoch 7/10\n",
      "57856/60000 [===========================>..] - ETA: 0s - loss: 0.2722 - accuracy: 0.9012\n",
      "Epoch 00007: val_accuracy improved from 0.87490 to 0.88510, saving model to /home/jupyter/Rerproducibility-in-tf.keras-with-wandb/wandb/run-20200410_133121-save-restore-exp/07-0.89.ckpt\n",
      "60000/60000 [==============================] - 1s 25us/sample - loss: 0.2724 - accuracy: 0.9010 - val_loss: 0.3343 - val_accuracy: 0.8851\n",
      "Epoch 8/10\n",
      "58112/60000 [============================>.] - ETA: 0s - loss: 0.2636 - accuracy: 0.9024\n",
      "Epoch 00008: val_accuracy did not improve from 0.88510\n",
      "60000/60000 [==============================] - 1s 25us/sample - loss: 0.2635 - accuracy: 0.9023 - val_loss: 0.3568 - val_accuracy: 0.8712\n",
      "Epoch 9/10\n",
      "59520/60000 [============================>.] - ETA: 0s - loss: 0.2508 - accuracy: 0.9067\n",
      "Epoch 00009: val_accuracy did not improve from 0.88510\n",
      "60000/60000 [==============================] - 1s 25us/sample - loss: 0.2506 - accuracy: 0.9067 - val_loss: 0.3268 - val_accuracy: 0.8799\n",
      "Epoch 10/10\n",
      "57984/60000 [===========================>..] - ETA: 0s - loss: 0.2404 - accuracy: 0.9103\n",
      "Epoch 00010: val_accuracy did not improve from 0.88510\n",
      "60000/60000 [==============================] - 1s 24us/sample - loss: 0.2398 - accuracy: 0.9106 - val_loss: 0.3328 - val_accuracy: 0.8807\n"
     ]
    },
    {
     "data": {
      "text/plain": [
       "<tensorflow.python.keras.callbacks.History at 0x7faf50cdcc10>"
      ]
     },
     "execution_count": 17,
     "metadata": {},
     "output_type": "execute_result"
    }
   ],
   "source": [
    "# Build, compile and train\n",
    "mlp_model = MLPModel(10)\n",
    "\n",
    "mlp_model.compile(optimizer=\"adam\",\n",
    "                  loss=\"sparse_categorical_crossentropy\",\n",
    "                  metrics=[\"accuracy\"])\n",
    "\n",
    "mlp_model.fit(train_images, train_labels, \n",
    "    validation_data=(test_images, test_labels),\n",
    "    batch_size=128,\n",
    "    epochs=10,\n",
    "    callbacks=[WandbCallback(data_type=\"image\", validation_data=(X_val, y_val), \n",
    "                    labels=LABELS), \n",
    "               checkpoint]\n",
    ")"
   ]
  },
  {
   "cell_type": "code",
   "execution_count": 18,
   "metadata": {
    "colab": {
     "base_uri": "https://localhost:8080/",
     "height": 327
    },
    "colab_type": "code",
    "id": "8AbuMF3XJ8P0",
    "outputId": "64308f8f-f0fc-4dbe-fb3a-b0030fb03233"
   },
   "outputs": [
    {
     "ename": "NotImplementedError",
     "evalue": "Saving the model to HDF5 format requires the model to be a Functional model or a Sequential model. It does not work for subclassed models, because such models are defined via the body of a Python method, which isn't safely serializable. Consider saving to the Tensorflow SavedModel format (by setting save_format=\"tf\") or using `save_weights`.",
     "output_type": "error",
     "traceback": [
      "\u001b[0;31m---------------------------------------------------------------------------\u001b[0m",
      "\u001b[0;31mNotImplementedError\u001b[0m                       Traceback (most recent call last)",
      "\u001b[0;32m<ipython-input-18-553c8204b614>\u001b[0m in \u001b[0;36m<module>\u001b[0;34m\u001b[0m\n\u001b[1;32m      1\u001b[0m \u001b[0;31m# Try saving the entire model with .h5\u001b[0m\u001b[0;34m\u001b[0m\u001b[0;34m\u001b[0m\u001b[0;34m\u001b[0m\u001b[0m\n\u001b[0;32m----> 2\u001b[0;31m \u001b[0mmlp_model\u001b[0m\u001b[0;34m.\u001b[0m\u001b[0msave\u001b[0m\u001b[0;34m(\u001b[0m\u001b[0;34m\"first_trained_model.h5\"\u001b[0m\u001b[0;34m)\u001b[0m\u001b[0;34m\u001b[0m\u001b[0;34m\u001b[0m\u001b[0m\n\u001b[0m",
      "\u001b[0;32m/opt/conda/lib/python3.7/site-packages/tensorflow_core/python/keras/engine/network.py\u001b[0m in \u001b[0;36msave\u001b[0;34m(self, filepath, overwrite, include_optimizer, save_format, signatures, options)\u001b[0m\n\u001b[1;32m   1006\u001b[0m     \"\"\"\n\u001b[1;32m   1007\u001b[0m     save.save_model(self, filepath, overwrite, include_optimizer, save_format,\n\u001b[0;32m-> 1008\u001b[0;31m                     signatures, options)\n\u001b[0m\u001b[1;32m   1009\u001b[0m \u001b[0;34m\u001b[0m\u001b[0m\n\u001b[1;32m   1010\u001b[0m   \u001b[0;32mdef\u001b[0m \u001b[0msave_weights\u001b[0m\u001b[0;34m(\u001b[0m\u001b[0mself\u001b[0m\u001b[0;34m,\u001b[0m \u001b[0mfilepath\u001b[0m\u001b[0;34m,\u001b[0m \u001b[0moverwrite\u001b[0m\u001b[0;34m=\u001b[0m\u001b[0;32mTrue\u001b[0m\u001b[0;34m,\u001b[0m \u001b[0msave_format\u001b[0m\u001b[0;34m=\u001b[0m\u001b[0;32mNone\u001b[0m\u001b[0;34m)\u001b[0m\u001b[0;34m:\u001b[0m\u001b[0;34m\u001b[0m\u001b[0;34m\u001b[0m\u001b[0m\n",
      "\u001b[0;32m/opt/conda/lib/python3.7/site-packages/tensorflow_core/python/keras/saving/save.py\u001b[0m in \u001b[0;36msave_model\u001b[0;34m(model, filepath, overwrite, include_optimizer, save_format, signatures, options)\u001b[0m\n\u001b[1;32m    103\u001b[0m         not isinstance(model, sequential.Sequential)):\n\u001b[1;32m    104\u001b[0m       raise NotImplementedError(\n\u001b[0;32m--> 105\u001b[0;31m           \u001b[0;34m'Saving the model to HDF5 format requires the model to be a '\u001b[0m\u001b[0;34m\u001b[0m\u001b[0;34m\u001b[0m\u001b[0m\n\u001b[0m\u001b[1;32m    106\u001b[0m           \u001b[0;34m'Functional model or a Sequential model. It does not work for '\u001b[0m\u001b[0;34m\u001b[0m\u001b[0;34m\u001b[0m\u001b[0m\n\u001b[1;32m    107\u001b[0m           \u001b[0;34m'subclassed models, because such models are defined via the body of '\u001b[0m\u001b[0;34m\u001b[0m\u001b[0;34m\u001b[0m\u001b[0m\n",
      "\u001b[0;31mNotImplementedError\u001b[0m: Saving the model to HDF5 format requires the model to be a Functional model or a Sequential model. It does not work for subclassed models, because such models are defined via the body of a Python method, which isn't safely serializable. Consider saving to the Tensorflow SavedModel format (by setting save_format=\"tf\") or using `save_weights`."
     ]
    }
   ],
   "source": [
    "# Try saving the entire model with .h5\n",
    "mlp_model.save(\"first_trained_model.h5\") "
   ]
  },
  {
   "cell_type": "code",
   "execution_count": 19,
   "metadata": {
    "colab": {
     "base_uri": "https://localhost:8080/",
     "height": 34
    },
    "colab_type": "code",
    "id": "0fg30ItZKa1K",
    "outputId": "2aeaea10-70b8-4b7c-c529-e679b64ad8e7"
   },
   "outputs": [
    {
     "name": "stdout",
     "output_type": "stream",
     "text": [
      "WARNING:tensorflow:From /opt/conda/lib/python3.7/site-packages/tensorflow_core/python/ops/resource_variable_ops.py:1786: calling BaseResourceVariable.__init__ (from tensorflow.python.ops.resource_variable_ops) with constraint is deprecated and will be removed in a future version.\n",
      "Instructions for updating:\n",
      "If using Keras pass *_constraint arguments to layers.\n",
      "INFO:tensorflow:Assets written to: /home/jupyter/Rerproducibility-in-tf.keras-with-wandb/wandb/run-20200410_133121-save-restore-exp/first_trained_model/assets\n"
     ]
    }
   ],
   "source": [
    "# Save the model using SavedModel format\n",
    "mlp_model.save(wandb.run.dir + \"/first_trained_model\")"
   ]
  },
  {
   "cell_type": "code",
   "execution_count": 20,
   "metadata": {},
   "outputs": [
    {
     "name": "stdout",
     "output_type": "stream",
     "text": [
      "total 17M\n",
      "-rw-r--r-- 1 jupyter jupyter 2.0K Apr 10 13:44 01-0.85.ckpt.data-00000-of-00002\n",
      "-rw-r--r-- 1 jupyter jupyter 2.4M Apr 10 13:44 01-0.85.ckpt.data-00001-of-00002\n",
      "-rw-r--r-- 1 jupyter jupyter 1.3K Apr 10 13:44 01-0.85.ckpt.index\n",
      "-rw-r--r-- 1 jupyter jupyter 2.0K Apr 10 13:44 02-0.86.ckpt.data-00000-of-00002\n",
      "-rw-r--r-- 1 jupyter jupyter 2.4M Apr 10 13:44 02-0.86.ckpt.data-00001-of-00002\n",
      "-rw-r--r-- 1 jupyter jupyter 1.3K Apr 10 13:44 02-0.86.ckpt.index\n",
      "-rw-r--r-- 1 jupyter jupyter 2.0K Apr 10 13:44 03-0.86.ckpt.data-00000-of-00002\n",
      "-rw-r--r-- 1 jupyter jupyter 2.4M Apr 10 13:44 03-0.86.ckpt.data-00001-of-00002\n",
      "-rw-r--r-- 1 jupyter jupyter 1.3K Apr 10 13:44 03-0.86.ckpt.index\n",
      "-rw-r--r-- 1 jupyter jupyter 2.0K Apr 10 13:44 04-0.87.ckpt.data-00000-of-00002\n",
      "-rw-r--r-- 1 jupyter jupyter 2.4M Apr 10 13:44 04-0.87.ckpt.data-00001-of-00002\n",
      "-rw-r--r-- 1 jupyter jupyter 1.3K Apr 10 13:44 04-0.87.ckpt.index\n",
      "-rw-r--r-- 1 jupyter jupyter 2.0K Apr 10 13:44 05-0.87.ckpt.data-00000-of-00002\n",
      "-rw-r--r-- 1 jupyter jupyter 2.4M Apr 10 13:44 05-0.87.ckpt.data-00001-of-00002\n",
      "-rw-r--r-- 1 jupyter jupyter 1.3K Apr 10 13:44 05-0.87.ckpt.index\n",
      "-rw-r--r-- 1 jupyter jupyter 2.0K Apr 10 13:45 06-0.87.ckpt.data-00000-of-00002\n",
      "-rw-r--r-- 1 jupyter jupyter 2.4M Apr 10 13:45 06-0.87.ckpt.data-00001-of-00002\n",
      "-rw-r--r-- 1 jupyter jupyter 1.3K Apr 10 13:45 06-0.87.ckpt.index\n",
      "-rw-r--r-- 1 jupyter jupyter 2.0K Apr 10 13:45 07-0.89.ckpt.data-00000-of-00002\n",
      "-rw-r--r-- 1 jupyter jupyter 2.4M Apr 10 13:45 07-0.89.ckpt.data-00001-of-00002\n",
      "-rw-r--r-- 1 jupyter jupyter 1.3K Apr 10 13:45 07-0.89.ckpt.index\n",
      "-rw-r--r-- 1 jupyter jupyter   81 Apr 10 13:45 checkpoint\n",
      "-rw-r--r-- 1 jupyter jupyter  387 Apr 10 13:44 config.yaml\n",
      "drwxr-xr-x 4 jupyter jupyter 4.0K Apr 10 13:45 first_trained_model\n",
      "drwxr-xr-x 4 jupyter jupyter 4.0K Apr 10 13:44 media\n",
      "-rw-r--r-- 1 jupyter jupyter 6.4K Apr 10 13:44 requirements.txt\n",
      "-rw-r--r-- 1 jupyter jupyter 1.3K Apr 10 13:45 wandb-events.jsonl\n",
      "-rw-r--r-- 1 jupyter jupyter 7.0K Apr 10 13:45 wandb-history.jsonl\n",
      "-rw-r--r-- 1 jupyter jupyter  935 Apr 10 13:45 wandb-metadata.json\n",
      "-rw-r--r-- 1 jupyter jupyter  922 Apr 10 13:45 wandb-summary.json\n"
     ]
    }
   ],
   "source": [
    "!ls -lh {wandb.run.dir}"
   ]
  },
  {
   "cell_type": "markdown",
   "metadata": {},
   "source": [
    "## Important links:\n",
    "- https://app.wandb.ai/lavanyashukla/save_and_restore/reports/Saving-and-Restoring-Models-with-W%26B--Vmlldzo3MDQ3Mw\n",
    "- https://www.tensorflow.org/guide/keras/save_and_serialize#part_ii_saving_and_loading_of_subclassed_models\n",
    "- https://www.tensorflow.org/tutorials/keras/save_and_load#define_a_model"
   ]
  }
 ],
 "metadata": {
  "colab": {
   "name": "scratchpad.ipynb",
   "provenance": []
  },
  "kernelspec": {
   "display_name": "Python 3",
   "language": "python",
   "name": "python3"
  },
  "language_info": {
   "codemirror_mode": {
    "name": "ipython",
    "version": 3
   },
   "file_extension": ".py",
   "mimetype": "text/x-python",
   "name": "python",
   "nbconvert_exporter": "python",
   "pygments_lexer": "ipython3",
   "version": "3.7.6"
  }
 },
 "nbformat": 4,
 "nbformat_minor": 4
}
