{
 "cells": [
  {
   "cell_type": "code",
   "execution_count": 1,
   "metadata": {},
   "outputs": [],
   "source": [
    "# Set up deterministic flag\n",
    "import tensorflow as tf\n",
    "import os\n",
    "os.environ[\"TF_DETERMINISTIC_OPS\"] = \"1\""
   ]
  },
  {
   "cell_type": "code",
   "execution_count": 2,
   "metadata": {},
   "outputs": [],
   "source": [
    "# Fix random seeds\n",
    "SEED = 666\n",
    "tf.random.set_seed(SEED)\n",
    "import numpy as np\n",
    "np.random.seed(SEED)"
   ]
  },
  {
   "cell_type": "code",
   "execution_count": 3,
   "metadata": {},
   "outputs": [],
   "source": [
    "# Import wandb\n",
    "import wandb\n",
    "from wandb.keras import WandbCallback"
   ]
  },
  {
   "cell_type": "code",
   "execution_count": 4,
   "metadata": {},
   "outputs": [],
   "source": [
    "# Other imports\n",
    "import time"
   ]
  },
  {
   "cell_type": "code",
   "execution_count": 5,
   "metadata": {},
   "outputs": [],
   "source": [
    "# Load up and preprocess data\n",
    "fashion_mnist = tf.keras.datasets.fashion_mnist\n",
    "(train_images, train_labels), (test_images, test_labels) = fashion_mnist.load_data()\n",
    "\n",
    "train_images = train_images / 255.0\n",
    "test_images = test_images / 255.0"
   ]
  },
  {
   "cell_type": "code",
   "execution_count": 6,
   "metadata": {},
   "outputs": [
    {
     "data": {
      "text/plain": [
       "((60000, 28, 28), (60000,), (10000, 28, 28), (10000,))"
      ]
     },
     "execution_count": 6,
     "metadata": {},
     "output_type": "execute_result"
    }
   ],
   "source": [
    "# Verify shapes\n",
    "train_images.shape, train_labels.shape, test_images.shape, test_labels.shape"
   ]
  },
  {
   "cell_type": "code",
   "execution_count": 7,
   "metadata": {},
   "outputs": [],
   "source": [
    "# Specify the class labels\n",
    "LABELS = [\"T-shirt/top\",\"Trouser\",\"Pullover\",\"Dress\",\"Coat\",\n",
    "        \"Sandal\",\"Shirt\",\"Sneaker\",\"Bag\",\"Ankle boot\"]"
   ]
  },
  {
   "cell_type": "code",
   "execution_count": 8,
   "metadata": {},
   "outputs": [],
   "source": [
    "# Create a sepcific validation set from the test set\n",
    "X_val = []\n",
    "y_val = []\n",
    "\n",
    "idx = np.random.choice(test_images.shape[0], 32)\n",
    "for i in idx:\n",
    "    X_val.append(test_images[i])\n",
    "    y_val.append(test_labels[i])\n",
    "    \n",
    "X_val, y_val = np.array(X_val), np.array(y_val)"
   ]
  },
  {
   "cell_type": "code",
   "execution_count": 9,
   "metadata": {},
   "outputs": [
    {
     "data": {
      "text/plain": [
       "((32, 28, 28), (32,))"
      ]
     },
     "execution_count": 9,
     "metadata": {},
     "output_type": "execute_result"
    }
   ],
   "source": [
    "# Verify shapes\n",
    "X_val.shape, y_val.shape"
   ]
  },
  {
   "cell_type": "code",
   "execution_count": 10,
   "metadata": {},
   "outputs": [],
   "source": [
    "# Configure the sweep – specify the parameters to search through, the search strategy, the optimization metric et all.\n",
    "# Reference: https://colab.research.google.com/drive/181GCGp36_75C2zm7WLxr9U2QjMXXoibt#scrollTo=xftEwKyuaJ5q\n",
    "sweep_config = {\n",
    "    \"method\": \"random\", #grid, random\n",
    "    \"metric\": {\n",
    "      \"name\": \"accuracy\",\n",
    "      \"goal\": \"maximize\"   \n",
    "    },\n",
    "    \"parameters\": {\n",
    "        \"epochs\": {\n",
    "            \"values\": [10, 15, 20]\n",
    "        },\n",
    "        \"learning_rate\": {\n",
    "            \"values\": [1e-2, 1e-3, 1e-4, 3e-4, 3e-5, 1e-5]\n",
    "        },\n",
    "        \"optimizer\": {\n",
    "            'values': [\"adam\", \"sgd\"]\n",
    "        }\n",
    "    }\n",
    "}"
   ]
  },
  {
   "cell_type": "code",
   "execution_count": 17,
   "metadata": {},
   "outputs": [
    {
     "name": "stdout",
     "output_type": "stream",
     "text": [
      "Create sweep with ID: 6t8t4d6s\n",
      "Sweep URL: https://app.wandb.ai/sayakpaul/reproducible-ml/sweeps/6t8t4d6s\n"
     ]
    }
   ],
   "source": [
    "# Initialize the sweep\n",
    "sweep_id = wandb.sweep(sweep_config, entity=\"sayakpaul\", project=\"reproducible-ml\")"
   ]
  },
  {
   "cell_type": "code",
   "execution_count": 12,
   "metadata": {},
   "outputs": [],
   "source": [
    "# Utility function for model\n",
    "def get_training_model(prefinal_act, final_act, opt):\n",
    "    # Define the model\n",
    "    model = tf.keras.Sequential([\n",
    "        tf.keras.layers.Flatten(input_shape=(28, 28)),\n",
    "        tf.keras.layers.Dense(256, activation=prefinal_act),\n",
    "        tf.keras.layers.Dense(10, activation=final_act)\n",
    "    ])\n",
    "    \n",
    "    # Compile the model\n",
    "    model.compile(optimizer=opt,\n",
    "                  loss=\"sparse_categorical_crossentropy\",\n",
    "                  metrics=[\"accuracy\"])\n",
    "    \n",
    "    return model"
   ]
  },
  {
   "cell_type": "code",
   "execution_count": 13,
   "metadata": {},
   "outputs": [],
   "source": [
    "# Set up early stopping callback\n",
    "es = tf.keras.callbacks.EarlyStopping(monitor=\"val_loss\", \n",
    "                                      patience=1,\n",
    "                                      restore_best_weights=True,\n",
    "                                      verbose=3)"
   ]
  },
  {
   "cell_type": "code",
   "execution_count": 14,
   "metadata": {},
   "outputs": [],
   "source": [
    "# Define the training loop\n",
    "def train():\n",
    "    # Default values for hyper-parameters we're going to sweep over\n",
    "    config_defaults = {\n",
    "        \"epochs\": 10,\n",
    "        \"batch_size\": 128,\n",
    "        \"prefinal_activation\": \"relu\",\n",
    "        \"final_activation\": \"softmax\",\n",
    "        \"optimizer\": \"adam\",\n",
    "        'seed': 42\n",
    "    }\n",
    "    \n",
    "    # Initialize a new wandb run\n",
    "    wandb.init(config=config_defaults, project=\"reproducible-ml\")\n",
    "    \n",
    "    # Config is a variable that holds and saves hyperparameters and inputs\n",
    "    config = wandb.config\n",
    "    \n",
    "    # Call model with the current parameters\n",
    "    mlp_model = get_training_model(config.prefinal_activation, config.final_activation, config.optimizer)\n",
    "    \n",
    "    start = time.time()\n",
    "    mlp_model.fit(train_images, train_labels, \n",
    "        validation_data=(test_images, test_labels),\n",
    "        batch_size=config.batch_size,\n",
    "        epochs=config.epochs,\n",
    "        callbacks=[WandbCallback(data_type=\"image\", validation_data=(X_val, y_val), \n",
    "                        labels=LABELS),\n",
    "                  es])\n",
    "    wandb.log({\"training_time\":time.time()-start})"
   ]
  },
  {
   "cell_type": "code",
   "execution_count": null,
   "metadata": {},
   "outputs": [
    {
     "name": "stdout",
     "output_type": "stream",
     "text": [
      "wandb: Agent Starting Run: 0ggst34b with config:\n",
      "\tepochs: 15\n",
      "\tlearning_rate: 1e-05\n",
      "\toptimizer: sgd\n",
      "wandb: Agent Started Run: 0ggst34b\n"
     ]
    },
    {
     "data": {
      "text/html": [
       "\n",
       "                Logging results to <a href=\"https://wandb.com\" target=\"_blank\">Weights & Biases</a> <a href=\"https://docs.wandb.com/integrations/jupyter.html\" target=\"_blank\">(Documentation)</a>.<br/>\n",
       "                Project page: <a href=\"https://app.wandb.ai/sayakpaul/reproducible-ml\" target=\"_blank\">https://app.wandb.ai/sayakpaul/reproducible-ml</a><br/>\n",
       "                Sweep page: <a href=\"https://app.wandb.ai/sayakpaul/reproducible-ml/sweeps/6t8t4d6s\" target=\"_blank\">https://app.wandb.ai/sayakpaul/reproducible-ml/sweeps/6t8t4d6s</a><br/>\n",
       "Run page: <a href=\"https://app.wandb.ai/sayakpaul/reproducible-ml/runs/0ggst34b\" target=\"_blank\">https://app.wandb.ai/sayakpaul/reproducible-ml/runs/0ggst34b</a><br/>\n",
       "            "
      ],
      "text/plain": [
       "<IPython.core.display.HTML object>"
      ]
     },
     "metadata": {},
     "output_type": "display_data"
    },
    {
     "name": "stderr",
     "output_type": "stream",
     "text": [
      "Error generating diff: Reference at 'refs/remotes/origin/master' does not exist\n"
     ]
    },
    {
     "name": "stdout",
     "output_type": "stream",
     "text": [
      "Train on 60000 samples, validate on 10000 samples\n",
      "Epoch 1/15\n",
      "60000/60000 [==============================] - 2s 39us/sample - loss: 1.0310 - accuracy: 0.6870 - val_loss: 0.7503 - val_accuracy: 0.7553\n",
      "Epoch 2/15\n",
      "60000/60000 [==============================] - 1s 24us/sample - loss: 0.6687 - accuracy: 0.7862 - val_loss: 0.6417 - val_accuracy: 0.7864\n",
      "Epoch 3/15\n",
      "60000/60000 [==============================] - 1s 23us/sample - loss: 0.5911 - accuracy: 0.8082 - val_loss: 0.5869 - val_accuracy: 0.8050\n",
      "Epoch 4/15\n",
      "60000/60000 [==============================] - 1s 23us/sample - loss: 0.5491 - accuracy: 0.8191 - val_loss: 0.5601 - val_accuracy: 0.8074\n",
      "Epoch 5/15\n",
      "60000/60000 [==============================] - 1s 23us/sample - loss: 0.5216 - accuracy: 0.8250 - val_loss: 0.5358 - val_accuracy: 0.8149\n",
      "Epoch 6/15\n",
      "60000/60000 [==============================] - 1s 23us/sample - loss: 0.5025 - accuracy: 0.8312 - val_loss: 0.5254 - val_accuracy: 0.8183\n",
      "Epoch 7/15\n",
      "60000/60000 [==============================] - 1s 23us/sample - loss: 0.4876 - accuracy: 0.8351 - val_loss: 0.5084 - val_accuracy: 0.8253\n",
      "Epoch 8/15\n",
      "60000/60000 [==============================] - 1s 23us/sample - loss: 0.4754 - accuracy: 0.8389 - val_loss: 0.4991 - val_accuracy: 0.8282\n",
      "Epoch 9/15\n",
      "60000/60000 [==============================] - 1s 23us/sample - loss: 0.4649 - accuracy: 0.8424 - val_loss: 0.4959 - val_accuracy: 0.8267\n",
      "Epoch 10/15\n",
      "60000/60000 [==============================] - 1s 22us/sample - loss: 0.4563 - accuracy: 0.8436 - val_loss: 0.4827 - val_accuracy: 0.8341\n",
      "Epoch 11/15\n",
      "60000/60000 [==============================] - 1s 23us/sample - loss: 0.4488 - accuracy: 0.8468 - val_loss: 0.4775 - val_accuracy: 0.8323\n",
      "Epoch 12/15\n",
      "60000/60000 [==============================] - 1s 22us/sample - loss: 0.4416 - accuracy: 0.8488 - val_loss: 0.4707 - val_accuracy: 0.8378\n",
      "Epoch 13/15\n",
      "60000/60000 [==============================] - 1s 24us/sample - loss: 0.4359 - accuracy: 0.8503 - val_loss: 0.4637 - val_accuracy: 0.8391\n",
      "Epoch 14/15\n",
      "57728/60000 [===========================>..] - ETA: 0s - loss: 0.4306 - accuracy: 0.8507Restoring model weights from the end of the best epoch.\n",
      "60000/60000 [==============================] - 1s 22us/sample - loss: 0.4307 - accuracy: 0.8512 - val_loss: 0.4646 - val_accuracy: 0.8348\n",
      "Epoch 00014: early stopping\n",
      "wandb: Agent Finished Run: 0ggst34b \n",
      "\n",
      "wandb: Agent Starting Run: 0lf9v6nh with config:\n",
      "\tepochs: 20\n",
      "\tlearning_rate: 0.01\n",
      "\toptimizer: adam\n",
      "wandb: Agent Started Run: 0lf9v6nh\n"
     ]
    },
    {
     "data": {
      "text/html": [
       "\n",
       "                Logging results to <a href=\"https://wandb.com\" target=\"_blank\">Weights & Biases</a> <a href=\"https://docs.wandb.com/integrations/jupyter.html\" target=\"_blank\">(Documentation)</a>.<br/>\n",
       "                Project page: <a href=\"https://app.wandb.ai/sayakpaul/reproducible-ml\" target=\"_blank\">https://app.wandb.ai/sayakpaul/reproducible-ml</a><br/>\n",
       "                Sweep page: <a href=\"https://app.wandb.ai/sayakpaul/reproducible-ml/sweeps/6t8t4d6s\" target=\"_blank\">https://app.wandb.ai/sayakpaul/reproducible-ml/sweeps/6t8t4d6s</a><br/>\n",
       "Run page: <a href=\"https://app.wandb.ai/sayakpaul/reproducible-ml/runs/0lf9v6nh\" target=\"_blank\">https://app.wandb.ai/sayakpaul/reproducible-ml/runs/0lf9v6nh</a><br/>\n",
       "            "
      ],
      "text/plain": [
       "<IPython.core.display.HTML object>"
      ]
     },
     "metadata": {},
     "output_type": "display_data"
    },
    {
     "name": "stderr",
     "output_type": "stream",
     "text": [
      "Error generating diff: Reference at 'refs/remotes/origin/master' does not exist\n"
     ]
    },
    {
     "name": "stdout",
     "output_type": "stream",
     "text": [
      "Train on 60000 samples, validate on 10000 samples\n",
      "Epoch 1/20\n",
      "60000/60000 [==============================] - 2s 40us/sample - loss: 0.5257 - accuracy: 0.8180 - val_loss: 0.4436 - val_accuracy: 0.8460\n",
      "Epoch 2/20\n",
      "60000/60000 [==============================] - 1s 24us/sample - loss: 0.3913 - accuracy: 0.8607 - val_loss: 0.3942 - val_accuracy: 0.8611\n",
      "Epoch 3/20\n",
      "60000/60000 [==============================] - 1s 24us/sample - loss: 0.3493 - accuracy: 0.8747 - val_loss: 0.3751 - val_accuracy: 0.8612\n",
      "Epoch 4/20\n",
      "60000/60000 [==============================] - 1s 24us/sample - loss: 0.3207 - accuracy: 0.8842 - val_loss: 0.3597 - val_accuracy: 0.8716\n",
      "Epoch 5/20\n",
      "60000/60000 [==============================] - 1s 23us/sample - loss: 0.3072 - accuracy: 0.8881 - val_loss: 0.3488 - val_accuracy: 0.8747\n",
      "Epoch 6/20\n",
      "59392/60000 [============================>.] - ETA: 0s - loss: 0.2891 - accuracy: 0.8936Restoring model weights from the end of the best epoch.\n",
      "60000/60000 [==============================] - 1s 24us/sample - loss: 0.2888 - accuracy: 0.8938 - val_loss: 0.3519 - val_accuracy: 0.8749\n",
      "Epoch 00006: early stopping\n",
      "wandb: Agent Finished Run: 0lf9v6nh \n",
      "\n",
      "wandb: Agent Starting Run: r3hdlx61 with config:\n",
      "\tepochs: 15\n",
      "\tlearning_rate: 3e-05\n",
      "\toptimizer: sgd\n",
      "wandb: Agent Started Run: r3hdlx61\n"
     ]
    },
    {
     "data": {
      "text/html": [
       "\n",
       "                Logging results to <a href=\"https://wandb.com\" target=\"_blank\">Weights & Biases</a> <a href=\"https://docs.wandb.com/integrations/jupyter.html\" target=\"_blank\">(Documentation)</a>.<br/>\n",
       "                Project page: <a href=\"https://app.wandb.ai/sayakpaul/reproducible-ml\" target=\"_blank\">https://app.wandb.ai/sayakpaul/reproducible-ml</a><br/>\n",
       "                Sweep page: <a href=\"https://app.wandb.ai/sayakpaul/reproducible-ml/sweeps/6t8t4d6s\" target=\"_blank\">https://app.wandb.ai/sayakpaul/reproducible-ml/sweeps/6t8t4d6s</a><br/>\n",
       "Run page: <a href=\"https://app.wandb.ai/sayakpaul/reproducible-ml/runs/r3hdlx61\" target=\"_blank\">https://app.wandb.ai/sayakpaul/reproducible-ml/runs/r3hdlx61</a><br/>\n",
       "            "
      ],
      "text/plain": [
       "<IPython.core.display.HTML object>"
      ]
     },
     "metadata": {},
     "output_type": "display_data"
    },
    {
     "name": "stderr",
     "output_type": "stream",
     "text": [
      "Error generating diff: Reference at 'refs/remotes/origin/master' does not exist\n"
     ]
    },
    {
     "name": "stdout",
     "output_type": "stream",
     "text": [
      "Train on 60000 samples, validate on 10000 samples\n",
      "Epoch 1/15\n",
      "60000/60000 [==============================] - 2s 39us/sample - loss: 1.0310 - accuracy: 0.6870 - val_loss: 0.7503 - val_accuracy: 0.7553\n",
      "Epoch 2/15\n",
      "60000/60000 [==============================] - 1s 23us/sample - loss: 0.6687 - accuracy: 0.7862 - val_loss: 0.6417 - val_accuracy: 0.7864\n",
      "Epoch 3/15\n",
      "60000/60000 [==============================] - 1s 23us/sample - loss: 0.5911 - accuracy: 0.8082 - val_loss: 0.5869 - val_accuracy: 0.8050\n",
      "Epoch 4/15\n",
      "60000/60000 [==============================] - 1s 23us/sample - loss: 0.5491 - accuracy: 0.8191 - val_loss: 0.5601 - val_accuracy: 0.8074\n",
      "Epoch 5/15\n",
      "60000/60000 [==============================] - 1s 23us/sample - loss: 0.5216 - accuracy: 0.8250 - val_loss: 0.5358 - val_accuracy: 0.8149\n",
      "Epoch 6/15\n",
      "60000/60000 [==============================] - 1s 23us/sample - loss: 0.5025 - accuracy: 0.8312 - val_loss: 0.5254 - val_accuracy: 0.8183\n",
      "Epoch 7/15\n",
      "60000/60000 [==============================] - 1s 23us/sample - loss: 0.4876 - accuracy: 0.8351 - val_loss: 0.5084 - val_accuracy: 0.8253\n",
      "Epoch 8/15\n",
      "60000/60000 [==============================] - 1s 23us/sample - loss: 0.4754 - accuracy: 0.8389 - val_loss: 0.4991 - val_accuracy: 0.8282\n",
      "Epoch 9/15\n",
      "60000/60000 [==============================] - 1s 23us/sample - loss: 0.4649 - accuracy: 0.8424 - val_loss: 0.4959 - val_accuracy: 0.8267\n",
      "Epoch 10/15\n",
      "60000/60000 [==============================] - 1s 23us/sample - loss: 0.4563 - accuracy: 0.8436 - val_loss: 0.4827 - val_accuracy: 0.8341\n",
      "Epoch 11/15\n",
      "60000/60000 [==============================] - 1s 23us/sample - loss: 0.4488 - accuracy: 0.8468 - val_loss: 0.4775 - val_accuracy: 0.8323\n",
      "Epoch 12/15\n",
      "60000/60000 [==============================] - 1s 23us/sample - loss: 0.4416 - accuracy: 0.8488 - val_loss: 0.4707 - val_accuracy: 0.8378\n",
      "Epoch 13/15\n",
      "60000/60000 [==============================] - 1s 24us/sample - loss: 0.4359 - accuracy: 0.8503 - val_loss: 0.4637 - val_accuracy: 0.8391\n",
      "Epoch 14/15\n",
      "58880/60000 [============================>.] - ETA: 0s - loss: 0.4304 - accuracy: 0.8510Restoring model weights from the end of the best epoch.\n",
      "60000/60000 [==============================] - 1s 23us/sample - loss: 0.4307 - accuracy: 0.8512 - val_loss: 0.4646 - val_accuracy: 0.8348\n",
      "Epoch 00014: early stopping\n",
      "wandb: Agent Finished Run: r3hdlx61 \n",
      "\n",
      "wandb: Agent Starting Run: wwsxka23 with config:\n",
      "\tepochs: 20\n",
      "\tlearning_rate: 0.01\n",
      "\toptimizer: adam\n",
      "wandb: Agent Started Run: wwsxka23\n"
     ]
    },
    {
     "data": {
      "text/html": [
       "\n",
       "                Logging results to <a href=\"https://wandb.com\" target=\"_blank\">Weights & Biases</a> <a href=\"https://docs.wandb.com/integrations/jupyter.html\" target=\"_blank\">(Documentation)</a>.<br/>\n",
       "                Project page: <a href=\"https://app.wandb.ai/sayakpaul/reproducible-ml\" target=\"_blank\">https://app.wandb.ai/sayakpaul/reproducible-ml</a><br/>\n",
       "                Sweep page: <a href=\"https://app.wandb.ai/sayakpaul/reproducible-ml/sweeps/6t8t4d6s\" target=\"_blank\">https://app.wandb.ai/sayakpaul/reproducible-ml/sweeps/6t8t4d6s</a><br/>\n",
       "Run page: <a href=\"https://app.wandb.ai/sayakpaul/reproducible-ml/runs/wwsxka23\" target=\"_blank\">https://app.wandb.ai/sayakpaul/reproducible-ml/runs/wwsxka23</a><br/>\n",
       "            "
      ],
      "text/plain": [
       "<IPython.core.display.HTML object>"
      ]
     },
     "metadata": {},
     "output_type": "display_data"
    },
    {
     "name": "stderr",
     "output_type": "stream",
     "text": [
      "Error generating diff: Reference at 'refs/remotes/origin/master' does not exist\n"
     ]
    },
    {
     "name": "stdout",
     "output_type": "stream",
     "text": [
      "Train on 60000 samples, validate on 10000 samples\n",
      "Epoch 1/20\n",
      "60000/60000 [==============================] - 2s 39us/sample - loss: 0.5257 - accuracy: 0.8180 - val_loss: 0.4436 - val_accuracy: 0.8460\n",
      "Epoch 2/20\n",
      "60000/60000 [==============================] - 1s 24us/sample - loss: 0.3913 - accuracy: 0.8607 - val_loss: 0.3942 - val_accuracy: 0.8611\n",
      "Epoch 3/20\n",
      "60000/60000 [==============================] - 1s 24us/sample - loss: 0.3493 - accuracy: 0.8747 - val_loss: 0.3751 - val_accuracy: 0.8612\n",
      "Epoch 4/20\n",
      "60000/60000 [==============================] - 1s 23us/sample - loss: 0.3207 - accuracy: 0.8842 - val_loss: 0.3597 - val_accuracy: 0.8716\n",
      "Epoch 5/20\n",
      "60000/60000 [==============================] - 1s 24us/sample - loss: 0.3072 - accuracy: 0.8881 - val_loss: 0.3488 - val_accuracy: 0.8747\n",
      "Epoch 6/20\n",
      "57728/60000 [===========================>..] - ETA: 0s - loss: 0.2888 - accuracy: 0.8937Restoring model weights from the end of the best epoch.\n",
      "60000/60000 [==============================] - 1s 24us/sample - loss: 0.2888 - accuracy: 0.8938 - val_loss: 0.3519 - val_accuracy: 0.8749\n",
      "Epoch 00006: early stopping\n",
      "wandb: Agent Finished Run: wwsxka23 \n",
      "\n",
      "wandb: Agent Starting Run: hhp6zpp5 with config:\n",
      "\tepochs: 20\n",
      "\tlearning_rate: 0.01\n",
      "\toptimizer: adam\n",
      "wandb: Agent Started Run: hhp6zpp5\n"
     ]
    },
    {
     "data": {
      "text/html": [
       "\n",
       "                Logging results to <a href=\"https://wandb.com\" target=\"_blank\">Weights & Biases</a> <a href=\"https://docs.wandb.com/integrations/jupyter.html\" target=\"_blank\">(Documentation)</a>.<br/>\n",
       "                Project page: <a href=\"https://app.wandb.ai/sayakpaul/reproducible-ml\" target=\"_blank\">https://app.wandb.ai/sayakpaul/reproducible-ml</a><br/>\n",
       "                Sweep page: <a href=\"https://app.wandb.ai/sayakpaul/reproducible-ml/sweeps/6t8t4d6s\" target=\"_blank\">https://app.wandb.ai/sayakpaul/reproducible-ml/sweeps/6t8t4d6s</a><br/>\n",
       "Run page: <a href=\"https://app.wandb.ai/sayakpaul/reproducible-ml/runs/hhp6zpp5\" target=\"_blank\">https://app.wandb.ai/sayakpaul/reproducible-ml/runs/hhp6zpp5</a><br/>\n",
       "            "
      ],
      "text/plain": [
       "<IPython.core.display.HTML object>"
      ]
     },
     "metadata": {},
     "output_type": "display_data"
    },
    {
     "name": "stderr",
     "output_type": "stream",
     "text": [
      "Error generating diff: Reference at 'refs/remotes/origin/master' does not exist\n"
     ]
    },
    {
     "name": "stdout",
     "output_type": "stream",
     "text": [
      "Train on 60000 samples, validate on 10000 samples\n",
      "Epoch 1/20\n",
      "60000/60000 [==============================] - 2s 40us/sample - loss: 0.5257 - accuracy: 0.8180 - val_loss: 0.4436 - val_accuracy: 0.8460\n",
      "Epoch 2/20\n",
      "60000/60000 [==============================] - 1s 24us/sample - loss: 0.3913 - accuracy: 0.8607 - val_loss: 0.3942 - val_accuracy: 0.8611\n",
      "Epoch 3/20\n",
      "60000/60000 [==============================] - 1s 23us/sample - loss: 0.3493 - accuracy: 0.8747 - val_loss: 0.3751 - val_accuracy: 0.8612\n",
      "Epoch 4/20\n",
      "60000/60000 [==============================] - 1s 24us/sample - loss: 0.3207 - accuracy: 0.8842 - val_loss: 0.3597 - val_accuracy: 0.8716\n",
      "Epoch 5/20\n",
      "60000/60000 [==============================] - 1s 23us/sample - loss: 0.3072 - accuracy: 0.8881 - val_loss: 0.3488 - val_accuracy: 0.8747\n",
      "Epoch 6/20\n",
      "58880/60000 [============================>.] - ETA: 0s - loss: 0.2890 - accuracy: 0.8936Restoring model weights from the end of the best epoch.\n",
      "60000/60000 [==============================] - 1s 24us/sample - loss: 0.2888 - accuracy: 0.8938 - val_loss: 0.3519 - val_accuracy: 0.8749\n",
      "Epoch 00006: early stopping\n",
      "wandb: Agent Finished Run: hhp6zpp5 \n",
      "\n",
      "wandb: Agent Starting Run: k8zub4pk with config:\n",
      "\tepochs: 15\n",
      "\tlearning_rate: 0.001\n",
      "\toptimizer: sgd\n",
      "wandb: Agent Started Run: k8zub4pk\n"
     ]
    },
    {
     "data": {
      "text/html": [
       "\n",
       "                Logging results to <a href=\"https://wandb.com\" target=\"_blank\">Weights & Biases</a> <a href=\"https://docs.wandb.com/integrations/jupyter.html\" target=\"_blank\">(Documentation)</a>.<br/>\n",
       "                Project page: <a href=\"https://app.wandb.ai/sayakpaul/reproducible-ml\" target=\"_blank\">https://app.wandb.ai/sayakpaul/reproducible-ml</a><br/>\n",
       "                Sweep page: <a href=\"https://app.wandb.ai/sayakpaul/reproducible-ml/sweeps/6t8t4d6s\" target=\"_blank\">https://app.wandb.ai/sayakpaul/reproducible-ml/sweeps/6t8t4d6s</a><br/>\n",
       "Run page: <a href=\"https://app.wandb.ai/sayakpaul/reproducible-ml/runs/k8zub4pk\" target=\"_blank\">https://app.wandb.ai/sayakpaul/reproducible-ml/runs/k8zub4pk</a><br/>\n",
       "            "
      ],
      "text/plain": [
       "<IPython.core.display.HTML object>"
      ]
     },
     "metadata": {},
     "output_type": "display_data"
    },
    {
     "name": "stderr",
     "output_type": "stream",
     "text": [
      "Error generating diff: Reference at 'refs/remotes/origin/master' does not exist\n"
     ]
    },
    {
     "name": "stdout",
     "output_type": "stream",
     "text": [
      "Train on 60000 samples, validate on 10000 samples\n",
      "Epoch 1/15\n",
      "60000/60000 [==============================] - 2s 39us/sample - loss: 1.0310 - accuracy: 0.6870 - val_loss: 0.7503 - val_accuracy: 0.7553\n",
      "Epoch 2/15\n",
      "60000/60000 [==============================] - 1s 23us/sample - loss: 0.6687 - accuracy: 0.7862 - val_loss: 0.6417 - val_accuracy: 0.7864\n",
      "Epoch 3/15\n",
      "60000/60000 [==============================] - 1s 23us/sample - loss: 0.5911 - accuracy: 0.8082 - val_loss: 0.5869 - val_accuracy: 0.8050\n",
      "Epoch 4/15\n",
      "60000/60000 [==============================] - 1s 23us/sample - loss: 0.5491 - accuracy: 0.8191 - val_loss: 0.5601 - val_accuracy: 0.8074\n",
      "Epoch 5/15\n",
      "60000/60000 [==============================] - 1s 23us/sample - loss: 0.5216 - accuracy: 0.8250 - val_loss: 0.5358 - val_accuracy: 0.8149\n",
      "Epoch 6/15\n",
      "60000/60000 [==============================] - 1s 23us/sample - loss: 0.5025 - accuracy: 0.8312 - val_loss: 0.5254 - val_accuracy: 0.8183\n",
      "Epoch 7/15\n",
      "60000/60000 [==============================] - 1s 23us/sample - loss: 0.4876 - accuracy: 0.8351 - val_loss: 0.5084 - val_accuracy: 0.8253\n",
      "Epoch 8/15\n",
      "60000/60000 [==============================] - 1s 23us/sample - loss: 0.4754 - accuracy: 0.8389 - val_loss: 0.4991 - val_accuracy: 0.8282\n",
      "Epoch 9/15\n",
      "60000/60000 [==============================] - 1s 23us/sample - loss: 0.4649 - accuracy: 0.8424 - val_loss: 0.4959 - val_accuracy: 0.8267\n",
      "Epoch 10/15\n",
      "60000/60000 [==============================] - 1s 22us/sample - loss: 0.4563 - accuracy: 0.8436 - val_loss: 0.4827 - val_accuracy: 0.8341\n",
      "Epoch 11/15\n",
      "60000/60000 [==============================] - 1s 23us/sample - loss: 0.4488 - accuracy: 0.8468 - val_loss: 0.4775 - val_accuracy: 0.8323\n",
      "Epoch 12/15\n",
      "60000/60000 [==============================] - 1s 22us/sample - loss: 0.4416 - accuracy: 0.8488 - val_loss: 0.4707 - val_accuracy: 0.8378\n",
      "Epoch 13/15\n",
      "60000/60000 [==============================] - 1s 23us/sample - loss: 0.4359 - accuracy: 0.8503 - val_loss: 0.4637 - val_accuracy: 0.8391\n",
      "Epoch 14/15\n",
      "59008/60000 [============================>.] - ETA: 0s - loss: 0.4304 - accuracy: 0.8510Restoring model weights from the end of the best epoch.\n",
      "60000/60000 [==============================] - 1s 23us/sample - loss: 0.4307 - accuracy: 0.8512 - val_loss: 0.4646 - val_accuracy: 0.8348\n",
      "Epoch 00014: early stopping\n",
      "wandb: Agent Finished Run: k8zub4pk \n",
      "\n",
      "wandb: Agent Starting Run: jv4z3s7e with config:\n",
      "\tepochs: 15\n",
      "\tlearning_rate: 1e-05\n",
      "\toptimizer: sgd\n",
      "wandb: Agent Started Run: jv4z3s7e\n"
     ]
    },
    {
     "data": {
      "text/html": [
       "\n",
       "                Logging results to <a href=\"https://wandb.com\" target=\"_blank\">Weights & Biases</a> <a href=\"https://docs.wandb.com/integrations/jupyter.html\" target=\"_blank\">(Documentation)</a>.<br/>\n",
       "                Project page: <a href=\"https://app.wandb.ai/sayakpaul/reproducible-ml\" target=\"_blank\">https://app.wandb.ai/sayakpaul/reproducible-ml</a><br/>\n",
       "                Sweep page: <a href=\"https://app.wandb.ai/sayakpaul/reproducible-ml/sweeps/6t8t4d6s\" target=\"_blank\">https://app.wandb.ai/sayakpaul/reproducible-ml/sweeps/6t8t4d6s</a><br/>\n",
       "Run page: <a href=\"https://app.wandb.ai/sayakpaul/reproducible-ml/runs/jv4z3s7e\" target=\"_blank\">https://app.wandb.ai/sayakpaul/reproducible-ml/runs/jv4z3s7e</a><br/>\n",
       "            "
      ],
      "text/plain": [
       "<IPython.core.display.HTML object>"
      ]
     },
     "metadata": {},
     "output_type": "display_data"
    },
    {
     "name": "stderr",
     "output_type": "stream",
     "text": [
      "Error generating diff: Reference at 'refs/remotes/origin/master' does not exist\n"
     ]
    },
    {
     "name": "stdout",
     "output_type": "stream",
     "text": [
      "Train on 60000 samples, validate on 10000 samples\n",
      "Epoch 1/15\n",
      "60000/60000 [==============================] - 2s 38us/sample - loss: 1.0310 - accuracy: 0.6870 - val_loss: 0.7503 - val_accuracy: 0.7553\n",
      "Epoch 2/15\n",
      "60000/60000 [==============================] - 1s 23us/sample - loss: 0.6687 - accuracy: 0.7862 - val_loss: 0.6417 - val_accuracy: 0.7864\n",
      "Epoch 3/15\n",
      "60000/60000 [==============================] - 1s 24us/sample - loss: 0.5911 - accuracy: 0.8082 - val_loss: 0.5869 - val_accuracy: 0.8050\n",
      "Epoch 4/15\n",
      "60000/60000 [==============================] - 1s 24us/sample - loss: 0.5491 - accuracy: 0.8191 - val_loss: 0.5601 - val_accuracy: 0.8074\n",
      "Epoch 5/15\n",
      "60000/60000 [==============================] - 1s 25us/sample - loss: 0.5216 - accuracy: 0.8250 - val_loss: 0.5358 - val_accuracy: 0.8149\n",
      "Epoch 6/15\n",
      "60000/60000 [==============================] - 1s 25us/sample - loss: 0.5025 - accuracy: 0.8312 - val_loss: 0.5254 - val_accuracy: 0.8183\n",
      "Epoch 7/15\n",
      "60000/60000 [==============================] - 1s 23us/sample - loss: 0.4876 - accuracy: 0.8351 - val_loss: 0.5084 - val_accuracy: 0.8253\n",
      "Epoch 8/15\n",
      "60000/60000 [==============================] - 1s 23us/sample - loss: 0.4754 - accuracy: 0.8389 - val_loss: 0.4991 - val_accuracy: 0.8282\n",
      "Epoch 9/15\n",
      "60000/60000 [==============================] - 1s 22us/sample - loss: 0.4649 - accuracy: 0.8424 - val_loss: 0.4959 - val_accuracy: 0.8267\n",
      "Epoch 10/15\n",
      "60000/60000 [==============================] - 1s 22us/sample - loss: 0.4563 - accuracy: 0.8436 - val_loss: 0.4827 - val_accuracy: 0.8341\n",
      "Epoch 11/15\n",
      "60000/60000 [==============================] - 1s 23us/sample - loss: 0.4488 - accuracy: 0.8468 - val_loss: 0.4775 - val_accuracy: 0.8323\n",
      "Epoch 12/15\n",
      "60000/60000 [==============================] - 1s 23us/sample - loss: 0.4416 - accuracy: 0.8488 - val_loss: 0.4707 - val_accuracy: 0.8378\n",
      "Epoch 13/15\n",
      "60000/60000 [==============================] - 1s 23us/sample - loss: 0.4359 - accuracy: 0.8503 - val_loss: 0.4637 - val_accuracy: 0.8391\n",
      "Epoch 14/15\n",
      "58240/60000 [============================>.] - ETA: 0s - loss: 0.4302 - accuracy: 0.8510Restoring model weights from the end of the best epoch.\n",
      "60000/60000 [==============================] - 1s 22us/sample - loss: 0.4307 - accuracy: 0.8512 - val_loss: 0.4646 - val_accuracy: 0.8348\n",
      "Epoch 00014: early stopping\n",
      "wandb: Agent Finished Run: jv4z3s7e \n",
      "\n",
      "wandb: Agent Starting Run: 74bevm4i with config:\n",
      "\tepochs: 10\n",
      "\tlearning_rate: 0.001\n",
      "\toptimizer: sgd\n",
      "wandb: Agent Started Run: 74bevm4i\n"
     ]
    },
    {
     "data": {
      "text/html": [
       "\n",
       "                Logging results to <a href=\"https://wandb.com\" target=\"_blank\">Weights & Biases</a> <a href=\"https://docs.wandb.com/integrations/jupyter.html\" target=\"_blank\">(Documentation)</a>.<br/>\n",
       "                Project page: <a href=\"https://app.wandb.ai/sayakpaul/reproducible-ml\" target=\"_blank\">https://app.wandb.ai/sayakpaul/reproducible-ml</a><br/>\n",
       "                Sweep page: <a href=\"https://app.wandb.ai/sayakpaul/reproducible-ml/sweeps/6t8t4d6s\" target=\"_blank\">https://app.wandb.ai/sayakpaul/reproducible-ml/sweeps/6t8t4d6s</a><br/>\n",
       "Run page: <a href=\"https://app.wandb.ai/sayakpaul/reproducible-ml/runs/74bevm4i\" target=\"_blank\">https://app.wandb.ai/sayakpaul/reproducible-ml/runs/74bevm4i</a><br/>\n",
       "            "
      ],
      "text/plain": [
       "<IPython.core.display.HTML object>"
      ]
     },
     "metadata": {},
     "output_type": "display_data"
    },
    {
     "name": "stderr",
     "output_type": "stream",
     "text": [
      "Error generating diff: Reference at 'refs/remotes/origin/master' does not exist\n"
     ]
    },
    {
     "name": "stdout",
     "output_type": "stream",
     "text": [
      "Train on 60000 samples, validate on 10000 samples\n",
      "Epoch 1/10\n",
      "60000/60000 [==============================] - 2s 38us/sample - loss: 1.0310 - accuracy: 0.6870 - val_loss: 0.7503 - val_accuracy: 0.7553\n",
      "Epoch 2/10\n",
      "60000/60000 [==============================] - 1s 23us/sample - loss: 0.6687 - accuracy: 0.7862 - val_loss: 0.6417 - val_accuracy: 0.7864\n",
      "Epoch 3/10\n",
      "60000/60000 [==============================] - 1s 23us/sample - loss: 0.5911 - accuracy: 0.8082 - val_loss: 0.5869 - val_accuracy: 0.8050\n",
      "Epoch 4/10\n",
      "60000/60000 [==============================] - 1s 23us/sample - loss: 0.5491 - accuracy: 0.8191 - val_loss: 0.5601 - val_accuracy: 0.8074\n",
      "Epoch 5/10\n",
      "60000/60000 [==============================] - 1s 23us/sample - loss: 0.5216 - accuracy: 0.8250 - val_loss: 0.5358 - val_accuracy: 0.8149\n",
      "Epoch 6/10\n",
      "60000/60000 [==============================] - 1s 23us/sample - loss: 0.5025 - accuracy: 0.8312 - val_loss: 0.5254 - val_accuracy: 0.8183\n",
      "Epoch 7/10\n",
      "60000/60000 [==============================] - 1s 23us/sample - loss: 0.4876 - accuracy: 0.8351 - val_loss: 0.5084 - val_accuracy: 0.8253\n",
      "Epoch 8/10\n",
      "60000/60000 [==============================] - 1s 23us/sample - loss: 0.4754 - accuracy: 0.8389 - val_loss: 0.4991 - val_accuracy: 0.8282\n",
      "Epoch 9/10\n",
      "60000/60000 [==============================] - 1s 23us/sample - loss: 0.4649 - accuracy: 0.8424 - val_loss: 0.4959 - val_accuracy: 0.8267\n",
      "Epoch 10/10\n",
      "60000/60000 [==============================] - 1s 22us/sample - loss: 0.4563 - accuracy: 0.8436 - val_loss: 0.4827 - val_accuracy: 0.8341\n",
      "wandb: Agent Finished Run: 74bevm4i \n",
      "\n",
      "wandb: Agent Starting Run: goh7hu88 with config:\n",
      "\tepochs: 15\n",
      "\tlearning_rate: 0.0003\n",
      "\toptimizer: sgd\n",
      "wandb: Agent Started Run: goh7hu88\n"
     ]
    },
    {
     "data": {
      "text/html": [
       "\n",
       "                Logging results to <a href=\"https://wandb.com\" target=\"_blank\">Weights & Biases</a> <a href=\"https://docs.wandb.com/integrations/jupyter.html\" target=\"_blank\">(Documentation)</a>.<br/>\n",
       "                Project page: <a href=\"https://app.wandb.ai/sayakpaul/reproducible-ml\" target=\"_blank\">https://app.wandb.ai/sayakpaul/reproducible-ml</a><br/>\n",
       "                Sweep page: <a href=\"https://app.wandb.ai/sayakpaul/reproducible-ml/sweeps/6t8t4d6s\" target=\"_blank\">https://app.wandb.ai/sayakpaul/reproducible-ml/sweeps/6t8t4d6s</a><br/>\n",
       "Run page: <a href=\"https://app.wandb.ai/sayakpaul/reproducible-ml/runs/goh7hu88\" target=\"_blank\">https://app.wandb.ai/sayakpaul/reproducible-ml/runs/goh7hu88</a><br/>\n",
       "            "
      ],
      "text/plain": [
       "<IPython.core.display.HTML object>"
      ]
     },
     "metadata": {},
     "output_type": "display_data"
    },
    {
     "name": "stderr",
     "output_type": "stream",
     "text": [
      "Error generating diff: Reference at 'refs/remotes/origin/master' does not exist\n"
     ]
    },
    {
     "name": "stdout",
     "output_type": "stream",
     "text": [
      "Train on 60000 samples, validate on 10000 samples\n",
      "Epoch 1/15\n",
      "60000/60000 [==============================] - 2s 38us/sample - loss: 1.0310 - accuracy: 0.6870 - val_loss: 0.7503 - val_accuracy: 0.7553\n",
      "Epoch 2/15\n",
      "60000/60000 [==============================] - 1s 23us/sample - loss: 0.6687 - accuracy: 0.7862 - val_loss: 0.6417 - val_accuracy: 0.7864\n",
      "Epoch 3/15\n",
      "60000/60000 [==============================] - 1s 23us/sample - loss: 0.5911 - accuracy: 0.8082 - val_loss: 0.5869 - val_accuracy: 0.8050\n",
      "Epoch 4/15\n",
      "60000/60000 [==============================] - 1s 23us/sample - loss: 0.5491 - accuracy: 0.8191 - val_loss: 0.5601 - val_accuracy: 0.8074\n",
      "Epoch 5/15\n",
      "60000/60000 [==============================] - 1s 23us/sample - loss: 0.5216 - accuracy: 0.8250 - val_loss: 0.5358 - val_accuracy: 0.8149\n",
      "Epoch 6/15\n",
      "60000/60000 [==============================] - 1s 22us/sample - loss: 0.5025 - accuracy: 0.8312 - val_loss: 0.5254 - val_accuracy: 0.8183\n",
      "Epoch 7/15\n",
      "60000/60000 [==============================] - 1s 22us/sample - loss: 0.4876 - accuracy: 0.8351 - val_loss: 0.5084 - val_accuracy: 0.8253\n",
      "Epoch 8/15\n",
      "60000/60000 [==============================] - 1s 22us/sample - loss: 0.4754 - accuracy: 0.8389 - val_loss: 0.4991 - val_accuracy: 0.8282\n",
      "Epoch 9/15\n",
      "60000/60000 [==============================] - 1s 23us/sample - loss: 0.4649 - accuracy: 0.8424 - val_loss: 0.4959 - val_accuracy: 0.8267\n",
      "Epoch 10/15\n",
      "60000/60000 [==============================] - 1s 22us/sample - loss: 0.4563 - accuracy: 0.8436 - val_loss: 0.4827 - val_accuracy: 0.8341\n",
      "Epoch 11/15\n",
      "60000/60000 [==============================] - 1s 23us/sample - loss: 0.4488 - accuracy: 0.8468 - val_loss: 0.4775 - val_accuracy: 0.8323\n",
      "Epoch 12/15\n",
      "60000/60000 [==============================] - 1s 22us/sample - loss: 0.4416 - accuracy: 0.8488 - val_loss: 0.4707 - val_accuracy: 0.8378\n",
      "Epoch 13/15\n",
      "60000/60000 [==============================] - 1s 23us/sample - loss: 0.4359 - accuracy: 0.8503 - val_loss: 0.4637 - val_accuracy: 0.8391\n",
      "Epoch 14/15\n",
      "58112/60000 [============================>.] - ETA: 0s - loss: 0.4303 - accuracy: 0.8509Restoring model weights from the end of the best epoch.\n",
      "60000/60000 [==============================] - 1s 22us/sample - loss: 0.4307 - accuracy: 0.8512 - val_loss: 0.4646 - val_accuracy: 0.8348\n",
      "Epoch 00014: early stopping\n",
      "wandb: Agent Finished Run: goh7hu88 \n",
      "\n",
      "wandb: Agent Starting Run: 3ltcaeb9 with config:\n",
      "\tepochs: 20\n",
      "\tlearning_rate: 0.0001\n",
      "\toptimizer: sgd\n",
      "wandb: Agent Started Run: 3ltcaeb9\n"
     ]
    },
    {
     "data": {
      "text/html": [
       "\n",
       "                Logging results to <a href=\"https://wandb.com\" target=\"_blank\">Weights & Biases</a> <a href=\"https://docs.wandb.com/integrations/jupyter.html\" target=\"_blank\">(Documentation)</a>.<br/>\n",
       "                Project page: <a href=\"https://app.wandb.ai/sayakpaul/reproducible-ml\" target=\"_blank\">https://app.wandb.ai/sayakpaul/reproducible-ml</a><br/>\n",
       "                Sweep page: <a href=\"https://app.wandb.ai/sayakpaul/reproducible-ml/sweeps/6t8t4d6s\" target=\"_blank\">https://app.wandb.ai/sayakpaul/reproducible-ml/sweeps/6t8t4d6s</a><br/>\n",
       "Run page: <a href=\"https://app.wandb.ai/sayakpaul/reproducible-ml/runs/3ltcaeb9\" target=\"_blank\">https://app.wandb.ai/sayakpaul/reproducible-ml/runs/3ltcaeb9</a><br/>\n",
       "            "
      ],
      "text/plain": [
       "<IPython.core.display.HTML object>"
      ]
     },
     "metadata": {},
     "output_type": "display_data"
    },
    {
     "name": "stderr",
     "output_type": "stream",
     "text": [
      "Error generating diff: Reference at 'refs/remotes/origin/master' does not exist\n"
     ]
    },
    {
     "name": "stdout",
     "output_type": "stream",
     "text": [
      "Train on 60000 samples, validate on 10000 samples\n",
      "Epoch 1/20\n",
      "60000/60000 [==============================] - 2s 37us/sample - loss: 1.0310 - accuracy: 0.6870 - val_loss: 0.7503 - val_accuracy: 0.7553\n",
      "Epoch 2/20\n",
      "60000/60000 [==============================] - 1s 23us/sample - loss: 0.6687 - accuracy: 0.7862 - val_loss: 0.6417 - val_accuracy: 0.7864\n",
      "Epoch 3/20\n",
      "60000/60000 [==============================] - 1s 23us/sample - loss: 0.5911 - accuracy: 0.8082 - val_loss: 0.5869 - val_accuracy: 0.8050\n",
      "Epoch 4/20\n",
      "60000/60000 [==============================] - 1s 23us/sample - loss: 0.5491 - accuracy: 0.8191 - val_loss: 0.5601 - val_accuracy: 0.8074\n",
      "Epoch 5/20\n",
      "60000/60000 [==============================] - 1s 23us/sample - loss: 0.5216 - accuracy: 0.8250 - val_loss: 0.5358 - val_accuracy: 0.8149\n",
      "Epoch 6/20\n",
      "60000/60000 [==============================] - 1s 22us/sample - loss: 0.5025 - accuracy: 0.8312 - val_loss: 0.5254 - val_accuracy: 0.8183\n",
      "Epoch 7/20\n",
      "60000/60000 [==============================] - 1s 23us/sample - loss: 0.4876 - accuracy: 0.8351 - val_loss: 0.5084 - val_accuracy: 0.8253\n",
      "Epoch 8/20\n",
      "60000/60000 [==============================] - 1s 23us/sample - loss: 0.4754 - accuracy: 0.8389 - val_loss: 0.4991 - val_accuracy: 0.8282\n",
      "Epoch 9/20\n",
      "60000/60000 [==============================] - 1s 23us/sample - loss: 0.4649 - accuracy: 0.8424 - val_loss: 0.4959 - val_accuracy: 0.8267\n",
      "Epoch 10/20\n",
      "60000/60000 [==============================] - 1s 23us/sample - loss: 0.4563 - accuracy: 0.8436 - val_loss: 0.4827 - val_accuracy: 0.8341\n",
      "Epoch 11/20\n",
      "60000/60000 [==============================] - 1s 23us/sample - loss: 0.4488 - accuracy: 0.8468 - val_loss: 0.4775 - val_accuracy: 0.8323\n",
      "Epoch 12/20\n",
      "60000/60000 [==============================] - 1s 23us/sample - loss: 0.4416 - accuracy: 0.8488 - val_loss: 0.4707 - val_accuracy: 0.8378\n",
      "Epoch 13/20\n",
      "60000/60000 [==============================] - 1s 23us/sample - loss: 0.4359 - accuracy: 0.8503 - val_loss: 0.4637 - val_accuracy: 0.8391\n",
      "Epoch 14/20\n",
      "59648/60000 [============================>.] - ETA: 0s - loss: 0.4307 - accuracy: 0.8511Restoring model weights from the end of the best epoch.\n",
      "60000/60000 [==============================] - 1s 22us/sample - loss: 0.4307 - accuracy: 0.8512 - val_loss: 0.4646 - val_accuracy: 0.8348\n",
      "Epoch 00014: early stopping\n",
      "wandb: Agent Finished Run: 3ltcaeb9 \n",
      "\n",
      "wandb: Agent Starting Run: 38tvrcqw with config:\n",
      "\tepochs: 10\n",
      "\tlearning_rate: 0.0003\n",
      "\toptimizer: adam\n",
      "wandb: Agent Started Run: 38tvrcqw\n"
     ]
    },
    {
     "data": {
      "text/html": [
       "\n",
       "                Logging results to <a href=\"https://wandb.com\" target=\"_blank\">Weights & Biases</a> <a href=\"https://docs.wandb.com/integrations/jupyter.html\" target=\"_blank\">(Documentation)</a>.<br/>\n",
       "                Project page: <a href=\"https://app.wandb.ai/sayakpaul/reproducible-ml\" target=\"_blank\">https://app.wandb.ai/sayakpaul/reproducible-ml</a><br/>\n",
       "                Sweep page: <a href=\"https://app.wandb.ai/sayakpaul/reproducible-ml/sweeps/6t8t4d6s\" target=\"_blank\">https://app.wandb.ai/sayakpaul/reproducible-ml/sweeps/6t8t4d6s</a><br/>\n",
       "Run page: <a href=\"https://app.wandb.ai/sayakpaul/reproducible-ml/runs/38tvrcqw\" target=\"_blank\">https://app.wandb.ai/sayakpaul/reproducible-ml/runs/38tvrcqw</a><br/>\n",
       "            "
      ],
      "text/plain": [
       "<IPython.core.display.HTML object>"
      ]
     },
     "metadata": {},
     "output_type": "display_data"
    },
    {
     "name": "stderr",
     "output_type": "stream",
     "text": [
      "Error generating diff: Reference at 'refs/remotes/origin/master' does not exist\n"
     ]
    },
    {
     "name": "stdout",
     "output_type": "stream",
     "text": [
      "Train on 60000 samples, validate on 10000 samples\n",
      "Epoch 1/10\n",
      "60000/60000 [==============================] - 2s 39us/sample - loss: 0.5257 - accuracy: 0.8180 - val_loss: 0.4436 - val_accuracy: 0.8460\n",
      "Epoch 2/10\n",
      "60000/60000 [==============================] - 1s 24us/sample - loss: 0.3913 - accuracy: 0.8607 - val_loss: 0.3942 - val_accuracy: 0.8611\n",
      "Epoch 3/10\n",
      "60000/60000 [==============================] - 1s 23us/sample - loss: 0.3493 - accuracy: 0.8747 - val_loss: 0.3751 - val_accuracy: 0.8612\n",
      "Epoch 4/10\n",
      "60000/60000 [==============================] - 1s 24us/sample - loss: 0.3207 - accuracy: 0.8842 - val_loss: 0.3597 - val_accuracy: 0.8716\n",
      "Epoch 5/10\n",
      "60000/60000 [==============================] - 1s 23us/sample - loss: 0.3072 - accuracy: 0.8881 - val_loss: 0.3488 - val_accuracy: 0.8747\n",
      "Epoch 6/10\n",
      "58880/60000 [============================>.] - ETA: 0s - loss: 0.2890 - accuracy: 0.8936Restoring model weights from the end of the best epoch.\n",
      "60000/60000 [==============================] - 1s 23us/sample - loss: 0.2888 - accuracy: 0.8938 - val_loss: 0.3519 - val_accuracy: 0.8749\n",
      "Epoch 00006: early stopping\n",
      "wandb: Agent Finished Run: 38tvrcqw \n",
      "\n",
      "wandb: Agent Starting Run: 99dea2qm with config:\n",
      "\tepochs: 10\n",
      "\tlearning_rate: 0.01\n",
      "\toptimizer: sgd\n",
      "wandb: Agent Started Run: 99dea2qm\n"
     ]
    },
    {
     "data": {
      "text/html": [
       "\n",
       "                Logging results to <a href=\"https://wandb.com\" target=\"_blank\">Weights & Biases</a> <a href=\"https://docs.wandb.com/integrations/jupyter.html\" target=\"_blank\">(Documentation)</a>.<br/>\n",
       "                Project page: <a href=\"https://app.wandb.ai/sayakpaul/reproducible-ml\" target=\"_blank\">https://app.wandb.ai/sayakpaul/reproducible-ml</a><br/>\n",
       "                Sweep page: <a href=\"https://app.wandb.ai/sayakpaul/reproducible-ml/sweeps/6t8t4d6s\" target=\"_blank\">https://app.wandb.ai/sayakpaul/reproducible-ml/sweeps/6t8t4d6s</a><br/>\n",
       "Run page: <a href=\"https://app.wandb.ai/sayakpaul/reproducible-ml/runs/99dea2qm\" target=\"_blank\">https://app.wandb.ai/sayakpaul/reproducible-ml/runs/99dea2qm</a><br/>\n",
       "            "
      ],
      "text/plain": [
       "<IPython.core.display.HTML object>"
      ]
     },
     "metadata": {},
     "output_type": "display_data"
    },
    {
     "name": "stderr",
     "output_type": "stream",
     "text": [
      "Error generating diff: Reference at 'refs/remotes/origin/master' does not exist\n"
     ]
    },
    {
     "name": "stdout",
     "output_type": "stream",
     "text": [
      "Train on 60000 samples, validate on 10000 samples\n",
      "Epoch 1/10\n",
      "60000/60000 [==============================] - 2s 38us/sample - loss: 1.0310 - accuracy: 0.6870 - val_loss: 0.7503 - val_accuracy: 0.7553\n",
      "Epoch 2/10\n",
      "60000/60000 [==============================] - 1s 24us/sample - loss: 0.6687 - accuracy: 0.7862 - val_loss: 0.6417 - val_accuracy: 0.7864\n",
      "Epoch 3/10\n",
      "60000/60000 [==============================] - 1s 23us/sample - loss: 0.5911 - accuracy: 0.8082 - val_loss: 0.5869 - val_accuracy: 0.8050\n",
      "Epoch 4/10\n",
      "60000/60000 [==============================] - 1s 23us/sample - loss: 0.5491 - accuracy: 0.8191 - val_loss: 0.5601 - val_accuracy: 0.8074\n",
      "Epoch 5/10\n",
      "60000/60000 [==============================] - 1s 23us/sample - loss: 0.5216 - accuracy: 0.8250 - val_loss: 0.5358 - val_accuracy: 0.8149\n",
      "Epoch 6/10\n",
      "60000/60000 [==============================] - 1s 22us/sample - loss: 0.5025 - accuracy: 0.8312 - val_loss: 0.5254 - val_accuracy: 0.8183\n",
      "Epoch 7/10\n",
      "60000/60000 [==============================] - 1s 22us/sample - loss: 0.4876 - accuracy: 0.8351 - val_loss: 0.5084 - val_accuracy: 0.8253\n",
      "Epoch 8/10\n",
      "60000/60000 [==============================] - 1s 22us/sample - loss: 0.4754 - accuracy: 0.8389 - val_loss: 0.4991 - val_accuracy: 0.8282\n",
      "Epoch 9/10\n",
      "60000/60000 [==============================] - 1s 22us/sample - loss: 0.4649 - accuracy: 0.8424 - val_loss: 0.4959 - val_accuracy: 0.8267\n",
      "Epoch 10/10\n",
      "60000/60000 [==============================] - 1s 23us/sample - loss: 0.4563 - accuracy: 0.8436 - val_loss: 0.4827 - val_accuracy: 0.8341\n",
      "wandb: Agent Finished Run: 99dea2qm \n",
      "\n",
      "wandb: Agent Starting Run: um69moah with config:\n",
      "\tepochs: 15\n",
      "\tlearning_rate: 0.0003\n",
      "\toptimizer: sgd\n",
      "wandb: Agent Started Run: um69moah\n"
     ]
    },
    {
     "data": {
      "text/html": [
       "\n",
       "                Logging results to <a href=\"https://wandb.com\" target=\"_blank\">Weights & Biases</a> <a href=\"https://docs.wandb.com/integrations/jupyter.html\" target=\"_blank\">(Documentation)</a>.<br/>\n",
       "                Project page: <a href=\"https://app.wandb.ai/sayakpaul/reproducible-ml\" target=\"_blank\">https://app.wandb.ai/sayakpaul/reproducible-ml</a><br/>\n",
       "                Sweep page: <a href=\"https://app.wandb.ai/sayakpaul/reproducible-ml/sweeps/6t8t4d6s\" target=\"_blank\">https://app.wandb.ai/sayakpaul/reproducible-ml/sweeps/6t8t4d6s</a><br/>\n",
       "Run page: <a href=\"https://app.wandb.ai/sayakpaul/reproducible-ml/runs/um69moah\" target=\"_blank\">https://app.wandb.ai/sayakpaul/reproducible-ml/runs/um69moah</a><br/>\n",
       "            "
      ],
      "text/plain": [
       "<IPython.core.display.HTML object>"
      ]
     },
     "metadata": {},
     "output_type": "display_data"
    },
    {
     "name": "stderr",
     "output_type": "stream",
     "text": [
      "Error generating diff: Reference at 'refs/remotes/origin/master' does not exist\n"
     ]
    },
    {
     "name": "stdout",
     "output_type": "stream",
     "text": [
      "Train on 60000 samples, validate on 10000 samples\n",
      "Epoch 1/15\n",
      "60000/60000 [==============================] - 2s 39us/sample - loss: 1.0310 - accuracy: 0.6870 - val_loss: 0.7503 - val_accuracy: 0.7553\n",
      "Epoch 2/15\n",
      "60000/60000 [==============================] - 1s 23us/sample - loss: 0.6687 - accuracy: 0.7862 - val_loss: 0.6417 - val_accuracy: 0.7864\n",
      "Epoch 3/15\n",
      "60000/60000 [==============================] - 1s 22us/sample - loss: 0.5911 - accuracy: 0.8082 - val_loss: 0.5869 - val_accuracy: 0.8050\n",
      "Epoch 4/15\n",
      "60000/60000 [==============================] - 1s 23us/sample - loss: 0.5491 - accuracy: 0.8191 - val_loss: 0.5601 - val_accuracy: 0.8074\n",
      "Epoch 5/15\n",
      "60000/60000 [==============================] - 1s 22us/sample - loss: 0.5216 - accuracy: 0.8250 - val_loss: 0.5358 - val_accuracy: 0.8149\n",
      "Epoch 6/15\n",
      "60000/60000 [==============================] - 1s 22us/sample - loss: 0.5025 - accuracy: 0.8312 - val_loss: 0.5254 - val_accuracy: 0.8183\n",
      "Epoch 7/15\n",
      "60000/60000 [==============================] - 1s 22us/sample - loss: 0.4876 - accuracy: 0.8351 - val_loss: 0.5084 - val_accuracy: 0.8253\n",
      "Epoch 8/15\n",
      "60000/60000 [==============================] - 1s 22us/sample - loss: 0.4754 - accuracy: 0.8389 - val_loss: 0.4991 - val_accuracy: 0.8282\n",
      "Epoch 9/15\n",
      "60000/60000 [==============================] - 1s 23us/sample - loss: 0.4649 - accuracy: 0.8424 - val_loss: 0.4959 - val_accuracy: 0.8267\n",
      "Epoch 10/15\n",
      "60000/60000 [==============================] - 1s 22us/sample - loss: 0.4563 - accuracy: 0.8436 - val_loss: 0.4827 - val_accuracy: 0.8341\n",
      "Epoch 11/15\n",
      "60000/60000 [==============================] - 1s 23us/sample - loss: 0.4488 - accuracy: 0.8468 - val_loss: 0.4775 - val_accuracy: 0.8323\n",
      "Epoch 12/15\n",
      "60000/60000 [==============================] - 1s 22us/sample - loss: 0.4416 - accuracy: 0.8488 - val_loss: 0.4707 - val_accuracy: 0.8378\n",
      "Epoch 13/15\n",
      "60000/60000 [==============================] - 1s 23us/sample - loss: 0.4359 - accuracy: 0.8503 - val_loss: 0.4637 - val_accuracy: 0.8391\n",
      "Epoch 14/15\n",
      "57984/60000 [===========================>..] - ETA: 0s - loss: 0.4306 - accuracy: 0.8507Restoring model weights from the end of the best epoch.\n",
      "60000/60000 [==============================] - 1s 22us/sample - loss: 0.4307 - accuracy: 0.8512 - val_loss: 0.4646 - val_accuracy: 0.8348\n",
      "Epoch 00014: early stopping\n",
      "wandb: Agent Finished Run: um69moah \n",
      "\n",
      "wandb: Agent Starting Run: gq8hbspq with config:\n",
      "\tepochs: 10\n",
      "\tlearning_rate: 3e-05\n",
      "\toptimizer: adam\n",
      "wandb: Agent Started Run: gq8hbspq\n"
     ]
    },
    {
     "data": {
      "text/html": [
       "\n",
       "                Logging results to <a href=\"https://wandb.com\" target=\"_blank\">Weights & Biases</a> <a href=\"https://docs.wandb.com/integrations/jupyter.html\" target=\"_blank\">(Documentation)</a>.<br/>\n",
       "                Project page: <a href=\"https://app.wandb.ai/sayakpaul/reproducible-ml\" target=\"_blank\">https://app.wandb.ai/sayakpaul/reproducible-ml</a><br/>\n",
       "                Sweep page: <a href=\"https://app.wandb.ai/sayakpaul/reproducible-ml/sweeps/6t8t4d6s\" target=\"_blank\">https://app.wandb.ai/sayakpaul/reproducible-ml/sweeps/6t8t4d6s</a><br/>\n",
       "Run page: <a href=\"https://app.wandb.ai/sayakpaul/reproducible-ml/runs/gq8hbspq\" target=\"_blank\">https://app.wandb.ai/sayakpaul/reproducible-ml/runs/gq8hbspq</a><br/>\n",
       "            "
      ],
      "text/plain": [
       "<IPython.core.display.HTML object>"
      ]
     },
     "metadata": {},
     "output_type": "display_data"
    },
    {
     "name": "stderr",
     "output_type": "stream",
     "text": [
      "Error generating diff: Reference at 'refs/remotes/origin/master' does not exist\n"
     ]
    },
    {
     "name": "stdout",
     "output_type": "stream",
     "text": [
      "Train on 60000 samples, validate on 10000 samples\n",
      "Epoch 1/10\n",
      "60000/60000 [==============================] - 2s 36us/sample - loss: 0.5257 - accuracy: 0.8180 - val_loss: 0.4436 - val_accuracy: 0.8460\n",
      "Epoch 2/10\n",
      "60000/60000 [==============================] - 1s 23us/sample - loss: 0.3913 - accuracy: 0.8607 - val_loss: 0.3942 - val_accuracy: 0.8611\n",
      "Epoch 3/10\n",
      "60000/60000 [==============================] - 1s 23us/sample - loss: 0.3493 - accuracy: 0.8747 - val_loss: 0.3751 - val_accuracy: 0.8612\n",
      "Epoch 4/10\n",
      "60000/60000 [==============================] - 1s 23us/sample - loss: 0.3207 - accuracy: 0.8842 - val_loss: 0.3597 - val_accuracy: 0.8716\n",
      "Epoch 5/10\n",
      "60000/60000 [==============================] - 1s 23us/sample - loss: 0.3072 - accuracy: 0.8881 - val_loss: 0.3488 - val_accuracy: 0.8747\n",
      "Epoch 6/10\n",
      "59264/60000 [============================>.] - ETA: 0s - loss: 0.2890 - accuracy: 0.8936Restoring model weights from the end of the best epoch.\n",
      "60000/60000 [==============================] - 2s 25us/sample - loss: 0.2888 - accuracy: 0.8938 - val_loss: 0.3519 - val_accuracy: 0.8749\n",
      "Epoch 00006: early stopping\n",
      "wandb: Agent Finished Run: gq8hbspq \n",
      "\n",
      "wandb: Agent Starting Run: 09yiypms with config:\n",
      "\tepochs: 10\n",
      "\tlearning_rate: 0.0001\n",
      "\toptimizer: adam\n",
      "wandb: Agent Started Run: 09yiypms\n"
     ]
    },
    {
     "data": {
      "text/html": [
       "\n",
       "                Logging results to <a href=\"https://wandb.com\" target=\"_blank\">Weights & Biases</a> <a href=\"https://docs.wandb.com/integrations/jupyter.html\" target=\"_blank\">(Documentation)</a>.<br/>\n",
       "                Project page: <a href=\"https://app.wandb.ai/sayakpaul/reproducible-ml\" target=\"_blank\">https://app.wandb.ai/sayakpaul/reproducible-ml</a><br/>\n",
       "                Sweep page: <a href=\"https://app.wandb.ai/sayakpaul/reproducible-ml/sweeps/6t8t4d6s\" target=\"_blank\">https://app.wandb.ai/sayakpaul/reproducible-ml/sweeps/6t8t4d6s</a><br/>\n",
       "Run page: <a href=\"https://app.wandb.ai/sayakpaul/reproducible-ml/runs/09yiypms\" target=\"_blank\">https://app.wandb.ai/sayakpaul/reproducible-ml/runs/09yiypms</a><br/>\n",
       "            "
      ],
      "text/plain": [
       "<IPython.core.display.HTML object>"
      ]
     },
     "metadata": {},
     "output_type": "display_data"
    },
    {
     "name": "stderr",
     "output_type": "stream",
     "text": [
      "Error generating diff: Reference at 'refs/remotes/origin/master' does not exist\n"
     ]
    },
    {
     "name": "stdout",
     "output_type": "stream",
     "text": [
      "Train on 60000 samples, validate on 10000 samples\n",
      "Epoch 1/10\n",
      "60000/60000 [==============================] - 2s 36us/sample - loss: 0.5257 - accuracy: 0.8180 - val_loss: 0.4436 - val_accuracy: 0.8460\n",
      "Epoch 2/10\n",
      "60000/60000 [==============================] - 1s 24us/sample - loss: 0.3913 - accuracy: 0.8607 - val_loss: 0.3942 - val_accuracy: 0.8611\n",
      "Epoch 3/10\n",
      "60000/60000 [==============================] - 1s 24us/sample - loss: 0.3493 - accuracy: 0.8747 - val_loss: 0.3751 - val_accuracy: 0.8612\n",
      "Epoch 4/10\n",
      "60000/60000 [==============================] - 1s 24us/sample - loss: 0.3207 - accuracy: 0.8842 - val_loss: 0.3597 - val_accuracy: 0.8716\n",
      "Epoch 5/10\n",
      "60000/60000 [==============================] - 1s 23us/sample - loss: 0.3072 - accuracy: 0.8881 - val_loss: 0.3488 - val_accuracy: 0.8747\n",
      "Epoch 6/10\n",
      "59008/60000 [============================>.] - ETA: 0s - loss: 0.2888 - accuracy: 0.8937Restoring model weights from the end of the best epoch.\n",
      "60000/60000 [==============================] - 1s 24us/sample - loss: 0.2888 - accuracy: 0.8938 - val_loss: 0.3519 - val_accuracy: 0.8749\n",
      "Epoch 00006: early stopping\n",
      "wandb: Agent Finished Run: 09yiypms \n",
      "\n",
      "wandb: Agent Starting Run: h7nw2nxo with config:\n",
      "\tepochs: 15\n",
      "\tlearning_rate: 1e-05\n",
      "\toptimizer: adam\n",
      "wandb: Agent Started Run: h7nw2nxo\n"
     ]
    },
    {
     "data": {
      "text/html": [
       "\n",
       "                Logging results to <a href=\"https://wandb.com\" target=\"_blank\">Weights & Biases</a> <a href=\"https://docs.wandb.com/integrations/jupyter.html\" target=\"_blank\">(Documentation)</a>.<br/>\n",
       "                Project page: <a href=\"https://app.wandb.ai/sayakpaul/reproducible-ml\" target=\"_blank\">https://app.wandb.ai/sayakpaul/reproducible-ml</a><br/>\n",
       "                Sweep page: <a href=\"https://app.wandb.ai/sayakpaul/reproducible-ml/sweeps/6t8t4d6s\" target=\"_blank\">https://app.wandb.ai/sayakpaul/reproducible-ml/sweeps/6t8t4d6s</a><br/>\n",
       "Run page: <a href=\"https://app.wandb.ai/sayakpaul/reproducible-ml/runs/h7nw2nxo\" target=\"_blank\">https://app.wandb.ai/sayakpaul/reproducible-ml/runs/h7nw2nxo</a><br/>\n",
       "            "
      ],
      "text/plain": [
       "<IPython.core.display.HTML object>"
      ]
     },
     "metadata": {},
     "output_type": "display_data"
    },
    {
     "name": "stderr",
     "output_type": "stream",
     "text": [
      "Error generating diff: Reference at 'refs/remotes/origin/master' does not exist\n"
     ]
    },
    {
     "name": "stdout",
     "output_type": "stream",
     "text": [
      "Train on 60000 samples, validate on 10000 samples\n",
      "Epoch 1/15\n",
      "60000/60000 [==============================] - 2s 35us/sample - loss: 0.5257 - accuracy: 0.8180 - val_loss: 0.4436 - val_accuracy: 0.8460\n",
      "Epoch 2/15\n",
      "60000/60000 [==============================] - 1s 23us/sample - loss: 0.3913 - accuracy: 0.8607 - val_loss: 0.3942 - val_accuracy: 0.8611\n",
      "Epoch 3/15\n",
      "60000/60000 [==============================] - 1s 23us/sample - loss: 0.3493 - accuracy: 0.8747 - val_loss: 0.3751 - val_accuracy: 0.8612\n",
      "Epoch 4/15\n",
      "60000/60000 [==============================] - 1s 23us/sample - loss: 0.3207 - accuracy: 0.8842 - val_loss: 0.3597 - val_accuracy: 0.8716\n",
      "Epoch 5/15\n",
      "60000/60000 [==============================] - 1s 23us/sample - loss: 0.3072 - accuracy: 0.8881 - val_loss: 0.3488 - val_accuracy: 0.8747\n",
      "Epoch 6/15\n",
      "59008/60000 [============================>.] - ETA: 0s - loss: 0.2888 - accuracy: 0.8937Restoring model weights from the end of the best epoch.\n",
      "60000/60000 [==============================] - 1s 23us/sample - loss: 0.2888 - accuracy: 0.8938 - val_loss: 0.3519 - val_accuracy: 0.8749\n",
      "Epoch 00006: early stopping\n",
      "wandb: Agent Finished Run: h7nw2nxo \n",
      "\n",
      "wandb: Agent Starting Run: ltduqw50 with config:\n",
      "\tepochs: 20\n",
      "\tlearning_rate: 0.0001\n",
      "\toptimizer: sgd\n",
      "wandb: Agent Started Run: ltduqw50\n"
     ]
    },
    {
     "data": {
      "text/html": [
       "\n",
       "                Logging results to <a href=\"https://wandb.com\" target=\"_blank\">Weights & Biases</a> <a href=\"https://docs.wandb.com/integrations/jupyter.html\" target=\"_blank\">(Documentation)</a>.<br/>\n",
       "                Project page: <a href=\"https://app.wandb.ai/sayakpaul/reproducible-ml\" target=\"_blank\">https://app.wandb.ai/sayakpaul/reproducible-ml</a><br/>\n",
       "                Sweep page: <a href=\"https://app.wandb.ai/sayakpaul/reproducible-ml/sweeps/6t8t4d6s\" target=\"_blank\">https://app.wandb.ai/sayakpaul/reproducible-ml/sweeps/6t8t4d6s</a><br/>\n",
       "Run page: <a href=\"https://app.wandb.ai/sayakpaul/reproducible-ml/runs/ltduqw50\" target=\"_blank\">https://app.wandb.ai/sayakpaul/reproducible-ml/runs/ltduqw50</a><br/>\n",
       "            "
      ],
      "text/plain": [
       "<IPython.core.display.HTML object>"
      ]
     },
     "metadata": {},
     "output_type": "display_data"
    },
    {
     "name": "stderr",
     "output_type": "stream",
     "text": [
      "Error generating diff: Reference at 'refs/remotes/origin/master' does not exist\n"
     ]
    },
    {
     "name": "stdout",
     "output_type": "stream",
     "text": [
      "Train on 60000 samples, validate on 10000 samples\n",
      "Epoch 1/20\n",
      "60000/60000 [==============================] - 2s 34us/sample - loss: 1.0310 - accuracy: 0.6870 - val_loss: 0.7503 - val_accuracy: 0.7553\n",
      "Epoch 2/20\n",
      "60000/60000 [==============================] - 1s 23us/sample - loss: 0.6687 - accuracy: 0.7862 - val_loss: 0.6417 - val_accuracy: 0.7864\n",
      "Epoch 3/20\n",
      "60000/60000 [==============================] - 1s 22us/sample - loss: 0.5911 - accuracy: 0.8082 - val_loss: 0.5869 - val_accuracy: 0.8050\n",
      "Epoch 4/20\n",
      "60000/60000 [==============================] - 1s 23us/sample - loss: 0.5491 - accuracy: 0.8191 - val_loss: 0.5601 - val_accuracy: 0.8074\n",
      "Epoch 5/20\n",
      "60000/60000 [==============================] - 1s 23us/sample - loss: 0.5216 - accuracy: 0.8250 - val_loss: 0.5358 - val_accuracy: 0.8149\n",
      "Epoch 6/20\n",
      "60000/60000 [==============================] - 1s 23us/sample - loss: 0.5025 - accuracy: 0.8312 - val_loss: 0.5254 - val_accuracy: 0.8183\n",
      "Epoch 7/20\n",
      "60000/60000 [==============================] - 1s 23us/sample - loss: 0.4876 - accuracy: 0.8351 - val_loss: 0.5084 - val_accuracy: 0.8253\n",
      "Epoch 8/20\n",
      "60000/60000 [==============================] - 1s 22us/sample - loss: 0.4754 - accuracy: 0.8389 - val_loss: 0.4991 - val_accuracy: 0.8282\n",
      "Epoch 9/20\n",
      "60000/60000 [==============================] - 1s 23us/sample - loss: 0.4649 - accuracy: 0.8424 - val_loss: 0.4959 - val_accuracy: 0.8267\n",
      "Epoch 10/20\n",
      "60000/60000 [==============================] - 1s 23us/sample - loss: 0.4563 - accuracy: 0.8436 - val_loss: 0.4827 - val_accuracy: 0.8341\n",
      "Epoch 11/20\n",
      "60000/60000 [==============================] - 1s 23us/sample - loss: 0.4488 - accuracy: 0.8468 - val_loss: 0.4775 - val_accuracy: 0.8323\n",
      "Epoch 12/20\n",
      "60000/60000 [==============================] - 1s 23us/sample - loss: 0.4416 - accuracy: 0.8488 - val_loss: 0.4707 - val_accuracy: 0.8378\n",
      "Epoch 13/20\n",
      "60000/60000 [==============================] - 1s 24us/sample - loss: 0.4359 - accuracy: 0.8503 - val_loss: 0.4637 - val_accuracy: 0.8391\n",
      "Epoch 14/20\n",
      "57472/60000 [===========================>..] - ETA: 0s - loss: 0.4307 - accuracy: 0.8507Restoring model weights from the end of the best epoch.\n",
      "60000/60000 [==============================] - 1s 22us/sample - loss: 0.4307 - accuracy: 0.8512 - val_loss: 0.4646 - val_accuracy: 0.8348\n",
      "Epoch 00014: early stopping\n",
      "wandb: Agent Finished Run: ltduqw50 \n",
      "\n",
      "wandb: Agent Starting Run: cuohisnz with config:\n",
      "\tepochs: 20\n",
      "\tlearning_rate: 0.001\n",
      "\toptimizer: sgd\n",
      "wandb: Agent Started Run: cuohisnz\n"
     ]
    },
    {
     "data": {
      "text/html": [
       "\n",
       "                Logging results to <a href=\"https://wandb.com\" target=\"_blank\">Weights & Biases</a> <a href=\"https://docs.wandb.com/integrations/jupyter.html\" target=\"_blank\">(Documentation)</a>.<br/>\n",
       "                Project page: <a href=\"https://app.wandb.ai/sayakpaul/reproducible-ml\" target=\"_blank\">https://app.wandb.ai/sayakpaul/reproducible-ml</a><br/>\n",
       "                Sweep page: <a href=\"https://app.wandb.ai/sayakpaul/reproducible-ml/sweeps/6t8t4d6s\" target=\"_blank\">https://app.wandb.ai/sayakpaul/reproducible-ml/sweeps/6t8t4d6s</a><br/>\n",
       "Run page: <a href=\"https://app.wandb.ai/sayakpaul/reproducible-ml/runs/cuohisnz\" target=\"_blank\">https://app.wandb.ai/sayakpaul/reproducible-ml/runs/cuohisnz</a><br/>\n",
       "            "
      ],
      "text/plain": [
       "<IPython.core.display.HTML object>"
      ]
     },
     "metadata": {},
     "output_type": "display_data"
    },
    {
     "name": "stderr",
     "output_type": "stream",
     "text": [
      "Error generating diff: Reference at 'refs/remotes/origin/master' does not exist\n"
     ]
    },
    {
     "name": "stdout",
     "output_type": "stream",
     "text": [
      "Train on 60000 samples, validate on 10000 samples\n",
      "Epoch 1/20\n",
      "60000/60000 [==============================] - 2s 35us/sample - loss: 1.0310 - accuracy: 0.6870 - val_loss: 0.7503 - val_accuracy: 0.7553\n",
      "Epoch 2/20\n",
      "60000/60000 [==============================] - 1s 23us/sample - loss: 0.6687 - accuracy: 0.7862 - val_loss: 0.6417 - val_accuracy: 0.7864\n",
      "Epoch 3/20\n",
      "60000/60000 [==============================] - 1s 22us/sample - loss: 0.5911 - accuracy: 0.8082 - val_loss: 0.5869 - val_accuracy: 0.8050\n",
      "Epoch 4/20\n",
      "60000/60000 [==============================] - 1s 22us/sample - loss: 0.5491 - accuracy: 0.8191 - val_loss: 0.5601 - val_accuracy: 0.8074\n",
      "Epoch 5/20\n",
      "60000/60000 [==============================] - 1s 22us/sample - loss: 0.5216 - accuracy: 0.8250 - val_loss: 0.5358 - val_accuracy: 0.8149\n",
      "Epoch 6/20\n",
      "60000/60000 [==============================] - 1s 23us/sample - loss: 0.5025 - accuracy: 0.8312 - val_loss: 0.5254 - val_accuracy: 0.8183\n",
      "Epoch 7/20\n",
      "60000/60000 [==============================] - 1s 23us/sample - loss: 0.4876 - accuracy: 0.8351 - val_loss: 0.5084 - val_accuracy: 0.8253\n",
      "Epoch 8/20\n",
      "60000/60000 [==============================] - 1s 23us/sample - loss: 0.4754 - accuracy: 0.8389 - val_loss: 0.4991 - val_accuracy: 0.8282\n",
      "Epoch 9/20\n",
      "60000/60000 [==============================] - 1s 23us/sample - loss: 0.4649 - accuracy: 0.8424 - val_loss: 0.4959 - val_accuracy: 0.8267\n",
      "Epoch 10/20\n",
      "60000/60000 [==============================] - 1s 23us/sample - loss: 0.4563 - accuracy: 0.8436 - val_loss: 0.4827 - val_accuracy: 0.8341\n",
      "Epoch 11/20\n",
      "60000/60000 [==============================] - 1s 23us/sample - loss: 0.4488 - accuracy: 0.8468 - val_loss: 0.4775 - val_accuracy: 0.8323\n",
      "Epoch 12/20\n",
      "60000/60000 [==============================] - 1s 23us/sample - loss: 0.4416 - accuracy: 0.8488 - val_loss: 0.4707 - val_accuracy: 0.8378\n",
      "Epoch 13/20\n",
      "60000/60000 [==============================] - 1s 23us/sample - loss: 0.4359 - accuracy: 0.8503 - val_loss: 0.4637 - val_accuracy: 0.8391\n",
      "Epoch 14/20\n",
      "58752/60000 [============================>.] - ETA: 0s - loss: 0.4304 - accuracy: 0.8510Restoring model weights from the end of the best epoch.\n",
      "60000/60000 [==============================] - 1s 22us/sample - loss: 0.4307 - accuracy: 0.8512 - val_loss: 0.4646 - val_accuracy: 0.8348\n",
      "Epoch 00014: early stopping\n",
      "wandb: Agent Finished Run: cuohisnz \n",
      "\n",
      "wandb: Agent Starting Run: zpnc849g with config:\n",
      "\tepochs: 20\n",
      "\tlearning_rate: 0.0003\n",
      "\toptimizer: adam\n",
      "wandb: Agent Started Run: zpnc849g\n"
     ]
    },
    {
     "data": {
      "text/html": [
       "\n",
       "                Logging results to <a href=\"https://wandb.com\" target=\"_blank\">Weights & Biases</a> <a href=\"https://docs.wandb.com/integrations/jupyter.html\" target=\"_blank\">(Documentation)</a>.<br/>\n",
       "                Project page: <a href=\"https://app.wandb.ai/sayakpaul/reproducible-ml\" target=\"_blank\">https://app.wandb.ai/sayakpaul/reproducible-ml</a><br/>\n",
       "                Sweep page: <a href=\"https://app.wandb.ai/sayakpaul/reproducible-ml/sweeps/6t8t4d6s\" target=\"_blank\">https://app.wandb.ai/sayakpaul/reproducible-ml/sweeps/6t8t4d6s</a><br/>\n",
       "Run page: <a href=\"https://app.wandb.ai/sayakpaul/reproducible-ml/runs/zpnc849g\" target=\"_blank\">https://app.wandb.ai/sayakpaul/reproducible-ml/runs/zpnc849g</a><br/>\n",
       "            "
      ],
      "text/plain": [
       "<IPython.core.display.HTML object>"
      ]
     },
     "metadata": {},
     "output_type": "display_data"
    },
    {
     "name": "stderr",
     "output_type": "stream",
     "text": [
      "Error generating diff: Reference at 'refs/remotes/origin/master' does not exist\n"
     ]
    },
    {
     "name": "stdout",
     "output_type": "stream",
     "text": [
      "Train on 60000 samples, validate on 10000 samples\n",
      "Epoch 1/20\n",
      "60000/60000 [==============================] - 2s 35us/sample - loss: 0.5257 - accuracy: 0.8180 - val_loss: 0.4436 - val_accuracy: 0.8460\n",
      "Epoch 2/20\n",
      "60000/60000 [==============================] - 1s 23us/sample - loss: 0.3913 - accuracy: 0.8607 - val_loss: 0.3942 - val_accuracy: 0.8611\n",
      "Epoch 3/20\n",
      "60000/60000 [==============================] - 1s 24us/sample - loss: 0.3493 - accuracy: 0.8747 - val_loss: 0.3751 - val_accuracy: 0.8612\n",
      "Epoch 4/20\n",
      "60000/60000 [==============================] - 1s 25us/sample - loss: 0.3207 - accuracy: 0.8842 - val_loss: 0.3597 - val_accuracy: 0.8716\n",
      "Epoch 5/20\n",
      "60000/60000 [==============================] - 2s 25us/sample - loss: 0.3072 - accuracy: 0.8881 - val_loss: 0.3488 - val_accuracy: 0.8747\n",
      "Epoch 6/20\n",
      "58880/60000 [============================>.] - ETA: 0s - loss: 0.2890 - accuracy: 0.8936Restoring model weights from the end of the best epoch.\n",
      "60000/60000 [==============================] - 1s 25us/sample - loss: 0.2888 - accuracy: 0.8938 - val_loss: 0.3519 - val_accuracy: 0.8749\n",
      "Epoch 00006: early stopping\n",
      "wandb: Agent Finished Run: zpnc849g \n",
      "\n",
      "wandb: Agent Starting Run: xcci81bt with config:\n",
      "\tepochs: 10\n",
      "\tlearning_rate: 3e-05\n",
      "\toptimizer: sgd\n",
      "wandb: Agent Started Run: xcci81bt\n"
     ]
    },
    {
     "data": {
      "text/html": [
       "\n",
       "                Logging results to <a href=\"https://wandb.com\" target=\"_blank\">Weights & Biases</a> <a href=\"https://docs.wandb.com/integrations/jupyter.html\" target=\"_blank\">(Documentation)</a>.<br/>\n",
       "                Project page: <a href=\"https://app.wandb.ai/sayakpaul/reproducible-ml\" target=\"_blank\">https://app.wandb.ai/sayakpaul/reproducible-ml</a><br/>\n",
       "                Sweep page: <a href=\"https://app.wandb.ai/sayakpaul/reproducible-ml/sweeps/6t8t4d6s\" target=\"_blank\">https://app.wandb.ai/sayakpaul/reproducible-ml/sweeps/6t8t4d6s</a><br/>\n",
       "Run page: <a href=\"https://app.wandb.ai/sayakpaul/reproducible-ml/runs/xcci81bt\" target=\"_blank\">https://app.wandb.ai/sayakpaul/reproducible-ml/runs/xcci81bt</a><br/>\n",
       "            "
      ],
      "text/plain": [
       "<IPython.core.display.HTML object>"
      ]
     },
     "metadata": {},
     "output_type": "display_data"
    },
    {
     "name": "stderr",
     "output_type": "stream",
     "text": [
      "Error generating diff: Reference at 'refs/remotes/origin/master' does not exist\n"
     ]
    },
    {
     "name": "stdout",
     "output_type": "stream",
     "text": [
      "Train on 60000 samples, validate on 10000 samples\n",
      "Epoch 1/10\n",
      "60000/60000 [==============================] - 2s 34us/sample - loss: 1.0310 - accuracy: 0.6870 - val_loss: 0.7503 - val_accuracy: 0.7553\n",
      "Epoch 2/10\n",
      "60000/60000 [==============================] - 1s 23us/sample - loss: 0.6687 - accuracy: 0.7862 - val_loss: 0.6417 - val_accuracy: 0.7864\n",
      "Epoch 3/10\n",
      "60000/60000 [==============================] - 1s 23us/sample - loss: 0.5911 - accuracy: 0.8082 - val_loss: 0.5869 - val_accuracy: 0.8050\n",
      "Epoch 4/10\n",
      "60000/60000 [==============================] - 1s 23us/sample - loss: 0.5491 - accuracy: 0.8191 - val_loss: 0.5601 - val_accuracy: 0.8074\n",
      "Epoch 5/10\n",
      "60000/60000 [==============================] - 1s 22us/sample - loss: 0.5216 - accuracy: 0.8250 - val_loss: 0.5358 - val_accuracy: 0.8149\n",
      "Epoch 6/10\n",
      "60000/60000 [==============================] - 1s 22us/sample - loss: 0.5025 - accuracy: 0.8312 - val_loss: 0.5254 - val_accuracy: 0.8183\n",
      "Epoch 7/10\n",
      "60000/60000 [==============================] - 1s 22us/sample - loss: 0.4876 - accuracy: 0.8351 - val_loss: 0.5084 - val_accuracy: 0.8253\n",
      "Epoch 8/10\n",
      "60000/60000 [==============================] - 1s 22us/sample - loss: 0.4754 - accuracy: 0.8389 - val_loss: 0.4991 - val_accuracy: 0.8282\n",
      "Epoch 9/10\n",
      "60000/60000 [==============================] - 1s 23us/sample - loss: 0.4649 - accuracy: 0.8424 - val_loss: 0.4959 - val_accuracy: 0.8267\n",
      "Epoch 10/10\n",
      "60000/60000 [==============================] - 1s 22us/sample - loss: 0.4563 - accuracy: 0.8436 - val_loss: 0.4827 - val_accuracy: 0.8341\n",
      "wandb: Agent Finished Run: xcci81bt \n",
      "\n",
      "wandb: Agent Starting Run: xhipzslu with config:\n",
      "\tepochs: 10\n",
      "\tlearning_rate: 0.01\n",
      "\toptimizer: adam\n",
      "wandb: Agent Started Run: xhipzslu\n"
     ]
    },
    {
     "data": {
      "text/html": [
       "\n",
       "                Logging results to <a href=\"https://wandb.com\" target=\"_blank\">Weights & Biases</a> <a href=\"https://docs.wandb.com/integrations/jupyter.html\" target=\"_blank\">(Documentation)</a>.<br/>\n",
       "                Project page: <a href=\"https://app.wandb.ai/sayakpaul/reproducible-ml\" target=\"_blank\">https://app.wandb.ai/sayakpaul/reproducible-ml</a><br/>\n",
       "                Sweep page: <a href=\"https://app.wandb.ai/sayakpaul/reproducible-ml/sweeps/6t8t4d6s\" target=\"_blank\">https://app.wandb.ai/sayakpaul/reproducible-ml/sweeps/6t8t4d6s</a><br/>\n",
       "Run page: <a href=\"https://app.wandb.ai/sayakpaul/reproducible-ml/runs/xhipzslu\" target=\"_blank\">https://app.wandb.ai/sayakpaul/reproducible-ml/runs/xhipzslu</a><br/>\n",
       "            "
      ],
      "text/plain": [
       "<IPython.core.display.HTML object>"
      ]
     },
     "metadata": {},
     "output_type": "display_data"
    },
    {
     "name": "stderr",
     "output_type": "stream",
     "text": [
      "Error generating diff: Reference at 'refs/remotes/origin/master' does not exist\n"
     ]
    },
    {
     "name": "stdout",
     "output_type": "stream",
     "text": [
      "Train on 60000 samples, validate on 10000 samples\n",
      "Epoch 1/10\n",
      "60000/60000 [==============================] - 2s 35us/sample - loss: 0.5257 - accuracy: 0.8180 - val_loss: 0.4436 - val_accuracy: 0.8460\n",
      "Epoch 2/10\n",
      "60000/60000 [==============================] - 1s 23us/sample - loss: 0.3913 - accuracy: 0.8607 - val_loss: 0.3942 - val_accuracy: 0.8611\n",
      "Epoch 3/10\n",
      "60000/60000 [==============================] - 1s 23us/sample - loss: 0.3493 - accuracy: 0.8747 - val_loss: 0.3751 - val_accuracy: 0.8612\n",
      "Epoch 4/10\n",
      "60000/60000 [==============================] - 1s 23us/sample - loss: 0.3207 - accuracy: 0.8842 - val_loss: 0.3597 - val_accuracy: 0.8716\n",
      "Epoch 5/10\n",
      "60000/60000 [==============================] - 1s 23us/sample - loss: 0.3072 - accuracy: 0.8881 - val_loss: 0.3488 - val_accuracy: 0.8747\n",
      "Epoch 6/10\n",
      "57984/60000 [===========================>..] - ETA: 0s - loss: 0.2888 - accuracy: 0.8937Restoring model weights from the end of the best epoch.\n",
      "60000/60000 [==============================] - 1s 23us/sample - loss: 0.2888 - accuracy: 0.8938 - val_loss: 0.3519 - val_accuracy: 0.8749\n",
      "Epoch 00006: early stopping\n",
      "wandb: Agent Finished Run: xhipzslu \n",
      "\n",
      "wandb: Agent Starting Run: aanvcmyg with config:\n",
      "\tepochs: 10\n",
      "\tlearning_rate: 0.0003\n",
      "\toptimizer: adam\n",
      "wandb: Agent Started Run: aanvcmyg\n"
     ]
    },
    {
     "data": {
      "text/html": [
       "\n",
       "                Logging results to <a href=\"https://wandb.com\" target=\"_blank\">Weights & Biases</a> <a href=\"https://docs.wandb.com/integrations/jupyter.html\" target=\"_blank\">(Documentation)</a>.<br/>\n",
       "                Project page: <a href=\"https://app.wandb.ai/sayakpaul/reproducible-ml\" target=\"_blank\">https://app.wandb.ai/sayakpaul/reproducible-ml</a><br/>\n",
       "                Sweep page: <a href=\"https://app.wandb.ai/sayakpaul/reproducible-ml/sweeps/6t8t4d6s\" target=\"_blank\">https://app.wandb.ai/sayakpaul/reproducible-ml/sweeps/6t8t4d6s</a><br/>\n",
       "Run page: <a href=\"https://app.wandb.ai/sayakpaul/reproducible-ml/runs/aanvcmyg\" target=\"_blank\">https://app.wandb.ai/sayakpaul/reproducible-ml/runs/aanvcmyg</a><br/>\n",
       "            "
      ],
      "text/plain": [
       "<IPython.core.display.HTML object>"
      ]
     },
     "metadata": {},
     "output_type": "display_data"
    },
    {
     "name": "stderr",
     "output_type": "stream",
     "text": [
      "Error generating diff: Reference at 'refs/remotes/origin/master' does not exist\n"
     ]
    },
    {
     "name": "stdout",
     "output_type": "stream",
     "text": [
      "Train on 60000 samples, validate on 10000 samples\n",
      "Epoch 1/10\n",
      "60000/60000 [==============================] - 2s 36us/sample - loss: 0.5257 - accuracy: 0.8180 - val_loss: 0.4436 - val_accuracy: 0.8460\n",
      "Epoch 2/10\n",
      "60000/60000 [==============================] - 1s 24us/sample - loss: 0.3913 - accuracy: 0.8607 - val_loss: 0.3942 - val_accuracy: 0.8611\n",
      "Epoch 3/10\n",
      "60000/60000 [==============================] - 1s 24us/sample - loss: 0.3493 - accuracy: 0.8747 - val_loss: 0.3751 - val_accuracy: 0.8612\n",
      "Epoch 4/10\n",
      "60000/60000 [==============================] - 1s 24us/sample - loss: 0.3207 - accuracy: 0.8842 - val_loss: 0.3597 - val_accuracy: 0.8716\n",
      "Epoch 5/10\n",
      "60000/60000 [==============================] - 1s 24us/sample - loss: 0.3072 - accuracy: 0.8881 - val_loss: 0.3488 - val_accuracy: 0.8747\n",
      "Epoch 6/10\n",
      "57728/60000 [===========================>..] - ETA: 0s - loss: 0.2888 - accuracy: 0.8937Restoring model weights from the end of the best epoch.\n",
      "60000/60000 [==============================] - 1s 24us/sample - loss: 0.2888 - accuracy: 0.8938 - val_loss: 0.3519 - val_accuracy: 0.8749\n",
      "Epoch 00006: early stopping\n",
      "wandb: Agent Finished Run: aanvcmyg \n",
      "\n",
      "wandb: Agent Starting Run: 2taezqin with config:\n",
      "\tepochs: 15\n",
      "\tlearning_rate: 0.0001\n",
      "\toptimizer: adam\n",
      "wandb: Agent Started Run: 2taezqin\n"
     ]
    },
    {
     "data": {
      "text/html": [
       "\n",
       "                Logging results to <a href=\"https://wandb.com\" target=\"_blank\">Weights & Biases</a> <a href=\"https://docs.wandb.com/integrations/jupyter.html\" target=\"_blank\">(Documentation)</a>.<br/>\n",
       "                Project page: <a href=\"https://app.wandb.ai/sayakpaul/reproducible-ml\" target=\"_blank\">https://app.wandb.ai/sayakpaul/reproducible-ml</a><br/>\n",
       "                Sweep page: <a href=\"https://app.wandb.ai/sayakpaul/reproducible-ml/sweeps/6t8t4d6s\" target=\"_blank\">https://app.wandb.ai/sayakpaul/reproducible-ml/sweeps/6t8t4d6s</a><br/>\n",
       "Run page: <a href=\"https://app.wandb.ai/sayakpaul/reproducible-ml/runs/2taezqin\" target=\"_blank\">https://app.wandb.ai/sayakpaul/reproducible-ml/runs/2taezqin</a><br/>\n",
       "            "
      ],
      "text/plain": [
       "<IPython.core.display.HTML object>"
      ]
     },
     "metadata": {},
     "output_type": "display_data"
    },
    {
     "name": "stderr",
     "output_type": "stream",
     "text": [
      "Error generating diff: Reference at 'refs/remotes/origin/master' does not exist\n"
     ]
    },
    {
     "name": "stdout",
     "output_type": "stream",
     "text": [
      "Train on 60000 samples, validate on 10000 samples\n",
      "Epoch 1/15\n",
      "60000/60000 [==============================] - 2s 36us/sample - loss: 0.5257 - accuracy: 0.8180 - val_loss: 0.4436 - val_accuracy: 0.8460\n",
      "Epoch 2/15\n",
      "60000/60000 [==============================] - 1s 23us/sample - loss: 0.3913 - accuracy: 0.8607 - val_loss: 0.3942 - val_accuracy: 0.8611\n",
      "Epoch 3/15\n",
      "60000/60000 [==============================] - 1s 23us/sample - loss: 0.3493 - accuracy: 0.8747 - val_loss: 0.3751 - val_accuracy: 0.8612\n",
      "Epoch 4/15\n",
      "60000/60000 [==============================] - 1s 23us/sample - loss: 0.3207 - accuracy: 0.8842 - val_loss: 0.3597 - val_accuracy: 0.8716\n",
      "Epoch 5/15\n",
      "60000/60000 [==============================] - 1s 23us/sample - loss: 0.3072 - accuracy: 0.8881 - val_loss: 0.3488 - val_accuracy: 0.8747\n",
      "Epoch 6/15\n",
      "59648/60000 [============================>.] - ETA: 0s - loss: 0.2893 - accuracy: 0.8936Restoring model weights from the end of the best epoch.\n",
      "60000/60000 [==============================] - 1s 23us/sample - loss: 0.2888 - accuracy: 0.8938 - val_loss: 0.3519 - val_accuracy: 0.8749\n",
      "Epoch 00006: early stopping\n",
      "wandb: Agent Finished Run: 2taezqin \n",
      "\n",
      "wandb: Agent Starting Run: 9ljvhhqd with config:\n",
      "\tepochs: 15\n",
      "\tlearning_rate: 0.001\n",
      "\toptimizer: sgd\n",
      "wandb: Agent Started Run: 9ljvhhqd\n"
     ]
    },
    {
     "data": {
      "text/html": [
       "\n",
       "                Logging results to <a href=\"https://wandb.com\" target=\"_blank\">Weights & Biases</a> <a href=\"https://docs.wandb.com/integrations/jupyter.html\" target=\"_blank\">(Documentation)</a>.<br/>\n",
       "                Project page: <a href=\"https://app.wandb.ai/sayakpaul/reproducible-ml\" target=\"_blank\">https://app.wandb.ai/sayakpaul/reproducible-ml</a><br/>\n",
       "                Sweep page: <a href=\"https://app.wandb.ai/sayakpaul/reproducible-ml/sweeps/6t8t4d6s\" target=\"_blank\">https://app.wandb.ai/sayakpaul/reproducible-ml/sweeps/6t8t4d6s</a><br/>\n",
       "Run page: <a href=\"https://app.wandb.ai/sayakpaul/reproducible-ml/runs/9ljvhhqd\" target=\"_blank\">https://app.wandb.ai/sayakpaul/reproducible-ml/runs/9ljvhhqd</a><br/>\n",
       "            "
      ],
      "text/plain": [
       "<IPython.core.display.HTML object>"
      ]
     },
     "metadata": {},
     "output_type": "display_data"
    },
    {
     "name": "stderr",
     "output_type": "stream",
     "text": [
      "Error generating diff: Reference at 'refs/remotes/origin/master' does not exist\n"
     ]
    },
    {
     "name": "stdout",
     "output_type": "stream",
     "text": [
      "Train on 60000 samples, validate on 10000 samples\n",
      "Epoch 1/15\n",
      "60000/60000 [==============================] - 2s 34us/sample - loss: 1.0310 - accuracy: 0.6870 - val_loss: 0.7503 - val_accuracy: 0.7553\n",
      "Epoch 2/15\n",
      "60000/60000 [==============================] - 1s 23us/sample - loss: 0.6687 - accuracy: 0.7862 - val_loss: 0.6417 - val_accuracy: 0.7864\n",
      "Epoch 3/15\n",
      "60000/60000 [==============================] - 1s 22us/sample - loss: 0.5911 - accuracy: 0.8082 - val_loss: 0.5869 - val_accuracy: 0.8050\n",
      "Epoch 4/15\n",
      "60000/60000 [==============================] - 1s 23us/sample - loss: 0.5491 - accuracy: 0.8191 - val_loss: 0.5601 - val_accuracy: 0.8074\n",
      "Epoch 5/15\n",
      "60000/60000 [==============================] - 1s 22us/sample - loss: 0.5216 - accuracy: 0.8250 - val_loss: 0.5358 - val_accuracy: 0.8149\n",
      "Epoch 6/15\n",
      "60000/60000 [==============================] - 1s 22us/sample - loss: 0.5025 - accuracy: 0.8312 - val_loss: 0.5254 - val_accuracy: 0.8183\n",
      "Epoch 7/15\n",
      "60000/60000 [==============================] - 1s 23us/sample - loss: 0.4876 - accuracy: 0.8351 - val_loss: 0.5084 - val_accuracy: 0.8253\n",
      "Epoch 8/15\n",
      "60000/60000 [==============================] - 1s 22us/sample - loss: 0.4754 - accuracy: 0.8389 - val_loss: 0.4991 - val_accuracy: 0.8282\n",
      "Epoch 9/15\n",
      "60000/60000 [==============================] - 1s 23us/sample - loss: 0.4649 - accuracy: 0.8424 - val_loss: 0.4959 - val_accuracy: 0.8267\n",
      "Epoch 10/15\n",
      "60000/60000 [==============================] - 1s 22us/sample - loss: 0.4563 - accuracy: 0.8436 - val_loss: 0.4827 - val_accuracy: 0.8341\n",
      "Epoch 11/15\n",
      "60000/60000 [==============================] - 1s 23us/sample - loss: 0.4488 - accuracy: 0.8468 - val_loss: 0.4775 - val_accuracy: 0.8323\n",
      "Epoch 12/15\n",
      "60000/60000 [==============================] - 1s 22us/sample - loss: 0.4416 - accuracy: 0.8488 - val_loss: 0.4707 - val_accuracy: 0.8378\n",
      "Epoch 13/15\n",
      "60000/60000 [==============================] - 1s 23us/sample - loss: 0.4359 - accuracy: 0.8503 - val_loss: 0.4637 - val_accuracy: 0.8391\n",
      "Epoch 14/15\n",
      "59136/60000 [============================>.] - ETA: 0s - loss: 0.4306 - accuracy: 0.8511Restoring model weights from the end of the best epoch.\n",
      "60000/60000 [==============================] - 1s 23us/sample - loss: 0.4307 - accuracy: 0.8512 - val_loss: 0.4646 - val_accuracy: 0.8348\n",
      "Epoch 00014: early stopping\n",
      "wandb: Agent Finished Run: 9ljvhhqd \n",
      "\n",
      "wandb: Agent Starting Run: gnwal3sf with config:\n",
      "\tepochs: 20\n",
      "\tlearning_rate: 0.01\n",
      "\toptimizer: sgd\n",
      "wandb: Agent Started Run: gnwal3sf\n"
     ]
    },
    {
     "data": {
      "text/html": [
       "\n",
       "                Logging results to <a href=\"https://wandb.com\" target=\"_blank\">Weights & Biases</a> <a href=\"https://docs.wandb.com/integrations/jupyter.html\" target=\"_blank\">(Documentation)</a>.<br/>\n",
       "                Project page: <a href=\"https://app.wandb.ai/sayakpaul/reproducible-ml\" target=\"_blank\">https://app.wandb.ai/sayakpaul/reproducible-ml</a><br/>\n",
       "                Sweep page: <a href=\"https://app.wandb.ai/sayakpaul/reproducible-ml/sweeps/6t8t4d6s\" target=\"_blank\">https://app.wandb.ai/sayakpaul/reproducible-ml/sweeps/6t8t4d6s</a><br/>\n",
       "Run page: <a href=\"https://app.wandb.ai/sayakpaul/reproducible-ml/runs/gnwal3sf\" target=\"_blank\">https://app.wandb.ai/sayakpaul/reproducible-ml/runs/gnwal3sf</a><br/>\n",
       "            "
      ],
      "text/plain": [
       "<IPython.core.display.HTML object>"
      ]
     },
     "metadata": {},
     "output_type": "display_data"
    },
    {
     "name": "stderr",
     "output_type": "stream",
     "text": [
      "Error generating diff: Reference at 'refs/remotes/origin/master' does not exist\n"
     ]
    },
    {
     "name": "stdout",
     "output_type": "stream",
     "text": [
      "Train on 60000 samples, validate on 10000 samples\n",
      "Epoch 1/20\n",
      "60000/60000 [==============================] - 2s 34us/sample - loss: 1.0310 - accuracy: 0.6870 - val_loss: 0.7503 - val_accuracy: 0.7553\n",
      "Epoch 2/20\n",
      "60000/60000 [==============================] - 1s 23us/sample - loss: 0.6687 - accuracy: 0.7862 - val_loss: 0.6417 - val_accuracy: 0.7864\n",
      "Epoch 3/20\n",
      "60000/60000 [==============================] - 1s 22us/sample - loss: 0.5911 - accuracy: 0.8082 - val_loss: 0.5869 - val_accuracy: 0.8050\n",
      "Epoch 4/20\n",
      "60000/60000 [==============================] - 1s 22us/sample - loss: 0.5491 - accuracy: 0.8191 - val_loss: 0.5601 - val_accuracy: 0.8074\n",
      "Epoch 5/20\n",
      "60000/60000 [==============================] - 1s 23us/sample - loss: 0.5216 - accuracy: 0.8250 - val_loss: 0.5358 - val_accuracy: 0.8149\n",
      "Epoch 6/20\n",
      "60000/60000 [==============================] - 1s 22us/sample - loss: 0.5025 - accuracy: 0.8312 - val_loss: 0.5254 - val_accuracy: 0.8183\n",
      "Epoch 7/20\n",
      "60000/60000 [==============================] - 1s 23us/sample - loss: 0.4876 - accuracy: 0.8351 - val_loss: 0.5084 - val_accuracy: 0.8253\n",
      "Epoch 8/20\n",
      "60000/60000 [==============================] - 1s 22us/sample - loss: 0.4754 - accuracy: 0.8389 - val_loss: 0.4991 - val_accuracy: 0.8282\n",
      "Epoch 9/20\n",
      "60000/60000 [==============================] - 1s 23us/sample - loss: 0.4649 - accuracy: 0.8424 - val_loss: 0.4959 - val_accuracy: 0.8267\n",
      "Epoch 10/20\n",
      "60000/60000 [==============================] - 1s 22us/sample - loss: 0.4563 - accuracy: 0.8436 - val_loss: 0.4827 - val_accuracy: 0.8341\n",
      "Epoch 11/20\n",
      "60000/60000 [==============================] - 1s 24us/sample - loss: 0.4488 - accuracy: 0.8468 - val_loss: 0.4775 - val_accuracy: 0.8323\n",
      "Epoch 12/20\n",
      "60000/60000 [==============================] - 1s 23us/sample - loss: 0.4416 - accuracy: 0.8488 - val_loss: 0.4707 - val_accuracy: 0.8378\n",
      "Epoch 13/20\n",
      "60000/60000 [==============================] - 1s 24us/sample - loss: 0.4359 - accuracy: 0.8503 - val_loss: 0.4637 - val_accuracy: 0.8391\n",
      "Epoch 14/20\n",
      "59008/60000 [============================>.] - ETA: 0s - loss: 0.4304 - accuracy: 0.8510Restoring model weights from the end of the best epoch.\n",
      "60000/60000 [==============================] - 1s 22us/sample - loss: 0.4307 - accuracy: 0.8512 - val_loss: 0.4646 - val_accuracy: 0.8348\n",
      "Epoch 00014: early stopping\n",
      "wandb: Agent Finished Run: gnwal3sf \n",
      "\n",
      "wandb: Agent Starting Run: gubeyhz2 with config:\n",
      "\tepochs: 10\n",
      "\tlearning_rate: 0.001\n",
      "\toptimizer: adam\n",
      "wandb: Agent Started Run: gubeyhz2\n"
     ]
    },
    {
     "data": {
      "text/html": [
       "\n",
       "                Logging results to <a href=\"https://wandb.com\" target=\"_blank\">Weights & Biases</a> <a href=\"https://docs.wandb.com/integrations/jupyter.html\" target=\"_blank\">(Documentation)</a>.<br/>\n",
       "                Project page: <a href=\"https://app.wandb.ai/sayakpaul/reproducible-ml\" target=\"_blank\">https://app.wandb.ai/sayakpaul/reproducible-ml</a><br/>\n",
       "                Sweep page: <a href=\"https://app.wandb.ai/sayakpaul/reproducible-ml/sweeps/6t8t4d6s\" target=\"_blank\">https://app.wandb.ai/sayakpaul/reproducible-ml/sweeps/6t8t4d6s</a><br/>\n",
       "Run page: <a href=\"https://app.wandb.ai/sayakpaul/reproducible-ml/runs/gubeyhz2\" target=\"_blank\">https://app.wandb.ai/sayakpaul/reproducible-ml/runs/gubeyhz2</a><br/>\n",
       "            "
      ],
      "text/plain": [
       "<IPython.core.display.HTML object>"
      ]
     },
     "metadata": {},
     "output_type": "display_data"
    },
    {
     "name": "stderr",
     "output_type": "stream",
     "text": [
      "Error generating diff: Reference at 'refs/remotes/origin/master' does not exist\n"
     ]
    },
    {
     "name": "stdout",
     "output_type": "stream",
     "text": [
      "Train on 60000 samples, validate on 10000 samples\n",
      "Epoch 1/10\n",
      "60000/60000 [==============================] - 2s 36us/sample - loss: 0.5257 - accuracy: 0.8180 - val_loss: 0.4436 - val_accuracy: 0.8460\n",
      "Epoch 2/10\n",
      "60000/60000 [==============================] - 1s 24us/sample - loss: 0.3913 - accuracy: 0.8607 - val_loss: 0.3942 - val_accuracy: 0.8611\n",
      "Epoch 3/10\n",
      "60000/60000 [==============================] - 1s 23us/sample - loss: 0.3493 - accuracy: 0.8747 - val_loss: 0.3751 - val_accuracy: 0.8612\n",
      "Epoch 4/10\n",
      "60000/60000 [==============================] - 1s 24us/sample - loss: 0.3207 - accuracy: 0.8842 - val_loss: 0.3597 - val_accuracy: 0.8716\n",
      "Epoch 5/10\n",
      "60000/60000 [==============================] - 1s 23us/sample - loss: 0.3072 - accuracy: 0.8881 - val_loss: 0.3488 - val_accuracy: 0.8747\n",
      "Epoch 6/10\n",
      "59008/60000 [============================>.] - ETA: 0s - loss: 0.2888 - accuracy: 0.8937Restoring model weights from the end of the best epoch.\n",
      "60000/60000 [==============================] - 1s 23us/sample - loss: 0.2888 - accuracy: 0.8938 - val_loss: 0.3519 - val_accuracy: 0.8749\n",
      "Epoch 00006: early stopping\n",
      "wandb: Agent Finished Run: gubeyhz2 \n",
      "\n",
      "wandb: Agent Starting Run: s2ilxcz5 with config:\n",
      "\tepochs: 15\n",
      "\tlearning_rate: 1e-05\n",
      "\toptimizer: sgd\n",
      "wandb: Agent Started Run: s2ilxcz5\n"
     ]
    },
    {
     "data": {
      "text/html": [
       "\n",
       "                Logging results to <a href=\"https://wandb.com\" target=\"_blank\">Weights & Biases</a> <a href=\"https://docs.wandb.com/integrations/jupyter.html\" target=\"_blank\">(Documentation)</a>.<br/>\n",
       "                Project page: <a href=\"https://app.wandb.ai/sayakpaul/reproducible-ml\" target=\"_blank\">https://app.wandb.ai/sayakpaul/reproducible-ml</a><br/>\n",
       "                Sweep page: <a href=\"https://app.wandb.ai/sayakpaul/reproducible-ml/sweeps/6t8t4d6s\" target=\"_blank\">https://app.wandb.ai/sayakpaul/reproducible-ml/sweeps/6t8t4d6s</a><br/>\n",
       "Run page: <a href=\"https://app.wandb.ai/sayakpaul/reproducible-ml/runs/s2ilxcz5\" target=\"_blank\">https://app.wandb.ai/sayakpaul/reproducible-ml/runs/s2ilxcz5</a><br/>\n",
       "            "
      ],
      "text/plain": [
       "<IPython.core.display.HTML object>"
      ]
     },
     "metadata": {},
     "output_type": "display_data"
    },
    {
     "name": "stderr",
     "output_type": "stream",
     "text": [
      "Error generating diff: Reference at 'refs/remotes/origin/master' does not exist\n"
     ]
    },
    {
     "name": "stdout",
     "output_type": "stream",
     "text": [
      "Train on 60000 samples, validate on 10000 samples\n",
      "Epoch 1/15\n",
      "60000/60000 [==============================] - 2s 34us/sample - loss: 1.0310 - accuracy: 0.6870 - val_loss: 0.7503 - val_accuracy: 0.7553\n",
      "Epoch 2/15\n",
      "60000/60000 [==============================] - 1s 23us/sample - loss: 0.6687 - accuracy: 0.7862 - val_loss: 0.6417 - val_accuracy: 0.7864\n",
      "Epoch 3/15\n",
      "60000/60000 [==============================] - 1s 22us/sample - loss: 0.5911 - accuracy: 0.8082 - val_loss: 0.5869 - val_accuracy: 0.8050\n",
      "Epoch 4/15\n",
      "60000/60000 [==============================] - 1s 22us/sample - loss: 0.5491 - accuracy: 0.8191 - val_loss: 0.5601 - val_accuracy: 0.8074\n",
      "Epoch 5/15\n",
      "60000/60000 [==============================] - 1s 22us/sample - loss: 0.5216 - accuracy: 0.8250 - val_loss: 0.5358 - val_accuracy: 0.8149\n",
      "Epoch 6/15\n",
      "60000/60000 [==============================] - 1s 22us/sample - loss: 0.5025 - accuracy: 0.8312 - val_loss: 0.5254 - val_accuracy: 0.8183\n",
      "Epoch 7/15\n",
      "60000/60000 [==============================] - 1s 23us/sample - loss: 0.4876 - accuracy: 0.8351 - val_loss: 0.5084 - val_accuracy: 0.8253\n",
      "Epoch 8/15\n",
      "60000/60000 [==============================] - 1s 22us/sample - loss: 0.4754 - accuracy: 0.8389 - val_loss: 0.4991 - val_accuracy: 0.8282\n",
      "Epoch 9/15\n",
      "60000/60000 [==============================] - 1s 23us/sample - loss: 0.4649 - accuracy: 0.8424 - val_loss: 0.4959 - val_accuracy: 0.8267\n",
      "Epoch 10/15\n",
      "60000/60000 [==============================] - 1s 22us/sample - loss: 0.4563 - accuracy: 0.8436 - val_loss: 0.4827 - val_accuracy: 0.8341\n",
      "Epoch 11/15\n",
      "60000/60000 [==============================] - 1s 22us/sample - loss: 0.4488 - accuracy: 0.8468 - val_loss: 0.4775 - val_accuracy: 0.8323\n",
      "Epoch 12/15\n",
      "60000/60000 [==============================] - 1s 22us/sample - loss: 0.4416 - accuracy: 0.8488 - val_loss: 0.4707 - val_accuracy: 0.8378\n",
      "Epoch 13/15\n",
      "60000/60000 [==============================] - 1s 22us/sample - loss: 0.4359 - accuracy: 0.8503 - val_loss: 0.4637 - val_accuracy: 0.8391\n",
      "Epoch 14/15\n",
      "59264/60000 [============================>.] - ETA: 0s - loss: 0.4307 - accuracy: 0.8512Restoring model weights from the end of the best epoch.\n",
      "60000/60000 [==============================] - 1s 22us/sample - loss: 0.4307 - accuracy: 0.8512 - val_loss: 0.4646 - val_accuracy: 0.8348\n",
      "Epoch 00014: early stopping\n",
      "wandb: Agent Finished Run: s2ilxcz5 \n",
      "\n",
      "wandb: Agent Starting Run: ppg65qeg with config:\n",
      "\tepochs: 15\n",
      "\tlearning_rate: 0.0001\n",
      "\toptimizer: adam\n",
      "wandb: Agent Started Run: ppg65qeg\n"
     ]
    },
    {
     "data": {
      "text/html": [
       "\n",
       "                Logging results to <a href=\"https://wandb.com\" target=\"_blank\">Weights & Biases</a> <a href=\"https://docs.wandb.com/integrations/jupyter.html\" target=\"_blank\">(Documentation)</a>.<br/>\n",
       "                Project page: <a href=\"https://app.wandb.ai/sayakpaul/reproducible-ml\" target=\"_blank\">https://app.wandb.ai/sayakpaul/reproducible-ml</a><br/>\n",
       "                Sweep page: <a href=\"https://app.wandb.ai/sayakpaul/reproducible-ml/sweeps/6t8t4d6s\" target=\"_blank\">https://app.wandb.ai/sayakpaul/reproducible-ml/sweeps/6t8t4d6s</a><br/>\n",
       "Run page: <a href=\"https://app.wandb.ai/sayakpaul/reproducible-ml/runs/ppg65qeg\" target=\"_blank\">https://app.wandb.ai/sayakpaul/reproducible-ml/runs/ppg65qeg</a><br/>\n",
       "            "
      ],
      "text/plain": [
       "<IPython.core.display.HTML object>"
      ]
     },
     "metadata": {},
     "output_type": "display_data"
    },
    {
     "name": "stderr",
     "output_type": "stream",
     "text": [
      "Error generating diff: Reference at 'refs/remotes/origin/master' does not exist\n"
     ]
    },
    {
     "name": "stdout",
     "output_type": "stream",
     "text": [
      "Train on 60000 samples, validate on 10000 samples\n",
      "Epoch 1/15\n",
      "60000/60000 [==============================] - 2s 39us/sample - loss: 0.5257 - accuracy: 0.8180 - val_loss: 0.4436 - val_accuracy: 0.8460\n",
      "Epoch 2/15\n",
      "60000/60000 [==============================] - 2s 26us/sample - loss: 0.3913 - accuracy: 0.8607 - val_loss: 0.3942 - val_accuracy: 0.8611\n",
      "Epoch 3/15\n",
      "60000/60000 [==============================] - 1s 23us/sample - loss: 0.3493 - accuracy: 0.8747 - val_loss: 0.3751 - val_accuracy: 0.8612\n",
      "Epoch 4/15\n",
      "60000/60000 [==============================] - 1s 24us/sample - loss: 0.3207 - accuracy: 0.8842 - val_loss: 0.3597 - val_accuracy: 0.8716\n",
      "Epoch 5/15\n",
      "60000/60000 [==============================] - 1s 23us/sample - loss: 0.3072 - accuracy: 0.8881 - val_loss: 0.3488 - val_accuracy: 0.8747\n",
      "Epoch 6/15\n",
      "57728/60000 [===========================>..] - ETA: 0s - loss: 0.2888 - accuracy: 0.8937Restoring model weights from the end of the best epoch.\n",
      "60000/60000 [==============================] - 1s 23us/sample - loss: 0.2888 - accuracy: 0.8938 - val_loss: 0.3519 - val_accuracy: 0.8749\n",
      "Epoch 00006: early stopping\n",
      "wandb: Agent Finished Run: ppg65qeg \n",
      "\n",
      "wandb: Agent Starting Run: m2d1t1g2 with config:\n",
      "\tepochs: 20\n",
      "\tlearning_rate: 3e-05\n",
      "\toptimizer: sgd\n",
      "wandb: Agent Started Run: m2d1t1g2\n"
     ]
    },
    {
     "data": {
      "text/html": [
       "\n",
       "                Logging results to <a href=\"https://wandb.com\" target=\"_blank\">Weights & Biases</a> <a href=\"https://docs.wandb.com/integrations/jupyter.html\" target=\"_blank\">(Documentation)</a>.<br/>\n",
       "                Project page: <a href=\"https://app.wandb.ai/sayakpaul/reproducible-ml\" target=\"_blank\">https://app.wandb.ai/sayakpaul/reproducible-ml</a><br/>\n",
       "                Sweep page: <a href=\"https://app.wandb.ai/sayakpaul/reproducible-ml/sweeps/6t8t4d6s\" target=\"_blank\">https://app.wandb.ai/sayakpaul/reproducible-ml/sweeps/6t8t4d6s</a><br/>\n",
       "Run page: <a href=\"https://app.wandb.ai/sayakpaul/reproducible-ml/runs/m2d1t1g2\" target=\"_blank\">https://app.wandb.ai/sayakpaul/reproducible-ml/runs/m2d1t1g2</a><br/>\n",
       "            "
      ],
      "text/plain": [
       "<IPython.core.display.HTML object>"
      ]
     },
     "metadata": {},
     "output_type": "display_data"
    },
    {
     "name": "stderr",
     "output_type": "stream",
     "text": [
      "Error generating diff: Reference at 'refs/remotes/origin/master' does not exist\n"
     ]
    },
    {
     "name": "stdout",
     "output_type": "stream",
     "text": [
      "Train on 60000 samples, validate on 10000 samples\n",
      "Epoch 1/20\n",
      "60000/60000 [==============================] - 2s 34us/sample - loss: 1.0310 - accuracy: 0.6870 - val_loss: 0.7503 - val_accuracy: 0.7553\n",
      "Epoch 2/20\n",
      "60000/60000 [==============================] - 1s 23us/sample - loss: 0.6687 - accuracy: 0.7862 - val_loss: 0.6417 - val_accuracy: 0.7864\n",
      "Epoch 3/20\n",
      "60000/60000 [==============================] - 1s 22us/sample - loss: 0.5911 - accuracy: 0.8082 - val_loss: 0.5869 - val_accuracy: 0.8050\n",
      "Epoch 4/20\n",
      "60000/60000 [==============================] - 1s 23us/sample - loss: 0.5491 - accuracy: 0.8191 - val_loss: 0.5601 - val_accuracy: 0.8074\n",
      "Epoch 5/20\n",
      "60000/60000 [==============================] - 1s 23us/sample - loss: 0.5216 - accuracy: 0.8250 - val_loss: 0.5358 - val_accuracy: 0.8149\n",
      "Epoch 6/20\n",
      "60000/60000 [==============================] - 1s 23us/sample - loss: 0.5025 - accuracy: 0.8312 - val_loss: 0.5254 - val_accuracy: 0.8183\n",
      "Epoch 7/20\n",
      "60000/60000 [==============================] - 1s 23us/sample - loss: 0.4876 - accuracy: 0.8351 - val_loss: 0.5084 - val_accuracy: 0.8253\n",
      "Epoch 8/20\n",
      "60000/60000 [==============================] - 1s 23us/sample - loss: 0.4754 - accuracy: 0.8389 - val_loss: 0.4991 - val_accuracy: 0.8282\n",
      "Epoch 9/20\n",
      "60000/60000 [==============================] - 1s 23us/sample - loss: 0.4649 - accuracy: 0.8424 - val_loss: 0.4959 - val_accuracy: 0.8267\n",
      "Epoch 10/20\n",
      "60000/60000 [==============================] - 1s 22us/sample - loss: 0.4563 - accuracy: 0.8436 - val_loss: 0.4827 - val_accuracy: 0.8341\n",
      "Epoch 11/20\n",
      "60000/60000 [==============================] - 1s 23us/sample - loss: 0.4488 - accuracy: 0.8468 - val_loss: 0.4775 - val_accuracy: 0.8323\n",
      "Epoch 12/20\n",
      "60000/60000 [==============================] - 1s 22us/sample - loss: 0.4416 - accuracy: 0.8488 - val_loss: 0.4707 - val_accuracy: 0.8378\n",
      "Epoch 13/20\n",
      "60000/60000 [==============================] - 1s 23us/sample - loss: 0.4359 - accuracy: 0.8503 - val_loss: 0.4637 - val_accuracy: 0.8391\n",
      "Epoch 14/20\n",
      "58752/60000 [============================>.] - ETA: 0s - loss: 0.4304 - accuracy: 0.8510Restoring model weights from the end of the best epoch.\n",
      "60000/60000 [==============================] - 1s 22us/sample - loss: 0.4307 - accuracy: 0.8512 - val_loss: 0.4646 - val_accuracy: 0.8348\n",
      "Epoch 00014: early stopping\n",
      "wandb: Agent Finished Run: m2d1t1g2 \n",
      "\n",
      "wandb: Agent Starting Run: qi799k9g with config:\n",
      "\tepochs: 20\n",
      "\tlearning_rate: 0.0003\n",
      "\toptimizer: adam\n",
      "wandb: Agent Started Run: qi799k9g\n"
     ]
    },
    {
     "data": {
      "text/html": [
       "\n",
       "                Logging results to <a href=\"https://wandb.com\" target=\"_blank\">Weights & Biases</a> <a href=\"https://docs.wandb.com/integrations/jupyter.html\" target=\"_blank\">(Documentation)</a>.<br/>\n",
       "                Project page: <a href=\"https://app.wandb.ai/sayakpaul/reproducible-ml\" target=\"_blank\">https://app.wandb.ai/sayakpaul/reproducible-ml</a><br/>\n",
       "                Sweep page: <a href=\"https://app.wandb.ai/sayakpaul/reproducible-ml/sweeps/6t8t4d6s\" target=\"_blank\">https://app.wandb.ai/sayakpaul/reproducible-ml/sweeps/6t8t4d6s</a><br/>\n",
       "Run page: <a href=\"https://app.wandb.ai/sayakpaul/reproducible-ml/runs/qi799k9g\" target=\"_blank\">https://app.wandb.ai/sayakpaul/reproducible-ml/runs/qi799k9g</a><br/>\n",
       "            "
      ],
      "text/plain": [
       "<IPython.core.display.HTML object>"
      ]
     },
     "metadata": {},
     "output_type": "display_data"
    },
    {
     "name": "stderr",
     "output_type": "stream",
     "text": [
      "Error generating diff: Reference at 'refs/remotes/origin/master' does not exist\n"
     ]
    },
    {
     "name": "stdout",
     "output_type": "stream",
     "text": [
      "Train on 60000 samples, validate on 10000 samples\n",
      "Epoch 1/20\n",
      "60000/60000 [==============================] - 2s 35us/sample - loss: 0.5257 - accuracy: 0.8180 - val_loss: 0.4436 - val_accuracy: 0.8460\n",
      "Epoch 2/20\n",
      "60000/60000 [==============================] - 1s 24us/sample - loss: 0.3913 - accuracy: 0.8607 - val_loss: 0.3942 - val_accuracy: 0.8611\n",
      "Epoch 3/20\n",
      "60000/60000 [==============================] - 1s 23us/sample - loss: 0.3493 - accuracy: 0.8747 - val_loss: 0.3751 - val_accuracy: 0.8612\n",
      "Epoch 4/20\n",
      "60000/60000 [==============================] - 1s 24us/sample - loss: 0.3207 - accuracy: 0.8842 - val_loss: 0.3597 - val_accuracy: 0.8716\n",
      "Epoch 5/20\n",
      "60000/60000 [==============================] - 1s 23us/sample - loss: 0.3072 - accuracy: 0.8881 - val_loss: 0.3488 - val_accuracy: 0.8747\n",
      "Epoch 6/20\n",
      "57472/60000 [===========================>..] - ETA: 0s - loss: 0.2887 - accuracy: 0.8938Restoring model weights from the end of the best epoch.\n",
      "60000/60000 [==============================] - 1s 22us/sample - loss: 0.2888 - accuracy: 0.8938 - val_loss: 0.3519 - val_accuracy: 0.8749\n",
      "Epoch 00006: early stopping\n",
      "wandb: Agent Finished Run: qi799k9g \n",
      "\n",
      "wandb: Agent Starting Run: f72omsy6 with config:\n",
      "\tepochs: 10\n",
      "\tlearning_rate: 0.0003\n",
      "\toptimizer: sgd\n",
      "wandb: Agent Started Run: f72omsy6\n"
     ]
    },
    {
     "data": {
      "text/html": [
       "\n",
       "                Logging results to <a href=\"https://wandb.com\" target=\"_blank\">Weights & Biases</a> <a href=\"https://docs.wandb.com/integrations/jupyter.html\" target=\"_blank\">(Documentation)</a>.<br/>\n",
       "                Project page: <a href=\"https://app.wandb.ai/sayakpaul/reproducible-ml\" target=\"_blank\">https://app.wandb.ai/sayakpaul/reproducible-ml</a><br/>\n",
       "                Sweep page: <a href=\"https://app.wandb.ai/sayakpaul/reproducible-ml/sweeps/6t8t4d6s\" target=\"_blank\">https://app.wandb.ai/sayakpaul/reproducible-ml/sweeps/6t8t4d6s</a><br/>\n",
       "Run page: <a href=\"https://app.wandb.ai/sayakpaul/reproducible-ml/runs/f72omsy6\" target=\"_blank\">https://app.wandb.ai/sayakpaul/reproducible-ml/runs/f72omsy6</a><br/>\n",
       "            "
      ],
      "text/plain": [
       "<IPython.core.display.HTML object>"
      ]
     },
     "metadata": {},
     "output_type": "display_data"
    },
    {
     "name": "stderr",
     "output_type": "stream",
     "text": [
      "Error generating diff: Reference at 'refs/remotes/origin/master' does not exist\n"
     ]
    },
    {
     "name": "stdout",
     "output_type": "stream",
     "text": [
      "Train on 60000 samples, validate on 10000 samples\n",
      "Epoch 1/10\n",
      "60000/60000 [==============================] - 2s 34us/sample - loss: 1.0310 - accuracy: 0.6870 - val_loss: 0.7503 - val_accuracy: 0.7553\n",
      "Epoch 2/10\n",
      "60000/60000 [==============================] - 1s 23us/sample - loss: 0.6687 - accuracy: 0.7862 - val_loss: 0.6417 - val_accuracy: 0.7864\n",
      "Epoch 3/10\n",
      "60000/60000 [==============================] - 1s 22us/sample - loss: 0.5911 - accuracy: 0.8082 - val_loss: 0.5869 - val_accuracy: 0.8050\n",
      "Epoch 4/10\n",
      "60000/60000 [==============================] - 1s 22us/sample - loss: 0.5491 - accuracy: 0.8191 - val_loss: 0.5601 - val_accuracy: 0.8074\n",
      "Epoch 5/10\n",
      "60000/60000 [==============================] - 1s 23us/sample - loss: 0.5216 - accuracy: 0.8250 - val_loss: 0.5358 - val_accuracy: 0.8149\n",
      "Epoch 6/10\n",
      "60000/60000 [==============================] - 1s 22us/sample - loss: 0.5025 - accuracy: 0.8312 - val_loss: 0.5254 - val_accuracy: 0.8183\n",
      "Epoch 7/10\n",
      "60000/60000 [==============================] - 1s 23us/sample - loss: 0.4876 - accuracy: 0.8351 - val_loss: 0.5084 - val_accuracy: 0.8253\n",
      "Epoch 8/10\n",
      "60000/60000 [==============================] - 1s 22us/sample - loss: 0.4754 - accuracy: 0.8389 - val_loss: 0.4991 - val_accuracy: 0.8282\n",
      "Epoch 9/10\n",
      "60000/60000 [==============================] - 1s 23us/sample - loss: 0.4649 - accuracy: 0.8424 - val_loss: 0.4959 - val_accuracy: 0.8267\n",
      "Epoch 10/10\n",
      "60000/60000 [==============================] - 1s 23us/sample - loss: 0.4563 - accuracy: 0.8436 - val_loss: 0.4827 - val_accuracy: 0.8341\n",
      "wandb: Agent Finished Run: f72omsy6 \n",
      "\n",
      "wandb: Agent Starting Run: bjv8dhni with config:\n",
      "\tepochs: 15\n",
      "\tlearning_rate: 0.0003\n",
      "\toptimizer: adam\n",
      "wandb: Agent Started Run: bjv8dhni\n"
     ]
    },
    {
     "data": {
      "text/html": [
       "\n",
       "                Logging results to <a href=\"https://wandb.com\" target=\"_blank\">Weights & Biases</a> <a href=\"https://docs.wandb.com/integrations/jupyter.html\" target=\"_blank\">(Documentation)</a>.<br/>\n",
       "                Project page: <a href=\"https://app.wandb.ai/sayakpaul/reproducible-ml\" target=\"_blank\">https://app.wandb.ai/sayakpaul/reproducible-ml</a><br/>\n",
       "                Sweep page: <a href=\"https://app.wandb.ai/sayakpaul/reproducible-ml/sweeps/6t8t4d6s\" target=\"_blank\">https://app.wandb.ai/sayakpaul/reproducible-ml/sweeps/6t8t4d6s</a><br/>\n",
       "Run page: <a href=\"https://app.wandb.ai/sayakpaul/reproducible-ml/runs/bjv8dhni\" target=\"_blank\">https://app.wandb.ai/sayakpaul/reproducible-ml/runs/bjv8dhni</a><br/>\n",
       "            "
      ],
      "text/plain": [
       "<IPython.core.display.HTML object>"
      ]
     },
     "metadata": {},
     "output_type": "display_data"
    },
    {
     "name": "stderr",
     "output_type": "stream",
     "text": [
      "Error generating diff: Reference at 'refs/remotes/origin/master' does not exist\n"
     ]
    },
    {
     "name": "stdout",
     "output_type": "stream",
     "text": [
      "Train on 60000 samples, validate on 10000 samples\n",
      "Epoch 1/15\n",
      "60000/60000 [==============================] - 2s 35us/sample - loss: 0.5257 - accuracy: 0.8180 - val_loss: 0.4436 - val_accuracy: 0.8460\n",
      "Epoch 2/15\n",
      "60000/60000 [==============================] - 1s 24us/sample - loss: 0.3913 - accuracy: 0.8607 - val_loss: 0.3942 - val_accuracy: 0.8611\n",
      "Epoch 3/15\n",
      "60000/60000 [==============================] - 1s 23us/sample - loss: 0.3493 - accuracy: 0.8747 - val_loss: 0.3751 - val_accuracy: 0.8612\n",
      "Epoch 4/15\n",
      "60000/60000 [==============================] - 1s 24us/sample - loss: 0.3207 - accuracy: 0.8842 - val_loss: 0.3597 - val_accuracy: 0.8716\n",
      "Epoch 5/15\n",
      "60000/60000 [==============================] - 1s 23us/sample - loss: 0.3072 - accuracy: 0.8881 - val_loss: 0.3488 - val_accuracy: 0.8747\n",
      "Epoch 6/15\n",
      "59776/60000 [============================>.] - ETA: 0s - loss: 0.2891 - accuracy: 0.8936Restoring model weights from the end of the best epoch.\n",
      "60000/60000 [==============================] - 1s 23us/sample - loss: 0.2888 - accuracy: 0.8938 - val_loss: 0.3519 - val_accuracy: 0.8749\n",
      "Epoch 00006: early stopping\n",
      "wandb: Agent Finished Run: bjv8dhni \n",
      "\n",
      "wandb: Agent Starting Run: 6o2811wv with config:\n",
      "\tepochs: 10\n",
      "\tlearning_rate: 0.0003\n",
      "\toptimizer: adam\n",
      "wandb: Agent Started Run: 6o2811wv\n"
     ]
    },
    {
     "data": {
      "text/html": [
       "\n",
       "                Logging results to <a href=\"https://wandb.com\" target=\"_blank\">Weights & Biases</a> <a href=\"https://docs.wandb.com/integrations/jupyter.html\" target=\"_blank\">(Documentation)</a>.<br/>\n",
       "                Project page: <a href=\"https://app.wandb.ai/sayakpaul/reproducible-ml\" target=\"_blank\">https://app.wandb.ai/sayakpaul/reproducible-ml</a><br/>\n",
       "                Sweep page: <a href=\"https://app.wandb.ai/sayakpaul/reproducible-ml/sweeps/6t8t4d6s\" target=\"_blank\">https://app.wandb.ai/sayakpaul/reproducible-ml/sweeps/6t8t4d6s</a><br/>\n",
       "Run page: <a href=\"https://app.wandb.ai/sayakpaul/reproducible-ml/runs/6o2811wv\" target=\"_blank\">https://app.wandb.ai/sayakpaul/reproducible-ml/runs/6o2811wv</a><br/>\n",
       "            "
      ],
      "text/plain": [
       "<IPython.core.display.HTML object>"
      ]
     },
     "metadata": {},
     "output_type": "display_data"
    },
    {
     "name": "stderr",
     "output_type": "stream",
     "text": [
      "Error generating diff: Reference at 'refs/remotes/origin/master' does not exist\n"
     ]
    },
    {
     "name": "stdout",
     "output_type": "stream",
     "text": [
      "Train on 60000 samples, validate on 10000 samples\n",
      "Epoch 1/10\n",
      "60000/60000 [==============================] - 2s 35us/sample - loss: 0.5257 - accuracy: 0.8180 - val_loss: 0.4436 - val_accuracy: 0.8460\n",
      "Epoch 2/10\n",
      "60000/60000 [==============================] - 1s 23us/sample - loss: 0.3913 - accuracy: 0.8607 - val_loss: 0.3942 - val_accuracy: 0.8611\n",
      "Epoch 3/10\n",
      "60000/60000 [==============================] - 1s 23us/sample - loss: 0.3493 - accuracy: 0.8747 - val_loss: 0.3751 - val_accuracy: 0.8612\n",
      "Epoch 4/10\n",
      "60000/60000 [==============================] - 1s 23us/sample - loss: 0.3207 - accuracy: 0.8842 - val_loss: 0.3597 - val_accuracy: 0.8716\n",
      "Epoch 5/10\n",
      "60000/60000 [==============================] - 1s 23us/sample - loss: 0.3072 - accuracy: 0.8881 - val_loss: 0.3488 - val_accuracy: 0.8747\n",
      "Epoch 6/10\n",
      "59264/60000 [============================>.] - ETA: 0s - loss: 0.2890 - accuracy: 0.8936Restoring model weights from the end of the best epoch.\n",
      "60000/60000 [==============================] - 1s 23us/sample - loss: 0.2888 - accuracy: 0.8938 - val_loss: 0.3519 - val_accuracy: 0.8749\n",
      "Epoch 00006: early stopping\n",
      "wandb: Agent Finished Run: 6o2811wv \n",
      "\n",
      "wandb: Agent Starting Run: 0x6fc6gk with config:\n",
      "\tepochs: 10\n",
      "\tlearning_rate: 0.001\n",
      "\toptimizer: sgd\n",
      "wandb: Agent Started Run: 0x6fc6gk\n"
     ]
    },
    {
     "data": {
      "text/html": [
       "\n",
       "                Logging results to <a href=\"https://wandb.com\" target=\"_blank\">Weights & Biases</a> <a href=\"https://docs.wandb.com/integrations/jupyter.html\" target=\"_blank\">(Documentation)</a>.<br/>\n",
       "                Project page: <a href=\"https://app.wandb.ai/sayakpaul/reproducible-ml\" target=\"_blank\">https://app.wandb.ai/sayakpaul/reproducible-ml</a><br/>\n",
       "                Sweep page: <a href=\"https://app.wandb.ai/sayakpaul/reproducible-ml/sweeps/6t8t4d6s\" target=\"_blank\">https://app.wandb.ai/sayakpaul/reproducible-ml/sweeps/6t8t4d6s</a><br/>\n",
       "Run page: <a href=\"https://app.wandb.ai/sayakpaul/reproducible-ml/runs/0x6fc6gk\" target=\"_blank\">https://app.wandb.ai/sayakpaul/reproducible-ml/runs/0x6fc6gk</a><br/>\n",
       "            "
      ],
      "text/plain": [
       "<IPython.core.display.HTML object>"
      ]
     },
     "metadata": {},
     "output_type": "display_data"
    },
    {
     "name": "stderr",
     "output_type": "stream",
     "text": [
      "Error generating diff: Reference at 'refs/remotes/origin/master' does not exist\n"
     ]
    },
    {
     "name": "stdout",
     "output_type": "stream",
     "text": [
      "Train on 60000 samples, validate on 10000 samples\n",
      "Epoch 1/10\n",
      "60000/60000 [==============================] - 2s 34us/sample - loss: 1.0310 - accuracy: 0.6870 - val_loss: 0.7503 - val_accuracy: 0.7553\n",
      "Epoch 2/10\n",
      "60000/60000 [==============================] - 1s 23us/sample - loss: 0.6687 - accuracy: 0.7862 - val_loss: 0.6417 - val_accuracy: 0.7864\n",
      "Epoch 3/10\n",
      "60000/60000 [==============================] - 1s 23us/sample - loss: 0.5911 - accuracy: 0.8082 - val_loss: 0.5869 - val_accuracy: 0.8050\n",
      "Epoch 4/10\n",
      "60000/60000 [==============================] - 1s 22us/sample - loss: 0.5491 - accuracy: 0.8191 - val_loss: 0.5601 - val_accuracy: 0.8074\n",
      "Epoch 5/10\n",
      "60000/60000 [==============================] - 1s 23us/sample - loss: 0.5216 - accuracy: 0.8250 - val_loss: 0.5358 - val_accuracy: 0.8149\n",
      "Epoch 6/10\n",
      "60000/60000 [==============================] - 1s 22us/sample - loss: 0.5025 - accuracy: 0.8312 - val_loss: 0.5254 - val_accuracy: 0.8183\n",
      "Epoch 7/10\n",
      "60000/60000 [==============================] - 1s 23us/sample - loss: 0.4876 - accuracy: 0.8351 - val_loss: 0.5084 - val_accuracy: 0.8253\n",
      "Epoch 8/10\n",
      "60000/60000 [==============================] - 1s 23us/sample - loss: 0.4754 - accuracy: 0.8389 - val_loss: 0.4991 - val_accuracy: 0.8282\n",
      "Epoch 9/10\n",
      "60000/60000 [==============================] - 1s 23us/sample - loss: 0.4649 - accuracy: 0.8424 - val_loss: 0.4959 - val_accuracy: 0.8267\n",
      "Epoch 10/10\n",
      "60000/60000 [==============================] - 1s 22us/sample - loss: 0.4563 - accuracy: 0.8436 - val_loss: 0.4827 - val_accuracy: 0.8341\n",
      "wandb: Agent Finished Run: 0x6fc6gk \n",
      "\n",
      "wandb: Agent Starting Run: yu0gk7r4 with config:\n",
      "\tepochs: 10\n",
      "\tlearning_rate: 0.01\n",
      "\toptimizer: sgd\n",
      "wandb: Agent Started Run: yu0gk7r4\n"
     ]
    },
    {
     "data": {
      "text/html": [
       "\n",
       "                Logging results to <a href=\"https://wandb.com\" target=\"_blank\">Weights & Biases</a> <a href=\"https://docs.wandb.com/integrations/jupyter.html\" target=\"_blank\">(Documentation)</a>.<br/>\n",
       "                Project page: <a href=\"https://app.wandb.ai/sayakpaul/reproducible-ml\" target=\"_blank\">https://app.wandb.ai/sayakpaul/reproducible-ml</a><br/>\n",
       "                Sweep page: <a href=\"https://app.wandb.ai/sayakpaul/reproducible-ml/sweeps/6t8t4d6s\" target=\"_blank\">https://app.wandb.ai/sayakpaul/reproducible-ml/sweeps/6t8t4d6s</a><br/>\n",
       "Run page: <a href=\"https://app.wandb.ai/sayakpaul/reproducible-ml/runs/yu0gk7r4\" target=\"_blank\">https://app.wandb.ai/sayakpaul/reproducible-ml/runs/yu0gk7r4</a><br/>\n",
       "            "
      ],
      "text/plain": [
       "<IPython.core.display.HTML object>"
      ]
     },
     "metadata": {},
     "output_type": "display_data"
    },
    {
     "name": "stderr",
     "output_type": "stream",
     "text": [
      "Error generating diff: Reference at 'refs/remotes/origin/master' does not exist\n"
     ]
    },
    {
     "name": "stdout",
     "output_type": "stream",
     "text": [
      "Train on 60000 samples, validate on 10000 samples\n",
      "Epoch 1/10\n",
      "60000/60000 [==============================] - 2s 34us/sample - loss: 1.0310 - accuracy: 0.6870 - val_loss: 0.7503 - val_accuracy: 0.7553\n",
      "Epoch 2/10\n",
      "60000/60000 [==============================] - 1s 23us/sample - loss: 0.6687 - accuracy: 0.7862 - val_loss: 0.6417 - val_accuracy: 0.7864\n",
      "Epoch 3/10\n",
      "60000/60000 [==============================] - 1s 22us/sample - loss: 0.5911 - accuracy: 0.8082 - val_loss: 0.5869 - val_accuracy: 0.8050\n",
      "Epoch 4/10\n",
      "60000/60000 [==============================] - 1s 23us/sample - loss: 0.5491 - accuracy: 0.8191 - val_loss: 0.5601 - val_accuracy: 0.8074\n",
      "Epoch 5/10\n",
      "60000/60000 [==============================] - 1s 23us/sample - loss: 0.5216 - accuracy: 0.8250 - val_loss: 0.5358 - val_accuracy: 0.8149\n",
      "Epoch 6/10\n",
      "60000/60000 [==============================] - 1s 23us/sample - loss: 0.5025 - accuracy: 0.8312 - val_loss: 0.5254 - val_accuracy: 0.8183\n",
      "Epoch 7/10\n",
      "60000/60000 [==============================] - 1s 23us/sample - loss: 0.4876 - accuracy: 0.8351 - val_loss: 0.5084 - val_accuracy: 0.8253\n",
      "Epoch 8/10\n",
      "60000/60000 [==============================] - 1s 23us/sample - loss: 0.4754 - accuracy: 0.8389 - val_loss: 0.4991 - val_accuracy: 0.8282\n",
      "Epoch 9/10\n",
      "60000/60000 [==============================] - 1s 23us/sample - loss: 0.4649 - accuracy: 0.8424 - val_loss: 0.4959 - val_accuracy: 0.8267\n",
      "Epoch 10/10\n",
      "60000/60000 [==============================] - 1s 22us/sample - loss: 0.4563 - accuracy: 0.8436 - val_loss: 0.4827 - val_accuracy: 0.8341\n",
      "wandb: Agent Finished Run: yu0gk7r4 \n",
      "\n",
      "wandb: Agent Starting Run: marwqr4d with config:\n",
      "\tepochs: 15\n",
      "\tlearning_rate: 0.0003\n",
      "\toptimizer: adam\n",
      "wandb: Agent Started Run: marwqr4d\n"
     ]
    },
    {
     "data": {
      "text/html": [
       "\n",
       "                Logging results to <a href=\"https://wandb.com\" target=\"_blank\">Weights & Biases</a> <a href=\"https://docs.wandb.com/integrations/jupyter.html\" target=\"_blank\">(Documentation)</a>.<br/>\n",
       "                Project page: <a href=\"https://app.wandb.ai/sayakpaul/reproducible-ml\" target=\"_blank\">https://app.wandb.ai/sayakpaul/reproducible-ml</a><br/>\n",
       "                Sweep page: <a href=\"https://app.wandb.ai/sayakpaul/reproducible-ml/sweeps/6t8t4d6s\" target=\"_blank\">https://app.wandb.ai/sayakpaul/reproducible-ml/sweeps/6t8t4d6s</a><br/>\n",
       "Run page: <a href=\"https://app.wandb.ai/sayakpaul/reproducible-ml/runs/marwqr4d\" target=\"_blank\">https://app.wandb.ai/sayakpaul/reproducible-ml/runs/marwqr4d</a><br/>\n",
       "            "
      ],
      "text/plain": [
       "<IPython.core.display.HTML object>"
      ]
     },
     "metadata": {},
     "output_type": "display_data"
    },
    {
     "name": "stderr",
     "output_type": "stream",
     "text": [
      "Error generating diff: Reference at 'refs/remotes/origin/master' does not exist\n"
     ]
    },
    {
     "name": "stdout",
     "output_type": "stream",
     "text": [
      "Train on 60000 samples, validate on 10000 samples\n",
      "Epoch 1/15\n",
      "60000/60000 [==============================] - 2s 36us/sample - loss: 0.5257 - accuracy: 0.8180 - val_loss: 0.4436 - val_accuracy: 0.8460\n",
      "Epoch 2/15\n",
      "60000/60000 [==============================] - 1s 23us/sample - loss: 0.3913 - accuracy: 0.8607 - val_loss: 0.3942 - val_accuracy: 0.8611\n",
      "Epoch 3/15\n",
      "60000/60000 [==============================] - 1s 22us/sample - loss: 0.3493 - accuracy: 0.8747 - val_loss: 0.3751 - val_accuracy: 0.8612\n",
      "Epoch 4/15\n",
      "60000/60000 [==============================] - 1s 23us/sample - loss: 0.3207 - accuracy: 0.8842 - val_loss: 0.3597 - val_accuracy: 0.8716\n",
      "Epoch 5/15\n",
      "60000/60000 [==============================] - 1s 22us/sample - loss: 0.3072 - accuracy: 0.8881 - val_loss: 0.3488 - val_accuracy: 0.8747\n",
      "Epoch 6/15\n",
      "57984/60000 [===========================>..] - ETA: 0s - loss: 0.2888 - accuracy: 0.8937Restoring model weights from the end of the best epoch.\n",
      "60000/60000 [==============================] - 1s 23us/sample - loss: 0.2888 - accuracy: 0.8938 - val_loss: 0.3519 - val_accuracy: 0.8749\n",
      "Epoch 00006: early stopping\n",
      "wandb: Agent Finished Run: marwqr4d \n",
      "\n",
      "wandb: Agent Starting Run: n7nn97yz with config:\n",
      "\tepochs: 10\n",
      "\tlearning_rate: 0.001\n",
      "\toptimizer: adam\n",
      "wandb: Agent Started Run: n7nn97yz\n"
     ]
    },
    {
     "data": {
      "text/html": [
       "\n",
       "                Logging results to <a href=\"https://wandb.com\" target=\"_blank\">Weights & Biases</a> <a href=\"https://docs.wandb.com/integrations/jupyter.html\" target=\"_blank\">(Documentation)</a>.<br/>\n",
       "                Project page: <a href=\"https://app.wandb.ai/sayakpaul/reproducible-ml\" target=\"_blank\">https://app.wandb.ai/sayakpaul/reproducible-ml</a><br/>\n",
       "                Sweep page: <a href=\"https://app.wandb.ai/sayakpaul/reproducible-ml/sweeps/6t8t4d6s\" target=\"_blank\">https://app.wandb.ai/sayakpaul/reproducible-ml/sweeps/6t8t4d6s</a><br/>\n",
       "Run page: <a href=\"https://app.wandb.ai/sayakpaul/reproducible-ml/runs/n7nn97yz\" target=\"_blank\">https://app.wandb.ai/sayakpaul/reproducible-ml/runs/n7nn97yz</a><br/>\n",
       "            "
      ],
      "text/plain": [
       "<IPython.core.display.HTML object>"
      ]
     },
     "metadata": {},
     "output_type": "display_data"
    },
    {
     "name": "stderr",
     "output_type": "stream",
     "text": [
      "Error generating diff: Reference at 'refs/remotes/origin/master' does not exist\n"
     ]
    },
    {
     "name": "stdout",
     "output_type": "stream",
     "text": [
      "Train on 60000 samples, validate on 10000 samples\n",
      "Epoch 1/10\n",
      "60000/60000 [==============================] - 2s 34us/sample - loss: 0.5257 - accuracy: 0.8180 - val_loss: 0.4436 - val_accuracy: 0.8460\n",
      "Epoch 2/10\n",
      "60000/60000 [==============================] - 1s 24us/sample - loss: 0.3913 - accuracy: 0.8607 - val_loss: 0.3942 - val_accuracy: 0.8611\n",
      "Epoch 3/10\n",
      "60000/60000 [==============================] - 1s 24us/sample - loss: 0.3493 - accuracy: 0.8747 - val_loss: 0.3751 - val_accuracy: 0.8612\n",
      "Epoch 4/10\n",
      "60000/60000 [==============================] - 1s 23us/sample - loss: 0.3207 - accuracy: 0.8842 - val_loss: 0.3597 - val_accuracy: 0.8716\n",
      "Epoch 5/10\n",
      "60000/60000 [==============================] - 1s 22us/sample - loss: 0.3072 - accuracy: 0.8881 - val_loss: 0.3488 - val_accuracy: 0.8747\n",
      "Epoch 6/10\n",
      "59008/60000 [============================>.] - ETA: 0s - loss: 0.2888 - accuracy: 0.8937Restoring model weights from the end of the best epoch.\n",
      "60000/60000 [==============================] - 1s 23us/sample - loss: 0.2888 - accuracy: 0.8938 - val_loss: 0.3519 - val_accuracy: 0.8749\n",
      "Epoch 00006: early stopping\n",
      "wandb: Agent Finished Run: n7nn97yz \n",
      "\n",
      "wandb: Agent Starting Run: qrd3v68x with config:\n",
      "\tepochs: 10\n",
      "\tlearning_rate: 0.01\n",
      "\toptimizer: sgd\n",
      "wandb: Agent Started Run: qrd3v68x\n"
     ]
    },
    {
     "data": {
      "text/html": [
       "\n",
       "                Logging results to <a href=\"https://wandb.com\" target=\"_blank\">Weights & Biases</a> <a href=\"https://docs.wandb.com/integrations/jupyter.html\" target=\"_blank\">(Documentation)</a>.<br/>\n",
       "                Project page: <a href=\"https://app.wandb.ai/sayakpaul/reproducible-ml\" target=\"_blank\">https://app.wandb.ai/sayakpaul/reproducible-ml</a><br/>\n",
       "                Sweep page: <a href=\"https://app.wandb.ai/sayakpaul/reproducible-ml/sweeps/6t8t4d6s\" target=\"_blank\">https://app.wandb.ai/sayakpaul/reproducible-ml/sweeps/6t8t4d6s</a><br/>\n",
       "Run page: <a href=\"https://app.wandb.ai/sayakpaul/reproducible-ml/runs/qrd3v68x\" target=\"_blank\">https://app.wandb.ai/sayakpaul/reproducible-ml/runs/qrd3v68x</a><br/>\n",
       "            "
      ],
      "text/plain": [
       "<IPython.core.display.HTML object>"
      ]
     },
     "metadata": {},
     "output_type": "display_data"
    },
    {
     "name": "stderr",
     "output_type": "stream",
     "text": [
      "Error generating diff: Reference at 'refs/remotes/origin/master' does not exist\n"
     ]
    },
    {
     "name": "stdout",
     "output_type": "stream",
     "text": [
      "Train on 60000 samples, validate on 10000 samples\n",
      "Epoch 1/10\n",
      "60000/60000 [==============================] - 2s 34us/sample - loss: 1.0310 - accuracy: 0.6870 - val_loss: 0.7503 - val_accuracy: 0.7553\n",
      "Epoch 2/10\n",
      "60000/60000 [==============================] - 1s 23us/sample - loss: 0.6687 - accuracy: 0.7862 - val_loss: 0.6417 - val_accuracy: 0.7864\n",
      "Epoch 3/10\n",
      "60000/60000 [==============================] - 1s 22us/sample - loss: 0.5911 - accuracy: 0.8082 - val_loss: 0.5869 - val_accuracy: 0.8050\n",
      "Epoch 4/10\n",
      "60000/60000 [==============================] - 1s 23us/sample - loss: 0.5491 - accuracy: 0.8191 - val_loss: 0.5601 - val_accuracy: 0.8074\n",
      "Epoch 5/10\n",
      "60000/60000 [==============================] - 1s 22us/sample - loss: 0.5216 - accuracy: 0.8250 - val_loss: 0.5358 - val_accuracy: 0.8149\n",
      "Epoch 6/10\n",
      "60000/60000 [==============================] - 1s 22us/sample - loss: 0.5025 - accuracy: 0.8312 - val_loss: 0.5254 - val_accuracy: 0.8183\n",
      "Epoch 7/10\n",
      "60000/60000 [==============================] - 1s 23us/sample - loss: 0.4876 - accuracy: 0.8351 - val_loss: 0.5084 - val_accuracy: 0.8253\n",
      "Epoch 8/10\n",
      "60000/60000 [==============================] - 1s 23us/sample - loss: 0.4754 - accuracy: 0.8389 - val_loss: 0.4991 - val_accuracy: 0.8282\n",
      "Epoch 9/10\n",
      "60000/60000 [==============================] - 1s 23us/sample - loss: 0.4649 - accuracy: 0.8424 - val_loss: 0.4959 - val_accuracy: 0.8267\n",
      "Epoch 10/10\n",
      "60000/60000 [==============================] - 1s 23us/sample - loss: 0.4563 - accuracy: 0.8436 - val_loss: 0.4827 - val_accuracy: 0.8341\n",
      "wandb: Agent Finished Run: qrd3v68x \n",
      "\n",
      "wandb: Agent Starting Run: jnvjw9pj with config:\n",
      "\tepochs: 15\n",
      "\tlearning_rate: 0.001\n",
      "\toptimizer: sgd\n",
      "wandb: Agent Started Run: jnvjw9pj\n"
     ]
    },
    {
     "data": {
      "text/html": [
       "\n",
       "                Logging results to <a href=\"https://wandb.com\" target=\"_blank\">Weights & Biases</a> <a href=\"https://docs.wandb.com/integrations/jupyter.html\" target=\"_blank\">(Documentation)</a>.<br/>\n",
       "                Project page: <a href=\"https://app.wandb.ai/sayakpaul/reproducible-ml\" target=\"_blank\">https://app.wandb.ai/sayakpaul/reproducible-ml</a><br/>\n",
       "                Sweep page: <a href=\"https://app.wandb.ai/sayakpaul/reproducible-ml/sweeps/6t8t4d6s\" target=\"_blank\">https://app.wandb.ai/sayakpaul/reproducible-ml/sweeps/6t8t4d6s</a><br/>\n",
       "Run page: <a href=\"https://app.wandb.ai/sayakpaul/reproducible-ml/runs/jnvjw9pj\" target=\"_blank\">https://app.wandb.ai/sayakpaul/reproducible-ml/runs/jnvjw9pj</a><br/>\n",
       "            "
      ],
      "text/plain": [
       "<IPython.core.display.HTML object>"
      ]
     },
     "metadata": {},
     "output_type": "display_data"
    },
    {
     "name": "stderr",
     "output_type": "stream",
     "text": [
      "Error generating diff: Reference at 'refs/remotes/origin/master' does not exist\n"
     ]
    },
    {
     "name": "stdout",
     "output_type": "stream",
     "text": [
      "Train on 60000 samples, validate on 10000 samples\n",
      "Epoch 1/15\n",
      "60000/60000 [==============================] - 2s 34us/sample - loss: 1.0310 - accuracy: 0.6870 - val_loss: 0.7503 - val_accuracy: 0.7553\n",
      "Epoch 2/15\n",
      "60000/60000 [==============================] - 1s 22us/sample - loss: 0.6687 - accuracy: 0.7862 - val_loss: 0.6417 - val_accuracy: 0.7864\n",
      "Epoch 3/15\n",
      "60000/60000 [==============================] - 1s 23us/sample - loss: 0.5911 - accuracy: 0.8082 - val_loss: 0.5869 - val_accuracy: 0.8050\n",
      "Epoch 4/15\n",
      "60000/60000 [==============================] - 1s 23us/sample - loss: 0.5491 - accuracy: 0.8191 - val_loss: 0.5601 - val_accuracy: 0.8074\n",
      "Epoch 5/15\n",
      "60000/60000 [==============================] - 1s 22us/sample - loss: 0.5216 - accuracy: 0.8250 - val_loss: 0.5358 - val_accuracy: 0.8149\n",
      "Epoch 6/15\n",
      "60000/60000 [==============================] - 1s 22us/sample - loss: 0.5025 - accuracy: 0.8312 - val_loss: 0.5254 - val_accuracy: 0.8183\n",
      "Epoch 7/15\n",
      "60000/60000 [==============================] - 1s 23us/sample - loss: 0.4876 - accuracy: 0.8351 - val_loss: 0.5084 - val_accuracy: 0.8253\n",
      "Epoch 8/15\n",
      "60000/60000 [==============================] - 1s 23us/sample - loss: 0.4754 - accuracy: 0.8389 - val_loss: 0.4991 - val_accuracy: 0.8282\n",
      "Epoch 9/15\n",
      "60000/60000 [==============================] - 1s 23us/sample - loss: 0.4649 - accuracy: 0.8424 - val_loss: 0.4959 - val_accuracy: 0.8267\n",
      "Epoch 10/15\n",
      "60000/60000 [==============================] - 1s 22us/sample - loss: 0.4563 - accuracy: 0.8436 - val_loss: 0.4827 - val_accuracy: 0.8341\n",
      "Epoch 11/15\n",
      "60000/60000 [==============================] - 1s 23us/sample - loss: 0.4488 - accuracy: 0.8468 - val_loss: 0.4775 - val_accuracy: 0.8323\n",
      "Epoch 12/15\n",
      "60000/60000 [==============================] - 1s 23us/sample - loss: 0.4416 - accuracy: 0.8488 - val_loss: 0.4707 - val_accuracy: 0.8378\n",
      "Epoch 13/15\n",
      "60000/60000 [==============================] - 1s 23us/sample - loss: 0.4359 - accuracy: 0.8503 - val_loss: 0.4637 - val_accuracy: 0.8391\n",
      "Epoch 14/15\n",
      "59520/60000 [============================>.] - ETA: 0s - loss: 0.4307 - accuracy: 0.8512Restoring model weights from the end of the best epoch.\n",
      "60000/60000 [==============================] - 1s 23us/sample - loss: 0.4307 - accuracy: 0.8512 - val_loss: 0.4646 - val_accuracy: 0.8348\n",
      "Epoch 00014: early stopping\n",
      "wandb: Agent Finished Run: jnvjw9pj \n",
      "\n",
      "wandb: Agent Starting Run: 23m1xwet with config:\n",
      "\tepochs: 15\n",
      "\tlearning_rate: 0.0001\n",
      "\toptimizer: sgd\n",
      "wandb: Agent Started Run: 23m1xwet\n"
     ]
    },
    {
     "data": {
      "text/html": [
       "\n",
       "                Logging results to <a href=\"https://wandb.com\" target=\"_blank\">Weights & Biases</a> <a href=\"https://docs.wandb.com/integrations/jupyter.html\" target=\"_blank\">(Documentation)</a>.<br/>\n",
       "                Project page: <a href=\"https://app.wandb.ai/sayakpaul/reproducible-ml\" target=\"_blank\">https://app.wandb.ai/sayakpaul/reproducible-ml</a><br/>\n",
       "                Sweep page: <a href=\"https://app.wandb.ai/sayakpaul/reproducible-ml/sweeps/6t8t4d6s\" target=\"_blank\">https://app.wandb.ai/sayakpaul/reproducible-ml/sweeps/6t8t4d6s</a><br/>\n",
       "Run page: <a href=\"https://app.wandb.ai/sayakpaul/reproducible-ml/runs/23m1xwet\" target=\"_blank\">https://app.wandb.ai/sayakpaul/reproducible-ml/runs/23m1xwet</a><br/>\n",
       "            "
      ],
      "text/plain": [
       "<IPython.core.display.HTML object>"
      ]
     },
     "metadata": {},
     "output_type": "display_data"
    },
    {
     "name": "stderr",
     "output_type": "stream",
     "text": [
      "Error generating diff: Reference at 'refs/remotes/origin/master' does not exist\n"
     ]
    },
    {
     "name": "stdout",
     "output_type": "stream",
     "text": [
      "Train on 60000 samples, validate on 10000 samples\n",
      "Epoch 1/15\n",
      "60000/60000 [==============================] - 2s 34us/sample - loss: 1.0310 - accuracy: 0.6870 - val_loss: 0.7503 - val_accuracy: 0.7553\n",
      "Epoch 2/15\n",
      "60000/60000 [==============================] - 1s 23us/sample - loss: 0.6687 - accuracy: 0.7862 - val_loss: 0.6417 - val_accuracy: 0.7864\n",
      "Epoch 3/15\n",
      "60000/60000 [==============================] - 1s 22us/sample - loss: 0.5911 - accuracy: 0.8082 - val_loss: 0.5869 - val_accuracy: 0.8050\n",
      "Epoch 4/15\n",
      "60000/60000 [==============================] - 1s 22us/sample - loss: 0.5491 - accuracy: 0.8191 - val_loss: 0.5601 - val_accuracy: 0.8074\n",
      "Epoch 5/15\n",
      "60000/60000 [==============================] - 1s 23us/sample - loss: 0.5216 - accuracy: 0.8250 - val_loss: 0.5358 - val_accuracy: 0.8149\n",
      "Epoch 6/15\n",
      "60000/60000 [==============================] - 1s 23us/sample - loss: 0.5025 - accuracy: 0.8312 - val_loss: 0.5254 - val_accuracy: 0.8183\n",
      "Epoch 7/15\n",
      "60000/60000 [==============================] - 1s 23us/sample - loss: 0.4876 - accuracy: 0.8351 - val_loss: 0.5084 - val_accuracy: 0.8253\n",
      "Epoch 8/15\n",
      "60000/60000 [==============================] - 1s 22us/sample - loss: 0.4754 - accuracy: 0.8389 - val_loss: 0.4991 - val_accuracy: 0.8282\n",
      "Epoch 9/15\n",
      "60000/60000 [==============================] - 1s 22us/sample - loss: 0.4649 - accuracy: 0.8424 - val_loss: 0.4959 - val_accuracy: 0.8267\n",
      "Epoch 10/15\n",
      "60000/60000 [==============================] - 1s 22us/sample - loss: 0.4563 - accuracy: 0.8436 - val_loss: 0.4827 - val_accuracy: 0.8341\n",
      "Epoch 11/15\n",
      "60000/60000 [==============================] - 1s 24us/sample - loss: 0.4488 - accuracy: 0.8468 - val_loss: 0.4775 - val_accuracy: 0.8323\n",
      "Epoch 12/15\n",
      "60000/60000 [==============================] - 1s 22us/sample - loss: 0.4416 - accuracy: 0.8488 - val_loss: 0.4707 - val_accuracy: 0.8378\n",
      "Epoch 13/15\n",
      "60000/60000 [==============================] - 1s 23us/sample - loss: 0.4359 - accuracy: 0.8503 - val_loss: 0.4637 - val_accuracy: 0.8391\n",
      "Epoch 14/15\n",
      "59776/60000 [============================>.] - ETA: 0s - loss: 0.4308 - accuracy: 0.8511Restoring model weights from the end of the best epoch.\n",
      "60000/60000 [==============================] - 1s 22us/sample - loss: 0.4307 - accuracy: 0.8512 - val_loss: 0.4646 - val_accuracy: 0.8348\n",
      "Epoch 00014: early stopping\n",
      "wandb: Agent Finished Run: 23m1xwet \n",
      "\n",
      "wandb: Agent Starting Run: b9ho0xkr with config:\n",
      "\tepochs: 20\n",
      "\tlearning_rate: 0.0003\n",
      "\toptimizer: adam\n",
      "wandb: Agent Started Run: b9ho0xkr\n"
     ]
    },
    {
     "data": {
      "text/html": [
       "\n",
       "                Logging results to <a href=\"https://wandb.com\" target=\"_blank\">Weights & Biases</a> <a href=\"https://docs.wandb.com/integrations/jupyter.html\" target=\"_blank\">(Documentation)</a>.<br/>\n",
       "                Project page: <a href=\"https://app.wandb.ai/sayakpaul/reproducible-ml\" target=\"_blank\">https://app.wandb.ai/sayakpaul/reproducible-ml</a><br/>\n",
       "                Sweep page: <a href=\"https://app.wandb.ai/sayakpaul/reproducible-ml/sweeps/6t8t4d6s\" target=\"_blank\">https://app.wandb.ai/sayakpaul/reproducible-ml/sweeps/6t8t4d6s</a><br/>\n",
       "Run page: <a href=\"https://app.wandb.ai/sayakpaul/reproducible-ml/runs/b9ho0xkr\" target=\"_blank\">https://app.wandb.ai/sayakpaul/reproducible-ml/runs/b9ho0xkr</a><br/>\n",
       "            "
      ],
      "text/plain": [
       "<IPython.core.display.HTML object>"
      ]
     },
     "metadata": {},
     "output_type": "display_data"
    },
    {
     "name": "stderr",
     "output_type": "stream",
     "text": [
      "Error generating diff: Reference at 'refs/remotes/origin/master' does not exist\n"
     ]
    },
    {
     "name": "stdout",
     "output_type": "stream",
     "text": [
      "Train on 60000 samples, validate on 10000 samples\n",
      "Epoch 1/20\n",
      "60000/60000 [==============================] - 2s 39us/sample - loss: 0.5257 - accuracy: 0.8180 - val_loss: 0.4436 - val_accuracy: 0.8460\n",
      "Epoch 2/20\n",
      "60000/60000 [==============================] - 2s 27us/sample - loss: 0.3913 - accuracy: 0.8607 - val_loss: 0.3942 - val_accuracy: 0.8611\n",
      "Epoch 3/20\n",
      "60000/60000 [==============================] - 2s 26us/sample - loss: 0.3493 - accuracy: 0.8747 - val_loss: 0.3751 - val_accuracy: 0.8612\n",
      "Epoch 4/20\n",
      "60000/60000 [==============================] - 2s 27us/sample - loss: 0.3207 - accuracy: 0.8842 - val_loss: 0.3597 - val_accuracy: 0.8716\n",
      "Epoch 5/20\n",
      "60000/60000 [==============================] - 2s 26us/sample - loss: 0.3072 - accuracy: 0.8881 - val_loss: 0.3488 - val_accuracy: 0.8747\n",
      "Epoch 6/20\n",
      "57984/60000 [===========================>..] - ETA: 0s - loss: 0.2888 - accuracy: 0.8937Restoring model weights from the end of the best epoch.\n",
      "60000/60000 [==============================] - 1s 23us/sample - loss: 0.2888 - accuracy: 0.8938 - val_loss: 0.3519 - val_accuracy: 0.8749\n",
      "Epoch 00006: early stopping\n",
      "wandb: Agent Finished Run: b9ho0xkr \n",
      "\n",
      "wandb: Agent Starting Run: qgal7ip3 with config:\n",
      "\tepochs: 10\n",
      "\tlearning_rate: 3e-05\n",
      "\toptimizer: adam\n",
      "wandb: Agent Started Run: qgal7ip3\n"
     ]
    },
    {
     "data": {
      "text/html": [
       "\n",
       "                Logging results to <a href=\"https://wandb.com\" target=\"_blank\">Weights & Biases</a> <a href=\"https://docs.wandb.com/integrations/jupyter.html\" target=\"_blank\">(Documentation)</a>.<br/>\n",
       "                Project page: <a href=\"https://app.wandb.ai/sayakpaul/reproducible-ml\" target=\"_blank\">https://app.wandb.ai/sayakpaul/reproducible-ml</a><br/>\n",
       "                Sweep page: <a href=\"https://app.wandb.ai/sayakpaul/reproducible-ml/sweeps/6t8t4d6s\" target=\"_blank\">https://app.wandb.ai/sayakpaul/reproducible-ml/sweeps/6t8t4d6s</a><br/>\n",
       "Run page: <a href=\"https://app.wandb.ai/sayakpaul/reproducible-ml/runs/qgal7ip3\" target=\"_blank\">https://app.wandb.ai/sayakpaul/reproducible-ml/runs/qgal7ip3</a><br/>\n",
       "            "
      ],
      "text/plain": [
       "<IPython.core.display.HTML object>"
      ]
     },
     "metadata": {},
     "output_type": "display_data"
    },
    {
     "name": "stderr",
     "output_type": "stream",
     "text": [
      "Error generating diff: Reference at 'refs/remotes/origin/master' does not exist\n"
     ]
    },
    {
     "name": "stdout",
     "output_type": "stream",
     "text": [
      "Train on 60000 samples, validate on 10000 samples\n",
      "Epoch 1/10\n",
      "60000/60000 [==============================] - 2s 36us/sample - loss: 0.5257 - accuracy: 0.8180 - val_loss: 0.4436 - val_accuracy: 0.8460\n",
      "Epoch 2/10\n",
      "60000/60000 [==============================] - 1s 23us/sample - loss: 0.3913 - accuracy: 0.8607 - val_loss: 0.3942 - val_accuracy: 0.8611\n",
      "Epoch 3/10\n",
      "60000/60000 [==============================] - 1s 23us/sample - loss: 0.3493 - accuracy: 0.8747 - val_loss: 0.3751 - val_accuracy: 0.8612\n",
      "Epoch 4/10\n",
      "60000/60000 [==============================] - 1s 23us/sample - loss: 0.3207 - accuracy: 0.8842 - val_loss: 0.3597 - val_accuracy: 0.8716\n",
      "Epoch 5/10\n",
      "60000/60000 [==============================] - 1s 23us/sample - loss: 0.3072 - accuracy: 0.8881 - val_loss: 0.3488 - val_accuracy: 0.8747\n",
      "Epoch 6/10\n",
      "59264/60000 [============================>.] - ETA: 0s - loss: 0.2890 - accuracy: 0.8936Restoring model weights from the end of the best epoch.\n",
      "60000/60000 [==============================] - 1s 23us/sample - loss: 0.2888 - accuracy: 0.8938 - val_loss: 0.3519 - val_accuracy: 0.8749\n",
      "Epoch 00006: early stopping\n",
      "wandb: Agent Finished Run: qgal7ip3 \n",
      "\n",
      "wandb: Agent Starting Run: ygobxxfa with config:\n",
      "\tepochs: 15\n",
      "\tlearning_rate: 0.001\n",
      "\toptimizer: adam\n",
      "wandb: Agent Started Run: ygobxxfa\n"
     ]
    },
    {
     "data": {
      "text/html": [
       "\n",
       "                Logging results to <a href=\"https://wandb.com\" target=\"_blank\">Weights & Biases</a> <a href=\"https://docs.wandb.com/integrations/jupyter.html\" target=\"_blank\">(Documentation)</a>.<br/>\n",
       "                Project page: <a href=\"https://app.wandb.ai/sayakpaul/reproducible-ml\" target=\"_blank\">https://app.wandb.ai/sayakpaul/reproducible-ml</a><br/>\n",
       "                Sweep page: <a href=\"https://app.wandb.ai/sayakpaul/reproducible-ml/sweeps/6t8t4d6s\" target=\"_blank\">https://app.wandb.ai/sayakpaul/reproducible-ml/sweeps/6t8t4d6s</a><br/>\n",
       "Run page: <a href=\"https://app.wandb.ai/sayakpaul/reproducible-ml/runs/ygobxxfa\" target=\"_blank\">https://app.wandb.ai/sayakpaul/reproducible-ml/runs/ygobxxfa</a><br/>\n",
       "            "
      ],
      "text/plain": [
       "<IPython.core.display.HTML object>"
      ]
     },
     "metadata": {},
     "output_type": "display_data"
    },
    {
     "name": "stderr",
     "output_type": "stream",
     "text": [
      "Error generating diff: Reference at 'refs/remotes/origin/master' does not exist\n"
     ]
    },
    {
     "name": "stdout",
     "output_type": "stream",
     "text": [
      "Train on 60000 samples, validate on 10000 samples\n",
      "Epoch 1/15\n",
      "60000/60000 [==============================] - 2s 35us/sample - loss: 0.5257 - accuracy: 0.8180 - val_loss: 0.4436 - val_accuracy: 0.8460\n",
      "Epoch 2/15\n",
      "60000/60000 [==============================] - 1s 24us/sample - loss: 0.3913 - accuracy: 0.8607 - val_loss: 0.3942 - val_accuracy: 0.8611\n",
      "Epoch 3/15\n",
      "60000/60000 [==============================] - 1s 23us/sample - loss: 0.3493 - accuracy: 0.8747 - val_loss: 0.3751 - val_accuracy: 0.8612\n",
      "Epoch 4/15\n",
      "60000/60000 [==============================] - 1s 24us/sample - loss: 0.3207 - accuracy: 0.8842 - val_loss: 0.3597 - val_accuracy: 0.8716\n",
      "Epoch 5/15\n",
      "60000/60000 [==============================] - 1s 24us/sample - loss: 0.3072 - accuracy: 0.8881 - val_loss: 0.3488 - val_accuracy: 0.8747\n",
      "Epoch 6/15\n",
      "57728/60000 [===========================>..] - ETA: 0s - loss: 0.2888 - accuracy: 0.8937Restoring model weights from the end of the best epoch.\n",
      "60000/60000 [==============================] - 1s 23us/sample - loss: 0.2888 - accuracy: 0.8938 - val_loss: 0.3519 - val_accuracy: 0.8749\n",
      "Epoch 00006: early stopping\n",
      "wandb: Agent Finished Run: ygobxxfa \n",
      "\n",
      "wandb: Agent Starting Run: 6ruxq032 with config:\n",
      "\tepochs: 20\n",
      "\tlearning_rate: 0.0001\n",
      "\toptimizer: sgd\n",
      "wandb: Agent Started Run: 6ruxq032\n"
     ]
    },
    {
     "data": {
      "text/html": [
       "\n",
       "                Logging results to <a href=\"https://wandb.com\" target=\"_blank\">Weights & Biases</a> <a href=\"https://docs.wandb.com/integrations/jupyter.html\" target=\"_blank\">(Documentation)</a>.<br/>\n",
       "                Project page: <a href=\"https://app.wandb.ai/sayakpaul/reproducible-ml\" target=\"_blank\">https://app.wandb.ai/sayakpaul/reproducible-ml</a><br/>\n",
       "                Sweep page: <a href=\"https://app.wandb.ai/sayakpaul/reproducible-ml/sweeps/6t8t4d6s\" target=\"_blank\">https://app.wandb.ai/sayakpaul/reproducible-ml/sweeps/6t8t4d6s</a><br/>\n",
       "Run page: <a href=\"https://app.wandb.ai/sayakpaul/reproducible-ml/runs/6ruxq032\" target=\"_blank\">https://app.wandb.ai/sayakpaul/reproducible-ml/runs/6ruxq032</a><br/>\n",
       "            "
      ],
      "text/plain": [
       "<IPython.core.display.HTML object>"
      ]
     },
     "metadata": {},
     "output_type": "display_data"
    },
    {
     "name": "stderr",
     "output_type": "stream",
     "text": [
      "Error generating diff: Reference at 'refs/remotes/origin/master' does not exist\n"
     ]
    },
    {
     "name": "stdout",
     "output_type": "stream",
     "text": [
      "Train on 60000 samples, validate on 10000 samples\n",
      "Epoch 1/20\n",
      "60000/60000 [==============================] - 2s 34us/sample - loss: 1.0310 - accuracy: 0.6870 - val_loss: 0.7503 - val_accuracy: 0.7553\n",
      "Epoch 2/20\n",
      "60000/60000 [==============================] - 1s 23us/sample - loss: 0.6687 - accuracy: 0.7862 - val_loss: 0.6417 - val_accuracy: 0.7864\n",
      "Epoch 3/20\n",
      "60000/60000 [==============================] - 1s 23us/sample - loss: 0.5911 - accuracy: 0.8082 - val_loss: 0.5869 - val_accuracy: 0.8050\n",
      "Epoch 4/20\n",
      "60000/60000 [==============================] - 1s 23us/sample - loss: 0.5491 - accuracy: 0.8191 - val_loss: 0.5601 - val_accuracy: 0.8074\n",
      "Epoch 5/20\n",
      "60000/60000 [==============================] - 1s 23us/sample - loss: 0.5216 - accuracy: 0.8250 - val_loss: 0.5358 - val_accuracy: 0.8149\n",
      "Epoch 6/20\n",
      "60000/60000 [==============================] - 1s 22us/sample - loss: 0.5025 - accuracy: 0.8312 - val_loss: 0.5254 - val_accuracy: 0.8183\n",
      "Epoch 7/20\n",
      "60000/60000 [==============================] - 1s 22us/sample - loss: 0.4876 - accuracy: 0.8351 - val_loss: 0.5084 - val_accuracy: 0.8253\n",
      "Epoch 8/20\n",
      "60000/60000 [==============================] - 1s 22us/sample - loss: 0.4754 - accuracy: 0.8389 - val_loss: 0.4991 - val_accuracy: 0.8282\n",
      "Epoch 9/20\n",
      "60000/60000 [==============================] - 1s 23us/sample - loss: 0.4649 - accuracy: 0.8424 - val_loss: 0.4959 - val_accuracy: 0.8267\n",
      "Epoch 10/20\n",
      "60000/60000 [==============================] - 1s 22us/sample - loss: 0.4563 - accuracy: 0.8436 - val_loss: 0.4827 - val_accuracy: 0.8341\n",
      "Epoch 11/20\n",
      "60000/60000 [==============================] - 1s 23us/sample - loss: 0.4488 - accuracy: 0.8468 - val_loss: 0.4775 - val_accuracy: 0.8323\n",
      "Epoch 12/20\n",
      "60000/60000 [==============================] - 1s 22us/sample - loss: 0.4416 - accuracy: 0.8488 - val_loss: 0.4707 - val_accuracy: 0.8378\n",
      "Epoch 13/20\n",
      "60000/60000 [==============================] - 1s 23us/sample - loss: 0.4359 - accuracy: 0.8503 - val_loss: 0.4637 - val_accuracy: 0.8391\n",
      "Epoch 14/20\n",
      "59136/60000 [============================>.] - ETA: 0s - loss: 0.4306 - accuracy: 0.8511Restoring model weights from the end of the best epoch.\n",
      "60000/60000 [==============================] - 1s 22us/sample - loss: 0.4307 - accuracy: 0.8512 - val_loss: 0.4646 - val_accuracy: 0.8348\n",
      "Epoch 00014: early stopping\n",
      "wandb: Agent Finished Run: 6ruxq032 \n",
      "\n",
      "wandb: Agent Starting Run: eku34t40 with config:\n",
      "\tepochs: 20\n",
      "\tlearning_rate: 0.0001\n",
      "\toptimizer: sgd\n",
      "wandb: Agent Started Run: eku34t40\n"
     ]
    },
    {
     "data": {
      "text/html": [
       "\n",
       "                Logging results to <a href=\"https://wandb.com\" target=\"_blank\">Weights & Biases</a> <a href=\"https://docs.wandb.com/integrations/jupyter.html\" target=\"_blank\">(Documentation)</a>.<br/>\n",
       "                Project page: <a href=\"https://app.wandb.ai/sayakpaul/reproducible-ml\" target=\"_blank\">https://app.wandb.ai/sayakpaul/reproducible-ml</a><br/>\n",
       "                Sweep page: <a href=\"https://app.wandb.ai/sayakpaul/reproducible-ml/sweeps/6t8t4d6s\" target=\"_blank\">https://app.wandb.ai/sayakpaul/reproducible-ml/sweeps/6t8t4d6s</a><br/>\n",
       "Run page: <a href=\"https://app.wandb.ai/sayakpaul/reproducible-ml/runs/eku34t40\" target=\"_blank\">https://app.wandb.ai/sayakpaul/reproducible-ml/runs/eku34t40</a><br/>\n",
       "            "
      ],
      "text/plain": [
       "<IPython.core.display.HTML object>"
      ]
     },
     "metadata": {},
     "output_type": "display_data"
    },
    {
     "name": "stderr",
     "output_type": "stream",
     "text": [
      "Error generating diff: Reference at 'refs/remotes/origin/master' does not exist\n"
     ]
    },
    {
     "name": "stdout",
     "output_type": "stream",
     "text": [
      "Train on 60000 samples, validate on 10000 samples\n",
      "Epoch 1/20\n",
      "60000/60000 [==============================] - 2s 34us/sample - loss: 1.0310 - accuracy: 0.6870 - val_loss: 0.7503 - val_accuracy: 0.7553\n",
      "Epoch 2/20\n",
      "60000/60000 [==============================] - 1s 23us/sample - loss: 0.6687 - accuracy: 0.7862 - val_loss: 0.6417 - val_accuracy: 0.7864\n",
      "Epoch 3/20\n",
      "60000/60000 [==============================] - 1s 23us/sample - loss: 0.5911 - accuracy: 0.8082 - val_loss: 0.5869 - val_accuracy: 0.8050\n",
      "Epoch 4/20\n",
      "60000/60000 [==============================] - 1s 22us/sample - loss: 0.5491 - accuracy: 0.8191 - val_loss: 0.5601 - val_accuracy: 0.8074\n",
      "Epoch 5/20\n",
      "60000/60000 [==============================] - 1s 23us/sample - loss: 0.5216 - accuracy: 0.8250 - val_loss: 0.5358 - val_accuracy: 0.8149\n",
      "Epoch 6/20\n",
      "60000/60000 [==============================] - 1s 22us/sample - loss: 0.5025 - accuracy: 0.8312 - val_loss: 0.5254 - val_accuracy: 0.8183\n",
      "Epoch 7/20\n",
      "60000/60000 [==============================] - 1s 23us/sample - loss: 0.4876 - accuracy: 0.8351 - val_loss: 0.5084 - val_accuracy: 0.8253\n",
      "Epoch 8/20\n",
      "60000/60000 [==============================] - 1s 23us/sample - loss: 0.4754 - accuracy: 0.8389 - val_loss: 0.4991 - val_accuracy: 0.8282\n",
      "Epoch 9/20\n",
      "60000/60000 [==============================] - 1s 23us/sample - loss: 0.4649 - accuracy: 0.8424 - val_loss: 0.4959 - val_accuracy: 0.8267\n",
      "Epoch 10/20\n",
      "60000/60000 [==============================] - 1s 23us/sample - loss: 0.4563 - accuracy: 0.8436 - val_loss: 0.4827 - val_accuracy: 0.8341\n",
      "Epoch 11/20\n",
      "60000/60000 [==============================] - 1s 23us/sample - loss: 0.4488 - accuracy: 0.8468 - val_loss: 0.4775 - val_accuracy: 0.8323\n",
      "Epoch 12/20\n",
      "60000/60000 [==============================] - 1s 22us/sample - loss: 0.4416 - accuracy: 0.8488 - val_loss: 0.4707 - val_accuracy: 0.8378\n",
      "Epoch 13/20\n",
      "60000/60000 [==============================] - 1s 23us/sample - loss: 0.4359 - accuracy: 0.8503 - val_loss: 0.4637 - val_accuracy: 0.8391\n",
      "Epoch 14/20\n",
      "59776/60000 [============================>.] - ETA: 0s - loss: 0.4308 - accuracy: 0.8511Restoring model weights from the end of the best epoch.\n",
      "60000/60000 [==============================] - 1s 23us/sample - loss: 0.4307 - accuracy: 0.8512 - val_loss: 0.4646 - val_accuracy: 0.8348\n",
      "Epoch 00014: early stopping\n",
      "wandb: Agent Finished Run: eku34t40 \n",
      "\n",
      "wandb: Agent Starting Run: y6tsjrlh with config:\n",
      "\tepochs: 20\n",
      "\tlearning_rate: 0.0003\n",
      "\toptimizer: adam\n",
      "wandb: Agent Started Run: y6tsjrlh\n"
     ]
    },
    {
     "data": {
      "text/html": [
       "\n",
       "                Logging results to <a href=\"https://wandb.com\" target=\"_blank\">Weights & Biases</a> <a href=\"https://docs.wandb.com/integrations/jupyter.html\" target=\"_blank\">(Documentation)</a>.<br/>\n",
       "                Project page: <a href=\"https://app.wandb.ai/sayakpaul/reproducible-ml\" target=\"_blank\">https://app.wandb.ai/sayakpaul/reproducible-ml</a><br/>\n",
       "                Sweep page: <a href=\"https://app.wandb.ai/sayakpaul/reproducible-ml/sweeps/6t8t4d6s\" target=\"_blank\">https://app.wandb.ai/sayakpaul/reproducible-ml/sweeps/6t8t4d6s</a><br/>\n",
       "Run page: <a href=\"https://app.wandb.ai/sayakpaul/reproducible-ml/runs/y6tsjrlh\" target=\"_blank\">https://app.wandb.ai/sayakpaul/reproducible-ml/runs/y6tsjrlh</a><br/>\n",
       "            "
      ],
      "text/plain": [
       "<IPython.core.display.HTML object>"
      ]
     },
     "metadata": {},
     "output_type": "display_data"
    },
    {
     "name": "stderr",
     "output_type": "stream",
     "text": [
      "Error generating diff: Reference at 'refs/remotes/origin/master' does not exist\n"
     ]
    },
    {
     "name": "stdout",
     "output_type": "stream",
     "text": [
      "Train on 60000 samples, validate on 10000 samples\n",
      "Epoch 1/20\n",
      "60000/60000 [==============================] - 2s 35us/sample - loss: 0.5257 - accuracy: 0.8180 - val_loss: 0.4436 - val_accuracy: 0.8460\n",
      "Epoch 2/20\n",
      "60000/60000 [==============================] - 1s 24us/sample - loss: 0.3913 - accuracy: 0.8607 - val_loss: 0.3942 - val_accuracy: 0.8611\n",
      "Epoch 3/20\n",
      "60000/60000 [==============================] - 1s 23us/sample - loss: 0.3493 - accuracy: 0.8747 - val_loss: 0.3751 - val_accuracy: 0.8612\n",
      "Epoch 4/20\n",
      "60000/60000 [==============================] - 1s 24us/sample - loss: 0.3207 - accuracy: 0.8842 - val_loss: 0.3597 - val_accuracy: 0.8716\n",
      "Epoch 5/20\n",
      "60000/60000 [==============================] - 1s 24us/sample - loss: 0.3072 - accuracy: 0.8881 - val_loss: 0.3488 - val_accuracy: 0.8747\n",
      "Epoch 6/20\n",
      "59904/60000 [============================>.] - ETA: 0s - loss: 0.2889 - accuracy: 0.8937Restoring model weights from the end of the best epoch.\n",
      "60000/60000 [==============================] - 1s 24us/sample - loss: 0.2888 - accuracy: 0.8938 - val_loss: 0.3519 - val_accuracy: 0.8749\n",
      "Epoch 00006: early stopping\n",
      "wandb: Agent Finished Run: y6tsjrlh \n",
      "\n",
      "wandb: Agent Starting Run: 8aj9go7p with config:\n",
      "\tepochs: 20\n",
      "\tlearning_rate: 0.001\n",
      "\toptimizer: sgd\n",
      "wandb: Agent Started Run: 8aj9go7p\n"
     ]
    },
    {
     "data": {
      "text/html": [
       "\n",
       "                Logging results to <a href=\"https://wandb.com\" target=\"_blank\">Weights & Biases</a> <a href=\"https://docs.wandb.com/integrations/jupyter.html\" target=\"_blank\">(Documentation)</a>.<br/>\n",
       "                Project page: <a href=\"https://app.wandb.ai/sayakpaul/reproducible-ml\" target=\"_blank\">https://app.wandb.ai/sayakpaul/reproducible-ml</a><br/>\n",
       "                Sweep page: <a href=\"https://app.wandb.ai/sayakpaul/reproducible-ml/sweeps/6t8t4d6s\" target=\"_blank\">https://app.wandb.ai/sayakpaul/reproducible-ml/sweeps/6t8t4d6s</a><br/>\n",
       "Run page: <a href=\"https://app.wandb.ai/sayakpaul/reproducible-ml/runs/8aj9go7p\" target=\"_blank\">https://app.wandb.ai/sayakpaul/reproducible-ml/runs/8aj9go7p</a><br/>\n",
       "            "
      ],
      "text/plain": [
       "<IPython.core.display.HTML object>"
      ]
     },
     "metadata": {},
     "output_type": "display_data"
    },
    {
     "name": "stderr",
     "output_type": "stream",
     "text": [
      "Error generating diff: Reference at 'refs/remotes/origin/master' does not exist\n"
     ]
    },
    {
     "name": "stdout",
     "output_type": "stream",
     "text": [
      "Train on 60000 samples, validate on 10000 samples\n",
      "Epoch 1/20\n",
      "60000/60000 [==============================] - 2s 34us/sample - loss: 1.0310 - accuracy: 0.6870 - val_loss: 0.7503 - val_accuracy: 0.7553\n",
      "Epoch 2/20\n",
      "60000/60000 [==============================] - 1s 23us/sample - loss: 0.6687 - accuracy: 0.7862 - val_loss: 0.6417 - val_accuracy: 0.7864\n",
      "Epoch 3/20\n",
      "60000/60000 [==============================] - 1s 23us/sample - loss: 0.5911 - accuracy: 0.8082 - val_loss: 0.5869 - val_accuracy: 0.8050\n",
      "Epoch 4/20\n",
      "60000/60000 [==============================] - 1s 23us/sample - loss: 0.5491 - accuracy: 0.8191 - val_loss: 0.5601 - val_accuracy: 0.8074\n",
      "Epoch 5/20\n",
      "60000/60000 [==============================] - 1s 22us/sample - loss: 0.5216 - accuracy: 0.8250 - val_loss: 0.5358 - val_accuracy: 0.8149\n",
      "Epoch 6/20\n",
      "60000/60000 [==============================] - 1s 22us/sample - loss: 0.5025 - accuracy: 0.8312 - val_loss: 0.5254 - val_accuracy: 0.8183\n",
      "Epoch 7/20\n",
      "60000/60000 [==============================] - 1s 22us/sample - loss: 0.4876 - accuracy: 0.8351 - val_loss: 0.5084 - val_accuracy: 0.8253\n",
      "Epoch 8/20\n",
      "60000/60000 [==============================] - 1s 23us/sample - loss: 0.4754 - accuracy: 0.8389 - val_loss: 0.4991 - val_accuracy: 0.8282\n",
      "Epoch 9/20\n",
      "60000/60000 [==============================] - 1s 23us/sample - loss: 0.4649 - accuracy: 0.8424 - val_loss: 0.4959 - val_accuracy: 0.8267\n",
      "Epoch 10/20\n",
      "60000/60000 [==============================] - 1s 23us/sample - loss: 0.4563 - accuracy: 0.8436 - val_loss: 0.4827 - val_accuracy: 0.8341\n",
      "Epoch 11/20\n",
      "60000/60000 [==============================] - 1s 23us/sample - loss: 0.4488 - accuracy: 0.8468 - val_loss: 0.4775 - val_accuracy: 0.8323\n",
      "Epoch 12/20\n",
      "60000/60000 [==============================] - 1s 23us/sample - loss: 0.4416 - accuracy: 0.8488 - val_loss: 0.4707 - val_accuracy: 0.8378\n",
      "Epoch 13/20\n",
      "60000/60000 [==============================] - 1s 23us/sample - loss: 0.4359 - accuracy: 0.8503 - val_loss: 0.4637 - val_accuracy: 0.8391\n",
      "Epoch 14/20\n",
      "57984/60000 [===========================>..] - ETA: 0s - loss: 0.4306 - accuracy: 0.8507Restoring model weights from the end of the best epoch.\n",
      "60000/60000 [==============================] - 1s 22us/sample - loss: 0.4307 - accuracy: 0.8512 - val_loss: 0.4646 - val_accuracy: 0.8348\n",
      "Epoch 00014: early stopping\n",
      "wandb: Agent Finished Run: 8aj9go7p \n",
      "\n",
      "wandb: Agent Starting Run: 7ejfsgi1 with config:\n",
      "\tepochs: 20\n",
      "\tlearning_rate: 0.001\n",
      "\toptimizer: sgd\n",
      "wandb: Agent Started Run: 7ejfsgi1\n"
     ]
    },
    {
     "data": {
      "text/html": [
       "\n",
       "                Logging results to <a href=\"https://wandb.com\" target=\"_blank\">Weights & Biases</a> <a href=\"https://docs.wandb.com/integrations/jupyter.html\" target=\"_blank\">(Documentation)</a>.<br/>\n",
       "                Project page: <a href=\"https://app.wandb.ai/sayakpaul/reproducible-ml\" target=\"_blank\">https://app.wandb.ai/sayakpaul/reproducible-ml</a><br/>\n",
       "                Sweep page: <a href=\"https://app.wandb.ai/sayakpaul/reproducible-ml/sweeps/6t8t4d6s\" target=\"_blank\">https://app.wandb.ai/sayakpaul/reproducible-ml/sweeps/6t8t4d6s</a><br/>\n",
       "Run page: <a href=\"https://app.wandb.ai/sayakpaul/reproducible-ml/runs/7ejfsgi1\" target=\"_blank\">https://app.wandb.ai/sayakpaul/reproducible-ml/runs/7ejfsgi1</a><br/>\n",
       "            "
      ],
      "text/plain": [
       "<IPython.core.display.HTML object>"
      ]
     },
     "metadata": {},
     "output_type": "display_data"
    },
    {
     "name": "stderr",
     "output_type": "stream",
     "text": [
      "Error generating diff: Reference at 'refs/remotes/origin/master' does not exist\n"
     ]
    },
    {
     "name": "stdout",
     "output_type": "stream",
     "text": [
      "Train on 60000 samples, validate on 10000 samples\n",
      "Epoch 1/20\n",
      "60000/60000 [==============================] - 2s 34us/sample - loss: 1.0310 - accuracy: 0.6870 - val_loss: 0.7503 - val_accuracy: 0.7553\n",
      "Epoch 2/20\n",
      "60000/60000 [==============================] - 1s 23us/sample - loss: 0.6687 - accuracy: 0.7862 - val_loss: 0.6417 - val_accuracy: 0.7864\n",
      "Epoch 3/20\n",
      "60000/60000 [==============================] - 1s 22us/sample - loss: 0.5911 - accuracy: 0.8082 - val_loss: 0.5869 - val_accuracy: 0.8050\n",
      "Epoch 4/20\n",
      "60000/60000 [==============================] - 1s 23us/sample - loss: 0.5491 - accuracy: 0.8191 - val_loss: 0.5601 - val_accuracy: 0.8074\n",
      "Epoch 5/20\n",
      "60000/60000 [==============================] - 1s 23us/sample - loss: 0.5216 - accuracy: 0.8250 - val_loss: 0.5358 - val_accuracy: 0.8149\n",
      "Epoch 6/20\n",
      "60000/60000 [==============================] - 1s 22us/sample - loss: 0.5025 - accuracy: 0.8312 - val_loss: 0.5254 - val_accuracy: 0.8183\n",
      "Epoch 7/20\n",
      "60000/60000 [==============================] - 1s 22us/sample - loss: 0.4876 - accuracy: 0.8351 - val_loss: 0.5084 - val_accuracy: 0.8253\n",
      "Epoch 8/20\n",
      "60000/60000 [==============================] - 1s 22us/sample - loss: 0.4754 - accuracy: 0.8389 - val_loss: 0.4991 - val_accuracy: 0.8282\n",
      "Epoch 9/20\n",
      "60000/60000 [==============================] - 1s 22us/sample - loss: 0.4649 - accuracy: 0.8424 - val_loss: 0.4959 - val_accuracy: 0.8267\n",
      "Epoch 10/20\n",
      "60000/60000 [==============================] - 1s 22us/sample - loss: 0.4563 - accuracy: 0.8436 - val_loss: 0.4827 - val_accuracy: 0.8341\n",
      "Epoch 11/20\n",
      "60000/60000 [==============================] - 1s 23us/sample - loss: 0.4488 - accuracy: 0.8468 - val_loss: 0.4775 - val_accuracy: 0.8323\n",
      "Epoch 12/20\n",
      "60000/60000 [==============================] - 1s 22us/sample - loss: 0.4416 - accuracy: 0.8488 - val_loss: 0.4707 - val_accuracy: 0.8378\n",
      "Epoch 13/20\n",
      "60000/60000 [==============================] - 1s 23us/sample - loss: 0.4359 - accuracy: 0.8503 - val_loss: 0.4637 - val_accuracy: 0.8391\n",
      "Epoch 14/20\n",
      "59008/60000 [============================>.] - ETA: 0s - loss: 0.4304 - accuracy: 0.8510Restoring model weights from the end of the best epoch.\n",
      "60000/60000 [==============================] - 1s 22us/sample - loss: 0.4307 - accuracy: 0.8512 - val_loss: 0.4646 - val_accuracy: 0.8348\n",
      "Epoch 00014: early stopping\n",
      "wandb: Agent Finished Run: 7ejfsgi1 \n",
      "\n",
      "wandb: Agent Starting Run: qmi46s20 with config:\n",
      "\tepochs: 10\n",
      "\tlearning_rate: 0.0003\n",
      "\toptimizer: sgd\n",
      "wandb: Agent Started Run: qmi46s20\n"
     ]
    },
    {
     "data": {
      "text/html": [
       "\n",
       "                Logging results to <a href=\"https://wandb.com\" target=\"_blank\">Weights & Biases</a> <a href=\"https://docs.wandb.com/integrations/jupyter.html\" target=\"_blank\">(Documentation)</a>.<br/>\n",
       "                Project page: <a href=\"https://app.wandb.ai/sayakpaul/reproducible-ml\" target=\"_blank\">https://app.wandb.ai/sayakpaul/reproducible-ml</a><br/>\n",
       "                Sweep page: <a href=\"https://app.wandb.ai/sayakpaul/reproducible-ml/sweeps/6t8t4d6s\" target=\"_blank\">https://app.wandb.ai/sayakpaul/reproducible-ml/sweeps/6t8t4d6s</a><br/>\n",
       "Run page: <a href=\"https://app.wandb.ai/sayakpaul/reproducible-ml/runs/qmi46s20\" target=\"_blank\">https://app.wandb.ai/sayakpaul/reproducible-ml/runs/qmi46s20</a><br/>\n",
       "            "
      ],
      "text/plain": [
       "<IPython.core.display.HTML object>"
      ]
     },
     "metadata": {},
     "output_type": "display_data"
    },
    {
     "name": "stderr",
     "output_type": "stream",
     "text": [
      "Error generating diff: Reference at 'refs/remotes/origin/master' does not exist\n"
     ]
    },
    {
     "name": "stdout",
     "output_type": "stream",
     "text": [
      "Train on 60000 samples, validate on 10000 samples\n",
      "Epoch 1/10\n",
      "60000/60000 [==============================] - 2s 33us/sample - loss: 1.0310 - accuracy: 0.6870 - val_loss: 0.7503 - val_accuracy: 0.7553\n",
      "Epoch 2/10\n",
      "60000/60000 [==============================] - 1s 22us/sample - loss: 0.6687 - accuracy: 0.7862 - val_loss: 0.6417 - val_accuracy: 0.7864\n",
      "Epoch 3/10\n",
      "60000/60000 [==============================] - 1s 22us/sample - loss: 0.5911 - accuracy: 0.8082 - val_loss: 0.5869 - val_accuracy: 0.8050\n",
      "Epoch 4/10\n",
      "60000/60000 [==============================] - 1s 22us/sample - loss: 0.5491 - accuracy: 0.8191 - val_loss: 0.5601 - val_accuracy: 0.8074\n",
      "Epoch 5/10\n",
      "60000/60000 [==============================] - 1s 23us/sample - loss: 0.5216 - accuracy: 0.8250 - val_loss: 0.5358 - val_accuracy: 0.8149\n",
      "Epoch 6/10\n",
      "60000/60000 [==============================] - 1s 22us/sample - loss: 0.5025 - accuracy: 0.8312 - val_loss: 0.5254 - val_accuracy: 0.8183\n",
      "Epoch 7/10\n",
      "60000/60000 [==============================] - 1s 23us/sample - loss: 0.4876 - accuracy: 0.8351 - val_loss: 0.5084 - val_accuracy: 0.8253\n",
      "Epoch 8/10\n",
      "60000/60000 [==============================] - 1s 22us/sample - loss: 0.4754 - accuracy: 0.8389 - val_loss: 0.4991 - val_accuracy: 0.8282\n",
      "Epoch 9/10\n",
      "60000/60000 [==============================] - 1s 23us/sample - loss: 0.4649 - accuracy: 0.8424 - val_loss: 0.4959 - val_accuracy: 0.8267\n",
      "Epoch 10/10\n",
      "60000/60000 [==============================] - 1s 22us/sample - loss: 0.4563 - accuracy: 0.8436 - val_loss: 0.4827 - val_accuracy: 0.8341\n",
      "wandb: Agent Finished Run: qmi46s20 \n",
      "\n",
      "wandb: Agent Starting Run: gq5op0np with config:\n",
      "\tepochs: 10\n",
      "\tlearning_rate: 1e-05\n",
      "\toptimizer: sgd\n",
      "wandb: Agent Started Run: gq5op0np\n"
     ]
    },
    {
     "data": {
      "text/html": [
       "\n",
       "                Logging results to <a href=\"https://wandb.com\" target=\"_blank\">Weights & Biases</a> <a href=\"https://docs.wandb.com/integrations/jupyter.html\" target=\"_blank\">(Documentation)</a>.<br/>\n",
       "                Project page: <a href=\"https://app.wandb.ai/sayakpaul/reproducible-ml\" target=\"_blank\">https://app.wandb.ai/sayakpaul/reproducible-ml</a><br/>\n",
       "                Sweep page: <a href=\"https://app.wandb.ai/sayakpaul/reproducible-ml/sweeps/6t8t4d6s\" target=\"_blank\">https://app.wandb.ai/sayakpaul/reproducible-ml/sweeps/6t8t4d6s</a><br/>\n",
       "Run page: <a href=\"https://app.wandb.ai/sayakpaul/reproducible-ml/runs/gq5op0np\" target=\"_blank\">https://app.wandb.ai/sayakpaul/reproducible-ml/runs/gq5op0np</a><br/>\n",
       "            "
      ],
      "text/plain": [
       "<IPython.core.display.HTML object>"
      ]
     },
     "metadata": {},
     "output_type": "display_data"
    },
    {
     "name": "stderr",
     "output_type": "stream",
     "text": [
      "Error generating diff: Reference at 'refs/remotes/origin/master' does not exist\n"
     ]
    },
    {
     "name": "stdout",
     "output_type": "stream",
     "text": [
      "Train on 60000 samples, validate on 10000 samples\n",
      "Epoch 1/10\n",
      "60000/60000 [==============================] - 2s 34us/sample - loss: 1.0310 - accuracy: 0.6870 - val_loss: 0.7503 - val_accuracy: 0.7553\n",
      "Epoch 2/10\n",
      "60000/60000 [==============================] - 1s 23us/sample - loss: 0.6687 - accuracy: 0.7862 - val_loss: 0.6417 - val_accuracy: 0.7864\n",
      "Epoch 3/10\n",
      "60000/60000 [==============================] - 1s 23us/sample - loss: 0.5911 - accuracy: 0.8082 - val_loss: 0.5869 - val_accuracy: 0.8050\n",
      "Epoch 4/10\n",
      "60000/60000 [==============================] - 1s 23us/sample - loss: 0.5491 - accuracy: 0.8191 - val_loss: 0.5601 - val_accuracy: 0.8074\n",
      "Epoch 5/10\n",
      "60000/60000 [==============================] - 1s 22us/sample - loss: 0.5216 - accuracy: 0.8250 - val_loss: 0.5358 - val_accuracy: 0.8149\n",
      "Epoch 6/10\n",
      "60000/60000 [==============================] - 1s 22us/sample - loss: 0.5025 - accuracy: 0.8312 - val_loss: 0.5254 - val_accuracy: 0.8183\n",
      "Epoch 7/10\n",
      "60000/60000 [==============================] - 1s 23us/sample - loss: 0.4876 - accuracy: 0.8351 - val_loss: 0.5084 - val_accuracy: 0.8253\n",
      "Epoch 8/10\n",
      "60000/60000 [==============================] - 1s 22us/sample - loss: 0.4754 - accuracy: 0.8389 - val_loss: 0.4991 - val_accuracy: 0.8282\n",
      "Epoch 9/10\n",
      "60000/60000 [==============================] - 1s 23us/sample - loss: 0.4649 - accuracy: 0.8424 - val_loss: 0.4959 - val_accuracy: 0.8267\n",
      "Epoch 10/10\n",
      "60000/60000 [==============================] - 1s 22us/sample - loss: 0.4563 - accuracy: 0.8436 - val_loss: 0.4827 - val_accuracy: 0.8341\n",
      "wandb: Agent Finished Run: gq5op0np \n",
      "\n",
      "wandb: Agent Starting Run: ixxelrkj with config:\n",
      "\tepochs: 20\n",
      "\tlearning_rate: 0.0001\n",
      "\toptimizer: adam\n",
      "wandb: Agent Started Run: ixxelrkj\n"
     ]
    },
    {
     "data": {
      "text/html": [
       "\n",
       "                Logging results to <a href=\"https://wandb.com\" target=\"_blank\">Weights & Biases</a> <a href=\"https://docs.wandb.com/integrations/jupyter.html\" target=\"_blank\">(Documentation)</a>.<br/>\n",
       "                Project page: <a href=\"https://app.wandb.ai/sayakpaul/reproducible-ml\" target=\"_blank\">https://app.wandb.ai/sayakpaul/reproducible-ml</a><br/>\n",
       "                Sweep page: <a href=\"https://app.wandb.ai/sayakpaul/reproducible-ml/sweeps/6t8t4d6s\" target=\"_blank\">https://app.wandb.ai/sayakpaul/reproducible-ml/sweeps/6t8t4d6s</a><br/>\n",
       "Run page: <a href=\"https://app.wandb.ai/sayakpaul/reproducible-ml/runs/ixxelrkj\" target=\"_blank\">https://app.wandb.ai/sayakpaul/reproducible-ml/runs/ixxelrkj</a><br/>\n",
       "            "
      ],
      "text/plain": [
       "<IPython.core.display.HTML object>"
      ]
     },
     "metadata": {},
     "output_type": "display_data"
    },
    {
     "name": "stderr",
     "output_type": "stream",
     "text": [
      "Error generating diff: Reference at 'refs/remotes/origin/master' does not exist\n"
     ]
    },
    {
     "name": "stdout",
     "output_type": "stream",
     "text": [
      "Train on 60000 samples, validate on 10000 samples\n",
      "Epoch 1/20\n",
      "60000/60000 [==============================] - 2s 34us/sample - loss: 0.5257 - accuracy: 0.8180 - val_loss: 0.4436 - val_accuracy: 0.8460\n",
      "Epoch 2/20\n",
      "60000/60000 [==============================] - 1s 23us/sample - loss: 0.3913 - accuracy: 0.8607 - val_loss: 0.3942 - val_accuracy: 0.8611\n",
      "Epoch 3/20\n",
      "60000/60000 [==============================] - 1s 23us/sample - loss: 0.3493 - accuracy: 0.8747 - val_loss: 0.3751 - val_accuracy: 0.8612\n",
      "Epoch 4/20\n",
      "60000/60000 [==============================] - 1s 23us/sample - loss: 0.3207 - accuracy: 0.8842 - val_loss: 0.3597 - val_accuracy: 0.8716\n",
      "Epoch 5/20\n",
      "60000/60000 [==============================] - 1s 23us/sample - loss: 0.3072 - accuracy: 0.8881 - val_loss: 0.3488 - val_accuracy: 0.8747\n",
      "Epoch 6/20\n",
      "57472/60000 [===========================>..] - ETA: 0s - loss: 0.2887 - accuracy: 0.8938Restoring model weights from the end of the best epoch.\n",
      "60000/60000 [==============================] - 1s 23us/sample - loss: 0.2888 - accuracy: 0.8938 - val_loss: 0.3519 - val_accuracy: 0.8749\n",
      "Epoch 00006: early stopping\n",
      "wandb: Agent Finished Run: ixxelrkj \n",
      "\n",
      "wandb: Agent Starting Run: 4qvr48mp with config:\n",
      "\tepochs: 15\n",
      "\tlearning_rate: 0.001\n",
      "\toptimizer: adam\n",
      "wandb: Agent Started Run: 4qvr48mp\n"
     ]
    },
    {
     "data": {
      "text/html": [
       "\n",
       "                Logging results to <a href=\"https://wandb.com\" target=\"_blank\">Weights & Biases</a> <a href=\"https://docs.wandb.com/integrations/jupyter.html\" target=\"_blank\">(Documentation)</a>.<br/>\n",
       "                Project page: <a href=\"https://app.wandb.ai/sayakpaul/reproducible-ml\" target=\"_blank\">https://app.wandb.ai/sayakpaul/reproducible-ml</a><br/>\n",
       "                Sweep page: <a href=\"https://app.wandb.ai/sayakpaul/reproducible-ml/sweeps/6t8t4d6s\" target=\"_blank\">https://app.wandb.ai/sayakpaul/reproducible-ml/sweeps/6t8t4d6s</a><br/>\n",
       "Run page: <a href=\"https://app.wandb.ai/sayakpaul/reproducible-ml/runs/4qvr48mp\" target=\"_blank\">https://app.wandb.ai/sayakpaul/reproducible-ml/runs/4qvr48mp</a><br/>\n",
       "            "
      ],
      "text/plain": [
       "<IPython.core.display.HTML object>"
      ]
     },
     "metadata": {},
     "output_type": "display_data"
    },
    {
     "name": "stderr",
     "output_type": "stream",
     "text": [
      "Error generating diff: Reference at 'refs/remotes/origin/master' does not exist\n"
     ]
    },
    {
     "name": "stdout",
     "output_type": "stream",
     "text": [
      "Train on 60000 samples, validate on 10000 samples\n",
      "Epoch 1/15\n",
      "60000/60000 [==============================] - 2s 35us/sample - loss: 0.5257 - accuracy: 0.8180 - val_loss: 0.4436 - val_accuracy: 0.8460\n",
      "Epoch 2/15\n",
      "60000/60000 [==============================] - 1s 24us/sample - loss: 0.3913 - accuracy: 0.8607 - val_loss: 0.3942 - val_accuracy: 0.8611\n",
      "Epoch 3/15\n",
      "60000/60000 [==============================] - 1s 23us/sample - loss: 0.3493 - accuracy: 0.8747 - val_loss: 0.3751 - val_accuracy: 0.8612\n",
      "Epoch 4/15\n",
      "60000/60000 [==============================] - 1s 23us/sample - loss: 0.3207 - accuracy: 0.8842 - val_loss: 0.3597 - val_accuracy: 0.8716\n",
      "Epoch 5/15\n",
      "60000/60000 [==============================] - 1s 23us/sample - loss: 0.3072 - accuracy: 0.8881 - val_loss: 0.3488 - val_accuracy: 0.8747\n",
      "Epoch 6/15\n",
      "59392/60000 [============================>.] - ETA: 0s - loss: 0.2891 - accuracy: 0.8936Restoring model weights from the end of the best epoch.\n",
      "60000/60000 [==============================] - 1s 23us/sample - loss: 0.2888 - accuracy: 0.8938 - val_loss: 0.3519 - val_accuracy: 0.8749\n",
      "Epoch 00006: early stopping\n",
      "wandb: Agent Finished Run: 4qvr48mp \n",
      "\n",
      "wandb: Agent Starting Run: s978hf4z with config:\n",
      "\tepochs: 15\n",
      "\tlearning_rate: 0.0001\n",
      "\toptimizer: adam\n",
      "wandb: Agent Started Run: s978hf4z\n"
     ]
    },
    {
     "data": {
      "text/html": [
       "\n",
       "                Logging results to <a href=\"https://wandb.com\" target=\"_blank\">Weights & Biases</a> <a href=\"https://docs.wandb.com/integrations/jupyter.html\" target=\"_blank\">(Documentation)</a>.<br/>\n",
       "                Project page: <a href=\"https://app.wandb.ai/sayakpaul/reproducible-ml\" target=\"_blank\">https://app.wandb.ai/sayakpaul/reproducible-ml</a><br/>\n",
       "                Sweep page: <a href=\"https://app.wandb.ai/sayakpaul/reproducible-ml/sweeps/6t8t4d6s\" target=\"_blank\">https://app.wandb.ai/sayakpaul/reproducible-ml/sweeps/6t8t4d6s</a><br/>\n",
       "Run page: <a href=\"https://app.wandb.ai/sayakpaul/reproducible-ml/runs/s978hf4z\" target=\"_blank\">https://app.wandb.ai/sayakpaul/reproducible-ml/runs/s978hf4z</a><br/>\n",
       "            "
      ],
      "text/plain": [
       "<IPython.core.display.HTML object>"
      ]
     },
     "metadata": {},
     "output_type": "display_data"
    },
    {
     "name": "stderr",
     "output_type": "stream",
     "text": [
      "Error generating diff: Reference at 'refs/remotes/origin/master' does not exist\n"
     ]
    },
    {
     "name": "stdout",
     "output_type": "stream",
     "text": [
      "Train on 60000 samples, validate on 10000 samples\n",
      "Epoch 1/15\n",
      "60000/60000 [==============================] - 2s 35us/sample - loss: 0.5257 - accuracy: 0.8180 - val_loss: 0.4436 - val_accuracy: 0.8460\n",
      "Epoch 2/15\n",
      "60000/60000 [==============================] - 1s 24us/sample - loss: 0.3913 - accuracy: 0.8607 - val_loss: 0.3942 - val_accuracy: 0.8611\n",
      "Epoch 3/15\n",
      "60000/60000 [==============================] - 1s 22us/sample - loss: 0.3493 - accuracy: 0.8747 - val_loss: 0.3751 - val_accuracy: 0.8612\n",
      "Epoch 4/15\n",
      "60000/60000 [==============================] - 1s 23us/sample - loss: 0.3207 - accuracy: 0.8842 - val_loss: 0.3597 - val_accuracy: 0.8716\n",
      "Epoch 5/15\n",
      "60000/60000 [==============================] - 1s 23us/sample - loss: 0.3072 - accuracy: 0.8881 - val_loss: 0.3488 - val_accuracy: 0.8747\n",
      "Epoch 6/15\n",
      "57728/60000 [===========================>..] - ETA: 0s - loss: 0.2888 - accuracy: 0.8937Restoring model weights from the end of the best epoch.\n",
      "60000/60000 [==============================] - 1s 23us/sample - loss: 0.2888 - accuracy: 0.8938 - val_loss: 0.3519 - val_accuracy: 0.8749\n",
      "Epoch 00006: early stopping\n",
      "wandb: Agent Finished Run: s978hf4z \n",
      "\n",
      "wandb: Agent Starting Run: kffeeode with config:\n",
      "\tepochs: 15\n",
      "\tlearning_rate: 0.0001\n",
      "\toptimizer: sgd\n",
      "wandb: Agent Started Run: kffeeode\n"
     ]
    },
    {
     "data": {
      "text/html": [
       "\n",
       "                Logging results to <a href=\"https://wandb.com\" target=\"_blank\">Weights & Biases</a> <a href=\"https://docs.wandb.com/integrations/jupyter.html\" target=\"_blank\">(Documentation)</a>.<br/>\n",
       "                Project page: <a href=\"https://app.wandb.ai/sayakpaul/reproducible-ml\" target=\"_blank\">https://app.wandb.ai/sayakpaul/reproducible-ml</a><br/>\n",
       "                Sweep page: <a href=\"https://app.wandb.ai/sayakpaul/reproducible-ml/sweeps/6t8t4d6s\" target=\"_blank\">https://app.wandb.ai/sayakpaul/reproducible-ml/sweeps/6t8t4d6s</a><br/>\n",
       "Run page: <a href=\"https://app.wandb.ai/sayakpaul/reproducible-ml/runs/kffeeode\" target=\"_blank\">https://app.wandb.ai/sayakpaul/reproducible-ml/runs/kffeeode</a><br/>\n",
       "            "
      ],
      "text/plain": [
       "<IPython.core.display.HTML object>"
      ]
     },
     "metadata": {},
     "output_type": "display_data"
    },
    {
     "name": "stderr",
     "output_type": "stream",
     "text": [
      "Error generating diff: Reference at 'refs/remotes/origin/master' does not exist\n"
     ]
    },
    {
     "name": "stdout",
     "output_type": "stream",
     "text": [
      "Train on 60000 samples, validate on 10000 samples\n",
      "Epoch 1/15\n",
      "60000/60000 [==============================] - 2s 33us/sample - loss: 1.0310 - accuracy: 0.6870 - val_loss: 0.7503 - val_accuracy: 0.7553\n",
      "Epoch 2/15\n",
      "60000/60000 [==============================] - 1s 23us/sample - loss: 0.6687 - accuracy: 0.7862 - val_loss: 0.6417 - val_accuracy: 0.7864\n",
      "Epoch 3/15\n",
      "60000/60000 [==============================] - 1s 22us/sample - loss: 0.5911 - accuracy: 0.8082 - val_loss: 0.5869 - val_accuracy: 0.8050\n",
      "Epoch 4/15\n",
      "60000/60000 [==============================] - 1s 22us/sample - loss: 0.5491 - accuracy: 0.8191 - val_loss: 0.5601 - val_accuracy: 0.8074\n",
      "Epoch 5/15\n",
      "60000/60000 [==============================] - 1s 22us/sample - loss: 0.5216 - accuracy: 0.8250 - val_loss: 0.5358 - val_accuracy: 0.8149\n",
      "Epoch 6/15\n",
      "60000/60000 [==============================] - 1s 22us/sample - loss: 0.5025 - accuracy: 0.8312 - val_loss: 0.5254 - val_accuracy: 0.8183\n",
      "Epoch 7/15\n",
      "60000/60000 [==============================] - 1s 23us/sample - loss: 0.4876 - accuracy: 0.8351 - val_loss: 0.5084 - val_accuracy: 0.8253\n",
      "Epoch 8/15\n",
      "60000/60000 [==============================] - 1s 22us/sample - loss: 0.4754 - accuracy: 0.8389 - val_loss: 0.4991 - val_accuracy: 0.8282\n",
      "Epoch 9/15\n",
      "60000/60000 [==============================] - 1s 22us/sample - loss: 0.4649 - accuracy: 0.8424 - val_loss: 0.4959 - val_accuracy: 0.8267\n",
      "Epoch 10/15\n",
      "60000/60000 [==============================] - 1s 22us/sample - loss: 0.4563 - accuracy: 0.8436 - val_loss: 0.4827 - val_accuracy: 0.8341\n",
      "Epoch 11/15\n",
      "60000/60000 [==============================] - 1s 23us/sample - loss: 0.4488 - accuracy: 0.8468 - val_loss: 0.4775 - val_accuracy: 0.8323\n",
      "Epoch 12/15\n",
      "60000/60000 [==============================] - 1s 22us/sample - loss: 0.4416 - accuracy: 0.8488 - val_loss: 0.4707 - val_accuracy: 0.8378\n",
      "Epoch 13/15\n",
      "60000/60000 [==============================] - 1s 23us/sample - loss: 0.4359 - accuracy: 0.8503 - val_loss: 0.4637 - val_accuracy: 0.8391\n",
      "Epoch 14/15\n",
      "59264/60000 [============================>.] - ETA: 0s - loss: 0.4307 - accuracy: 0.8512Restoring model weights from the end of the best epoch.\n",
      "60000/60000 [==============================] - 1s 22us/sample - loss: 0.4307 - accuracy: 0.8512 - val_loss: 0.4646 - val_accuracy: 0.8348\n",
      "Epoch 00014: early stopping\n",
      "wandb: Agent Finished Run: kffeeode \n",
      "\n",
      "wandb: Agent Starting Run: kfmyzypl with config:\n",
      "\tepochs: 15\n",
      "\tlearning_rate: 3e-05\n",
      "\toptimizer: sgd\n",
      "wandb: Agent Started Run: kfmyzypl\n"
     ]
    },
    {
     "data": {
      "text/html": [
       "\n",
       "                Logging results to <a href=\"https://wandb.com\" target=\"_blank\">Weights & Biases</a> <a href=\"https://docs.wandb.com/integrations/jupyter.html\" target=\"_blank\">(Documentation)</a>.<br/>\n",
       "                Project page: <a href=\"https://app.wandb.ai/sayakpaul/reproducible-ml\" target=\"_blank\">https://app.wandb.ai/sayakpaul/reproducible-ml</a><br/>\n",
       "                Sweep page: <a href=\"https://app.wandb.ai/sayakpaul/reproducible-ml/sweeps/6t8t4d6s\" target=\"_blank\">https://app.wandb.ai/sayakpaul/reproducible-ml/sweeps/6t8t4d6s</a><br/>\n",
       "Run page: <a href=\"https://app.wandb.ai/sayakpaul/reproducible-ml/runs/kfmyzypl\" target=\"_blank\">https://app.wandb.ai/sayakpaul/reproducible-ml/runs/kfmyzypl</a><br/>\n",
       "            "
      ],
      "text/plain": [
       "<IPython.core.display.HTML object>"
      ]
     },
     "metadata": {},
     "output_type": "display_data"
    },
    {
     "name": "stderr",
     "output_type": "stream",
     "text": [
      "Error generating diff: Reference at 'refs/remotes/origin/master' does not exist\n"
     ]
    },
    {
     "name": "stdout",
     "output_type": "stream",
     "text": [
      "Train on 60000 samples, validate on 10000 samples\n",
      "Epoch 1/15\n",
      "60000/60000 [==============================] - 2s 37us/sample - loss: 1.0310 - accuracy: 0.6870 - val_loss: 0.7503 - val_accuracy: 0.7553\n",
      "Epoch 2/15\n",
      "60000/60000 [==============================] - 2s 27us/sample - loss: 0.6687 - accuracy: 0.7862 - val_loss: 0.6417 - val_accuracy: 0.7864\n",
      "Epoch 3/15\n",
      "60000/60000 [==============================] - 2s 26us/sample - loss: 0.5911 - accuracy: 0.8082 - val_loss: 0.5869 - val_accuracy: 0.8050\n",
      "Epoch 4/15\n",
      "60000/60000 [==============================] - 2s 26us/sample - loss: 0.5491 - accuracy: 0.8191 - val_loss: 0.5601 - val_accuracy: 0.8074\n",
      "Epoch 5/15\n",
      "60000/60000 [==============================] - 1s 25us/sample - loss: 0.5216 - accuracy: 0.8250 - val_loss: 0.5358 - val_accuracy: 0.8149\n",
      "Epoch 6/15\n",
      "60000/60000 [==============================] - 1s 23us/sample - loss: 0.5025 - accuracy: 0.8312 - val_loss: 0.5254 - val_accuracy: 0.8183\n",
      "Epoch 7/15\n",
      "60000/60000 [==============================] - 1s 22us/sample - loss: 0.4876 - accuracy: 0.8351 - val_loss: 0.5084 - val_accuracy: 0.8253\n",
      "Epoch 8/15\n",
      "60000/60000 [==============================] - 1s 23us/sample - loss: 0.4754 - accuracy: 0.8389 - val_loss: 0.4991 - val_accuracy: 0.8282\n",
      "Epoch 9/15\n",
      "60000/60000 [==============================] - 1s 22us/sample - loss: 0.4649 - accuracy: 0.8424 - val_loss: 0.4959 - val_accuracy: 0.8267\n",
      "Epoch 10/15\n",
      "60000/60000 [==============================] - 1s 22us/sample - loss: 0.4563 - accuracy: 0.8436 - val_loss: 0.4827 - val_accuracy: 0.8341\n",
      "Epoch 11/15\n",
      "60000/60000 [==============================] - 1s 22us/sample - loss: 0.4488 - accuracy: 0.8468 - val_loss: 0.4775 - val_accuracy: 0.8323\n",
      "Epoch 12/15\n",
      "60000/60000 [==============================] - 1s 22us/sample - loss: 0.4416 - accuracy: 0.8488 - val_loss: 0.4707 - val_accuracy: 0.8378\n",
      "Epoch 13/15\n",
      "60000/60000 [==============================] - 1s 22us/sample - loss: 0.4359 - accuracy: 0.8503 - val_loss: 0.4637 - val_accuracy: 0.8391\n",
      "Epoch 14/15\n",
      "58240/60000 [============================>.] - ETA: 0s - loss: 0.4302 - accuracy: 0.8510Restoring model weights from the end of the best epoch.\n",
      "60000/60000 [==============================] - 1s 22us/sample - loss: 0.4307 - accuracy: 0.8512 - val_loss: 0.4646 - val_accuracy: 0.8348\n",
      "Epoch 00014: early stopping\n",
      "wandb: Agent Finished Run: kfmyzypl \n",
      "\n",
      "wandb: Agent Starting Run: q5x5kdla with config:\n",
      "\tepochs: 15\n",
      "\tlearning_rate: 0.001\n",
      "\toptimizer: sgd\n",
      "wandb: Agent Started Run: q5x5kdla\n"
     ]
    },
    {
     "data": {
      "text/html": [
       "\n",
       "                Logging results to <a href=\"https://wandb.com\" target=\"_blank\">Weights & Biases</a> <a href=\"https://docs.wandb.com/integrations/jupyter.html\" target=\"_blank\">(Documentation)</a>.<br/>\n",
       "                Project page: <a href=\"https://app.wandb.ai/sayakpaul/reproducible-ml\" target=\"_blank\">https://app.wandb.ai/sayakpaul/reproducible-ml</a><br/>\n",
       "                Sweep page: <a href=\"https://app.wandb.ai/sayakpaul/reproducible-ml/sweeps/6t8t4d6s\" target=\"_blank\">https://app.wandb.ai/sayakpaul/reproducible-ml/sweeps/6t8t4d6s</a><br/>\n",
       "Run page: <a href=\"https://app.wandb.ai/sayakpaul/reproducible-ml/runs/q5x5kdla\" target=\"_blank\">https://app.wandb.ai/sayakpaul/reproducible-ml/runs/q5x5kdla</a><br/>\n",
       "            "
      ],
      "text/plain": [
       "<IPython.core.display.HTML object>"
      ]
     },
     "metadata": {},
     "output_type": "display_data"
    },
    {
     "name": "stderr",
     "output_type": "stream",
     "text": [
      "Error generating diff: Reference at 'refs/remotes/origin/master' does not exist\n"
     ]
    },
    {
     "name": "stdout",
     "output_type": "stream",
     "text": [
      "Train on 60000 samples, validate on 10000 samples\n",
      "Epoch 1/15\n",
      "60000/60000 [==============================] - 2s 33us/sample - loss: 1.0310 - accuracy: 0.6870 - val_loss: 0.7503 - val_accuracy: 0.7553\n",
      "Epoch 2/15\n",
      "60000/60000 [==============================] - 1s 23us/sample - loss: 0.6687 - accuracy: 0.7862 - val_loss: 0.6417 - val_accuracy: 0.7864\n",
      "Epoch 3/15\n",
      "60000/60000 [==============================] - 1s 22us/sample - loss: 0.5911 - accuracy: 0.8082 - val_loss: 0.5869 - val_accuracy: 0.8050\n",
      "Epoch 4/15\n",
      "60000/60000 [==============================] - 1s 22us/sample - loss: 0.5491 - accuracy: 0.8191 - val_loss: 0.5601 - val_accuracy: 0.8074\n",
      "Epoch 5/15\n",
      "60000/60000 [==============================] - 1s 22us/sample - loss: 0.5216 - accuracy: 0.8250 - val_loss: 0.5358 - val_accuracy: 0.8149\n",
      "Epoch 6/15\n",
      "60000/60000 [==============================] - 1s 22us/sample - loss: 0.5025 - accuracy: 0.8312 - val_loss: 0.5254 - val_accuracy: 0.8183\n",
      "Epoch 7/15\n",
      "60000/60000 [==============================] - 1s 23us/sample - loss: 0.4876 - accuracy: 0.8351 - val_loss: 0.5084 - val_accuracy: 0.8253\n",
      "Epoch 8/15\n",
      "60000/60000 [==============================] - 1s 22us/sample - loss: 0.4754 - accuracy: 0.8389 - val_loss: 0.4991 - val_accuracy: 0.8282\n",
      "Epoch 9/15\n",
      "60000/60000 [==============================] - 1s 22us/sample - loss: 0.4649 - accuracy: 0.8424 - val_loss: 0.4959 - val_accuracy: 0.8267\n",
      "Epoch 10/15\n",
      "60000/60000 [==============================] - 1s 23us/sample - loss: 0.4563 - accuracy: 0.8436 - val_loss: 0.4827 - val_accuracy: 0.8341\n",
      "Epoch 11/15\n",
      "60000/60000 [==============================] - 1s 23us/sample - loss: 0.4488 - accuracy: 0.8468 - val_loss: 0.4775 - val_accuracy: 0.8323\n",
      "Epoch 12/15\n",
      "60000/60000 [==============================] - 1s 22us/sample - loss: 0.4416 - accuracy: 0.8488 - val_loss: 0.4707 - val_accuracy: 0.8378\n",
      "Epoch 13/15\n",
      "60000/60000 [==============================] - 1s 23us/sample - loss: 0.4359 - accuracy: 0.8503 - val_loss: 0.4637 - val_accuracy: 0.8391\n",
      "Epoch 14/15\n",
      "57856/60000 [===========================>..] - ETA: 0s - loss: 0.4307 - accuracy: 0.8507Restoring model weights from the end of the best epoch.\n",
      "60000/60000 [==============================] - 1s 22us/sample - loss: 0.4307 - accuracy: 0.8512 - val_loss: 0.4646 - val_accuracy: 0.8348\n",
      "Epoch 00014: early stopping\n",
      "wandb: Agent Finished Run: q5x5kdla \n",
      "\n",
      "wandb: Agent Starting Run: ya0lsirh with config:\n",
      "\tepochs: 20\n",
      "\tlearning_rate: 0.01\n",
      "\toptimizer: adam\n",
      "wandb: Agent Started Run: ya0lsirh\n"
     ]
    },
    {
     "data": {
      "text/html": [
       "\n",
       "                Logging results to <a href=\"https://wandb.com\" target=\"_blank\">Weights & Biases</a> <a href=\"https://docs.wandb.com/integrations/jupyter.html\" target=\"_blank\">(Documentation)</a>.<br/>\n",
       "                Project page: <a href=\"https://app.wandb.ai/sayakpaul/reproducible-ml\" target=\"_blank\">https://app.wandb.ai/sayakpaul/reproducible-ml</a><br/>\n",
       "                Sweep page: <a href=\"https://app.wandb.ai/sayakpaul/reproducible-ml/sweeps/6t8t4d6s\" target=\"_blank\">https://app.wandb.ai/sayakpaul/reproducible-ml/sweeps/6t8t4d6s</a><br/>\n",
       "Run page: <a href=\"https://app.wandb.ai/sayakpaul/reproducible-ml/runs/ya0lsirh\" target=\"_blank\">https://app.wandb.ai/sayakpaul/reproducible-ml/runs/ya0lsirh</a><br/>\n",
       "            "
      ],
      "text/plain": [
       "<IPython.core.display.HTML object>"
      ]
     },
     "metadata": {},
     "output_type": "display_data"
    },
    {
     "name": "stderr",
     "output_type": "stream",
     "text": [
      "Error generating diff: Reference at 'refs/remotes/origin/master' does not exist\n"
     ]
    },
    {
     "name": "stdout",
     "output_type": "stream",
     "text": [
      "Train on 60000 samples, validate on 10000 samples\n",
      "Epoch 1/20\n",
      "60000/60000 [==============================] - 2s 35us/sample - loss: 0.5257 - accuracy: 0.8180 - val_loss: 0.4436 - val_accuracy: 0.8460\n",
      "Epoch 2/20\n",
      "60000/60000 [==============================] - 1s 23us/sample - loss: 0.3913 - accuracy: 0.8607 - val_loss: 0.3942 - val_accuracy: 0.8611\n",
      "Epoch 3/20\n",
      "60000/60000 [==============================] - 1s 23us/sample - loss: 0.3493 - accuracy: 0.8747 - val_loss: 0.3751 - val_accuracy: 0.8612\n",
      "Epoch 4/20\n",
      "60000/60000 [==============================] - 1s 23us/sample - loss: 0.3207 - accuracy: 0.8842 - val_loss: 0.3597 - val_accuracy: 0.8716\n",
      "Epoch 5/20\n",
      "60000/60000 [==============================] - 1s 23us/sample - loss: 0.3072 - accuracy: 0.8881 - val_loss: 0.3488 - val_accuracy: 0.8747\n",
      "Epoch 6/20\n",
      "58112/60000 [============================>.] - ETA: 0s - loss: 0.2887 - accuracy: 0.8937Restoring model weights from the end of the best epoch.\n",
      "60000/60000 [==============================] - 1s 22us/sample - loss: 0.2888 - accuracy: 0.8938 - val_loss: 0.3519 - val_accuracy: 0.8749\n",
      "Epoch 00006: early stopping\n",
      "wandb: Agent Finished Run: ya0lsirh \n",
      "\n",
      "wandb: Agent Starting Run: trso9lsr with config:\n",
      "\tepochs: 10\n",
      "\tlearning_rate: 0.001\n",
      "\toptimizer: sgd\n",
      "wandb: Agent Started Run: trso9lsr\n"
     ]
    },
    {
     "data": {
      "text/html": [
       "\n",
       "                Logging results to <a href=\"https://wandb.com\" target=\"_blank\">Weights & Biases</a> <a href=\"https://docs.wandb.com/integrations/jupyter.html\" target=\"_blank\">(Documentation)</a>.<br/>\n",
       "                Project page: <a href=\"https://app.wandb.ai/sayakpaul/reproducible-ml\" target=\"_blank\">https://app.wandb.ai/sayakpaul/reproducible-ml</a><br/>\n",
       "                Sweep page: <a href=\"https://app.wandb.ai/sayakpaul/reproducible-ml/sweeps/6t8t4d6s\" target=\"_blank\">https://app.wandb.ai/sayakpaul/reproducible-ml/sweeps/6t8t4d6s</a><br/>\n",
       "Run page: <a href=\"https://app.wandb.ai/sayakpaul/reproducible-ml/runs/trso9lsr\" target=\"_blank\">https://app.wandb.ai/sayakpaul/reproducible-ml/runs/trso9lsr</a><br/>\n",
       "            "
      ],
      "text/plain": [
       "<IPython.core.display.HTML object>"
      ]
     },
     "metadata": {},
     "output_type": "display_data"
    },
    {
     "name": "stderr",
     "output_type": "stream",
     "text": [
      "Error generating diff: Reference at 'refs/remotes/origin/master' does not exist\n"
     ]
    },
    {
     "name": "stdout",
     "output_type": "stream",
     "text": [
      "Train on 60000 samples, validate on 10000 samples\n",
      "Epoch 1/10\n",
      "60000/60000 [==============================] - 2s 34us/sample - loss: 1.0310 - accuracy: 0.6870 - val_loss: 0.7503 - val_accuracy: 0.7553\n",
      "Epoch 2/10\n",
      "60000/60000 [==============================] - 1s 23us/sample - loss: 0.6687 - accuracy: 0.7862 - val_loss: 0.6417 - val_accuracy: 0.7864\n",
      "Epoch 3/10\n",
      "60000/60000 [==============================] - 1s 22us/sample - loss: 0.5911 - accuracy: 0.8082 - val_loss: 0.5869 - val_accuracy: 0.8050\n",
      "Epoch 4/10\n",
      "60000/60000 [==============================] - 1s 23us/sample - loss: 0.5491 - accuracy: 0.8191 - val_loss: 0.5601 - val_accuracy: 0.8074\n",
      "Epoch 5/10\n",
      "60000/60000 [==============================] - 1s 23us/sample - loss: 0.5216 - accuracy: 0.8250 - val_loss: 0.5358 - val_accuracy: 0.8149\n",
      "Epoch 6/10\n",
      "60000/60000 [==============================] - 1s 22us/sample - loss: 0.5025 - accuracy: 0.8312 - val_loss: 0.5254 - val_accuracy: 0.8183\n",
      "Epoch 7/10\n",
      "60000/60000 [==============================] - 1s 23us/sample - loss: 0.4876 - accuracy: 0.8351 - val_loss: 0.5084 - val_accuracy: 0.8253\n",
      "Epoch 8/10\n",
      "60000/60000 [==============================] - 1s 22us/sample - loss: 0.4754 - accuracy: 0.8389 - val_loss: 0.4991 - val_accuracy: 0.8282\n",
      "Epoch 9/10\n",
      "60000/60000 [==============================] - 1s 22us/sample - loss: 0.4649 - accuracy: 0.8424 - val_loss: 0.4959 - val_accuracy: 0.8267\n",
      "Epoch 10/10\n",
      "60000/60000 [==============================] - 1s 23us/sample - loss: 0.4563 - accuracy: 0.8436 - val_loss: 0.4827 - val_accuracy: 0.8341\n",
      "wandb: Agent Finished Run: trso9lsr \n",
      "\n",
      "wandb: Agent Starting Run: 7ik8l4pu with config:\n",
      "\tepochs: 20\n",
      "\tlearning_rate: 0.01\n",
      "\toptimizer: adam\n",
      "wandb: Agent Started Run: 7ik8l4pu\n"
     ]
    },
    {
     "data": {
      "text/html": [
       "\n",
       "                Logging results to <a href=\"https://wandb.com\" target=\"_blank\">Weights & Biases</a> <a href=\"https://docs.wandb.com/integrations/jupyter.html\" target=\"_blank\">(Documentation)</a>.<br/>\n",
       "                Project page: <a href=\"https://app.wandb.ai/sayakpaul/reproducible-ml\" target=\"_blank\">https://app.wandb.ai/sayakpaul/reproducible-ml</a><br/>\n",
       "                Sweep page: <a href=\"https://app.wandb.ai/sayakpaul/reproducible-ml/sweeps/6t8t4d6s\" target=\"_blank\">https://app.wandb.ai/sayakpaul/reproducible-ml/sweeps/6t8t4d6s</a><br/>\n",
       "Run page: <a href=\"https://app.wandb.ai/sayakpaul/reproducible-ml/runs/7ik8l4pu\" target=\"_blank\">https://app.wandb.ai/sayakpaul/reproducible-ml/runs/7ik8l4pu</a><br/>\n",
       "            "
      ],
      "text/plain": [
       "<IPython.core.display.HTML object>"
      ]
     },
     "metadata": {},
     "output_type": "display_data"
    },
    {
     "name": "stderr",
     "output_type": "stream",
     "text": [
      "Error generating diff: Reference at 'refs/remotes/origin/master' does not exist\n"
     ]
    },
    {
     "name": "stdout",
     "output_type": "stream",
     "text": [
      "Train on 60000 samples, validate on 10000 samples\n",
      "Epoch 1/20\n",
      "60000/60000 [==============================] - 2s 34us/sample - loss: 0.5257 - accuracy: 0.8180 - val_loss: 0.4436 - val_accuracy: 0.8460\n",
      "Epoch 2/20\n",
      "60000/60000 [==============================] - 1s 24us/sample - loss: 0.3913 - accuracy: 0.8607 - val_loss: 0.3942 - val_accuracy: 0.8611\n",
      "Epoch 3/20\n",
      "60000/60000 [==============================] - 1s 23us/sample - loss: 0.3493 - accuracy: 0.8747 - val_loss: 0.3751 - val_accuracy: 0.8612\n",
      "Epoch 4/20\n",
      "60000/60000 [==============================] - 1s 23us/sample - loss: 0.3207 - accuracy: 0.8842 - val_loss: 0.3597 - val_accuracy: 0.8716\n",
      "Epoch 5/20\n",
      "60000/60000 [==============================] - 1s 22us/sample - loss: 0.3072 - accuracy: 0.8881 - val_loss: 0.3488 - val_accuracy: 0.8747\n",
      "Epoch 6/20\n",
      "57344/60000 [===========================>..] - ETA: 0s - loss: 0.2888 - accuracy: 0.8938Restoring model weights from the end of the best epoch.\n",
      "60000/60000 [==============================] - 1s 22us/sample - loss: 0.2888 - accuracy: 0.8938 - val_loss: 0.3519 - val_accuracy: 0.8749\n",
      "Epoch 00006: early stopping\n",
      "wandb: Agent Finished Run: 7ik8l4pu \n",
      "\n",
      "wandb: Agent Starting Run: f7fak3gg with config:\n",
      "\tepochs: 20\n",
      "\tlearning_rate: 1e-05\n",
      "\toptimizer: adam\n",
      "wandb: Agent Started Run: f7fak3gg\n"
     ]
    },
    {
     "data": {
      "text/html": [
       "\n",
       "                Logging results to <a href=\"https://wandb.com\" target=\"_blank\">Weights & Biases</a> <a href=\"https://docs.wandb.com/integrations/jupyter.html\" target=\"_blank\">(Documentation)</a>.<br/>\n",
       "                Project page: <a href=\"https://app.wandb.ai/sayakpaul/reproducible-ml\" target=\"_blank\">https://app.wandb.ai/sayakpaul/reproducible-ml</a><br/>\n",
       "                Sweep page: <a href=\"https://app.wandb.ai/sayakpaul/reproducible-ml/sweeps/6t8t4d6s\" target=\"_blank\">https://app.wandb.ai/sayakpaul/reproducible-ml/sweeps/6t8t4d6s</a><br/>\n",
       "Run page: <a href=\"https://app.wandb.ai/sayakpaul/reproducible-ml/runs/f7fak3gg\" target=\"_blank\">https://app.wandb.ai/sayakpaul/reproducible-ml/runs/f7fak3gg</a><br/>\n",
       "            "
      ],
      "text/plain": [
       "<IPython.core.display.HTML object>"
      ]
     },
     "metadata": {},
     "output_type": "display_data"
    },
    {
     "name": "stderr",
     "output_type": "stream",
     "text": [
      "Error generating diff: Reference at 'refs/remotes/origin/master' does not exist\n"
     ]
    },
    {
     "name": "stdout",
     "output_type": "stream",
     "text": [
      "Train on 60000 samples, validate on 10000 samples\n",
      "Epoch 1/20\n",
      "60000/60000 [==============================] - 2s 36us/sample - loss: 0.5257 - accuracy: 0.8180 - val_loss: 0.4436 - val_accuracy: 0.8460\n",
      "Epoch 2/20\n",
      "60000/60000 [==============================] - 1s 24us/sample - loss: 0.3913 - accuracy: 0.8607 - val_loss: 0.3942 - val_accuracy: 0.8611\n",
      "Epoch 3/20\n",
      "60000/60000 [==============================] - 1s 23us/sample - loss: 0.3493 - accuracy: 0.8747 - val_loss: 0.3751 - val_accuracy: 0.8612\n",
      "Epoch 4/20\n",
      "60000/60000 [==============================] - 1s 24us/sample - loss: 0.3207 - accuracy: 0.8842 - val_loss: 0.3597 - val_accuracy: 0.8716\n",
      "Epoch 5/20\n",
      "60000/60000 [==============================] - 1s 23us/sample - loss: 0.3072 - accuracy: 0.8881 - val_loss: 0.3488 - val_accuracy: 0.8747\n",
      "Epoch 6/20\n",
      "58880/60000 [============================>.] - ETA: 0s - loss: 0.2890 - accuracy: 0.8936Restoring model weights from the end of the best epoch.\n",
      "60000/60000 [==============================] - 1s 23us/sample - loss: 0.2888 - accuracy: 0.8938 - val_loss: 0.3519 - val_accuracy: 0.8749\n",
      "Epoch 00006: early stopping\n",
      "wandb: Agent Finished Run: f7fak3gg \n",
      "\n",
      "wandb: Agent Starting Run: 6ry3t7xp with config:\n",
      "\tepochs: 15\n",
      "\tlearning_rate: 0.0001\n",
      "\toptimizer: adam\n",
      "wandb: Agent Started Run: 6ry3t7xp\n"
     ]
    },
    {
     "data": {
      "text/html": [
       "\n",
       "                Logging results to <a href=\"https://wandb.com\" target=\"_blank\">Weights & Biases</a> <a href=\"https://docs.wandb.com/integrations/jupyter.html\" target=\"_blank\">(Documentation)</a>.<br/>\n",
       "                Project page: <a href=\"https://app.wandb.ai/sayakpaul/reproducible-ml\" target=\"_blank\">https://app.wandb.ai/sayakpaul/reproducible-ml</a><br/>\n",
       "                Sweep page: <a href=\"https://app.wandb.ai/sayakpaul/reproducible-ml/sweeps/6t8t4d6s\" target=\"_blank\">https://app.wandb.ai/sayakpaul/reproducible-ml/sweeps/6t8t4d6s</a><br/>\n",
       "Run page: <a href=\"https://app.wandb.ai/sayakpaul/reproducible-ml/runs/6ry3t7xp\" target=\"_blank\">https://app.wandb.ai/sayakpaul/reproducible-ml/runs/6ry3t7xp</a><br/>\n",
       "            "
      ],
      "text/plain": [
       "<IPython.core.display.HTML object>"
      ]
     },
     "metadata": {},
     "output_type": "display_data"
    },
    {
     "name": "stderr",
     "output_type": "stream",
     "text": [
      "Error generating diff: Reference at 'refs/remotes/origin/master' does not exist\n"
     ]
    },
    {
     "name": "stdout",
     "output_type": "stream",
     "text": [
      "Train on 60000 samples, validate on 10000 samples\n",
      "Epoch 1/15\n",
      "60000/60000 [==============================] - 2s 35us/sample - loss: 0.5257 - accuracy: 0.8180 - val_loss: 0.4436 - val_accuracy: 0.8460\n",
      "Epoch 2/15\n",
      "60000/60000 [==============================] - 1s 24us/sample - loss: 0.3913 - accuracy: 0.8607 - val_loss: 0.3942 - val_accuracy: 0.8611\n",
      "Epoch 3/15\n",
      "60000/60000 [==============================] - 1s 23us/sample - loss: 0.3493 - accuracy: 0.8747 - val_loss: 0.3751 - val_accuracy: 0.8612\n",
      "Epoch 4/15\n",
      "60000/60000 [==============================] - 1s 23us/sample - loss: 0.3207 - accuracy: 0.8842 - val_loss: 0.3597 - val_accuracy: 0.8716\n",
      "Epoch 5/15\n",
      "60000/60000 [==============================] - 1s 23us/sample - loss: 0.3072 - accuracy: 0.8881 - val_loss: 0.3488 - val_accuracy: 0.8747\n",
      "Epoch 6/15\n",
      "59264/60000 [============================>.] - ETA: 0s - loss: 0.2890 - accuracy: 0.8936Restoring model weights from the end of the best epoch.\n",
      "60000/60000 [==============================] - 1s 23us/sample - loss: 0.2888 - accuracy: 0.8938 - val_loss: 0.3519 - val_accuracy: 0.8749\n",
      "Epoch 00006: early stopping\n",
      "wandb: Agent Finished Run: 6ry3t7xp \n",
      "\n",
      "wandb: Agent Starting Run: ygq1n69j with config:\n",
      "\tepochs: 10\n",
      "\tlearning_rate: 0.0001\n",
      "\toptimizer: adam\n",
      "wandb: Agent Started Run: ygq1n69j\n"
     ]
    },
    {
     "data": {
      "text/html": [
       "\n",
       "                Logging results to <a href=\"https://wandb.com\" target=\"_blank\">Weights & Biases</a> <a href=\"https://docs.wandb.com/integrations/jupyter.html\" target=\"_blank\">(Documentation)</a>.<br/>\n",
       "                Project page: <a href=\"https://app.wandb.ai/sayakpaul/reproducible-ml\" target=\"_blank\">https://app.wandb.ai/sayakpaul/reproducible-ml</a><br/>\n",
       "                Sweep page: <a href=\"https://app.wandb.ai/sayakpaul/reproducible-ml/sweeps/6t8t4d6s\" target=\"_blank\">https://app.wandb.ai/sayakpaul/reproducible-ml/sweeps/6t8t4d6s</a><br/>\n",
       "Run page: <a href=\"https://app.wandb.ai/sayakpaul/reproducible-ml/runs/ygq1n69j\" target=\"_blank\">https://app.wandb.ai/sayakpaul/reproducible-ml/runs/ygq1n69j</a><br/>\n",
       "            "
      ],
      "text/plain": [
       "<IPython.core.display.HTML object>"
      ]
     },
     "metadata": {},
     "output_type": "display_data"
    },
    {
     "name": "stderr",
     "output_type": "stream",
     "text": [
      "Error generating diff: Reference at 'refs/remotes/origin/master' does not exist\n"
     ]
    },
    {
     "name": "stdout",
     "output_type": "stream",
     "text": [
      "Train on 60000 samples, validate on 10000 samples\n",
      "Epoch 1/10\n",
      "60000/60000 [==============================] - 2s 35us/sample - loss: 0.5257 - accuracy: 0.8180 - val_loss: 0.4436 - val_accuracy: 0.8460\n",
      "Epoch 2/10\n",
      "60000/60000 [==============================] - 1s 23us/sample - loss: 0.3913 - accuracy: 0.8607 - val_loss: 0.3942 - val_accuracy: 0.8611\n",
      "Epoch 3/10\n",
      "60000/60000 [==============================] - 1s 23us/sample - loss: 0.3493 - accuracy: 0.8747 - val_loss: 0.3751 - val_accuracy: 0.8612\n",
      "Epoch 4/10\n",
      "60000/60000 [==============================] - 1s 23us/sample - loss: 0.3207 - accuracy: 0.8842 - val_loss: 0.3597 - val_accuracy: 0.8716\n",
      "Epoch 5/10\n",
      "60000/60000 [==============================] - 1s 23us/sample - loss: 0.3072 - accuracy: 0.8881 - val_loss: 0.3488 - val_accuracy: 0.8747\n",
      "Epoch 6/10\n",
      "59392/60000 [============================>.] - ETA: 0s - loss: 0.2891 - accuracy: 0.8936Restoring model weights from the end of the best epoch.\n",
      "60000/60000 [==============================] - 1s 23us/sample - loss: 0.2888 - accuracy: 0.8938 - val_loss: 0.3519 - val_accuracy: 0.8749\n",
      "Epoch 00006: early stopping\n",
      "wandb: Agent Finished Run: ygq1n69j \n",
      "\n",
      "wandb: Agent Starting Run: binutq6j with config:\n",
      "\tepochs: 10\n",
      "\tlearning_rate: 1e-05\n",
      "\toptimizer: adam\n",
      "wandb: Agent Started Run: binutq6j\n"
     ]
    },
    {
     "data": {
      "text/html": [
       "\n",
       "                Logging results to <a href=\"https://wandb.com\" target=\"_blank\">Weights & Biases</a> <a href=\"https://docs.wandb.com/integrations/jupyter.html\" target=\"_blank\">(Documentation)</a>.<br/>\n",
       "                Project page: <a href=\"https://app.wandb.ai/sayakpaul/reproducible-ml\" target=\"_blank\">https://app.wandb.ai/sayakpaul/reproducible-ml</a><br/>\n",
       "                Sweep page: <a href=\"https://app.wandb.ai/sayakpaul/reproducible-ml/sweeps/6t8t4d6s\" target=\"_blank\">https://app.wandb.ai/sayakpaul/reproducible-ml/sweeps/6t8t4d6s</a><br/>\n",
       "Run page: <a href=\"https://app.wandb.ai/sayakpaul/reproducible-ml/runs/binutq6j\" target=\"_blank\">https://app.wandb.ai/sayakpaul/reproducible-ml/runs/binutq6j</a><br/>\n",
       "            "
      ],
      "text/plain": [
       "<IPython.core.display.HTML object>"
      ]
     },
     "metadata": {},
     "output_type": "display_data"
    },
    {
     "name": "stderr",
     "output_type": "stream",
     "text": [
      "Error generating diff: Reference at 'refs/remotes/origin/master' does not exist\n"
     ]
    },
    {
     "name": "stdout",
     "output_type": "stream",
     "text": [
      "Train on 60000 samples, validate on 10000 samples\n",
      "Epoch 1/10\n",
      "60000/60000 [==============================] - 2s 35us/sample - loss: 0.5257 - accuracy: 0.8180 - val_loss: 0.4436 - val_accuracy: 0.8460\n",
      "Epoch 2/10\n",
      "60000/60000 [==============================] - 1s 23us/sample - loss: 0.3913 - accuracy: 0.8607 - val_loss: 0.3942 - val_accuracy: 0.8611\n",
      "Epoch 3/10\n",
      "60000/60000 [==============================] - 1s 23us/sample - loss: 0.3493 - accuracy: 0.8747 - val_loss: 0.3751 - val_accuracy: 0.8612\n",
      "Epoch 4/10\n",
      "60000/60000 [==============================] - 1s 23us/sample - loss: 0.3207 - accuracy: 0.8842 - val_loss: 0.3597 - val_accuracy: 0.8716\n",
      "Epoch 5/10\n",
      "60000/60000 [==============================] - 1s 23us/sample - loss: 0.3072 - accuracy: 0.8881 - val_loss: 0.3488 - val_accuracy: 0.8747\n",
      "Epoch 6/10\n",
      "59136/60000 [============================>.] - ETA: 0s - loss: 0.2890 - accuracy: 0.8937Restoring model weights from the end of the best epoch.\n",
      "60000/60000 [==============================] - 1s 23us/sample - loss: 0.2888 - accuracy: 0.8938 - val_loss: 0.3519 - val_accuracy: 0.8749\n",
      "Epoch 00006: early stopping\n",
      "wandb: Agent Finished Run: binutq6j \n",
      "\n",
      "wandb: Agent Starting Run: l4cxqevg with config:\n",
      "\tepochs: 20\n",
      "\tlearning_rate: 0.001\n",
      "\toptimizer: adam\n",
      "wandb: Agent Started Run: l4cxqevg\n"
     ]
    },
    {
     "data": {
      "text/html": [
       "\n",
       "                Logging results to <a href=\"https://wandb.com\" target=\"_blank\">Weights & Biases</a> <a href=\"https://docs.wandb.com/integrations/jupyter.html\" target=\"_blank\">(Documentation)</a>.<br/>\n",
       "                Project page: <a href=\"https://app.wandb.ai/sayakpaul/reproducible-ml\" target=\"_blank\">https://app.wandb.ai/sayakpaul/reproducible-ml</a><br/>\n",
       "                Sweep page: <a href=\"https://app.wandb.ai/sayakpaul/reproducible-ml/sweeps/6t8t4d6s\" target=\"_blank\">https://app.wandb.ai/sayakpaul/reproducible-ml/sweeps/6t8t4d6s</a><br/>\n",
       "Run page: <a href=\"https://app.wandb.ai/sayakpaul/reproducible-ml/runs/l4cxqevg\" target=\"_blank\">https://app.wandb.ai/sayakpaul/reproducible-ml/runs/l4cxqevg</a><br/>\n",
       "            "
      ],
      "text/plain": [
       "<IPython.core.display.HTML object>"
      ]
     },
     "metadata": {},
     "output_type": "display_data"
    },
    {
     "name": "stderr",
     "output_type": "stream",
     "text": [
      "Error generating diff: Reference at 'refs/remotes/origin/master' does not exist\n"
     ]
    },
    {
     "name": "stdout",
     "output_type": "stream",
     "text": [
      "Train on 60000 samples, validate on 10000 samples\n",
      "Epoch 1/20\n",
      "60000/60000 [==============================] - 2s 35us/sample - loss: 0.5257 - accuracy: 0.8180 - val_loss: 0.4436 - val_accuracy: 0.8460\n",
      "Epoch 2/20\n",
      "60000/60000 [==============================] - 1s 23us/sample - loss: 0.3913 - accuracy: 0.8607 - val_loss: 0.3942 - val_accuracy: 0.8611\n",
      "Epoch 3/20\n",
      "60000/60000 [==============================] - 1s 23us/sample - loss: 0.3493 - accuracy: 0.8747 - val_loss: 0.3751 - val_accuracy: 0.8612\n",
      "Epoch 4/20\n",
      "60000/60000 [==============================] - 1s 23us/sample - loss: 0.3207 - accuracy: 0.8842 - val_loss: 0.3597 - val_accuracy: 0.8716\n",
      "Epoch 5/20\n",
      "60000/60000 [==============================] - 1s 24us/sample - loss: 0.3072 - accuracy: 0.8881 - val_loss: 0.3488 - val_accuracy: 0.8747\n",
      "Epoch 6/20\n",
      "59776/60000 [============================>.] - ETA: 0s - loss: 0.2891 - accuracy: 0.8936Restoring model weights from the end of the best epoch.\n",
      "60000/60000 [==============================] - 1s 23us/sample - loss: 0.2888 - accuracy: 0.8938 - val_loss: 0.3519 - val_accuracy: 0.8749\n",
      "Epoch 00006: early stopping\n",
      "wandb: Agent Finished Run: l4cxqevg \n",
      "\n",
      "wandb: Agent Starting Run: ew92yrdi with config:\n",
      "\tepochs: 10\n",
      "\tlearning_rate: 0.0001\n",
      "\toptimizer: sgd\n",
      "wandb: Agent Started Run: ew92yrdi\n"
     ]
    },
    {
     "data": {
      "text/html": [
       "\n",
       "                Logging results to <a href=\"https://wandb.com\" target=\"_blank\">Weights & Biases</a> <a href=\"https://docs.wandb.com/integrations/jupyter.html\" target=\"_blank\">(Documentation)</a>.<br/>\n",
       "                Project page: <a href=\"https://app.wandb.ai/sayakpaul/reproducible-ml\" target=\"_blank\">https://app.wandb.ai/sayakpaul/reproducible-ml</a><br/>\n",
       "                Sweep page: <a href=\"https://app.wandb.ai/sayakpaul/reproducible-ml/sweeps/6t8t4d6s\" target=\"_blank\">https://app.wandb.ai/sayakpaul/reproducible-ml/sweeps/6t8t4d6s</a><br/>\n",
       "Run page: <a href=\"https://app.wandb.ai/sayakpaul/reproducible-ml/runs/ew92yrdi\" target=\"_blank\">https://app.wandb.ai/sayakpaul/reproducible-ml/runs/ew92yrdi</a><br/>\n",
       "            "
      ],
      "text/plain": [
       "<IPython.core.display.HTML object>"
      ]
     },
     "metadata": {},
     "output_type": "display_data"
    },
    {
     "name": "stderr",
     "output_type": "stream",
     "text": [
      "Error generating diff: Reference at 'refs/remotes/origin/master' does not exist\n"
     ]
    },
    {
     "name": "stdout",
     "output_type": "stream",
     "text": [
      "Train on 60000 samples, validate on 10000 samples\n",
      "Epoch 1/10\n",
      "60000/60000 [==============================] - 2s 34us/sample - loss: 1.0310 - accuracy: 0.6870 - val_loss: 0.7503 - val_accuracy: 0.7553\n",
      "Epoch 2/10\n",
      "60000/60000 [==============================] - 1s 23us/sample - loss: 0.6687 - accuracy: 0.7862 - val_loss: 0.6417 - val_accuracy: 0.7864\n",
      "Epoch 3/10\n",
      "60000/60000 [==============================] - 1s 23us/sample - loss: 0.5911 - accuracy: 0.8082 - val_loss: 0.5869 - val_accuracy: 0.8050\n",
      "Epoch 4/10\n",
      "60000/60000 [==============================] - 1s 23us/sample - loss: 0.5491 - accuracy: 0.8191 - val_loss: 0.5601 - val_accuracy: 0.8074\n",
      "Epoch 5/10\n",
      "60000/60000 [==============================] - 1s 23us/sample - loss: 0.5216 - accuracy: 0.8250 - val_loss: 0.5358 - val_accuracy: 0.8149\n",
      "Epoch 6/10\n",
      "60000/60000 [==============================] - 1s 23us/sample - loss: 0.5025 - accuracy: 0.8312 - val_loss: 0.5254 - val_accuracy: 0.8183\n",
      "Epoch 7/10\n",
      "60000/60000 [==============================] - 1s 23us/sample - loss: 0.4876 - accuracy: 0.8351 - val_loss: 0.5084 - val_accuracy: 0.8253\n",
      "Epoch 8/10\n",
      "60000/60000 [==============================] - 1s 22us/sample - loss: 0.4754 - accuracy: 0.8389 - val_loss: 0.4991 - val_accuracy: 0.8282\n",
      "Epoch 9/10\n",
      "60000/60000 [==============================] - 1s 23us/sample - loss: 0.4649 - accuracy: 0.8424 - val_loss: 0.4959 - val_accuracy: 0.8267\n",
      "Epoch 10/10\n",
      "60000/60000 [==============================] - 1s 22us/sample - loss: 0.4563 - accuracy: 0.8436 - val_loss: 0.4827 - val_accuracy: 0.8341\n",
      "wandb: Agent Finished Run: ew92yrdi \n",
      "\n",
      "wandb: Agent Starting Run: f7y8dc8y with config:\n",
      "\tepochs: 20\n",
      "\tlearning_rate: 0.001\n",
      "\toptimizer: sgd\n",
      "wandb: Agent Started Run: f7y8dc8y\n"
     ]
    },
    {
     "data": {
      "text/html": [
       "\n",
       "                Logging results to <a href=\"https://wandb.com\" target=\"_blank\">Weights & Biases</a> <a href=\"https://docs.wandb.com/integrations/jupyter.html\" target=\"_blank\">(Documentation)</a>.<br/>\n",
       "                Project page: <a href=\"https://app.wandb.ai/sayakpaul/reproducible-ml\" target=\"_blank\">https://app.wandb.ai/sayakpaul/reproducible-ml</a><br/>\n",
       "                Sweep page: <a href=\"https://app.wandb.ai/sayakpaul/reproducible-ml/sweeps/6t8t4d6s\" target=\"_blank\">https://app.wandb.ai/sayakpaul/reproducible-ml/sweeps/6t8t4d6s</a><br/>\n",
       "Run page: <a href=\"https://app.wandb.ai/sayakpaul/reproducible-ml/runs/f7y8dc8y\" target=\"_blank\">https://app.wandb.ai/sayakpaul/reproducible-ml/runs/f7y8dc8y</a><br/>\n",
       "            "
      ],
      "text/plain": [
       "<IPython.core.display.HTML object>"
      ]
     },
     "metadata": {},
     "output_type": "display_data"
    },
    {
     "name": "stderr",
     "output_type": "stream",
     "text": [
      "Error generating diff: Reference at 'refs/remotes/origin/master' does not exist\n"
     ]
    },
    {
     "name": "stdout",
     "output_type": "stream",
     "text": [
      "Train on 60000 samples, validate on 10000 samples\n",
      "Epoch 1/20\n",
      "60000/60000 [==============================] - 2s 34us/sample - loss: 1.0310 - accuracy: 0.6870 - val_loss: 0.7503 - val_accuracy: 0.7553\n",
      "Epoch 2/20\n",
      "60000/60000 [==============================] - 1s 23us/sample - loss: 0.6687 - accuracy: 0.7862 - val_loss: 0.6417 - val_accuracy: 0.7864\n",
      "Epoch 3/20\n",
      "60000/60000 [==============================] - 1s 22us/sample - loss: 0.5911 - accuracy: 0.8082 - val_loss: 0.5869 - val_accuracy: 0.8050\n",
      "Epoch 4/20\n",
      "60000/60000 [==============================] - 1s 22us/sample - loss: 0.5491 - accuracy: 0.8191 - val_loss: 0.5601 - val_accuracy: 0.8074\n",
      "Epoch 5/20\n",
      "60000/60000 [==============================] - 1s 23us/sample - loss: 0.5216 - accuracy: 0.8250 - val_loss: 0.5358 - val_accuracy: 0.8149\n",
      "Epoch 6/20\n",
      "60000/60000 [==============================] - 1s 22us/sample - loss: 0.5025 - accuracy: 0.8312 - val_loss: 0.5254 - val_accuracy: 0.8183\n",
      "Epoch 7/20\n",
      "60000/60000 [==============================] - 1s 23us/sample - loss: 0.4876 - accuracy: 0.8351 - val_loss: 0.5084 - val_accuracy: 0.8253\n",
      "Epoch 8/20\n",
      "60000/60000 [==============================] - 1s 23us/sample - loss: 0.4754 - accuracy: 0.8389 - val_loss: 0.4991 - val_accuracy: 0.8282\n",
      "Epoch 9/20\n",
      "60000/60000 [==============================] - 1s 23us/sample - loss: 0.4649 - accuracy: 0.8424 - val_loss: 0.4959 - val_accuracy: 0.8267\n",
      "Epoch 10/20\n",
      "60000/60000 [==============================] - 1s 22us/sample - loss: 0.4563 - accuracy: 0.8436 - val_loss: 0.4827 - val_accuracy: 0.8341\n",
      "Epoch 11/20\n",
      "60000/60000 [==============================] - 1s 23us/sample - loss: 0.4488 - accuracy: 0.8468 - val_loss: 0.4775 - val_accuracy: 0.8323\n",
      "Epoch 12/20\n",
      "60000/60000 [==============================] - 1s 23us/sample - loss: 0.4416 - accuracy: 0.8488 - val_loss: 0.4707 - val_accuracy: 0.8378\n",
      "Epoch 13/20\n",
      "60000/60000 [==============================] - 1s 23us/sample - loss: 0.4359 - accuracy: 0.8503 - val_loss: 0.4637 - val_accuracy: 0.8391\n",
      "Epoch 14/20\n",
      "57856/60000 [===========================>..] - ETA: 0s - loss: 0.4307 - accuracy: 0.8507Restoring model weights from the end of the best epoch.\n",
      "60000/60000 [==============================] - 1s 22us/sample - loss: 0.4307 - accuracy: 0.8512 - val_loss: 0.4646 - val_accuracy: 0.8348\n",
      "Epoch 00014: early stopping\n",
      "wandb: Agent Finished Run: f7y8dc8y \n",
      "\n",
      "wandb: Agent Starting Run: kvbyhpti with config:\n",
      "\tepochs: 10\n",
      "\tlearning_rate: 0.0001\n",
      "\toptimizer: sgd\n",
      "wandb: Agent Started Run: kvbyhpti\n"
     ]
    },
    {
     "data": {
      "text/html": [
       "\n",
       "                Logging results to <a href=\"https://wandb.com\" target=\"_blank\">Weights & Biases</a> <a href=\"https://docs.wandb.com/integrations/jupyter.html\" target=\"_blank\">(Documentation)</a>.<br/>\n",
       "                Project page: <a href=\"https://app.wandb.ai/sayakpaul/reproducible-ml\" target=\"_blank\">https://app.wandb.ai/sayakpaul/reproducible-ml</a><br/>\n",
       "                Sweep page: <a href=\"https://app.wandb.ai/sayakpaul/reproducible-ml/sweeps/6t8t4d6s\" target=\"_blank\">https://app.wandb.ai/sayakpaul/reproducible-ml/sweeps/6t8t4d6s</a><br/>\n",
       "Run page: <a href=\"https://app.wandb.ai/sayakpaul/reproducible-ml/runs/kvbyhpti\" target=\"_blank\">https://app.wandb.ai/sayakpaul/reproducible-ml/runs/kvbyhpti</a><br/>\n",
       "            "
      ],
      "text/plain": [
       "<IPython.core.display.HTML object>"
      ]
     },
     "metadata": {},
     "output_type": "display_data"
    },
    {
     "name": "stderr",
     "output_type": "stream",
     "text": [
      "Error generating diff: Reference at 'refs/remotes/origin/master' does not exist\n"
     ]
    },
    {
     "name": "stdout",
     "output_type": "stream",
     "text": [
      "Train on 60000 samples, validate on 10000 samples\n",
      "Epoch 1/10\n",
      "60000/60000 [==============================] - 2s 33us/sample - loss: 1.0310 - accuracy: 0.6870 - val_loss: 0.7503 - val_accuracy: 0.7553\n",
      "Epoch 2/10\n",
      "60000/60000 [==============================] - 1s 22us/sample - loss: 0.6687 - accuracy: 0.7862 - val_loss: 0.6417 - val_accuracy: 0.7864\n",
      "Epoch 3/10\n",
      "60000/60000 [==============================] - 1s 22us/sample - loss: 0.5911 - accuracy: 0.8082 - val_loss: 0.5869 - val_accuracy: 0.8050\n",
      "Epoch 4/10\n",
      "60000/60000 [==============================] - 1s 22us/sample - loss: 0.5491 - accuracy: 0.8191 - val_loss: 0.5601 - val_accuracy: 0.8074\n",
      "Epoch 5/10\n",
      "60000/60000 [==============================] - 1s 22us/sample - loss: 0.5216 - accuracy: 0.8250 - val_loss: 0.5358 - val_accuracy: 0.8149\n",
      "Epoch 6/10\n",
      "60000/60000 [==============================] - 1s 22us/sample - loss: 0.5025 - accuracy: 0.8312 - val_loss: 0.5254 - val_accuracy: 0.8183\n",
      "Epoch 7/10\n",
      "60000/60000 [==============================] - 1s 22us/sample - loss: 0.4876 - accuracy: 0.8351 - val_loss: 0.5084 - val_accuracy: 0.8253\n",
      "Epoch 8/10\n",
      "60000/60000 [==============================] - 1s 22us/sample - loss: 0.4754 - accuracy: 0.8389 - val_loss: 0.4991 - val_accuracy: 0.8282\n",
      "Epoch 9/10\n",
      "60000/60000 [==============================] - 1s 23us/sample - loss: 0.4649 - accuracy: 0.8424 - val_loss: 0.4959 - val_accuracy: 0.8267\n",
      "Epoch 10/10\n",
      "60000/60000 [==============================] - 1s 22us/sample - loss: 0.4563 - accuracy: 0.8436 - val_loss: 0.4827 - val_accuracy: 0.8341\n",
      "wandb: Agent Finished Run: kvbyhpti \n",
      "\n",
      "wandb: Agent Starting Run: 09d5gszz with config:\n",
      "\tepochs: 15\n",
      "\tlearning_rate: 0.01\n",
      "\toptimizer: sgd\n",
      "wandb: Agent Started Run: 09d5gszz\n"
     ]
    },
    {
     "data": {
      "text/html": [
       "\n",
       "                Logging results to <a href=\"https://wandb.com\" target=\"_blank\">Weights & Biases</a> <a href=\"https://docs.wandb.com/integrations/jupyter.html\" target=\"_blank\">(Documentation)</a>.<br/>\n",
       "                Project page: <a href=\"https://app.wandb.ai/sayakpaul/reproducible-ml\" target=\"_blank\">https://app.wandb.ai/sayakpaul/reproducible-ml</a><br/>\n",
       "                Sweep page: <a href=\"https://app.wandb.ai/sayakpaul/reproducible-ml/sweeps/6t8t4d6s\" target=\"_blank\">https://app.wandb.ai/sayakpaul/reproducible-ml/sweeps/6t8t4d6s</a><br/>\n",
       "Run page: <a href=\"https://app.wandb.ai/sayakpaul/reproducible-ml/runs/09d5gszz\" target=\"_blank\">https://app.wandb.ai/sayakpaul/reproducible-ml/runs/09d5gszz</a><br/>\n",
       "            "
      ],
      "text/plain": [
       "<IPython.core.display.HTML object>"
      ]
     },
     "metadata": {},
     "output_type": "display_data"
    },
    {
     "name": "stderr",
     "output_type": "stream",
     "text": [
      "Error generating diff: Reference at 'refs/remotes/origin/master' does not exist\n"
     ]
    },
    {
     "name": "stdout",
     "output_type": "stream",
     "text": [
      "Train on 60000 samples, validate on 10000 samples\n",
      "Epoch 1/15\n",
      "60000/60000 [==============================] - 2s 33us/sample - loss: 1.0310 - accuracy: 0.6870 - val_loss: 0.7503 - val_accuracy: 0.7553\n",
      "Epoch 2/15\n",
      "60000/60000 [==============================] - 1s 23us/sample - loss: 0.6687 - accuracy: 0.7862 - val_loss: 0.6417 - val_accuracy: 0.7864\n",
      "Epoch 3/15\n",
      "60000/60000 [==============================] - 1s 22us/sample - loss: 0.5911 - accuracy: 0.8082 - val_loss: 0.5869 - val_accuracy: 0.8050\n",
      "Epoch 4/15\n",
      "60000/60000 [==============================] - 1s 22us/sample - loss: 0.5491 - accuracy: 0.8191 - val_loss: 0.5601 - val_accuracy: 0.8074\n",
      "Epoch 5/15\n",
      "60000/60000 [==============================] - 1s 23us/sample - loss: 0.5216 - accuracy: 0.8250 - val_loss: 0.5358 - val_accuracy: 0.8149\n",
      "Epoch 6/15\n",
      "60000/60000 [==============================] - 1s 22us/sample - loss: 0.5025 - accuracy: 0.8312 - val_loss: 0.5254 - val_accuracy: 0.8183\n",
      "Epoch 7/15\n",
      "60000/60000 [==============================] - 1s 24us/sample - loss: 0.4876 - accuracy: 0.8351 - val_loss: 0.5084 - val_accuracy: 0.8253\n",
      "Epoch 8/15\n",
      "60000/60000 [==============================] - 2s 25us/sample - loss: 0.4754 - accuracy: 0.8389 - val_loss: 0.4991 - val_accuracy: 0.8282\n",
      "Epoch 9/15\n",
      "60000/60000 [==============================] - 2s 26us/sample - loss: 0.4649 - accuracy: 0.8424 - val_loss: 0.4959 - val_accuracy: 0.8267\n",
      "Epoch 10/15\n",
      "60000/60000 [==============================] - 2s 25us/sample - loss: 0.4563 - accuracy: 0.8436 - val_loss: 0.4827 - val_accuracy: 0.8341\n",
      "Epoch 11/15\n",
      "60000/60000 [==============================] - 2s 26us/sample - loss: 0.4488 - accuracy: 0.8468 - val_loss: 0.4775 - val_accuracy: 0.8323\n",
      "Epoch 12/15\n",
      "60000/60000 [==============================] - 2s 26us/sample - loss: 0.4416 - accuracy: 0.8488 - val_loss: 0.4707 - val_accuracy: 0.8378\n",
      "Epoch 13/15\n",
      "60000/60000 [==============================] - 2s 26us/sample - loss: 0.4359 - accuracy: 0.8503 - val_loss: 0.4637 - val_accuracy: 0.8391\n",
      "Epoch 14/15\n",
      "59648/60000 [============================>.] - ETA: 0s - loss: 0.4307 - accuracy: 0.8511Restoring model weights from the end of the best epoch.\n",
      "60000/60000 [==============================] - 1s 23us/sample - loss: 0.4307 - accuracy: 0.8512 - val_loss: 0.4646 - val_accuracy: 0.8348\n",
      "Epoch 00014: early stopping\n",
      "wandb: Agent Finished Run: 09d5gszz \n",
      "\n",
      "wandb: Agent Starting Run: av88lxk0 with config:\n",
      "\tepochs: 15\n",
      "\tlearning_rate: 0.0003\n",
      "\toptimizer: adam\n",
      "wandb: Agent Started Run: av88lxk0\n"
     ]
    },
    {
     "data": {
      "text/html": [
       "\n",
       "                Logging results to <a href=\"https://wandb.com\" target=\"_blank\">Weights & Biases</a> <a href=\"https://docs.wandb.com/integrations/jupyter.html\" target=\"_blank\">(Documentation)</a>.<br/>\n",
       "                Project page: <a href=\"https://app.wandb.ai/sayakpaul/reproducible-ml\" target=\"_blank\">https://app.wandb.ai/sayakpaul/reproducible-ml</a><br/>\n",
       "                Sweep page: <a href=\"https://app.wandb.ai/sayakpaul/reproducible-ml/sweeps/6t8t4d6s\" target=\"_blank\">https://app.wandb.ai/sayakpaul/reproducible-ml/sweeps/6t8t4d6s</a><br/>\n",
       "Run page: <a href=\"https://app.wandb.ai/sayakpaul/reproducible-ml/runs/av88lxk0\" target=\"_blank\">https://app.wandb.ai/sayakpaul/reproducible-ml/runs/av88lxk0</a><br/>\n",
       "            "
      ],
      "text/plain": [
       "<IPython.core.display.HTML object>"
      ]
     },
     "metadata": {},
     "output_type": "display_data"
    },
    {
     "name": "stderr",
     "output_type": "stream",
     "text": [
      "Error generating diff: Reference at 'refs/remotes/origin/master' does not exist\n"
     ]
    },
    {
     "name": "stdout",
     "output_type": "stream",
     "text": [
      "Train on 60000 samples, validate on 10000 samples\n",
      "Epoch 1/15\n",
      "60000/60000 [==============================] - 2s 34us/sample - loss: 0.5257 - accuracy: 0.8180 - val_loss: 0.4436 - val_accuracy: 0.8460\n",
      "Epoch 2/15\n",
      "60000/60000 [==============================] - 1s 23us/sample - loss: 0.3913 - accuracy: 0.8607 - val_loss: 0.3942 - val_accuracy: 0.8611\n",
      "Epoch 3/15\n",
      "60000/60000 [==============================] - 1s 23us/sample - loss: 0.3493 - accuracy: 0.8747 - val_loss: 0.3751 - val_accuracy: 0.8612\n",
      "Epoch 4/15\n",
      "60000/60000 [==============================] - 1s 23us/sample - loss: 0.3207 - accuracy: 0.8842 - val_loss: 0.3597 - val_accuracy: 0.8716\n",
      "Epoch 5/15\n",
      "60000/60000 [==============================] - 1s 23us/sample - loss: 0.3072 - accuracy: 0.8881 - val_loss: 0.3488 - val_accuracy: 0.8747\n",
      "Epoch 6/15\n",
      "58496/60000 [============================>.] - ETA: 0s - loss: 0.2889 - accuracy: 0.8936Restoring model weights from the end of the best epoch.\n",
      "60000/60000 [==============================] - 1s 23us/sample - loss: 0.2888 - accuracy: 0.8938 - val_loss: 0.3519 - val_accuracy: 0.8749\n",
      "Epoch 00006: early stopping\n",
      "wandb: Agent Finished Run: av88lxk0 \n",
      "\n",
      "wandb: Agent Starting Run: 2mr0mdp9 with config:\n",
      "\tepochs: 20\n",
      "\tlearning_rate: 3e-05\n",
      "\toptimizer: adam\n",
      "wandb: Agent Started Run: 2mr0mdp9\n"
     ]
    },
    {
     "data": {
      "text/html": [
       "\n",
       "                Logging results to <a href=\"https://wandb.com\" target=\"_blank\">Weights & Biases</a> <a href=\"https://docs.wandb.com/integrations/jupyter.html\" target=\"_blank\">(Documentation)</a>.<br/>\n",
       "                Project page: <a href=\"https://app.wandb.ai/sayakpaul/reproducible-ml\" target=\"_blank\">https://app.wandb.ai/sayakpaul/reproducible-ml</a><br/>\n",
       "                Sweep page: <a href=\"https://app.wandb.ai/sayakpaul/reproducible-ml/sweeps/6t8t4d6s\" target=\"_blank\">https://app.wandb.ai/sayakpaul/reproducible-ml/sweeps/6t8t4d6s</a><br/>\n",
       "Run page: <a href=\"https://app.wandb.ai/sayakpaul/reproducible-ml/runs/2mr0mdp9\" target=\"_blank\">https://app.wandb.ai/sayakpaul/reproducible-ml/runs/2mr0mdp9</a><br/>\n",
       "            "
      ],
      "text/plain": [
       "<IPython.core.display.HTML object>"
      ]
     },
     "metadata": {},
     "output_type": "display_data"
    },
    {
     "name": "stderr",
     "output_type": "stream",
     "text": [
      "Error generating diff: Reference at 'refs/remotes/origin/master' does not exist\n"
     ]
    },
    {
     "name": "stdout",
     "output_type": "stream",
     "text": [
      "Train on 60000 samples, validate on 10000 samples\n",
      "Epoch 1/20\n",
      "60000/60000 [==============================] - 2s 36us/sample - loss: 0.5257 - accuracy: 0.8180 - val_loss: 0.4436 - val_accuracy: 0.8460\n",
      "Epoch 2/20\n",
      "60000/60000 [==============================] - 1s 24us/sample - loss: 0.3913 - accuracy: 0.8607 - val_loss: 0.3942 - val_accuracy: 0.8611\n",
      "Epoch 3/20\n",
      "60000/60000 [==============================] - 1s 23us/sample - loss: 0.3493 - accuracy: 0.8747 - val_loss: 0.3751 - val_accuracy: 0.8612\n",
      "Epoch 4/20\n",
      "60000/60000 [==============================] - 1s 23us/sample - loss: 0.3207 - accuracy: 0.8842 - val_loss: 0.3597 - val_accuracy: 0.8716\n",
      "Epoch 5/20\n",
      "60000/60000 [==============================] - 1s 22us/sample - loss: 0.3072 - accuracy: 0.8881 - val_loss: 0.3488 - val_accuracy: 0.8747\n",
      "Epoch 6/20\n",
      "57472/60000 [===========================>..] - ETA: 0s - loss: 0.2887 - accuracy: 0.8938Restoring model weights from the end of the best epoch.\n",
      "60000/60000 [==============================] - 1s 23us/sample - loss: 0.2888 - accuracy: 0.8938 - val_loss: 0.3519 - val_accuracy: 0.8749\n",
      "Epoch 00006: early stopping\n",
      "wandb: Agent Finished Run: 2mr0mdp9 \n",
      "\n",
      "wandb: Agent Starting Run: o7njdjxc with config:\n",
      "\tepochs: 10\n",
      "\tlearning_rate: 0.0001\n",
      "\toptimizer: sgd\n",
      "wandb: Agent Started Run: o7njdjxc\n"
     ]
    },
    {
     "data": {
      "text/html": [
       "\n",
       "                Logging results to <a href=\"https://wandb.com\" target=\"_blank\">Weights & Biases</a> <a href=\"https://docs.wandb.com/integrations/jupyter.html\" target=\"_blank\">(Documentation)</a>.<br/>\n",
       "                Project page: <a href=\"https://app.wandb.ai/sayakpaul/reproducible-ml\" target=\"_blank\">https://app.wandb.ai/sayakpaul/reproducible-ml</a><br/>\n",
       "                Sweep page: <a href=\"https://app.wandb.ai/sayakpaul/reproducible-ml/sweeps/6t8t4d6s\" target=\"_blank\">https://app.wandb.ai/sayakpaul/reproducible-ml/sweeps/6t8t4d6s</a><br/>\n",
       "Run page: <a href=\"https://app.wandb.ai/sayakpaul/reproducible-ml/runs/o7njdjxc\" target=\"_blank\">https://app.wandb.ai/sayakpaul/reproducible-ml/runs/o7njdjxc</a><br/>\n",
       "            "
      ],
      "text/plain": [
       "<IPython.core.display.HTML object>"
      ]
     },
     "metadata": {},
     "output_type": "display_data"
    },
    {
     "name": "stderr",
     "output_type": "stream",
     "text": [
      "Error generating diff: Reference at 'refs/remotes/origin/master' does not exist\n"
     ]
    },
    {
     "name": "stdout",
     "output_type": "stream",
     "text": [
      "Train on 60000 samples, validate on 10000 samples\n",
      "Epoch 1/10\n",
      "60000/60000 [==============================] - 2s 34us/sample - loss: 1.0310 - accuracy: 0.6870 - val_loss: 0.7503 - val_accuracy: 0.7553\n",
      "Epoch 2/10\n",
      "60000/60000 [==============================] - 1s 23us/sample - loss: 0.6687 - accuracy: 0.7862 - val_loss: 0.6417 - val_accuracy: 0.7864\n",
      "Epoch 3/10\n",
      "60000/60000 [==============================] - 1s 23us/sample - loss: 0.5911 - accuracy: 0.8082 - val_loss: 0.5869 - val_accuracy: 0.8050\n",
      "Epoch 4/10\n",
      "60000/60000 [==============================] - 1s 23us/sample - loss: 0.5491 - accuracy: 0.8191 - val_loss: 0.5601 - val_accuracy: 0.8074\n",
      "Epoch 5/10\n",
      "60000/60000 [==============================] - 1s 22us/sample - loss: 0.5216 - accuracy: 0.8250 - val_loss: 0.5358 - val_accuracy: 0.8149\n",
      "Epoch 6/10\n",
      "60000/60000 [==============================] - 1s 22us/sample - loss: 0.5025 - accuracy: 0.8312 - val_loss: 0.5254 - val_accuracy: 0.8183\n",
      "Epoch 7/10\n",
      "60000/60000 [==============================] - 1s 23us/sample - loss: 0.4876 - accuracy: 0.8351 - val_loss: 0.5084 - val_accuracy: 0.8253\n",
      "Epoch 8/10\n",
      "60000/60000 [==============================] - 1s 22us/sample - loss: 0.4754 - accuracy: 0.8389 - val_loss: 0.4991 - val_accuracy: 0.8282\n",
      "Epoch 9/10\n",
      "60000/60000 [==============================] - 1s 23us/sample - loss: 0.4649 - accuracy: 0.8424 - val_loss: 0.4959 - val_accuracy: 0.8267\n",
      "Epoch 10/10\n",
      "60000/60000 [==============================] - 1s 22us/sample - loss: 0.4563 - accuracy: 0.8436 - val_loss: 0.4827 - val_accuracy: 0.8341\n",
      "wandb: Agent Finished Run: o7njdjxc \n",
      "\n",
      "wandb: Agent Starting Run: ra6jad1i with config:\n",
      "\tepochs: 10\n",
      "\tlearning_rate: 1e-05\n",
      "\toptimizer: adam\n",
      "wandb: Agent Started Run: ra6jad1i\n"
     ]
    },
    {
     "data": {
      "text/html": [
       "\n",
       "                Logging results to <a href=\"https://wandb.com\" target=\"_blank\">Weights & Biases</a> <a href=\"https://docs.wandb.com/integrations/jupyter.html\" target=\"_blank\">(Documentation)</a>.<br/>\n",
       "                Project page: <a href=\"https://app.wandb.ai/sayakpaul/reproducible-ml\" target=\"_blank\">https://app.wandb.ai/sayakpaul/reproducible-ml</a><br/>\n",
       "                Sweep page: <a href=\"https://app.wandb.ai/sayakpaul/reproducible-ml/sweeps/6t8t4d6s\" target=\"_blank\">https://app.wandb.ai/sayakpaul/reproducible-ml/sweeps/6t8t4d6s</a><br/>\n",
       "Run page: <a href=\"https://app.wandb.ai/sayakpaul/reproducible-ml/runs/ra6jad1i\" target=\"_blank\">https://app.wandb.ai/sayakpaul/reproducible-ml/runs/ra6jad1i</a><br/>\n",
       "            "
      ],
      "text/plain": [
       "<IPython.core.display.HTML object>"
      ]
     },
     "metadata": {},
     "output_type": "display_data"
    },
    {
     "name": "stderr",
     "output_type": "stream",
     "text": [
      "Error generating diff: Reference at 'refs/remotes/origin/master' does not exist\n"
     ]
    },
    {
     "name": "stdout",
     "output_type": "stream",
     "text": [
      "Train on 60000 samples, validate on 10000 samples\n",
      "Epoch 1/10\n",
      "60000/60000 [==============================] - 2s 35us/sample - loss: 0.5257 - accuracy: 0.8180 - val_loss: 0.4436 - val_accuracy: 0.8460\n",
      "Epoch 2/10\n",
      "60000/60000 [==============================] - 1s 23us/sample - loss: 0.3913 - accuracy: 0.8607 - val_loss: 0.3942 - val_accuracy: 0.8611\n",
      "Epoch 3/10\n",
      "60000/60000 [==============================] - 1s 22us/sample - loss: 0.3493 - accuracy: 0.8747 - val_loss: 0.3751 - val_accuracy: 0.8612\n",
      "Epoch 4/10\n",
      "60000/60000 [==============================] - 1s 23us/sample - loss: 0.3207 - accuracy: 0.8842 - val_loss: 0.3597 - val_accuracy: 0.8716\n",
      "Epoch 5/10\n",
      "60000/60000 [==============================] - 1s 23us/sample - loss: 0.3072 - accuracy: 0.8881 - val_loss: 0.3488 - val_accuracy: 0.8747\n",
      "Epoch 6/10\n",
      "58496/60000 [============================>.] - ETA: 0s - loss: 0.2889 - accuracy: 0.8936Restoring model weights from the end of the best epoch.\n",
      "60000/60000 [==============================] - 1s 22us/sample - loss: 0.2888 - accuracy: 0.8938 - val_loss: 0.3519 - val_accuracy: 0.8749\n",
      "Epoch 00006: early stopping\n",
      "wandb: Agent Finished Run: ra6jad1i \n",
      "\n",
      "wandb: Agent Starting Run: rzmjerqq with config:\n",
      "\tepochs: 20\n",
      "\tlearning_rate: 0.0001\n",
      "\toptimizer: adam\n",
      "wandb: Agent Started Run: rzmjerqq\n"
     ]
    },
    {
     "data": {
      "text/html": [
       "\n",
       "                Logging results to <a href=\"https://wandb.com\" target=\"_blank\">Weights & Biases</a> <a href=\"https://docs.wandb.com/integrations/jupyter.html\" target=\"_blank\">(Documentation)</a>.<br/>\n",
       "                Project page: <a href=\"https://app.wandb.ai/sayakpaul/reproducible-ml\" target=\"_blank\">https://app.wandb.ai/sayakpaul/reproducible-ml</a><br/>\n",
       "                Sweep page: <a href=\"https://app.wandb.ai/sayakpaul/reproducible-ml/sweeps/6t8t4d6s\" target=\"_blank\">https://app.wandb.ai/sayakpaul/reproducible-ml/sweeps/6t8t4d6s</a><br/>\n",
       "Run page: <a href=\"https://app.wandb.ai/sayakpaul/reproducible-ml/runs/rzmjerqq\" target=\"_blank\">https://app.wandb.ai/sayakpaul/reproducible-ml/runs/rzmjerqq</a><br/>\n",
       "            "
      ],
      "text/plain": [
       "<IPython.core.display.HTML object>"
      ]
     },
     "metadata": {},
     "output_type": "display_data"
    },
    {
     "name": "stderr",
     "output_type": "stream",
     "text": [
      "Error generating diff: Reference at 'refs/remotes/origin/master' does not exist\n"
     ]
    },
    {
     "name": "stdout",
     "output_type": "stream",
     "text": [
      "Train on 60000 samples, validate on 10000 samples\n",
      "Epoch 1/20\n",
      "60000/60000 [==============================] - 2s 35us/sample - loss: 0.5257 - accuracy: 0.8180 - val_loss: 0.4436 - val_accuracy: 0.8460\n",
      "Epoch 2/20\n",
      "60000/60000 [==============================] - 1s 23us/sample - loss: 0.3913 - accuracy: 0.8607 - val_loss: 0.3942 - val_accuracy: 0.8611\n",
      "Epoch 3/20\n",
      "60000/60000 [==============================] - 1s 23us/sample - loss: 0.3493 - accuracy: 0.8747 - val_loss: 0.3751 - val_accuracy: 0.8612\n",
      "Epoch 4/20\n",
      "60000/60000 [==============================] - 1s 23us/sample - loss: 0.3207 - accuracy: 0.8842 - val_loss: 0.3597 - val_accuracy: 0.8716\n",
      "Epoch 5/20\n",
      "60000/60000 [==============================] - 1s 23us/sample - loss: 0.3072 - accuracy: 0.8881 - val_loss: 0.3488 - val_accuracy: 0.8747\n",
      "Epoch 6/20\n",
      "58112/60000 [============================>.] - ETA: 0s - loss: 0.2887 - accuracy: 0.8937Restoring model weights from the end of the best epoch.\n",
      "60000/60000 [==============================] - 1s 22us/sample - loss: 0.2888 - accuracy: 0.8938 - val_loss: 0.3519 - val_accuracy: 0.8749\n",
      "Epoch 00006: early stopping\n",
      "wandb: Agent Finished Run: rzmjerqq \n",
      "\n",
      "wandb: Agent Starting Run: 54t9e7jp with config:\n",
      "\tepochs: 20\n",
      "\tlearning_rate: 0.0003\n",
      "\toptimizer: adam\n",
      "wandb: Agent Started Run: 54t9e7jp\n"
     ]
    },
    {
     "data": {
      "text/html": [
       "\n",
       "                Logging results to <a href=\"https://wandb.com\" target=\"_blank\">Weights & Biases</a> <a href=\"https://docs.wandb.com/integrations/jupyter.html\" target=\"_blank\">(Documentation)</a>.<br/>\n",
       "                Project page: <a href=\"https://app.wandb.ai/sayakpaul/reproducible-ml\" target=\"_blank\">https://app.wandb.ai/sayakpaul/reproducible-ml</a><br/>\n",
       "                Sweep page: <a href=\"https://app.wandb.ai/sayakpaul/reproducible-ml/sweeps/6t8t4d6s\" target=\"_blank\">https://app.wandb.ai/sayakpaul/reproducible-ml/sweeps/6t8t4d6s</a><br/>\n",
       "Run page: <a href=\"https://app.wandb.ai/sayakpaul/reproducible-ml/runs/54t9e7jp\" target=\"_blank\">https://app.wandb.ai/sayakpaul/reproducible-ml/runs/54t9e7jp</a><br/>\n",
       "            "
      ],
      "text/plain": [
       "<IPython.core.display.HTML object>"
      ]
     },
     "metadata": {},
     "output_type": "display_data"
    },
    {
     "name": "stderr",
     "output_type": "stream",
     "text": [
      "Error generating diff: Reference at 'refs/remotes/origin/master' does not exist\n"
     ]
    },
    {
     "name": "stdout",
     "output_type": "stream",
     "text": [
      "Train on 60000 samples, validate on 10000 samples\n",
      "Epoch 1/20\n",
      "60000/60000 [==============================] - 2s 35us/sample - loss: 0.5257 - accuracy: 0.8180 - val_loss: 0.4436 - val_accuracy: 0.8460\n",
      "Epoch 2/20\n",
      "60000/60000 [==============================] - 1s 24us/sample - loss: 0.3913 - accuracy: 0.8607 - val_loss: 0.3942 - val_accuracy: 0.8611\n",
      "Epoch 3/20\n",
      "60000/60000 [==============================] - 1s 23us/sample - loss: 0.3493 - accuracy: 0.8747 - val_loss: 0.3751 - val_accuracy: 0.8612\n",
      "Epoch 4/20\n",
      "60000/60000 [==============================] - 1s 23us/sample - loss: 0.3207 - accuracy: 0.8842 - val_loss: 0.3597 - val_accuracy: 0.8716\n",
      "Epoch 5/20\n",
      "60000/60000 [==============================] - 1s 22us/sample - loss: 0.3072 - accuracy: 0.8881 - val_loss: 0.3488 - val_accuracy: 0.8747\n",
      "Epoch 6/20\n",
      "59776/60000 [============================>.] - ETA: 0s - loss: 0.2891 - accuracy: 0.8936Restoring model weights from the end of the best epoch.\n",
      "60000/60000 [==============================] - 1s 23us/sample - loss: 0.2888 - accuracy: 0.8938 - val_loss: 0.3519 - val_accuracy: 0.8749\n",
      "Epoch 00006: early stopping\n",
      "wandb: Agent Finished Run: 54t9e7jp \n",
      "\n",
      "wandb: Agent Starting Run: a6cptfa2 with config:\n",
      "\tepochs: 15\n",
      "\tlearning_rate: 1e-05\n",
      "\toptimizer: sgd\n",
      "wandb: Agent Started Run: a6cptfa2\n"
     ]
    },
    {
     "data": {
      "text/html": [
       "\n",
       "                Logging results to <a href=\"https://wandb.com\" target=\"_blank\">Weights & Biases</a> <a href=\"https://docs.wandb.com/integrations/jupyter.html\" target=\"_blank\">(Documentation)</a>.<br/>\n",
       "                Project page: <a href=\"https://app.wandb.ai/sayakpaul/reproducible-ml\" target=\"_blank\">https://app.wandb.ai/sayakpaul/reproducible-ml</a><br/>\n",
       "                Sweep page: <a href=\"https://app.wandb.ai/sayakpaul/reproducible-ml/sweeps/6t8t4d6s\" target=\"_blank\">https://app.wandb.ai/sayakpaul/reproducible-ml/sweeps/6t8t4d6s</a><br/>\n",
       "Run page: <a href=\"https://app.wandb.ai/sayakpaul/reproducible-ml/runs/a6cptfa2\" target=\"_blank\">https://app.wandb.ai/sayakpaul/reproducible-ml/runs/a6cptfa2</a><br/>\n",
       "            "
      ],
      "text/plain": [
       "<IPython.core.display.HTML object>"
      ]
     },
     "metadata": {},
     "output_type": "display_data"
    },
    {
     "name": "stderr",
     "output_type": "stream",
     "text": [
      "Error generating diff: Reference at 'refs/remotes/origin/master' does not exist\n"
     ]
    },
    {
     "name": "stdout",
     "output_type": "stream",
     "text": [
      "Train on 60000 samples, validate on 10000 samples\n",
      "Epoch 1/15\n",
      "60000/60000 [==============================] - 2s 34us/sample - loss: 1.0310 - accuracy: 0.6870 - val_loss: 0.7503 - val_accuracy: 0.7553\n",
      "Epoch 2/15\n",
      "60000/60000 [==============================] - 1s 23us/sample - loss: 0.6687 - accuracy: 0.7862 - val_loss: 0.6417 - val_accuracy: 0.7864\n",
      "Epoch 3/15\n",
      "60000/60000 [==============================] - 1s 23us/sample - loss: 0.5911 - accuracy: 0.8082 - val_loss: 0.5869 - val_accuracy: 0.8050\n",
      "Epoch 4/15\n",
      "60000/60000 [==============================] - 1s 23us/sample - loss: 0.5491 - accuracy: 0.8191 - val_loss: 0.5601 - val_accuracy: 0.8074\n",
      "Epoch 5/15\n",
      "60000/60000 [==============================] - 1s 23us/sample - loss: 0.5216 - accuracy: 0.8250 - val_loss: 0.5358 - val_accuracy: 0.8149\n",
      "Epoch 6/15\n",
      "60000/60000 [==============================] - 1s 22us/sample - loss: 0.5025 - accuracy: 0.8312 - val_loss: 0.5254 - val_accuracy: 0.8183\n",
      "Epoch 7/15\n",
      "60000/60000 [==============================] - 1s 23us/sample - loss: 0.4876 - accuracy: 0.8351 - val_loss: 0.5084 - val_accuracy: 0.8253\n",
      "Epoch 8/15\n",
      "60000/60000 [==============================] - 1s 22us/sample - loss: 0.4754 - accuracy: 0.8389 - val_loss: 0.4991 - val_accuracy: 0.8282\n",
      "Epoch 9/15\n",
      "60000/60000 [==============================] - 1s 23us/sample - loss: 0.4649 - accuracy: 0.8424 - val_loss: 0.4959 - val_accuracy: 0.8267\n",
      "Epoch 10/15\n",
      "60000/60000 [==============================] - 1s 22us/sample - loss: 0.4563 - accuracy: 0.8436 - val_loss: 0.4827 - val_accuracy: 0.8341\n",
      "Epoch 11/15\n",
      "60000/60000 [==============================] - 1s 22us/sample - loss: 0.4488 - accuracy: 0.8468 - val_loss: 0.4775 - val_accuracy: 0.8323\n",
      "Epoch 12/15\n",
      "60000/60000 [==============================] - 1s 22us/sample - loss: 0.4416 - accuracy: 0.8488 - val_loss: 0.4707 - val_accuracy: 0.8378\n",
      "Epoch 13/15\n",
      "60000/60000 [==============================] - 1s 22us/sample - loss: 0.4359 - accuracy: 0.8503 - val_loss: 0.4637 - val_accuracy: 0.8391\n",
      "Epoch 14/15\n",
      "57728/60000 [===========================>..] - ETA: 0s - loss: 0.4306 - accuracy: 0.8507Restoring model weights from the end of the best epoch.\n",
      "60000/60000 [==============================] - 1s 22us/sample - loss: 0.4307 - accuracy: 0.8512 - val_loss: 0.4646 - val_accuracy: 0.8348\n",
      "Epoch 00014: early stopping\n",
      "wandb: Agent Finished Run: a6cptfa2 \n",
      "\n",
      "wandb: Agent Starting Run: h0wkr2pa with config:\n",
      "\tepochs: 15\n",
      "\tlearning_rate: 1e-05\n",
      "\toptimizer: adam\n",
      "wandb: Agent Started Run: h0wkr2pa\n"
     ]
    },
    {
     "data": {
      "text/html": [
       "\n",
       "                Logging results to <a href=\"https://wandb.com\" target=\"_blank\">Weights & Biases</a> <a href=\"https://docs.wandb.com/integrations/jupyter.html\" target=\"_blank\">(Documentation)</a>.<br/>\n",
       "                Project page: <a href=\"https://app.wandb.ai/sayakpaul/reproducible-ml\" target=\"_blank\">https://app.wandb.ai/sayakpaul/reproducible-ml</a><br/>\n",
       "                Sweep page: <a href=\"https://app.wandb.ai/sayakpaul/reproducible-ml/sweeps/6t8t4d6s\" target=\"_blank\">https://app.wandb.ai/sayakpaul/reproducible-ml/sweeps/6t8t4d6s</a><br/>\n",
       "Run page: <a href=\"https://app.wandb.ai/sayakpaul/reproducible-ml/runs/h0wkr2pa\" target=\"_blank\">https://app.wandb.ai/sayakpaul/reproducible-ml/runs/h0wkr2pa</a><br/>\n",
       "            "
      ],
      "text/plain": [
       "<IPython.core.display.HTML object>"
      ]
     },
     "metadata": {},
     "output_type": "display_data"
    },
    {
     "name": "stderr",
     "output_type": "stream",
     "text": [
      "Error generating diff: Reference at 'refs/remotes/origin/master' does not exist\n"
     ]
    },
    {
     "name": "stdout",
     "output_type": "stream",
     "text": [
      "Train on 60000 samples, validate on 10000 samples\n",
      "Epoch 1/15\n",
      "60000/60000 [==============================] - 2s 34us/sample - loss: 0.5257 - accuracy: 0.8180 - val_loss: 0.4436 - val_accuracy: 0.8460\n",
      "Epoch 2/15\n",
      "60000/60000 [==============================] - 1s 24us/sample - loss: 0.3913 - accuracy: 0.8607 - val_loss: 0.3942 - val_accuracy: 0.8611\n",
      "Epoch 3/15\n",
      "60000/60000 [==============================] - 1s 23us/sample - loss: 0.3493 - accuracy: 0.8747 - val_loss: 0.3751 - val_accuracy: 0.8612\n",
      "Epoch 4/15\n",
      "60000/60000 [==============================] - 1s 23us/sample - loss: 0.3207 - accuracy: 0.8842 - val_loss: 0.3597 - val_accuracy: 0.8716\n",
      "Epoch 5/15\n",
      "60000/60000 [==============================] - 1s 22us/sample - loss: 0.3072 - accuracy: 0.8881 - val_loss: 0.3488 - val_accuracy: 0.8747\n",
      "Epoch 6/15\n",
      "58368/60000 [============================>.] - ETA: 0s - loss: 0.2888 - accuracy: 0.8937Restoring model weights from the end of the best epoch.\n",
      "60000/60000 [==============================] - 1s 22us/sample - loss: 0.2888 - accuracy: 0.8938 - val_loss: 0.3519 - val_accuracy: 0.8749\n",
      "Epoch 00006: early stopping\n",
      "wandb: Agent Finished Run: h0wkr2pa \n",
      "\n",
      "wandb: Agent Starting Run: zztms2j7 with config:\n",
      "\tepochs: 10\n",
      "\tlearning_rate: 0.0001\n",
      "\toptimizer: sgd\n",
      "wandb: Agent Started Run: zztms2j7\n"
     ]
    },
    {
     "data": {
      "text/html": [
       "\n",
       "                Logging results to <a href=\"https://wandb.com\" target=\"_blank\">Weights & Biases</a> <a href=\"https://docs.wandb.com/integrations/jupyter.html\" target=\"_blank\">(Documentation)</a>.<br/>\n",
       "                Project page: <a href=\"https://app.wandb.ai/sayakpaul/reproducible-ml\" target=\"_blank\">https://app.wandb.ai/sayakpaul/reproducible-ml</a><br/>\n",
       "                Sweep page: <a href=\"https://app.wandb.ai/sayakpaul/reproducible-ml/sweeps/6t8t4d6s\" target=\"_blank\">https://app.wandb.ai/sayakpaul/reproducible-ml/sweeps/6t8t4d6s</a><br/>\n",
       "Run page: <a href=\"https://app.wandb.ai/sayakpaul/reproducible-ml/runs/zztms2j7\" target=\"_blank\">https://app.wandb.ai/sayakpaul/reproducible-ml/runs/zztms2j7</a><br/>\n",
       "            "
      ],
      "text/plain": [
       "<IPython.core.display.HTML object>"
      ]
     },
     "metadata": {},
     "output_type": "display_data"
    },
    {
     "name": "stderr",
     "output_type": "stream",
     "text": [
      "Error generating diff: Reference at 'refs/remotes/origin/master' does not exist\n"
     ]
    },
    {
     "name": "stdout",
     "output_type": "stream",
     "text": [
      "Train on 60000 samples, validate on 10000 samples\n",
      "Epoch 1/10\n",
      "60000/60000 [==============================] - 2s 34us/sample - loss: 1.0310 - accuracy: 0.6870 - val_loss: 0.7503 - val_accuracy: 0.7553\n",
      "Epoch 2/10\n",
      "60000/60000 [==============================] - 1s 22us/sample - loss: 0.6687 - accuracy: 0.7862 - val_loss: 0.6417 - val_accuracy: 0.7864\n",
      "Epoch 3/10\n",
      "60000/60000 [==============================] - 1s 22us/sample - loss: 0.5911 - accuracy: 0.8082 - val_loss: 0.5869 - val_accuracy: 0.8050\n",
      "Epoch 4/10\n",
      "60000/60000 [==============================] - 1s 22us/sample - loss: 0.5491 - accuracy: 0.8191 - val_loss: 0.5601 - val_accuracy: 0.8074\n",
      "Epoch 5/10\n",
      "60000/60000 [==============================] - 1s 22us/sample - loss: 0.5216 - accuracy: 0.8250 - val_loss: 0.5358 - val_accuracy: 0.8149\n",
      "Epoch 6/10\n",
      "60000/60000 [==============================] - 1s 22us/sample - loss: 0.5025 - accuracy: 0.8312 - val_loss: 0.5254 - val_accuracy: 0.8183\n",
      "Epoch 7/10\n",
      "60000/60000 [==============================] - 1s 22us/sample - loss: 0.4876 - accuracy: 0.8351 - val_loss: 0.5084 - val_accuracy: 0.8253\n",
      "Epoch 8/10\n",
      "60000/60000 [==============================] - 1s 22us/sample - loss: 0.4754 - accuracy: 0.8389 - val_loss: 0.4991 - val_accuracy: 0.8282\n",
      "Epoch 9/10\n",
      "60000/60000 [==============================] - 1s 22us/sample - loss: 0.4649 - accuracy: 0.8424 - val_loss: 0.4959 - val_accuracy: 0.8267\n",
      "Epoch 10/10\n",
      "60000/60000 [==============================] - 1s 22us/sample - loss: 0.4563 - accuracy: 0.8436 - val_loss: 0.4827 - val_accuracy: 0.8341\n",
      "wandb: Agent Finished Run: zztms2j7 \n",
      "\n",
      "wandb: Agent Starting Run: 9tviizoi with config:\n",
      "\tepochs: 20\n",
      "\tlearning_rate: 3e-05\n",
      "\toptimizer: adam\n",
      "wandb: Agent Started Run: 9tviizoi\n"
     ]
    },
    {
     "data": {
      "text/html": [
       "\n",
       "                Logging results to <a href=\"https://wandb.com\" target=\"_blank\">Weights & Biases</a> <a href=\"https://docs.wandb.com/integrations/jupyter.html\" target=\"_blank\">(Documentation)</a>.<br/>\n",
       "                Project page: <a href=\"https://app.wandb.ai/sayakpaul/reproducible-ml\" target=\"_blank\">https://app.wandb.ai/sayakpaul/reproducible-ml</a><br/>\n",
       "                Sweep page: <a href=\"https://app.wandb.ai/sayakpaul/reproducible-ml/sweeps/6t8t4d6s\" target=\"_blank\">https://app.wandb.ai/sayakpaul/reproducible-ml/sweeps/6t8t4d6s</a><br/>\n",
       "Run page: <a href=\"https://app.wandb.ai/sayakpaul/reproducible-ml/runs/9tviizoi\" target=\"_blank\">https://app.wandb.ai/sayakpaul/reproducible-ml/runs/9tviizoi</a><br/>\n",
       "            "
      ],
      "text/plain": [
       "<IPython.core.display.HTML object>"
      ]
     },
     "metadata": {},
     "output_type": "display_data"
    },
    {
     "name": "stderr",
     "output_type": "stream",
     "text": [
      "Error generating diff: Reference at 'refs/remotes/origin/master' does not exist\n"
     ]
    },
    {
     "name": "stdout",
     "output_type": "stream",
     "text": [
      "Train on 60000 samples, validate on 10000 samples\n",
      "Epoch 1/20\n",
      "60000/60000 [==============================] - 2s 34us/sample - loss: 0.5257 - accuracy: 0.8180 - val_loss: 0.4436 - val_accuracy: 0.8460\n",
      "Epoch 2/20\n",
      "60000/60000 [==============================] - 1s 23us/sample - loss: 0.3913 - accuracy: 0.8607 - val_loss: 0.3942 - val_accuracy: 0.8611\n",
      "Epoch 3/20\n",
      "60000/60000 [==============================] - 1s 24us/sample - loss: 0.3493 - accuracy: 0.8747 - val_loss: 0.3751 - val_accuracy: 0.8612\n",
      "Epoch 4/20\n",
      "60000/60000 [==============================] - 1s 23us/sample - loss: 0.3207 - accuracy: 0.8842 - val_loss: 0.3597 - val_accuracy: 0.8716\n",
      "Epoch 5/20\n",
      "60000/60000 [==============================] - 1s 24us/sample - loss: 0.3072 - accuracy: 0.8881 - val_loss: 0.3488 - val_accuracy: 0.8747\n",
      "Epoch 6/20\n",
      "59008/60000 [============================>.] - ETA: 0s - loss: 0.2888 - accuracy: 0.8937Restoring model weights from the end of the best epoch.\n",
      "60000/60000 [==============================] - 1s 23us/sample - loss: 0.2888 - accuracy: 0.8938 - val_loss: 0.3519 - val_accuracy: 0.8749\n",
      "Epoch 00006: early stopping\n",
      "wandb: Agent Finished Run: 9tviizoi \n",
      "\n",
      "wandb: Agent Starting Run: b8umh5c6 with config:\n",
      "\tepochs: 20\n",
      "\tlearning_rate: 0.0003\n",
      "\toptimizer: adam\n",
      "wandb: Agent Started Run: b8umh5c6\n"
     ]
    },
    {
     "data": {
      "text/html": [
       "\n",
       "                Logging results to <a href=\"https://wandb.com\" target=\"_blank\">Weights & Biases</a> <a href=\"https://docs.wandb.com/integrations/jupyter.html\" target=\"_blank\">(Documentation)</a>.<br/>\n",
       "                Project page: <a href=\"https://app.wandb.ai/sayakpaul/reproducible-ml\" target=\"_blank\">https://app.wandb.ai/sayakpaul/reproducible-ml</a><br/>\n",
       "                Sweep page: <a href=\"https://app.wandb.ai/sayakpaul/reproducible-ml/sweeps/6t8t4d6s\" target=\"_blank\">https://app.wandb.ai/sayakpaul/reproducible-ml/sweeps/6t8t4d6s</a><br/>\n",
       "Run page: <a href=\"https://app.wandb.ai/sayakpaul/reproducible-ml/runs/b8umh5c6\" target=\"_blank\">https://app.wandb.ai/sayakpaul/reproducible-ml/runs/b8umh5c6</a><br/>\n",
       "            "
      ],
      "text/plain": [
       "<IPython.core.display.HTML object>"
      ]
     },
     "metadata": {},
     "output_type": "display_data"
    },
    {
     "name": "stderr",
     "output_type": "stream",
     "text": [
      "Error generating diff: Reference at 'refs/remotes/origin/master' does not exist\n"
     ]
    },
    {
     "name": "stdout",
     "output_type": "stream",
     "text": [
      "Train on 60000 samples, validate on 10000 samples\n",
      "Epoch 1/20\n",
      "60000/60000 [==============================] - 2s 35us/sample - loss: 0.5257 - accuracy: 0.8180 - val_loss: 0.4436 - val_accuracy: 0.8460\n",
      "Epoch 2/20\n",
      "60000/60000 [==============================] - 1s 24us/sample - loss: 0.3913 - accuracy: 0.8607 - val_loss: 0.3942 - val_accuracy: 0.8611\n",
      "Epoch 3/20\n",
      "60000/60000 [==============================] - 1s 23us/sample - loss: 0.3493 - accuracy: 0.8747 - val_loss: 0.3751 - val_accuracy: 0.8612\n",
      "Epoch 4/20\n",
      "60000/60000 [==============================] - 1s 23us/sample - loss: 0.3207 - accuracy: 0.8842 - val_loss: 0.3597 - val_accuracy: 0.8716\n",
      "Epoch 5/20\n",
      "60000/60000 [==============================] - 1s 23us/sample - loss: 0.3072 - accuracy: 0.8881 - val_loss: 0.3488 - val_accuracy: 0.8747\n",
      "Epoch 6/20\n",
      "57344/60000 [===========================>..] - ETA: 0s - loss: 0.2888 - accuracy: 0.8938Restoring model weights from the end of the best epoch.\n",
      "60000/60000 [==============================] - 1s 22us/sample - loss: 0.2888 - accuracy: 0.8938 - val_loss: 0.3519 - val_accuracy: 0.8749\n",
      "Epoch 00006: early stopping\n",
      "wandb: Agent Finished Run: b8umh5c6 \n",
      "\n",
      "wandb: Agent Starting Run: u3l3x162 with config:\n",
      "\tepochs: 10\n",
      "\tlearning_rate: 3e-05\n",
      "\toptimizer: sgd\n",
      "wandb: Agent Started Run: u3l3x162\n"
     ]
    },
    {
     "data": {
      "text/html": [
       "\n",
       "                Logging results to <a href=\"https://wandb.com\" target=\"_blank\">Weights & Biases</a> <a href=\"https://docs.wandb.com/integrations/jupyter.html\" target=\"_blank\">(Documentation)</a>.<br/>\n",
       "                Project page: <a href=\"https://app.wandb.ai/sayakpaul/reproducible-ml\" target=\"_blank\">https://app.wandb.ai/sayakpaul/reproducible-ml</a><br/>\n",
       "                Sweep page: <a href=\"https://app.wandb.ai/sayakpaul/reproducible-ml/sweeps/6t8t4d6s\" target=\"_blank\">https://app.wandb.ai/sayakpaul/reproducible-ml/sweeps/6t8t4d6s</a><br/>\n",
       "Run page: <a href=\"https://app.wandb.ai/sayakpaul/reproducible-ml/runs/u3l3x162\" target=\"_blank\">https://app.wandb.ai/sayakpaul/reproducible-ml/runs/u3l3x162</a><br/>\n",
       "            "
      ],
      "text/plain": [
       "<IPython.core.display.HTML object>"
      ]
     },
     "metadata": {},
     "output_type": "display_data"
    },
    {
     "name": "stderr",
     "output_type": "stream",
     "text": [
      "Error generating diff: Reference at 'refs/remotes/origin/master' does not exist\n"
     ]
    },
    {
     "name": "stdout",
     "output_type": "stream",
     "text": [
      "Train on 60000 samples, validate on 10000 samples\n",
      "Epoch 1/10\n",
      "60000/60000 [==============================] - 2s 34us/sample - loss: 1.0310 - accuracy: 0.6870 - val_loss: 0.7503 - val_accuracy: 0.7553\n",
      "Epoch 2/10\n",
      "60000/60000 [==============================] - 1s 23us/sample - loss: 0.6687 - accuracy: 0.7862 - val_loss: 0.6417 - val_accuracy: 0.7864\n",
      "Epoch 3/10\n",
      "60000/60000 [==============================] - 1s 22us/sample - loss: 0.5911 - accuracy: 0.8082 - val_loss: 0.5869 - val_accuracy: 0.8050\n",
      "Epoch 4/10\n",
      "60000/60000 [==============================] - 1s 22us/sample - loss: 0.5491 - accuracy: 0.8191 - val_loss: 0.5601 - val_accuracy: 0.8074\n",
      "Epoch 5/10\n",
      "60000/60000 [==============================] - 1s 22us/sample - loss: 0.5216 - accuracy: 0.8250 - val_loss: 0.5358 - val_accuracy: 0.8149\n",
      "Epoch 6/10\n",
      "60000/60000 [==============================] - 1s 22us/sample - loss: 0.5025 - accuracy: 0.8312 - val_loss: 0.5254 - val_accuracy: 0.8183\n",
      "Epoch 7/10\n",
      "60000/60000 [==============================] - 1s 23us/sample - loss: 0.4876 - accuracy: 0.8351 - val_loss: 0.5084 - val_accuracy: 0.8253\n",
      "Epoch 8/10\n",
      "60000/60000 [==============================] - 1s 22us/sample - loss: 0.4754 - accuracy: 0.8389 - val_loss: 0.4991 - val_accuracy: 0.8282\n",
      "Epoch 9/10\n",
      "60000/60000 [==============================] - 1s 22us/sample - loss: 0.4649 - accuracy: 0.8424 - val_loss: 0.4959 - val_accuracy: 0.8267\n",
      "Epoch 10/10\n",
      "60000/60000 [==============================] - 1s 22us/sample - loss: 0.4563 - accuracy: 0.8436 - val_loss: 0.4827 - val_accuracy: 0.8341\n",
      "wandb: Agent Finished Run: u3l3x162 \n",
      "\n",
      "wandb: Agent Starting Run: ldsayyp5 with config:\n",
      "\tepochs: 20\n",
      "\tlearning_rate: 3e-05\n",
      "\toptimizer: adam\n",
      "wandb: Agent Started Run: ldsayyp5\n"
     ]
    },
    {
     "data": {
      "text/html": [
       "\n",
       "                Logging results to <a href=\"https://wandb.com\" target=\"_blank\">Weights & Biases</a> <a href=\"https://docs.wandb.com/integrations/jupyter.html\" target=\"_blank\">(Documentation)</a>.<br/>\n",
       "                Project page: <a href=\"https://app.wandb.ai/sayakpaul/reproducible-ml\" target=\"_blank\">https://app.wandb.ai/sayakpaul/reproducible-ml</a><br/>\n",
       "                Sweep page: <a href=\"https://app.wandb.ai/sayakpaul/reproducible-ml/sweeps/6t8t4d6s\" target=\"_blank\">https://app.wandb.ai/sayakpaul/reproducible-ml/sweeps/6t8t4d6s</a><br/>\n",
       "Run page: <a href=\"https://app.wandb.ai/sayakpaul/reproducible-ml/runs/ldsayyp5\" target=\"_blank\">https://app.wandb.ai/sayakpaul/reproducible-ml/runs/ldsayyp5</a><br/>\n",
       "            "
      ],
      "text/plain": [
       "<IPython.core.display.HTML object>"
      ]
     },
     "metadata": {},
     "output_type": "display_data"
    },
    {
     "name": "stderr",
     "output_type": "stream",
     "text": [
      "Error generating diff: Reference at 'refs/remotes/origin/master' does not exist\n"
     ]
    },
    {
     "name": "stdout",
     "output_type": "stream",
     "text": [
      "Train on 60000 samples, validate on 10000 samples\n",
      "Epoch 1/20\n",
      "60000/60000 [==============================] - 2s 35us/sample - loss: 0.5257 - accuracy: 0.8180 - val_loss: 0.4436 - val_accuracy: 0.8460\n",
      "Epoch 2/20\n",
      "60000/60000 [==============================] - 1s 24us/sample - loss: 0.3913 - accuracy: 0.8607 - val_loss: 0.3942 - val_accuracy: 0.8611\n",
      "Epoch 3/20\n",
      "60000/60000 [==============================] - 1s 23us/sample - loss: 0.3493 - accuracy: 0.8747 - val_loss: 0.3751 - val_accuracy: 0.8612\n",
      "Epoch 4/20\n",
      "60000/60000 [==============================] - 1s 23us/sample - loss: 0.3207 - accuracy: 0.8842 - val_loss: 0.3597 - val_accuracy: 0.8716\n",
      "Epoch 5/20\n",
      "60000/60000 [==============================] - 1s 23us/sample - loss: 0.3072 - accuracy: 0.8881 - val_loss: 0.3488 - val_accuracy: 0.8747\n",
      "Epoch 6/20\n",
      "57472/60000 [===========================>..] - ETA: 0s - loss: 0.2887 - accuracy: 0.8938Restoring model weights from the end of the best epoch.\n",
      "60000/60000 [==============================] - 1s 23us/sample - loss: 0.2888 - accuracy: 0.8938 - val_loss: 0.3519 - val_accuracy: 0.8749\n",
      "Epoch 00006: early stopping\n",
      "wandb: Agent Finished Run: ldsayyp5 \n",
      "\n",
      "wandb: Agent Starting Run: erlm3u8p with config:\n",
      "\tepochs: 10\n",
      "\tlearning_rate: 0.0003\n",
      "\toptimizer: sgd\n",
      "wandb: Agent Started Run: erlm3u8p\n"
     ]
    },
    {
     "data": {
      "text/html": [
       "\n",
       "                Logging results to <a href=\"https://wandb.com\" target=\"_blank\">Weights & Biases</a> <a href=\"https://docs.wandb.com/integrations/jupyter.html\" target=\"_blank\">(Documentation)</a>.<br/>\n",
       "                Project page: <a href=\"https://app.wandb.ai/sayakpaul/reproducible-ml\" target=\"_blank\">https://app.wandb.ai/sayakpaul/reproducible-ml</a><br/>\n",
       "                Sweep page: <a href=\"https://app.wandb.ai/sayakpaul/reproducible-ml/sweeps/6t8t4d6s\" target=\"_blank\">https://app.wandb.ai/sayakpaul/reproducible-ml/sweeps/6t8t4d6s</a><br/>\n",
       "Run page: <a href=\"https://app.wandb.ai/sayakpaul/reproducible-ml/runs/erlm3u8p\" target=\"_blank\">https://app.wandb.ai/sayakpaul/reproducible-ml/runs/erlm3u8p</a><br/>\n",
       "            "
      ],
      "text/plain": [
       "<IPython.core.display.HTML object>"
      ]
     },
     "metadata": {},
     "output_type": "display_data"
    },
    {
     "name": "stderr",
     "output_type": "stream",
     "text": [
      "Error generating diff: Reference at 'refs/remotes/origin/master' does not exist\n"
     ]
    },
    {
     "name": "stdout",
     "output_type": "stream",
     "text": [
      "Train on 60000 samples, validate on 10000 samples\n",
      "Epoch 1/10\n",
      "60000/60000 [==============================] - 2s 33us/sample - loss: 1.0310 - accuracy: 0.6870 - val_loss: 0.7503 - val_accuracy: 0.7553\n",
      "Epoch 2/10\n",
      "60000/60000 [==============================] - 1s 23us/sample - loss: 0.6687 - accuracy: 0.7862 - val_loss: 0.6417 - val_accuracy: 0.7864\n",
      "Epoch 3/10\n",
      "60000/60000 [==============================] - 1s 23us/sample - loss: 0.5911 - accuracy: 0.8082 - val_loss: 0.5869 - val_accuracy: 0.8050\n",
      "Epoch 4/10\n",
      "60000/60000 [==============================] - 1s 22us/sample - loss: 0.5491 - accuracy: 0.8191 - val_loss: 0.5601 - val_accuracy: 0.8074\n",
      "Epoch 5/10\n",
      "60000/60000 [==============================] - 1s 22us/sample - loss: 0.5216 - accuracy: 0.8250 - val_loss: 0.5358 - val_accuracy: 0.8149\n",
      "Epoch 6/10\n",
      "60000/60000 [==============================] - 1s 22us/sample - loss: 0.5025 - accuracy: 0.8312 - val_loss: 0.5254 - val_accuracy: 0.8183\n",
      "Epoch 7/10\n",
      "60000/60000 [==============================] - 1s 23us/sample - loss: 0.4876 - accuracy: 0.8351 - val_loss: 0.5084 - val_accuracy: 0.8253\n",
      "Epoch 8/10\n",
      "60000/60000 [==============================] - 1s 22us/sample - loss: 0.4754 - accuracy: 0.8389 - val_loss: 0.4991 - val_accuracy: 0.8282\n",
      "Epoch 9/10\n",
      "60000/60000 [==============================] - 1s 22us/sample - loss: 0.4649 - accuracy: 0.8424 - val_loss: 0.4959 - val_accuracy: 0.8267\n",
      "Epoch 10/10\n",
      "60000/60000 [==============================] - 1s 22us/sample - loss: 0.4563 - accuracy: 0.8436 - val_loss: 0.4827 - val_accuracy: 0.8341\n",
      "wandb: Agent Finished Run: erlm3u8p \n",
      "\n",
      "wandb: Agent Starting Run: fqliz8ov with config:\n",
      "\tepochs: 10\n",
      "\tlearning_rate: 0.01\n",
      "\toptimizer: adam\n",
      "wandb: Agent Started Run: fqliz8ov\n"
     ]
    },
    {
     "data": {
      "text/html": [
       "\n",
       "                Logging results to <a href=\"https://wandb.com\" target=\"_blank\">Weights & Biases</a> <a href=\"https://docs.wandb.com/integrations/jupyter.html\" target=\"_blank\">(Documentation)</a>.<br/>\n",
       "                Project page: <a href=\"https://app.wandb.ai/sayakpaul/reproducible-ml\" target=\"_blank\">https://app.wandb.ai/sayakpaul/reproducible-ml</a><br/>\n",
       "                Sweep page: <a href=\"https://app.wandb.ai/sayakpaul/reproducible-ml/sweeps/6t8t4d6s\" target=\"_blank\">https://app.wandb.ai/sayakpaul/reproducible-ml/sweeps/6t8t4d6s</a><br/>\n",
       "Run page: <a href=\"https://app.wandb.ai/sayakpaul/reproducible-ml/runs/fqliz8ov\" target=\"_blank\">https://app.wandb.ai/sayakpaul/reproducible-ml/runs/fqliz8ov</a><br/>\n",
       "            "
      ],
      "text/plain": [
       "<IPython.core.display.HTML object>"
      ]
     },
     "metadata": {},
     "output_type": "display_data"
    },
    {
     "name": "stderr",
     "output_type": "stream",
     "text": [
      "Error generating diff: Reference at 'refs/remotes/origin/master' does not exist\n"
     ]
    },
    {
     "name": "stdout",
     "output_type": "stream",
     "text": [
      "Train on 60000 samples, validate on 10000 samples\n",
      "Epoch 1/10\n",
      "60000/60000 [==============================] - 2s 35us/sample - loss: 0.5257 - accuracy: 0.8180 - val_loss: 0.4436 - val_accuracy: 0.8460\n",
      "Epoch 2/10\n",
      "60000/60000 [==============================] - 1s 25us/sample - loss: 0.3913 - accuracy: 0.8607 - val_loss: 0.3942 - val_accuracy: 0.8611\n",
      "Epoch 3/10\n",
      "60000/60000 [==============================] - 2s 26us/sample - loss: 0.3493 - accuracy: 0.8747 - val_loss: 0.3751 - val_accuracy: 0.8612\n",
      "Epoch 4/10\n",
      "60000/60000 [==============================] - 2s 26us/sample - loss: 0.3207 - accuracy: 0.8842 - val_loss: 0.3597 - val_accuracy: 0.8716\n",
      "Epoch 5/10\n",
      "60000/60000 [==============================] - 2s 26us/sample - loss: 0.3072 - accuracy: 0.8881 - val_loss: 0.3488 - val_accuracy: 0.8747\n",
      "Epoch 6/10\n",
      "59008/60000 [============================>.] - ETA: 0s - loss: 0.2888 - accuracy: 0.8937Restoring model weights from the end of the best epoch.\n",
      "60000/60000 [==============================] - 2s 26us/sample - loss: 0.2888 - accuracy: 0.8938 - val_loss: 0.3519 - val_accuracy: 0.8749\n",
      "Epoch 00006: early stopping\n",
      "wandb: Agent Finished Run: fqliz8ov \n",
      "\n",
      "wandb: Agent Starting Run: decar34n with config:\n",
      "\tepochs: 10\n",
      "\tlearning_rate: 0.0001\n",
      "\toptimizer: sgd\n",
      "wandb: Agent Started Run: decar34n\n"
     ]
    },
    {
     "data": {
      "text/html": [
       "\n",
       "                Logging results to <a href=\"https://wandb.com\" target=\"_blank\">Weights & Biases</a> <a href=\"https://docs.wandb.com/integrations/jupyter.html\" target=\"_blank\">(Documentation)</a>.<br/>\n",
       "                Project page: <a href=\"https://app.wandb.ai/sayakpaul/reproducible-ml\" target=\"_blank\">https://app.wandb.ai/sayakpaul/reproducible-ml</a><br/>\n",
       "                Sweep page: <a href=\"https://app.wandb.ai/sayakpaul/reproducible-ml/sweeps/6t8t4d6s\" target=\"_blank\">https://app.wandb.ai/sayakpaul/reproducible-ml/sweeps/6t8t4d6s</a><br/>\n",
       "Run page: <a href=\"https://app.wandb.ai/sayakpaul/reproducible-ml/runs/decar34n\" target=\"_blank\">https://app.wandb.ai/sayakpaul/reproducible-ml/runs/decar34n</a><br/>\n",
       "            "
      ],
      "text/plain": [
       "<IPython.core.display.HTML object>"
      ]
     },
     "metadata": {},
     "output_type": "display_data"
    },
    {
     "name": "stderr",
     "output_type": "stream",
     "text": [
      "Error generating diff: Reference at 'refs/remotes/origin/master' does not exist\n"
     ]
    },
    {
     "name": "stdout",
     "output_type": "stream",
     "text": [
      "Train on 60000 samples, validate on 10000 samples\n",
      "Epoch 1/10\n",
      "60000/60000 [==============================] - 2s 34us/sample - loss: 1.0310 - accuracy: 0.6870 - val_loss: 0.7503 - val_accuracy: 0.7553\n",
      "Epoch 2/10\n",
      "60000/60000 [==============================] - 1s 23us/sample - loss: 0.6687 - accuracy: 0.7862 - val_loss: 0.6417 - val_accuracy: 0.7864\n",
      "Epoch 3/10\n",
      "60000/60000 [==============================] - 1s 22us/sample - loss: 0.5911 - accuracy: 0.8082 - val_loss: 0.5869 - val_accuracy: 0.8050\n",
      "Epoch 4/10\n",
      "60000/60000 [==============================] - 1s 22us/sample - loss: 0.5491 - accuracy: 0.8191 - val_loss: 0.5601 - val_accuracy: 0.8074\n",
      "Epoch 5/10\n",
      "60000/60000 [==============================] - 1s 22us/sample - loss: 0.5216 - accuracy: 0.8250 - val_loss: 0.5358 - val_accuracy: 0.8149\n",
      "Epoch 6/10\n",
      "60000/60000 [==============================] - 1s 22us/sample - loss: 0.5025 - accuracy: 0.8312 - val_loss: 0.5254 - val_accuracy: 0.8183\n",
      "Epoch 7/10\n",
      "60000/60000 [==============================] - 1s 23us/sample - loss: 0.4876 - accuracy: 0.8351 - val_loss: 0.5084 - val_accuracy: 0.8253\n",
      "Epoch 8/10\n",
      "60000/60000 [==============================] - 1s 22us/sample - loss: 0.4754 - accuracy: 0.8389 - val_loss: 0.4991 - val_accuracy: 0.8282\n",
      "Epoch 9/10\n",
      "60000/60000 [==============================] - 1s 23us/sample - loss: 0.4649 - accuracy: 0.8424 - val_loss: 0.4959 - val_accuracy: 0.8267\n",
      "Epoch 10/10\n",
      "60000/60000 [==============================] - 1s 22us/sample - loss: 0.4563 - accuracy: 0.8436 - val_loss: 0.4827 - val_accuracy: 0.8341\n",
      "wandb: Agent Finished Run: decar34n \n",
      "\n",
      "wandb: Agent Starting Run: xz00bchk with config:\n",
      "\tepochs: 15\n",
      "\tlearning_rate: 1e-05\n",
      "\toptimizer: sgd\n",
      "wandb: Agent Started Run: xz00bchk\n"
     ]
    },
    {
     "data": {
      "text/html": [
       "\n",
       "                Logging results to <a href=\"https://wandb.com\" target=\"_blank\">Weights & Biases</a> <a href=\"https://docs.wandb.com/integrations/jupyter.html\" target=\"_blank\">(Documentation)</a>.<br/>\n",
       "                Project page: <a href=\"https://app.wandb.ai/sayakpaul/reproducible-ml\" target=\"_blank\">https://app.wandb.ai/sayakpaul/reproducible-ml</a><br/>\n",
       "                Sweep page: <a href=\"https://app.wandb.ai/sayakpaul/reproducible-ml/sweeps/6t8t4d6s\" target=\"_blank\">https://app.wandb.ai/sayakpaul/reproducible-ml/sweeps/6t8t4d6s</a><br/>\n",
       "Run page: <a href=\"https://app.wandb.ai/sayakpaul/reproducible-ml/runs/xz00bchk\" target=\"_blank\">https://app.wandb.ai/sayakpaul/reproducible-ml/runs/xz00bchk</a><br/>\n",
       "            "
      ],
      "text/plain": [
       "<IPython.core.display.HTML object>"
      ]
     },
     "metadata": {},
     "output_type": "display_data"
    },
    {
     "name": "stderr",
     "output_type": "stream",
     "text": [
      "Error generating diff: Reference at 'refs/remotes/origin/master' does not exist\n"
     ]
    },
    {
     "name": "stdout",
     "output_type": "stream",
     "text": [
      "Train on 60000 samples, validate on 10000 samples\n",
      "Epoch 1/15\n",
      "60000/60000 [==============================] - 2s 33us/sample - loss: 1.0310 - accuracy: 0.6870 - val_loss: 0.7503 - val_accuracy: 0.7553\n",
      "Epoch 2/15\n",
      "60000/60000 [==============================] - 1s 22us/sample - loss: 0.6687 - accuracy: 0.7862 - val_loss: 0.6417 - val_accuracy: 0.7864\n",
      "Epoch 3/15\n",
      "60000/60000 [==============================] - 1s 22us/sample - loss: 0.5911 - accuracy: 0.8082 - val_loss: 0.5869 - val_accuracy: 0.8050\n",
      "Epoch 4/15\n",
      "60000/60000 [==============================] - 1s 22us/sample - loss: 0.5491 - accuracy: 0.8191 - val_loss: 0.5601 - val_accuracy: 0.8074\n",
      "Epoch 5/15\n",
      "60000/60000 [==============================] - 1s 22us/sample - loss: 0.5216 - accuracy: 0.8250 - val_loss: 0.5358 - val_accuracy: 0.8149\n",
      "Epoch 6/15\n",
      "60000/60000 [==============================] - 1s 22us/sample - loss: 0.5025 - accuracy: 0.8312 - val_loss: 0.5254 - val_accuracy: 0.8183\n",
      "Epoch 7/15\n",
      "60000/60000 [==============================] - 1s 22us/sample - loss: 0.4876 - accuracy: 0.8351 - val_loss: 0.5084 - val_accuracy: 0.8253\n",
      "Epoch 8/15\n",
      "60000/60000 [==============================] - 1s 22us/sample - loss: 0.4754 - accuracy: 0.8389 - val_loss: 0.4991 - val_accuracy: 0.8282\n",
      "Epoch 9/15\n",
      "60000/60000 [==============================] - 1s 22us/sample - loss: 0.4649 - accuracy: 0.8424 - val_loss: 0.4959 - val_accuracy: 0.8267\n",
      "Epoch 10/15\n",
      "60000/60000 [==============================] - 1s 22us/sample - loss: 0.4563 - accuracy: 0.8436 - val_loss: 0.4827 - val_accuracy: 0.8341\n",
      "Epoch 11/15\n",
      "60000/60000 [==============================] - 1s 22us/sample - loss: 0.4488 - accuracy: 0.8468 - val_loss: 0.4775 - val_accuracy: 0.8323\n",
      "Epoch 12/15\n",
      "60000/60000 [==============================] - 1s 22us/sample - loss: 0.4416 - accuracy: 0.8488 - val_loss: 0.4707 - val_accuracy: 0.8378\n",
      "Epoch 13/15\n",
      "60000/60000 [==============================] - 1s 22us/sample - loss: 0.4359 - accuracy: 0.8503 - val_loss: 0.4637 - val_accuracy: 0.8391\n",
      "Epoch 14/15\n",
      "58880/60000 [============================>.] - ETA: 0s - loss: 0.4304 - accuracy: 0.8510Restoring model weights from the end of the best epoch.\n",
      "60000/60000 [==============================] - 1s 22us/sample - loss: 0.4307 - accuracy: 0.8512 - val_loss: 0.4646 - val_accuracy: 0.8348\n",
      "Epoch 00014: early stopping\n",
      "wandb: Agent Finished Run: xz00bchk \n",
      "\n",
      "wandb: Agent Starting Run: egu0k9l0 with config:\n",
      "\tepochs: 10\n",
      "\tlearning_rate: 1e-05\n",
      "\toptimizer: adam\n",
      "wandb: Agent Started Run: egu0k9l0\n"
     ]
    },
    {
     "data": {
      "text/html": [
       "\n",
       "                Logging results to <a href=\"https://wandb.com\" target=\"_blank\">Weights & Biases</a> <a href=\"https://docs.wandb.com/integrations/jupyter.html\" target=\"_blank\">(Documentation)</a>.<br/>\n",
       "                Project page: <a href=\"https://app.wandb.ai/sayakpaul/reproducible-ml\" target=\"_blank\">https://app.wandb.ai/sayakpaul/reproducible-ml</a><br/>\n",
       "                Sweep page: <a href=\"https://app.wandb.ai/sayakpaul/reproducible-ml/sweeps/6t8t4d6s\" target=\"_blank\">https://app.wandb.ai/sayakpaul/reproducible-ml/sweeps/6t8t4d6s</a><br/>\n",
       "Run page: <a href=\"https://app.wandb.ai/sayakpaul/reproducible-ml/runs/egu0k9l0\" target=\"_blank\">https://app.wandb.ai/sayakpaul/reproducible-ml/runs/egu0k9l0</a><br/>\n",
       "            "
      ],
      "text/plain": [
       "<IPython.core.display.HTML object>"
      ]
     },
     "metadata": {},
     "output_type": "display_data"
    },
    {
     "name": "stderr",
     "output_type": "stream",
     "text": [
      "Error generating diff: Reference at 'refs/remotes/origin/master' does not exist\n"
     ]
    },
    {
     "name": "stdout",
     "output_type": "stream",
     "text": [
      "Train on 60000 samples, validate on 10000 samples\n",
      "Epoch 1/10\n",
      "60000/60000 [==============================] - 2s 34us/sample - loss: 0.5257 - accuracy: 0.8180 - val_loss: 0.4436 - val_accuracy: 0.8460\n",
      "Epoch 2/10\n",
      "60000/60000 [==============================] - 1s 24us/sample - loss: 0.3913 - accuracy: 0.8607 - val_loss: 0.3942 - val_accuracy: 0.8611\n",
      "Epoch 3/10\n",
      "60000/60000 [==============================] - 1s 23us/sample - loss: 0.3493 - accuracy: 0.8747 - val_loss: 0.3751 - val_accuracy: 0.8612\n",
      "Epoch 4/10\n",
      "60000/60000 [==============================] - 1s 23us/sample - loss: 0.3207 - accuracy: 0.8842 - val_loss: 0.3597 - val_accuracy: 0.8716\n",
      "Epoch 5/10\n",
      "60000/60000 [==============================] - 1s 23us/sample - loss: 0.3072 - accuracy: 0.8881 - val_loss: 0.3488 - val_accuracy: 0.8747\n",
      "Epoch 6/10\n",
      "58624/60000 [============================>.] - ETA: 0s - loss: 0.2888 - accuracy: 0.8936Restoring model weights from the end of the best epoch.\n",
      "60000/60000 [==============================] - 1s 23us/sample - loss: 0.2888 - accuracy: 0.8938 - val_loss: 0.3519 - val_accuracy: 0.8749\n",
      "Epoch 00006: early stopping\n",
      "wandb: Agent Finished Run: egu0k9l0 \n",
      "\n",
      "wandb: Agent Starting Run: oq7amdiw with config:\n",
      "\tepochs: 10\n",
      "\tlearning_rate: 0.001\n",
      "\toptimizer: sgd\n",
      "wandb: Agent Started Run: oq7amdiw\n"
     ]
    },
    {
     "data": {
      "text/html": [
       "\n",
       "                Logging results to <a href=\"https://wandb.com\" target=\"_blank\">Weights & Biases</a> <a href=\"https://docs.wandb.com/integrations/jupyter.html\" target=\"_blank\">(Documentation)</a>.<br/>\n",
       "                Project page: <a href=\"https://app.wandb.ai/sayakpaul/reproducible-ml\" target=\"_blank\">https://app.wandb.ai/sayakpaul/reproducible-ml</a><br/>\n",
       "                Sweep page: <a href=\"https://app.wandb.ai/sayakpaul/reproducible-ml/sweeps/6t8t4d6s\" target=\"_blank\">https://app.wandb.ai/sayakpaul/reproducible-ml/sweeps/6t8t4d6s</a><br/>\n",
       "Run page: <a href=\"https://app.wandb.ai/sayakpaul/reproducible-ml/runs/oq7amdiw\" target=\"_blank\">https://app.wandb.ai/sayakpaul/reproducible-ml/runs/oq7amdiw</a><br/>\n",
       "            "
      ],
      "text/plain": [
       "<IPython.core.display.HTML object>"
      ]
     },
     "metadata": {},
     "output_type": "display_data"
    },
    {
     "name": "stderr",
     "output_type": "stream",
     "text": [
      "Error generating diff: Reference at 'refs/remotes/origin/master' does not exist\n"
     ]
    },
    {
     "name": "stdout",
     "output_type": "stream",
     "text": [
      "Train on 60000 samples, validate on 10000 samples\n",
      "Epoch 1/10\n",
      "60000/60000 [==============================] - 2s 33us/sample - loss: 1.0310 - accuracy: 0.6870 - val_loss: 0.7503 - val_accuracy: 0.7553\n",
      "Epoch 2/10\n",
      "60000/60000 [==============================] - 1s 23us/sample - loss: 0.6687 - accuracy: 0.7862 - val_loss: 0.6417 - val_accuracy: 0.7864\n",
      "Epoch 3/10\n",
      "60000/60000 [==============================] - 1s 24us/sample - loss: 0.5911 - accuracy: 0.8082 - val_loss: 0.5869 - val_accuracy: 0.8050\n",
      "Epoch 4/10\n",
      "60000/60000 [==============================] - 1s 24us/sample - loss: 0.5491 - accuracy: 0.8191 - val_loss: 0.5601 - val_accuracy: 0.8074\n",
      "Epoch 5/10\n",
      "60000/60000 [==============================] - 1s 24us/sample - loss: 0.5216 - accuracy: 0.8250 - val_loss: 0.5358 - val_accuracy: 0.8149\n",
      "Epoch 6/10\n",
      "60000/60000 [==============================] - 1s 23us/sample - loss: 0.5025 - accuracy: 0.8312 - val_loss: 0.5254 - val_accuracy: 0.8183\n",
      "Epoch 7/10\n",
      "60000/60000 [==============================] - 1s 23us/sample - loss: 0.4876 - accuracy: 0.8351 - val_loss: 0.5084 - val_accuracy: 0.8253\n",
      "Epoch 8/10\n",
      "60000/60000 [==============================] - 1s 22us/sample - loss: 0.4754 - accuracy: 0.8389 - val_loss: 0.4991 - val_accuracy: 0.8282\n",
      "Epoch 9/10\n",
      "60000/60000 [==============================] - 1s 23us/sample - loss: 0.4649 - accuracy: 0.8424 - val_loss: 0.4959 - val_accuracy: 0.8267\n",
      "Epoch 10/10\n",
      "60000/60000 [==============================] - 1s 21us/sample - loss: 0.4563 - accuracy: 0.8436 - val_loss: 0.4827 - val_accuracy: 0.8341\n",
      "wandb: Agent Finished Run: oq7amdiw \n",
      "\n",
      "wandb: Agent Starting Run: u6yepllb with config:\n",
      "\tepochs: 10\n",
      "\tlearning_rate: 0.0001\n",
      "\toptimizer: sgd\n",
      "wandb: Agent Started Run: u6yepllb\n"
     ]
    },
    {
     "data": {
      "text/html": [
       "\n",
       "                Logging results to <a href=\"https://wandb.com\" target=\"_blank\">Weights & Biases</a> <a href=\"https://docs.wandb.com/integrations/jupyter.html\" target=\"_blank\">(Documentation)</a>.<br/>\n",
       "                Project page: <a href=\"https://app.wandb.ai/sayakpaul/reproducible-ml\" target=\"_blank\">https://app.wandb.ai/sayakpaul/reproducible-ml</a><br/>\n",
       "                Sweep page: <a href=\"https://app.wandb.ai/sayakpaul/reproducible-ml/sweeps/6t8t4d6s\" target=\"_blank\">https://app.wandb.ai/sayakpaul/reproducible-ml/sweeps/6t8t4d6s</a><br/>\n",
       "Run page: <a href=\"https://app.wandb.ai/sayakpaul/reproducible-ml/runs/u6yepllb\" target=\"_blank\">https://app.wandb.ai/sayakpaul/reproducible-ml/runs/u6yepllb</a><br/>\n",
       "            "
      ],
      "text/plain": [
       "<IPython.core.display.HTML object>"
      ]
     },
     "metadata": {},
     "output_type": "display_data"
    },
    {
     "name": "stderr",
     "output_type": "stream",
     "text": [
      "Error generating diff: Reference at 'refs/remotes/origin/master' does not exist\n"
     ]
    },
    {
     "name": "stdout",
     "output_type": "stream",
     "text": [
      "Train on 60000 samples, validate on 10000 samples\n",
      "Epoch 1/10\n",
      "60000/60000 [==============================] - 2s 33us/sample - loss: 1.0310 - accuracy: 0.6870 - val_loss: 0.7503 - val_accuracy: 0.7553\n",
      "Epoch 2/10\n",
      "60000/60000 [==============================] - 1s 23us/sample - loss: 0.6687 - accuracy: 0.7862 - val_loss: 0.6417 - val_accuracy: 0.7864\n",
      "Epoch 3/10\n",
      "60000/60000 [==============================] - 1s 22us/sample - loss: 0.5911 - accuracy: 0.8082 - val_loss: 0.5869 - val_accuracy: 0.8050\n",
      "Epoch 4/10\n",
      "60000/60000 [==============================] - 1s 22us/sample - loss: 0.5491 - accuracy: 0.8191 - val_loss: 0.5601 - val_accuracy: 0.8074\n",
      "Epoch 5/10\n",
      "60000/60000 [==============================] - 1s 22us/sample - loss: 0.5216 - accuracy: 0.8250 - val_loss: 0.5358 - val_accuracy: 0.8149\n",
      "Epoch 6/10\n",
      "60000/60000 [==============================] - 1s 22us/sample - loss: 0.5025 - accuracy: 0.8312 - val_loss: 0.5254 - val_accuracy: 0.8183\n",
      "Epoch 7/10\n",
      "60000/60000 [==============================] - 1s 23us/sample - loss: 0.4876 - accuracy: 0.8351 - val_loss: 0.5084 - val_accuracy: 0.8253\n",
      "Epoch 8/10\n",
      "60000/60000 [==============================] - 1s 22us/sample - loss: 0.4754 - accuracy: 0.8389 - val_loss: 0.4991 - val_accuracy: 0.8282\n",
      "Epoch 9/10\n",
      "60000/60000 [==============================] - 1s 22us/sample - loss: 0.4649 - accuracy: 0.8424 - val_loss: 0.4959 - val_accuracy: 0.8267\n",
      "Epoch 10/10\n",
      "60000/60000 [==============================] - 1s 22us/sample - loss: 0.4563 - accuracy: 0.8436 - val_loss: 0.4827 - val_accuracy: 0.8341\n",
      "wandb: Agent Finished Run: u6yepllb \n",
      "\n",
      "wandb: Agent Starting Run: tl9mvn29 with config:\n",
      "\tepochs: 10\n",
      "\tlearning_rate: 0.0001\n",
      "\toptimizer: sgd\n",
      "wandb: Agent Started Run: tl9mvn29\n"
     ]
    },
    {
     "data": {
      "text/html": [
       "\n",
       "                Logging results to <a href=\"https://wandb.com\" target=\"_blank\">Weights & Biases</a> <a href=\"https://docs.wandb.com/integrations/jupyter.html\" target=\"_blank\">(Documentation)</a>.<br/>\n",
       "                Project page: <a href=\"https://app.wandb.ai/sayakpaul/reproducible-ml\" target=\"_blank\">https://app.wandb.ai/sayakpaul/reproducible-ml</a><br/>\n",
       "                Sweep page: <a href=\"https://app.wandb.ai/sayakpaul/reproducible-ml/sweeps/6t8t4d6s\" target=\"_blank\">https://app.wandb.ai/sayakpaul/reproducible-ml/sweeps/6t8t4d6s</a><br/>\n",
       "Run page: <a href=\"https://app.wandb.ai/sayakpaul/reproducible-ml/runs/tl9mvn29\" target=\"_blank\">https://app.wandb.ai/sayakpaul/reproducible-ml/runs/tl9mvn29</a><br/>\n",
       "            "
      ],
      "text/plain": [
       "<IPython.core.display.HTML object>"
      ]
     },
     "metadata": {},
     "output_type": "display_data"
    },
    {
     "name": "stderr",
     "output_type": "stream",
     "text": [
      "Error generating diff: Reference at 'refs/remotes/origin/master' does not exist\n"
     ]
    },
    {
     "name": "stdout",
     "output_type": "stream",
     "text": [
      "Train on 60000 samples, validate on 10000 samples\n",
      "Epoch 1/10\n",
      "60000/60000 [==============================] - 2s 33us/sample - loss: 1.0310 - accuracy: 0.6870 - val_loss: 0.7503 - val_accuracy: 0.7553\n",
      "Epoch 2/10\n",
      "60000/60000 [==============================] - 1s 22us/sample - loss: 0.6687 - accuracy: 0.7862 - val_loss: 0.6417 - val_accuracy: 0.7864\n",
      "Epoch 3/10\n",
      "60000/60000 [==============================] - 1s 22us/sample - loss: 0.5911 - accuracy: 0.8082 - val_loss: 0.5869 - val_accuracy: 0.8050\n",
      "Epoch 4/10\n",
      "60000/60000 [==============================] - 1s 22us/sample - loss: 0.5491 - accuracy: 0.8191 - val_loss: 0.5601 - val_accuracy: 0.8074\n",
      "Epoch 5/10\n",
      "60000/60000 [==============================] - 1s 22us/sample - loss: 0.5216 - accuracy: 0.8250 - val_loss: 0.5358 - val_accuracy: 0.8149\n",
      "Epoch 6/10\n",
      "60000/60000 [==============================] - 1s 22us/sample - loss: 0.5025 - accuracy: 0.8312 - val_loss: 0.5254 - val_accuracy: 0.8183\n",
      "Epoch 7/10\n",
      "60000/60000 [==============================] - 1s 23us/sample - loss: 0.4876 - accuracy: 0.8351 - val_loss: 0.5084 - val_accuracy: 0.8253\n",
      "Epoch 8/10\n",
      "60000/60000 [==============================] - 1s 22us/sample - loss: 0.4754 - accuracy: 0.8389 - val_loss: 0.4991 - val_accuracy: 0.8282\n",
      "Epoch 9/10\n",
      "60000/60000 [==============================] - 1s 22us/sample - loss: 0.4649 - accuracy: 0.8424 - val_loss: 0.4959 - val_accuracy: 0.8267\n",
      "Epoch 10/10\n",
      "60000/60000 [==============================] - 1s 21us/sample - loss: 0.4563 - accuracy: 0.8436 - val_loss: 0.4827 - val_accuracy: 0.8341\n",
      "wandb: Agent Finished Run: tl9mvn29 \n",
      "\n",
      "wandb: Agent Starting Run: ilsgfk43 with config:\n",
      "\tepochs: 10\n",
      "\tlearning_rate: 0.001\n",
      "\toptimizer: adam\n",
      "wandb: Agent Started Run: ilsgfk43\n"
     ]
    },
    {
     "data": {
      "text/html": [
       "\n",
       "                Logging results to <a href=\"https://wandb.com\" target=\"_blank\">Weights & Biases</a> <a href=\"https://docs.wandb.com/integrations/jupyter.html\" target=\"_blank\">(Documentation)</a>.<br/>\n",
       "                Project page: <a href=\"https://app.wandb.ai/sayakpaul/reproducible-ml\" target=\"_blank\">https://app.wandb.ai/sayakpaul/reproducible-ml</a><br/>\n",
       "                Sweep page: <a href=\"https://app.wandb.ai/sayakpaul/reproducible-ml/sweeps/6t8t4d6s\" target=\"_blank\">https://app.wandb.ai/sayakpaul/reproducible-ml/sweeps/6t8t4d6s</a><br/>\n",
       "Run page: <a href=\"https://app.wandb.ai/sayakpaul/reproducible-ml/runs/ilsgfk43\" target=\"_blank\">https://app.wandb.ai/sayakpaul/reproducible-ml/runs/ilsgfk43</a><br/>\n",
       "            "
      ],
      "text/plain": [
       "<IPython.core.display.HTML object>"
      ]
     },
     "metadata": {},
     "output_type": "display_data"
    },
    {
     "name": "stderr",
     "output_type": "stream",
     "text": [
      "Error generating diff: Reference at 'refs/remotes/origin/master' does not exist\n"
     ]
    },
    {
     "name": "stdout",
     "output_type": "stream",
     "text": [
      "Train on 60000 samples, validate on 10000 samples\n",
      "Epoch 1/10\n",
      "60000/60000 [==============================] - 2s 35us/sample - loss: 0.5257 - accuracy: 0.8180 - val_loss: 0.4436 - val_accuracy: 0.8460\n",
      "Epoch 2/10\n",
      "60000/60000 [==============================] - 1s 24us/sample - loss: 0.3913 - accuracy: 0.8607 - val_loss: 0.3942 - val_accuracy: 0.8611\n",
      "Epoch 3/10\n",
      "60000/60000 [==============================] - 1s 23us/sample - loss: 0.3493 - accuracy: 0.8747 - val_loss: 0.3751 - val_accuracy: 0.8612\n",
      "Epoch 4/10\n",
      "60000/60000 [==============================] - 1s 24us/sample - loss: 0.3207 - accuracy: 0.8842 - val_loss: 0.3597 - val_accuracy: 0.8716\n",
      "Epoch 5/10\n",
      "60000/60000 [==============================] - 1s 23us/sample - loss: 0.3072 - accuracy: 0.8881 - val_loss: 0.3488 - val_accuracy: 0.8747\n",
      "Epoch 6/10\n",
      "57344/60000 [===========================>..] - ETA: 0s - loss: 0.2888 - accuracy: 0.8938Restoring model weights from the end of the best epoch.\n",
      "60000/60000 [==============================] - 1s 23us/sample - loss: 0.2888 - accuracy: 0.8938 - val_loss: 0.3519 - val_accuracy: 0.8749\n",
      "Epoch 00006: early stopping\n",
      "wandb: Agent Finished Run: ilsgfk43 \n",
      "\n",
      "wandb: Agent Starting Run: xw3gjrvt with config:\n",
      "\tepochs: 15\n",
      "\tlearning_rate: 0.001\n",
      "\toptimizer: sgd\n",
      "wandb: Agent Started Run: xw3gjrvt\n"
     ]
    },
    {
     "data": {
      "text/html": [
       "\n",
       "                Logging results to <a href=\"https://wandb.com\" target=\"_blank\">Weights & Biases</a> <a href=\"https://docs.wandb.com/integrations/jupyter.html\" target=\"_blank\">(Documentation)</a>.<br/>\n",
       "                Project page: <a href=\"https://app.wandb.ai/sayakpaul/reproducible-ml\" target=\"_blank\">https://app.wandb.ai/sayakpaul/reproducible-ml</a><br/>\n",
       "                Sweep page: <a href=\"https://app.wandb.ai/sayakpaul/reproducible-ml/sweeps/6t8t4d6s\" target=\"_blank\">https://app.wandb.ai/sayakpaul/reproducible-ml/sweeps/6t8t4d6s</a><br/>\n",
       "Run page: <a href=\"https://app.wandb.ai/sayakpaul/reproducible-ml/runs/xw3gjrvt\" target=\"_blank\">https://app.wandb.ai/sayakpaul/reproducible-ml/runs/xw3gjrvt</a><br/>\n",
       "            "
      ],
      "text/plain": [
       "<IPython.core.display.HTML object>"
      ]
     },
     "metadata": {},
     "output_type": "display_data"
    },
    {
     "name": "stderr",
     "output_type": "stream",
     "text": [
      "Error generating diff: Reference at 'refs/remotes/origin/master' does not exist\n"
     ]
    },
    {
     "name": "stdout",
     "output_type": "stream",
     "text": [
      "Train on 60000 samples, validate on 10000 samples\n",
      "Epoch 1/15\n",
      "60000/60000 [==============================] - 2s 32us/sample - loss: 1.0310 - accuracy: 0.6870 - val_loss: 0.7503 - val_accuracy: 0.7553\n",
      "Epoch 2/15\n",
      "60000/60000 [==============================] - 1s 23us/sample - loss: 0.6687 - accuracy: 0.7862 - val_loss: 0.6417 - val_accuracy: 0.7864\n",
      "Epoch 3/15\n",
      "60000/60000 [==============================] - 1s 22us/sample - loss: 0.5911 - accuracy: 0.8082 - val_loss: 0.5869 - val_accuracy: 0.8050\n",
      "Epoch 4/15\n",
      "60000/60000 [==============================] - 1s 22us/sample - loss: 0.5491 - accuracy: 0.8191 - val_loss: 0.5601 - val_accuracy: 0.8074\n",
      "Epoch 5/15\n",
      "60000/60000 [==============================] - 1s 22us/sample - loss: 0.5216 - accuracy: 0.8250 - val_loss: 0.5358 - val_accuracy: 0.8149\n",
      "Epoch 6/15\n",
      "60000/60000 [==============================] - 1s 22us/sample - loss: 0.5025 - accuracy: 0.8312 - val_loss: 0.5254 - val_accuracy: 0.8183\n",
      "Epoch 7/15\n",
      "60000/60000 [==============================] - 1s 22us/sample - loss: 0.4876 - accuracy: 0.8351 - val_loss: 0.5084 - val_accuracy: 0.8253\n",
      "Epoch 8/15\n",
      "60000/60000 [==============================] - 1s 22us/sample - loss: 0.4754 - accuracy: 0.8389 - val_loss: 0.4991 - val_accuracy: 0.8282\n",
      "Epoch 9/15\n",
      "60000/60000 [==============================] - 1s 23us/sample - loss: 0.4649 - accuracy: 0.8424 - val_loss: 0.4959 - val_accuracy: 0.8267\n",
      "Epoch 10/15\n",
      "60000/60000 [==============================] - 1s 22us/sample - loss: 0.4563 - accuracy: 0.8436 - val_loss: 0.4827 - val_accuracy: 0.8341\n",
      "Epoch 11/15\n",
      "60000/60000 [==============================] - 1s 22us/sample - loss: 0.4488 - accuracy: 0.8468 - val_loss: 0.4775 - val_accuracy: 0.8323\n",
      "Epoch 12/15\n",
      "60000/60000 [==============================] - 1s 21us/sample - loss: 0.4416 - accuracy: 0.8488 - val_loss: 0.4707 - val_accuracy: 0.8378\n",
      "Epoch 13/15\n",
      "60000/60000 [==============================] - 1s 22us/sample - loss: 0.4359 - accuracy: 0.8503 - val_loss: 0.4637 - val_accuracy: 0.8391\n",
      "Epoch 14/15\n",
      "58496/60000 [============================>.] - ETA: 0s - loss: 0.4303 - accuracy: 0.8511Restoring model weights from the end of the best epoch.\n",
      "60000/60000 [==============================] - 1s 22us/sample - loss: 0.4307 - accuracy: 0.8512 - val_loss: 0.4646 - val_accuracy: 0.8348\n",
      "Epoch 00014: early stopping\n",
      "wandb: Agent Finished Run: xw3gjrvt \n",
      "\n",
      "wandb: Agent Starting Run: 9yimc46n with config:\n",
      "\tepochs: 15\n",
      "\tlearning_rate: 0.01\n",
      "\toptimizer: sgd\n",
      "wandb: Agent Started Run: 9yimc46n\n"
     ]
    },
    {
     "data": {
      "text/html": [
       "\n",
       "                Logging results to <a href=\"https://wandb.com\" target=\"_blank\">Weights & Biases</a> <a href=\"https://docs.wandb.com/integrations/jupyter.html\" target=\"_blank\">(Documentation)</a>.<br/>\n",
       "                Project page: <a href=\"https://app.wandb.ai/sayakpaul/reproducible-ml\" target=\"_blank\">https://app.wandb.ai/sayakpaul/reproducible-ml</a><br/>\n",
       "                Sweep page: <a href=\"https://app.wandb.ai/sayakpaul/reproducible-ml/sweeps/6t8t4d6s\" target=\"_blank\">https://app.wandb.ai/sayakpaul/reproducible-ml/sweeps/6t8t4d6s</a><br/>\n",
       "Run page: <a href=\"https://app.wandb.ai/sayakpaul/reproducible-ml/runs/9yimc46n\" target=\"_blank\">https://app.wandb.ai/sayakpaul/reproducible-ml/runs/9yimc46n</a><br/>\n",
       "            "
      ],
      "text/plain": [
       "<IPython.core.display.HTML object>"
      ]
     },
     "metadata": {},
     "output_type": "display_data"
    },
    {
     "name": "stderr",
     "output_type": "stream",
     "text": [
      "Error generating diff: Reference at 'refs/remotes/origin/master' does not exist\n"
     ]
    },
    {
     "name": "stdout",
     "output_type": "stream",
     "text": [
      "Train on 60000 samples, validate on 10000 samples\n",
      "Epoch 1/15\n",
      "60000/60000 [==============================] - 2s 33us/sample - loss: 1.0310 - accuracy: 0.6870 - val_loss: 0.7503 - val_accuracy: 0.7553\n",
      "Epoch 2/15\n",
      "60000/60000 [==============================] - 1s 22us/sample - loss: 0.6687 - accuracy: 0.7862 - val_loss: 0.6417 - val_accuracy: 0.7864\n",
      "Epoch 3/15\n",
      "60000/60000 [==============================] - 1s 22us/sample - loss: 0.5911 - accuracy: 0.8082 - val_loss: 0.5869 - val_accuracy: 0.8050\n",
      "Epoch 4/15\n",
      "60000/60000 [==============================] - 1s 22us/sample - loss: 0.5491 - accuracy: 0.8191 - val_loss: 0.5601 - val_accuracy: 0.8074\n",
      "Epoch 5/15\n",
      "60000/60000 [==============================] - 1s 23us/sample - loss: 0.5216 - accuracy: 0.8250 - val_loss: 0.5358 - val_accuracy: 0.8149\n",
      "Epoch 6/15\n",
      "60000/60000 [==============================] - 1s 22us/sample - loss: 0.5025 - accuracy: 0.8312 - val_loss: 0.5254 - val_accuracy: 0.8183\n",
      "Epoch 7/15\n",
      "60000/60000 [==============================] - 1s 22us/sample - loss: 0.4876 - accuracy: 0.8351 - val_loss: 0.5084 - val_accuracy: 0.8253\n",
      "Epoch 8/15\n",
      "60000/60000 [==============================] - 1s 22us/sample - loss: 0.4754 - accuracy: 0.8389 - val_loss: 0.4991 - val_accuracy: 0.8282\n",
      "Epoch 9/15\n",
      "60000/60000 [==============================] - 1s 23us/sample - loss: 0.4649 - accuracy: 0.8424 - val_loss: 0.4959 - val_accuracy: 0.8267\n",
      "Epoch 10/15\n",
      "60000/60000 [==============================] - 1s 22us/sample - loss: 0.4563 - accuracy: 0.8436 - val_loss: 0.4827 - val_accuracy: 0.8341\n",
      "Epoch 11/15\n",
      "60000/60000 [==============================] - 1s 22us/sample - loss: 0.4488 - accuracy: 0.8468 - val_loss: 0.4775 - val_accuracy: 0.8323\n",
      "Epoch 12/15\n",
      "60000/60000 [==============================] - 1s 22us/sample - loss: 0.4416 - accuracy: 0.8488 - val_loss: 0.4707 - val_accuracy: 0.8378\n",
      "Epoch 13/15\n",
      "60000/60000 [==============================] - 1s 22us/sample - loss: 0.4359 - accuracy: 0.8503 - val_loss: 0.4637 - val_accuracy: 0.8391\n",
      "Epoch 14/15\n",
      "59136/60000 [============================>.] - ETA: 0s - loss: 0.4306 - accuracy: 0.8511Restoring model weights from the end of the best epoch.\n",
      "60000/60000 [==============================] - 1s 22us/sample - loss: 0.4307 - accuracy: 0.8512 - val_loss: 0.4646 - val_accuracy: 0.8348\n",
      "Epoch 00014: early stopping\n",
      "wandb: Agent Finished Run: 9yimc46n \n",
      "\n",
      "wandb: Agent Starting Run: njsvj0lc with config:\n",
      "\tepochs: 15\n",
      "\tlearning_rate: 0.01\n",
      "\toptimizer: adam\n",
      "wandb: Agent Started Run: njsvj0lc\n"
     ]
    },
    {
     "data": {
      "text/html": [
       "\n",
       "                Logging results to <a href=\"https://wandb.com\" target=\"_blank\">Weights & Biases</a> <a href=\"https://docs.wandb.com/integrations/jupyter.html\" target=\"_blank\">(Documentation)</a>.<br/>\n",
       "                Project page: <a href=\"https://app.wandb.ai/sayakpaul/reproducible-ml\" target=\"_blank\">https://app.wandb.ai/sayakpaul/reproducible-ml</a><br/>\n",
       "                Sweep page: <a href=\"https://app.wandb.ai/sayakpaul/reproducible-ml/sweeps/6t8t4d6s\" target=\"_blank\">https://app.wandb.ai/sayakpaul/reproducible-ml/sweeps/6t8t4d6s</a><br/>\n",
       "Run page: <a href=\"https://app.wandb.ai/sayakpaul/reproducible-ml/runs/njsvj0lc\" target=\"_blank\">https://app.wandb.ai/sayakpaul/reproducible-ml/runs/njsvj0lc</a><br/>\n",
       "            "
      ],
      "text/plain": [
       "<IPython.core.display.HTML object>"
      ]
     },
     "metadata": {},
     "output_type": "display_data"
    },
    {
     "name": "stderr",
     "output_type": "stream",
     "text": [
      "Error generating diff: Reference at 'refs/remotes/origin/master' does not exist\n"
     ]
    },
    {
     "name": "stdout",
     "output_type": "stream",
     "text": [
      "Train on 60000 samples, validate on 10000 samples\n",
      "Epoch 1/15\n",
      "60000/60000 [==============================] - 2s 34us/sample - loss: 0.5257 - accuracy: 0.8180 - val_loss: 0.4436 - val_accuracy: 0.8460\n",
      "Epoch 2/15\n",
      "60000/60000 [==============================] - 1s 23us/sample - loss: 0.3913 - accuracy: 0.8607 - val_loss: 0.3942 - val_accuracy: 0.8611\n",
      "Epoch 3/15\n",
      "60000/60000 [==============================] - 1s 23us/sample - loss: 0.3493 - accuracy: 0.8747 - val_loss: 0.3751 - val_accuracy: 0.8612\n",
      "Epoch 4/15\n",
      "60000/60000 [==============================] - 1s 23us/sample - loss: 0.3207 - accuracy: 0.8842 - val_loss: 0.3597 - val_accuracy: 0.8716\n",
      "Epoch 5/15\n",
      "60000/60000 [==============================] - 1s 23us/sample - loss: 0.3072 - accuracy: 0.8881 - val_loss: 0.3488 - val_accuracy: 0.8747\n",
      "Epoch 6/15\n",
      "58368/60000 [============================>.] - ETA: 0s - loss: 0.2888 - accuracy: 0.8937Restoring model weights from the end of the best epoch.\n",
      "60000/60000 [==============================] - 1s 22us/sample - loss: 0.2888 - accuracy: 0.8938 - val_loss: 0.3519 - val_accuracy: 0.8749\n",
      "Epoch 00006: early stopping\n",
      "wandb: Agent Finished Run: njsvj0lc \n",
      "\n",
      "wandb: Agent Starting Run: d4m9vfne with config:\n",
      "\tepochs: 15\n",
      "\tlearning_rate: 0.0003\n",
      "\toptimizer: sgd\n",
      "wandb: Agent Started Run: d4m9vfne\n"
     ]
    },
    {
     "data": {
      "text/html": [
       "\n",
       "                Logging results to <a href=\"https://wandb.com\" target=\"_blank\">Weights & Biases</a> <a href=\"https://docs.wandb.com/integrations/jupyter.html\" target=\"_blank\">(Documentation)</a>.<br/>\n",
       "                Project page: <a href=\"https://app.wandb.ai/sayakpaul/reproducible-ml\" target=\"_blank\">https://app.wandb.ai/sayakpaul/reproducible-ml</a><br/>\n",
       "                Sweep page: <a href=\"https://app.wandb.ai/sayakpaul/reproducible-ml/sweeps/6t8t4d6s\" target=\"_blank\">https://app.wandb.ai/sayakpaul/reproducible-ml/sweeps/6t8t4d6s</a><br/>\n",
       "Run page: <a href=\"https://app.wandb.ai/sayakpaul/reproducible-ml/runs/d4m9vfne\" target=\"_blank\">https://app.wandb.ai/sayakpaul/reproducible-ml/runs/d4m9vfne</a><br/>\n",
       "            "
      ],
      "text/plain": [
       "<IPython.core.display.HTML object>"
      ]
     },
     "metadata": {},
     "output_type": "display_data"
    },
    {
     "name": "stderr",
     "output_type": "stream",
     "text": [
      "Error generating diff: Reference at 'refs/remotes/origin/master' does not exist\n"
     ]
    },
    {
     "name": "stdout",
     "output_type": "stream",
     "text": [
      "Train on 60000 samples, validate on 10000 samples\n",
      "Epoch 1/15\n",
      "60000/60000 [==============================] - 2s 34us/sample - loss: 1.0310 - accuracy: 0.6870 - val_loss: 0.7503 - val_accuracy: 0.7553\n",
      "Epoch 2/15\n",
      "60000/60000 [==============================] - 1s 23us/sample - loss: 0.6687 - accuracy: 0.7862 - val_loss: 0.6417 - val_accuracy: 0.7864\n",
      "Epoch 3/15\n",
      "60000/60000 [==============================] - 1s 22us/sample - loss: 0.5911 - accuracy: 0.8082 - val_loss: 0.5869 - val_accuracy: 0.8050\n",
      "Epoch 4/15\n",
      "60000/60000 [==============================] - 1s 22us/sample - loss: 0.5491 - accuracy: 0.8191 - val_loss: 0.5601 - val_accuracy: 0.8074\n",
      "Epoch 5/15\n",
      "60000/60000 [==============================] - 1s 23us/sample - loss: 0.5216 - accuracy: 0.8250 - val_loss: 0.5358 - val_accuracy: 0.8149\n",
      "Epoch 6/15\n",
      "60000/60000 [==============================] - 1s 22us/sample - loss: 0.5025 - accuracy: 0.8312 - val_loss: 0.5254 - val_accuracy: 0.8183\n",
      "Epoch 7/15\n",
      "60000/60000 [==============================] - 1s 23us/sample - loss: 0.4876 - accuracy: 0.8351 - val_loss: 0.5084 - val_accuracy: 0.8253\n",
      "Epoch 8/15\n",
      "60000/60000 [==============================] - 1s 22us/sample - loss: 0.4754 - accuracy: 0.8389 - val_loss: 0.4991 - val_accuracy: 0.8282\n",
      "Epoch 9/15\n",
      "60000/60000 [==============================] - 1s 23us/sample - loss: 0.4649 - accuracy: 0.8424 - val_loss: 0.4959 - val_accuracy: 0.8267\n",
      "Epoch 10/15\n",
      "60000/60000 [==============================] - 1s 22us/sample - loss: 0.4563 - accuracy: 0.8436 - val_loss: 0.4827 - val_accuracy: 0.8341\n",
      "Epoch 11/15\n",
      "60000/60000 [==============================] - 1s 22us/sample - loss: 0.4488 - accuracy: 0.8468 - val_loss: 0.4775 - val_accuracy: 0.8323\n",
      "Epoch 12/15\n",
      "60000/60000 [==============================] - 1s 22us/sample - loss: 0.4416 - accuracy: 0.8488 - val_loss: 0.4707 - val_accuracy: 0.8378\n",
      "Epoch 13/15\n",
      "60000/60000 [==============================] - 1s 22us/sample - loss: 0.4359 - accuracy: 0.8503 - val_loss: 0.4637 - val_accuracy: 0.8391\n",
      "Epoch 14/15\n",
      "59392/60000 [============================>.] - ETA: 0s - loss: 0.4306 - accuracy: 0.8512Restoring model weights from the end of the best epoch.\n",
      "60000/60000 [==============================] - 1s 22us/sample - loss: 0.4307 - accuracy: 0.8512 - val_loss: 0.4646 - val_accuracy: 0.8348\n",
      "Epoch 00014: early stopping\n",
      "wandb: Agent Finished Run: d4m9vfne \n",
      "\n",
      "wandb: Agent Starting Run: g7yi7vu3 with config:\n",
      "\tepochs: 10\n",
      "\tlearning_rate: 3e-05\n",
      "\toptimizer: adam\n",
      "wandb: Agent Started Run: g7yi7vu3\n"
     ]
    },
    {
     "data": {
      "text/html": [
       "\n",
       "                Logging results to <a href=\"https://wandb.com\" target=\"_blank\">Weights & Biases</a> <a href=\"https://docs.wandb.com/integrations/jupyter.html\" target=\"_blank\">(Documentation)</a>.<br/>\n",
       "                Project page: <a href=\"https://app.wandb.ai/sayakpaul/reproducible-ml\" target=\"_blank\">https://app.wandb.ai/sayakpaul/reproducible-ml</a><br/>\n",
       "                Sweep page: <a href=\"https://app.wandb.ai/sayakpaul/reproducible-ml/sweeps/6t8t4d6s\" target=\"_blank\">https://app.wandb.ai/sayakpaul/reproducible-ml/sweeps/6t8t4d6s</a><br/>\n",
       "Run page: <a href=\"https://app.wandb.ai/sayakpaul/reproducible-ml/runs/g7yi7vu3\" target=\"_blank\">https://app.wandb.ai/sayakpaul/reproducible-ml/runs/g7yi7vu3</a><br/>\n",
       "            "
      ],
      "text/plain": [
       "<IPython.core.display.HTML object>"
      ]
     },
     "metadata": {},
     "output_type": "display_data"
    },
    {
     "name": "stderr",
     "output_type": "stream",
     "text": [
      "Error generating diff: Reference at 'refs/remotes/origin/master' does not exist\n"
     ]
    },
    {
     "name": "stdout",
     "output_type": "stream",
     "text": [
      "Train on 60000 samples, validate on 10000 samples\n",
      "Epoch 1/10\n",
      "60000/60000 [==============================] - 2s 36us/sample - loss: 0.5257 - accuracy: 0.8180 - val_loss: 0.4436 - val_accuracy: 0.8460\n",
      "Epoch 2/10\n",
      "60000/60000 [==============================] - 1s 23us/sample - loss: 0.3913 - accuracy: 0.8607 - val_loss: 0.3942 - val_accuracy: 0.8611\n",
      "Epoch 3/10\n",
      "60000/60000 [==============================] - 1s 23us/sample - loss: 0.3493 - accuracy: 0.8747 - val_loss: 0.3751 - val_accuracy: 0.8612\n",
      "Epoch 4/10\n",
      "60000/60000 [==============================] - 1s 23us/sample - loss: 0.3207 - accuracy: 0.8842 - val_loss: 0.3597 - val_accuracy: 0.8716\n",
      "Epoch 5/10\n",
      "60000/60000 [==============================] - 1s 23us/sample - loss: 0.3072 - accuracy: 0.8881 - val_loss: 0.3488 - val_accuracy: 0.8747\n",
      "Epoch 6/10\n",
      "58240/60000 [============================>.] - ETA: 0s - loss: 0.2886 - accuracy: 0.8938Restoring model weights from the end of the best epoch.\n",
      "60000/60000 [==============================] - 1s 22us/sample - loss: 0.2888 - accuracy: 0.8938 - val_loss: 0.3519 - val_accuracy: 0.8749\n",
      "Epoch 00006: early stopping\n",
      "wandb: Agent Finished Run: g7yi7vu3 \n",
      "\n",
      "wandb: Agent Starting Run: bf1sh6g5 with config:\n",
      "\tepochs: 10\n",
      "\tlearning_rate: 0.001\n",
      "\toptimizer: sgd\n",
      "wandb: Agent Started Run: bf1sh6g5\n"
     ]
    },
    {
     "data": {
      "text/html": [
       "\n",
       "                Logging results to <a href=\"https://wandb.com\" target=\"_blank\">Weights & Biases</a> <a href=\"https://docs.wandb.com/integrations/jupyter.html\" target=\"_blank\">(Documentation)</a>.<br/>\n",
       "                Project page: <a href=\"https://app.wandb.ai/sayakpaul/reproducible-ml\" target=\"_blank\">https://app.wandb.ai/sayakpaul/reproducible-ml</a><br/>\n",
       "                Sweep page: <a href=\"https://app.wandb.ai/sayakpaul/reproducible-ml/sweeps/6t8t4d6s\" target=\"_blank\">https://app.wandb.ai/sayakpaul/reproducible-ml/sweeps/6t8t4d6s</a><br/>\n",
       "Run page: <a href=\"https://app.wandb.ai/sayakpaul/reproducible-ml/runs/bf1sh6g5\" target=\"_blank\">https://app.wandb.ai/sayakpaul/reproducible-ml/runs/bf1sh6g5</a><br/>\n",
       "            "
      ],
      "text/plain": [
       "<IPython.core.display.HTML object>"
      ]
     },
     "metadata": {},
     "output_type": "display_data"
    },
    {
     "name": "stderr",
     "output_type": "stream",
     "text": [
      "Error generating diff: Reference at 'refs/remotes/origin/master' does not exist\n"
     ]
    },
    {
     "name": "stdout",
     "output_type": "stream",
     "text": [
      "Train on 60000 samples, validate on 10000 samples\n",
      "Epoch 1/10\n",
      "60000/60000 [==============================] - 2s 33us/sample - loss: 1.0310 - accuracy: 0.6870 - val_loss: 0.7503 - val_accuracy: 0.7553\n",
      "Epoch 2/10\n",
      "60000/60000 [==============================] - 1s 22us/sample - loss: 0.6687 - accuracy: 0.7862 - val_loss: 0.6417 - val_accuracy: 0.7864\n",
      "Epoch 3/10\n",
      "60000/60000 [==============================] - 1s 22us/sample - loss: 0.5911 - accuracy: 0.8082 - val_loss: 0.5869 - val_accuracy: 0.8050\n",
      "Epoch 4/10\n",
      "60000/60000 [==============================] - 1s 22us/sample - loss: 0.5491 - accuracy: 0.8191 - val_loss: 0.5601 - val_accuracy: 0.8074\n",
      "Epoch 5/10\n",
      "60000/60000 [==============================] - 1s 23us/sample - loss: 0.5216 - accuracy: 0.8250 - val_loss: 0.5358 - val_accuracy: 0.8149\n",
      "Epoch 6/10\n",
      "60000/60000 [==============================] - 1s 22us/sample - loss: 0.5025 - accuracy: 0.8312 - val_loss: 0.5254 - val_accuracy: 0.8183\n",
      "Epoch 7/10\n",
      "60000/60000 [==============================] - 1s 22us/sample - loss: 0.4876 - accuracy: 0.8351 - val_loss: 0.5084 - val_accuracy: 0.8253\n",
      "Epoch 8/10\n",
      "60000/60000 [==============================] - 1s 22us/sample - loss: 0.4754 - accuracy: 0.8389 - val_loss: 0.4991 - val_accuracy: 0.8282\n",
      "Epoch 9/10\n",
      "60000/60000 [==============================] - 1s 22us/sample - loss: 0.4649 - accuracy: 0.8424 - val_loss: 0.4959 - val_accuracy: 0.8267\n",
      "Epoch 10/10\n",
      "60000/60000 [==============================] - 1s 22us/sample - loss: 0.4563 - accuracy: 0.8436 - val_loss: 0.4827 - val_accuracy: 0.8341\n",
      "wandb: Agent Finished Run: bf1sh6g5 \n",
      "\n",
      "wandb: Agent Starting Run: sxtx1pfh with config:\n",
      "\tepochs: 15\n",
      "\tlearning_rate: 0.01\n",
      "\toptimizer: adam\n",
      "wandb: Agent Started Run: sxtx1pfh\n"
     ]
    },
    {
     "data": {
      "text/html": [
       "\n",
       "                Logging results to <a href=\"https://wandb.com\" target=\"_blank\">Weights & Biases</a> <a href=\"https://docs.wandb.com/integrations/jupyter.html\" target=\"_blank\">(Documentation)</a>.<br/>\n",
       "                Project page: <a href=\"https://app.wandb.ai/sayakpaul/reproducible-ml\" target=\"_blank\">https://app.wandb.ai/sayakpaul/reproducible-ml</a><br/>\n",
       "                Sweep page: <a href=\"https://app.wandb.ai/sayakpaul/reproducible-ml/sweeps/6t8t4d6s\" target=\"_blank\">https://app.wandb.ai/sayakpaul/reproducible-ml/sweeps/6t8t4d6s</a><br/>\n",
       "Run page: <a href=\"https://app.wandb.ai/sayakpaul/reproducible-ml/runs/sxtx1pfh\" target=\"_blank\">https://app.wandb.ai/sayakpaul/reproducible-ml/runs/sxtx1pfh</a><br/>\n",
       "            "
      ],
      "text/plain": [
       "<IPython.core.display.HTML object>"
      ]
     },
     "metadata": {},
     "output_type": "display_data"
    },
    {
     "name": "stderr",
     "output_type": "stream",
     "text": [
      "Error generating diff: Reference at 'refs/remotes/origin/master' does not exist\n"
     ]
    },
    {
     "name": "stdout",
     "output_type": "stream",
     "text": [
      "Train on 60000 samples, validate on 10000 samples\n",
      "Epoch 1/15\n",
      "60000/60000 [==============================] - 2s 34us/sample - loss: 0.5257 - accuracy: 0.8180 - val_loss: 0.4436 - val_accuracy: 0.8460\n",
      "Epoch 2/15\n",
      "60000/60000 [==============================] - 1s 23us/sample - loss: 0.3913 - accuracy: 0.8607 - val_loss: 0.3942 - val_accuracy: 0.8611\n",
      "Epoch 3/15\n",
      "60000/60000 [==============================] - 1s 23us/sample - loss: 0.3493 - accuracy: 0.8747 - val_loss: 0.3751 - val_accuracy: 0.8612\n",
      "Epoch 4/15\n",
      "60000/60000 [==============================] - 1s 23us/sample - loss: 0.3207 - accuracy: 0.8842 - val_loss: 0.3597 - val_accuracy: 0.8716\n",
      "Epoch 5/15\n",
      "60000/60000 [==============================] - 1s 25us/sample - loss: 0.3072 - accuracy: 0.8881 - val_loss: 0.3488 - val_accuracy: 0.8747\n",
      "Epoch 6/15\n",
      "58880/60000 [============================>.] - ETA: 0s - loss: 0.2890 - accuracy: 0.8936Restoring model weights from the end of the best epoch.\n",
      "60000/60000 [==============================] - 2s 26us/sample - loss: 0.2888 - accuracy: 0.8938 - val_loss: 0.3519 - val_accuracy: 0.8749\n",
      "Epoch 00006: early stopping\n",
      "wandb: Agent Finished Run: sxtx1pfh \n",
      "\n",
      "wandb: Agent Starting Run: m6x7eefv with config:\n",
      "\tepochs: 10\n",
      "\tlearning_rate: 3e-05\n",
      "\toptimizer: sgd\n",
      "wandb: Agent Started Run: m6x7eefv\n"
     ]
    },
    {
     "data": {
      "text/html": [
       "\n",
       "                Logging results to <a href=\"https://wandb.com\" target=\"_blank\">Weights & Biases</a> <a href=\"https://docs.wandb.com/integrations/jupyter.html\" target=\"_blank\">(Documentation)</a>.<br/>\n",
       "                Project page: <a href=\"https://app.wandb.ai/sayakpaul/reproducible-ml\" target=\"_blank\">https://app.wandb.ai/sayakpaul/reproducible-ml</a><br/>\n",
       "                Sweep page: <a href=\"https://app.wandb.ai/sayakpaul/reproducible-ml/sweeps/6t8t4d6s\" target=\"_blank\">https://app.wandb.ai/sayakpaul/reproducible-ml/sweeps/6t8t4d6s</a><br/>\n",
       "Run page: <a href=\"https://app.wandb.ai/sayakpaul/reproducible-ml/runs/m6x7eefv\" target=\"_blank\">https://app.wandb.ai/sayakpaul/reproducible-ml/runs/m6x7eefv</a><br/>\n",
       "            "
      ],
      "text/plain": [
       "<IPython.core.display.HTML object>"
      ]
     },
     "metadata": {},
     "output_type": "display_data"
    },
    {
     "name": "stderr",
     "output_type": "stream",
     "text": [
      "Error generating diff: Reference at 'refs/remotes/origin/master' does not exist\n"
     ]
    },
    {
     "name": "stdout",
     "output_type": "stream",
     "text": [
      "Train on 60000 samples, validate on 10000 samples\n",
      "Epoch 1/10\n",
      "60000/60000 [==============================] - 2s 33us/sample - loss: 1.0310 - accuracy: 0.6870 - val_loss: 0.7503 - val_accuracy: 0.7553\n",
      "Epoch 2/10\n",
      "60000/60000 [==============================] - 1s 22us/sample - loss: 0.6687 - accuracy: 0.7862 - val_loss: 0.6417 - val_accuracy: 0.7864\n",
      "Epoch 3/10\n",
      "60000/60000 [==============================] - 1s 22us/sample - loss: 0.5911 - accuracy: 0.8082 - val_loss: 0.5869 - val_accuracy: 0.8050\n",
      "Epoch 4/10\n",
      "60000/60000 [==============================] - 1s 22us/sample - loss: 0.5491 - accuracy: 0.8191 - val_loss: 0.5601 - val_accuracy: 0.8074\n",
      "Epoch 5/10\n",
      "60000/60000 [==============================] - 1s 22us/sample - loss: 0.5216 - accuracy: 0.8250 - val_loss: 0.5358 - val_accuracy: 0.8149\n",
      "Epoch 6/10\n",
      "60000/60000 [==============================] - 1s 21us/sample - loss: 0.5025 - accuracy: 0.8312 - val_loss: 0.5254 - val_accuracy: 0.8183\n",
      "Epoch 7/10\n",
      "60000/60000 [==============================] - 1s 22us/sample - loss: 0.4876 - accuracy: 0.8351 - val_loss: 0.5084 - val_accuracy: 0.8253\n",
      "Epoch 8/10\n",
      "60000/60000 [==============================] - 1s 22us/sample - loss: 0.4754 - accuracy: 0.8389 - val_loss: 0.4991 - val_accuracy: 0.8282\n",
      "Epoch 9/10\n",
      "60000/60000 [==============================] - 1s 22us/sample - loss: 0.4649 - accuracy: 0.8424 - val_loss: 0.4959 - val_accuracy: 0.8267\n",
      "Epoch 10/10\n",
      "60000/60000 [==============================] - 1s 22us/sample - loss: 0.4563 - accuracy: 0.8436 - val_loss: 0.4827 - val_accuracy: 0.8341\n",
      "wandb: Agent Finished Run: m6x7eefv \n",
      "\n",
      "wandb: Agent Starting Run: sbtjfzxe with config:\n",
      "\tepochs: 20\n",
      "\tlearning_rate: 3e-05\n",
      "\toptimizer: adam\n",
      "wandb: Agent Started Run: sbtjfzxe\n"
     ]
    },
    {
     "data": {
      "text/html": [
       "\n",
       "                Logging results to <a href=\"https://wandb.com\" target=\"_blank\">Weights & Biases</a> <a href=\"https://docs.wandb.com/integrations/jupyter.html\" target=\"_blank\">(Documentation)</a>.<br/>\n",
       "                Project page: <a href=\"https://app.wandb.ai/sayakpaul/reproducible-ml\" target=\"_blank\">https://app.wandb.ai/sayakpaul/reproducible-ml</a><br/>\n",
       "                Sweep page: <a href=\"https://app.wandb.ai/sayakpaul/reproducible-ml/sweeps/6t8t4d6s\" target=\"_blank\">https://app.wandb.ai/sayakpaul/reproducible-ml/sweeps/6t8t4d6s</a><br/>\n",
       "Run page: <a href=\"https://app.wandb.ai/sayakpaul/reproducible-ml/runs/sbtjfzxe\" target=\"_blank\">https://app.wandb.ai/sayakpaul/reproducible-ml/runs/sbtjfzxe</a><br/>\n",
       "            "
      ],
      "text/plain": [
       "<IPython.core.display.HTML object>"
      ]
     },
     "metadata": {},
     "output_type": "display_data"
    },
    {
     "name": "stderr",
     "output_type": "stream",
     "text": [
      "Error generating diff: Reference at 'refs/remotes/origin/master' does not exist\n"
     ]
    },
    {
     "name": "stdout",
     "output_type": "stream",
     "text": [
      "Train on 60000 samples, validate on 10000 samples\n",
      "Epoch 1/20\n",
      "60000/60000 [==============================] - 2s 35us/sample - loss: 0.5257 - accuracy: 0.8180 - val_loss: 0.4436 - val_accuracy: 0.8460\n",
      "Epoch 2/20\n",
      "60000/60000 [==============================] - 1s 23us/sample - loss: 0.3913 - accuracy: 0.8607 - val_loss: 0.3942 - val_accuracy: 0.8611\n",
      "Epoch 3/20\n",
      "60000/60000 [==============================] - 1s 23us/sample - loss: 0.3493 - accuracy: 0.8747 - val_loss: 0.3751 - val_accuracy: 0.8612\n",
      "Epoch 4/20\n",
      "60000/60000 [==============================] - 1s 23us/sample - loss: 0.3207 - accuracy: 0.8842 - val_loss: 0.3597 - val_accuracy: 0.8716\n",
      "Epoch 5/20\n",
      "60000/60000 [==============================] - 1s 23us/sample - loss: 0.3072 - accuracy: 0.8881 - val_loss: 0.3488 - val_accuracy: 0.8747\n",
      "Epoch 6/20\n",
      "57984/60000 [===========================>..] - ETA: 0s - loss: 0.2888 - accuracy: 0.8937Restoring model weights from the end of the best epoch.\n",
      "60000/60000 [==============================] - 1s 22us/sample - loss: 0.2888 - accuracy: 0.8938 - val_loss: 0.3519 - val_accuracy: 0.8749\n",
      "Epoch 00006: early stopping\n",
      "wandb: Agent Finished Run: sbtjfzxe \n",
      "\n",
      "wandb: Agent Starting Run: yppsprlh with config:\n",
      "\tepochs: 20\n",
      "\tlearning_rate: 0.0001\n",
      "\toptimizer: sgd\n",
      "wandb: Agent Started Run: yppsprlh\n"
     ]
    },
    {
     "data": {
      "text/html": [
       "\n",
       "                Logging results to <a href=\"https://wandb.com\" target=\"_blank\">Weights & Biases</a> <a href=\"https://docs.wandb.com/integrations/jupyter.html\" target=\"_blank\">(Documentation)</a>.<br/>\n",
       "                Project page: <a href=\"https://app.wandb.ai/sayakpaul/reproducible-ml\" target=\"_blank\">https://app.wandb.ai/sayakpaul/reproducible-ml</a><br/>\n",
       "                Sweep page: <a href=\"https://app.wandb.ai/sayakpaul/reproducible-ml/sweeps/6t8t4d6s\" target=\"_blank\">https://app.wandb.ai/sayakpaul/reproducible-ml/sweeps/6t8t4d6s</a><br/>\n",
       "Run page: <a href=\"https://app.wandb.ai/sayakpaul/reproducible-ml/runs/yppsprlh\" target=\"_blank\">https://app.wandb.ai/sayakpaul/reproducible-ml/runs/yppsprlh</a><br/>\n",
       "            "
      ],
      "text/plain": [
       "<IPython.core.display.HTML object>"
      ]
     },
     "metadata": {},
     "output_type": "display_data"
    },
    {
     "name": "stderr",
     "output_type": "stream",
     "text": [
      "Error generating diff: Reference at 'refs/remotes/origin/master' does not exist\n"
     ]
    },
    {
     "name": "stdout",
     "output_type": "stream",
     "text": [
      "Train on 60000 samples, validate on 10000 samples\n",
      "Epoch 1/20\n",
      "60000/60000 [==============================] - 2s 32us/sample - loss: 1.0310 - accuracy: 0.6870 - val_loss: 0.7503 - val_accuracy: 0.7553\n",
      "Epoch 2/20\n",
      "60000/60000 [==============================] - 1s 22us/sample - loss: 0.6687 - accuracy: 0.7862 - val_loss: 0.6417 - val_accuracy: 0.7864\n",
      "Epoch 3/20\n",
      "60000/60000 [==============================] - 1s 22us/sample - loss: 0.5911 - accuracy: 0.8082 - val_loss: 0.5869 - val_accuracy: 0.8050\n",
      "Epoch 4/20\n",
      "60000/60000 [==============================] - 1s 21us/sample - loss: 0.5491 - accuracy: 0.8191 - val_loss: 0.5601 - val_accuracy: 0.8074\n",
      "Epoch 5/20\n",
      "60000/60000 [==============================] - 1s 22us/sample - loss: 0.5216 - accuracy: 0.8250 - val_loss: 0.5358 - val_accuracy: 0.8149\n",
      "Epoch 6/20\n",
      "60000/60000 [==============================] - 1s 21us/sample - loss: 0.5025 - accuracy: 0.8312 - val_loss: 0.5254 - val_accuracy: 0.8183\n",
      "Epoch 7/20\n",
      "60000/60000 [==============================] - 1s 22us/sample - loss: 0.4876 - accuracy: 0.8351 - val_loss: 0.5084 - val_accuracy: 0.8253\n",
      "Epoch 8/20\n",
      "60000/60000 [==============================] - 1s 22us/sample - loss: 0.4754 - accuracy: 0.8389 - val_loss: 0.4991 - val_accuracy: 0.8282\n",
      "Epoch 9/20\n",
      "60000/60000 [==============================] - 1s 23us/sample - loss: 0.4649 - accuracy: 0.8424 - val_loss: 0.4959 - val_accuracy: 0.8267\n",
      "Epoch 10/20\n",
      "60000/60000 [==============================] - 1s 22us/sample - loss: 0.4563 - accuracy: 0.8436 - val_loss: 0.4827 - val_accuracy: 0.8341\n",
      "Epoch 11/20\n",
      "60000/60000 [==============================] - 1s 22us/sample - loss: 0.4488 - accuracy: 0.8468 - val_loss: 0.4775 - val_accuracy: 0.8323\n",
      "Epoch 12/20\n",
      "60000/60000 [==============================] - 1s 22us/sample - loss: 0.4416 - accuracy: 0.8488 - val_loss: 0.4707 - val_accuracy: 0.8378\n",
      "Epoch 13/20\n",
      "60000/60000 [==============================] - 1s 22us/sample - loss: 0.4359 - accuracy: 0.8503 - val_loss: 0.4637 - val_accuracy: 0.8391\n",
      "Epoch 14/20\n",
      "59776/60000 [============================>.] - ETA: 0s - loss: 0.4308 - accuracy: 0.8511Restoring model weights from the end of the best epoch.\n",
      "60000/60000 [==============================] - 1s 22us/sample - loss: 0.4307 - accuracy: 0.8512 - val_loss: 0.4646 - val_accuracy: 0.8348\n",
      "Epoch 00014: early stopping\n",
      "wandb: Agent Finished Run: yppsprlh \n",
      "\n",
      "wandb: Agent Starting Run: x3b04iuv with config:\n",
      "\tepochs: 20\n",
      "\tlearning_rate: 3e-05\n",
      "\toptimizer: sgd\n",
      "wandb: Agent Started Run: x3b04iuv\n"
     ]
    },
    {
     "data": {
      "text/html": [
       "\n",
       "                Logging results to <a href=\"https://wandb.com\" target=\"_blank\">Weights & Biases</a> <a href=\"https://docs.wandb.com/integrations/jupyter.html\" target=\"_blank\">(Documentation)</a>.<br/>\n",
       "                Project page: <a href=\"https://app.wandb.ai/sayakpaul/reproducible-ml\" target=\"_blank\">https://app.wandb.ai/sayakpaul/reproducible-ml</a><br/>\n",
       "                Sweep page: <a href=\"https://app.wandb.ai/sayakpaul/reproducible-ml/sweeps/6t8t4d6s\" target=\"_blank\">https://app.wandb.ai/sayakpaul/reproducible-ml/sweeps/6t8t4d6s</a><br/>\n",
       "Run page: <a href=\"https://app.wandb.ai/sayakpaul/reproducible-ml/runs/x3b04iuv\" target=\"_blank\">https://app.wandb.ai/sayakpaul/reproducible-ml/runs/x3b04iuv</a><br/>\n",
       "            "
      ],
      "text/plain": [
       "<IPython.core.display.HTML object>"
      ]
     },
     "metadata": {},
     "output_type": "display_data"
    },
    {
     "name": "stderr",
     "output_type": "stream",
     "text": [
      "Error generating diff: Reference at 'refs/remotes/origin/master' does not exist\n"
     ]
    },
    {
     "name": "stdout",
     "output_type": "stream",
     "text": [
      "Train on 60000 samples, validate on 10000 samples\n",
      "Epoch 1/20\n",
      "60000/60000 [==============================] - 2s 36us/sample - loss: 1.0310 - accuracy: 0.6870 - val_loss: 0.7503 - val_accuracy: 0.7553\n",
      "Epoch 2/20\n",
      "60000/60000 [==============================] - 1s 23us/sample - loss: 0.6687 - accuracy: 0.7862 - val_loss: 0.6417 - val_accuracy: 0.7864\n",
      "Epoch 3/20\n",
      "60000/60000 [==============================] - 1s 23us/sample - loss: 0.5911 - accuracy: 0.8082 - val_loss: 0.5869 - val_accuracy: 0.8050\n",
      "Epoch 4/20\n",
      "60000/60000 [==============================] - 1s 23us/sample - loss: 0.5491 - accuracy: 0.8191 - val_loss: 0.5601 - val_accuracy: 0.8074\n",
      "Epoch 5/20\n",
      "60000/60000 [==============================] - 1s 22us/sample - loss: 0.5216 - accuracy: 0.8250 - val_loss: 0.5358 - val_accuracy: 0.8149\n",
      "Epoch 6/20\n",
      "60000/60000 [==============================] - 1s 22us/sample - loss: 0.5025 - accuracy: 0.8312 - val_loss: 0.5254 - val_accuracy: 0.8183\n",
      "Epoch 7/20\n",
      "60000/60000 [==============================] - 1s 22us/sample - loss: 0.4876 - accuracy: 0.8351 - val_loss: 0.5084 - val_accuracy: 0.8253\n",
      "Epoch 8/20\n",
      "60000/60000 [==============================] - 1s 22us/sample - loss: 0.4754 - accuracy: 0.8389 - val_loss: 0.4991 - val_accuracy: 0.8282\n",
      "Epoch 9/20\n",
      "60000/60000 [==============================] - 1s 22us/sample - loss: 0.4649 - accuracy: 0.8424 - val_loss: 0.4959 - val_accuracy: 0.8267\n",
      "Epoch 10/20\n",
      "60000/60000 [==============================] - 1s 22us/sample - loss: 0.4563 - accuracy: 0.8436 - val_loss: 0.4827 - val_accuracy: 0.8341\n",
      "Epoch 11/20\n",
      "60000/60000 [==============================] - 1s 22us/sample - loss: 0.4488 - accuracy: 0.8468 - val_loss: 0.4775 - val_accuracy: 0.8323\n",
      "Epoch 12/20\n",
      "60000/60000 [==============================] - 1s 22us/sample - loss: 0.4416 - accuracy: 0.8488 - val_loss: 0.4707 - val_accuracy: 0.8378\n",
      "Epoch 13/20\n",
      "60000/60000 [==============================] - 1s 22us/sample - loss: 0.4359 - accuracy: 0.8503 - val_loss: 0.4637 - val_accuracy: 0.8391\n",
      "Epoch 14/20\n",
      "59904/60000 [============================>.] - ETA: 0s - loss: 0.4307 - accuracy: 0.8512Restoring model weights from the end of the best epoch.\n",
      "60000/60000 [==============================] - 1s 22us/sample - loss: 0.4307 - accuracy: 0.8512 - val_loss: 0.4646 - val_accuracy: 0.8348\n",
      "Epoch 00014: early stopping\n",
      "wandb: Agent Finished Run: x3b04iuv \n",
      "\n",
      "wandb: Agent Starting Run: roi305l1 with config:\n",
      "\tepochs: 10\n",
      "\tlearning_rate: 0.001\n",
      "\toptimizer: sgd\n",
      "wandb: Agent Started Run: roi305l1\n"
     ]
    },
    {
     "data": {
      "text/html": [
       "\n",
       "                Logging results to <a href=\"https://wandb.com\" target=\"_blank\">Weights & Biases</a> <a href=\"https://docs.wandb.com/integrations/jupyter.html\" target=\"_blank\">(Documentation)</a>.<br/>\n",
       "                Project page: <a href=\"https://app.wandb.ai/sayakpaul/reproducible-ml\" target=\"_blank\">https://app.wandb.ai/sayakpaul/reproducible-ml</a><br/>\n",
       "                Sweep page: <a href=\"https://app.wandb.ai/sayakpaul/reproducible-ml/sweeps/6t8t4d6s\" target=\"_blank\">https://app.wandb.ai/sayakpaul/reproducible-ml/sweeps/6t8t4d6s</a><br/>\n",
       "Run page: <a href=\"https://app.wandb.ai/sayakpaul/reproducible-ml/runs/roi305l1\" target=\"_blank\">https://app.wandb.ai/sayakpaul/reproducible-ml/runs/roi305l1</a><br/>\n",
       "            "
      ],
      "text/plain": [
       "<IPython.core.display.HTML object>"
      ]
     },
     "metadata": {},
     "output_type": "display_data"
    },
    {
     "name": "stderr",
     "output_type": "stream",
     "text": [
      "Error generating diff: Reference at 'refs/remotes/origin/master' does not exist\n"
     ]
    },
    {
     "name": "stdout",
     "output_type": "stream",
     "text": [
      "Train on 60000 samples, validate on 10000 samples\n",
      "Epoch 1/10\n",
      "60000/60000 [==============================] - 2s 34us/sample - loss: 1.0310 - accuracy: 0.6870 - val_loss: 0.7503 - val_accuracy: 0.7553\n",
      "Epoch 2/10\n",
      "60000/60000 [==============================] - 1s 23us/sample - loss: 0.6687 - accuracy: 0.7862 - val_loss: 0.6417 - val_accuracy: 0.7864\n",
      "Epoch 3/10\n",
      "60000/60000 [==============================] - 1s 22us/sample - loss: 0.5911 - accuracy: 0.8082 - val_loss: 0.5869 - val_accuracy: 0.8050\n",
      "Epoch 4/10\n",
      "60000/60000 [==============================] - 1s 22us/sample - loss: 0.5491 - accuracy: 0.8191 - val_loss: 0.5601 - val_accuracy: 0.8074\n",
      "Epoch 5/10\n",
      "60000/60000 [==============================] - 1s 22us/sample - loss: 0.5216 - accuracy: 0.8250 - val_loss: 0.5358 - val_accuracy: 0.8149\n",
      "Epoch 6/10\n",
      "60000/60000 [==============================] - 1s 22us/sample - loss: 0.5025 - accuracy: 0.8312 - val_loss: 0.5254 - val_accuracy: 0.8183\n",
      "Epoch 7/10\n",
      "60000/60000 [==============================] - 1s 22us/sample - loss: 0.4876 - accuracy: 0.8351 - val_loss: 0.5084 - val_accuracy: 0.8253\n",
      "Epoch 8/10\n",
      "60000/60000 [==============================] - 1s 22us/sample - loss: 0.4754 - accuracy: 0.8389 - val_loss: 0.4991 - val_accuracy: 0.8282\n",
      "Epoch 9/10\n",
      "60000/60000 [==============================] - 1s 23us/sample - loss: 0.4649 - accuracy: 0.8424 - val_loss: 0.4959 - val_accuracy: 0.8267\n",
      "Epoch 10/10\n",
      "60000/60000 [==============================] - 1s 21us/sample - loss: 0.4563 - accuracy: 0.8436 - val_loss: 0.4827 - val_accuracy: 0.8341\n",
      "wandb: Agent Finished Run: roi305l1 \n",
      "\n",
      "wandb: Agent Starting Run: y1b33b5i with config:\n",
      "\tepochs: 15\n",
      "\tlearning_rate: 0.0001\n",
      "\toptimizer: adam\n",
      "wandb: Agent Started Run: y1b33b5i\n"
     ]
    },
    {
     "data": {
      "text/html": [
       "\n",
       "                Logging results to <a href=\"https://wandb.com\" target=\"_blank\">Weights & Biases</a> <a href=\"https://docs.wandb.com/integrations/jupyter.html\" target=\"_blank\">(Documentation)</a>.<br/>\n",
       "                Project page: <a href=\"https://app.wandb.ai/sayakpaul/reproducible-ml\" target=\"_blank\">https://app.wandb.ai/sayakpaul/reproducible-ml</a><br/>\n",
       "                Sweep page: <a href=\"https://app.wandb.ai/sayakpaul/reproducible-ml/sweeps/6t8t4d6s\" target=\"_blank\">https://app.wandb.ai/sayakpaul/reproducible-ml/sweeps/6t8t4d6s</a><br/>\n",
       "Run page: <a href=\"https://app.wandb.ai/sayakpaul/reproducible-ml/runs/y1b33b5i\" target=\"_blank\">https://app.wandb.ai/sayakpaul/reproducible-ml/runs/y1b33b5i</a><br/>\n",
       "            "
      ],
      "text/plain": [
       "<IPython.core.display.HTML object>"
      ]
     },
     "metadata": {},
     "output_type": "display_data"
    },
    {
     "name": "stderr",
     "output_type": "stream",
     "text": [
      "Error generating diff: Reference at 'refs/remotes/origin/master' does not exist\n"
     ]
    },
    {
     "name": "stdout",
     "output_type": "stream",
     "text": [
      "Train on 60000 samples, validate on 10000 samples\n",
      "Epoch 1/15\n",
      "60000/60000 [==============================] - 2s 35us/sample - loss: 0.5257 - accuracy: 0.8180 - val_loss: 0.4436 - val_accuracy: 0.8460\n",
      "Epoch 2/15\n",
      "60000/60000 [==============================] - 1s 24us/sample - loss: 0.3913 - accuracy: 0.8607 - val_loss: 0.3942 - val_accuracy: 0.8611\n",
      "Epoch 3/15\n",
      "60000/60000 [==============================] - 1s 23us/sample - loss: 0.3493 - accuracy: 0.8747 - val_loss: 0.3751 - val_accuracy: 0.8612\n",
      "Epoch 4/15\n",
      "60000/60000 [==============================] - 1s 22us/sample - loss: 0.3207 - accuracy: 0.8842 - val_loss: 0.3597 - val_accuracy: 0.8716\n",
      "Epoch 5/15\n",
      "60000/60000 [==============================] - 1s 22us/sample - loss: 0.3072 - accuracy: 0.8881 - val_loss: 0.3488 - val_accuracy: 0.8747\n",
      "Epoch 6/15\n",
      "59264/60000 [============================>.] - ETA: 0s - loss: 0.2890 - accuracy: 0.8936Restoring model weights from the end of the best epoch.\n",
      "60000/60000 [==============================] - 1s 22us/sample - loss: 0.2888 - accuracy: 0.8938 - val_loss: 0.3519 - val_accuracy: 0.8749\n",
      "Epoch 00006: early stopping\n",
      "wandb: Agent Finished Run: y1b33b5i \n",
      "\n",
      "wandb: Agent Starting Run: okr8uhzi with config:\n",
      "\tepochs: 20\n",
      "\tlearning_rate: 0.001\n",
      "\toptimizer: sgd\n",
      "wandb: Agent Started Run: okr8uhzi\n"
     ]
    },
    {
     "data": {
      "text/html": [
       "\n",
       "                Logging results to <a href=\"https://wandb.com\" target=\"_blank\">Weights & Biases</a> <a href=\"https://docs.wandb.com/integrations/jupyter.html\" target=\"_blank\">(Documentation)</a>.<br/>\n",
       "                Project page: <a href=\"https://app.wandb.ai/sayakpaul/reproducible-ml\" target=\"_blank\">https://app.wandb.ai/sayakpaul/reproducible-ml</a><br/>\n",
       "                Sweep page: <a href=\"https://app.wandb.ai/sayakpaul/reproducible-ml/sweeps/6t8t4d6s\" target=\"_blank\">https://app.wandb.ai/sayakpaul/reproducible-ml/sweeps/6t8t4d6s</a><br/>\n",
       "Run page: <a href=\"https://app.wandb.ai/sayakpaul/reproducible-ml/runs/okr8uhzi\" target=\"_blank\">https://app.wandb.ai/sayakpaul/reproducible-ml/runs/okr8uhzi</a><br/>\n",
       "            "
      ],
      "text/plain": [
       "<IPython.core.display.HTML object>"
      ]
     },
     "metadata": {},
     "output_type": "display_data"
    },
    {
     "name": "stderr",
     "output_type": "stream",
     "text": [
      "Error generating diff: Reference at 'refs/remotes/origin/master' does not exist\n"
     ]
    },
    {
     "name": "stdout",
     "output_type": "stream",
     "text": [
      "Train on 60000 samples, validate on 10000 samples\n",
      "Epoch 1/20\n",
      "60000/60000 [==============================] - 2s 33us/sample - loss: 1.0310 - accuracy: 0.6870 - val_loss: 0.7503 - val_accuracy: 0.7553\n",
      "Epoch 2/20\n",
      "60000/60000 [==============================] - 1s 22us/sample - loss: 0.6687 - accuracy: 0.7862 - val_loss: 0.6417 - val_accuracy: 0.7864\n",
      "Epoch 3/20\n",
      "60000/60000 [==============================] - 1s 22us/sample - loss: 0.5911 - accuracy: 0.8082 - val_loss: 0.5869 - val_accuracy: 0.8050\n",
      "Epoch 4/20\n",
      "60000/60000 [==============================] - 1s 23us/sample - loss: 0.5491 - accuracy: 0.8191 - val_loss: 0.5601 - val_accuracy: 0.8074\n",
      "Epoch 5/20\n",
      "60000/60000 [==============================] - 1s 22us/sample - loss: 0.5216 - accuracy: 0.8250 - val_loss: 0.5358 - val_accuracy: 0.8149\n",
      "Epoch 6/20\n",
      "60000/60000 [==============================] - 1s 22us/sample - loss: 0.5025 - accuracy: 0.8312 - val_loss: 0.5254 - val_accuracy: 0.8183\n",
      "Epoch 7/20\n",
      "60000/60000 [==============================] - 1s 23us/sample - loss: 0.4876 - accuracy: 0.8351 - val_loss: 0.5084 - val_accuracy: 0.8253\n",
      "Epoch 8/20\n",
      "60000/60000 [==============================] - 1s 22us/sample - loss: 0.4754 - accuracy: 0.8389 - val_loss: 0.4991 - val_accuracy: 0.8282\n",
      "Epoch 9/20\n",
      "60000/60000 [==============================] - 1s 23us/sample - loss: 0.4649 - accuracy: 0.8424 - val_loss: 0.4959 - val_accuracy: 0.8267\n",
      "Epoch 10/20\n",
      "60000/60000 [==============================] - 1s 22us/sample - loss: 0.4563 - accuracy: 0.8436 - val_loss: 0.4827 - val_accuracy: 0.8341\n",
      "Epoch 11/20\n",
      "60000/60000 [==============================] - 1s 23us/sample - loss: 0.4488 - accuracy: 0.8468 - val_loss: 0.4775 - val_accuracy: 0.8323\n",
      "Epoch 12/20\n",
      "60000/60000 [==============================] - 1s 22us/sample - loss: 0.4416 - accuracy: 0.8488 - val_loss: 0.4707 - val_accuracy: 0.8378\n",
      "Epoch 13/20\n",
      "60000/60000 [==============================] - 1s 22us/sample - loss: 0.4359 - accuracy: 0.8503 - val_loss: 0.4637 - val_accuracy: 0.8391\n",
      "Epoch 14/20\n",
      "59264/60000 [============================>.] - ETA: 0s - loss: 0.4307 - accuracy: 0.8512Restoring model weights from the end of the best epoch.\n",
      "60000/60000 [==============================] - 1s 22us/sample - loss: 0.4307 - accuracy: 0.8512 - val_loss: 0.4646 - val_accuracy: 0.8348\n",
      "Epoch 00014: early stopping\n",
      "wandb: Agent Finished Run: okr8uhzi \n",
      "\n",
      "wandb: Agent Starting Run: nj74t6ps with config:\n",
      "\tepochs: 20\n",
      "\tlearning_rate: 0.0001\n",
      "\toptimizer: sgd\n",
      "wandb: Agent Started Run: nj74t6ps\n"
     ]
    },
    {
     "data": {
      "text/html": [
       "\n",
       "                Logging results to <a href=\"https://wandb.com\" target=\"_blank\">Weights & Biases</a> <a href=\"https://docs.wandb.com/integrations/jupyter.html\" target=\"_blank\">(Documentation)</a>.<br/>\n",
       "                Project page: <a href=\"https://app.wandb.ai/sayakpaul/reproducible-ml\" target=\"_blank\">https://app.wandb.ai/sayakpaul/reproducible-ml</a><br/>\n",
       "                Sweep page: <a href=\"https://app.wandb.ai/sayakpaul/reproducible-ml/sweeps/6t8t4d6s\" target=\"_blank\">https://app.wandb.ai/sayakpaul/reproducible-ml/sweeps/6t8t4d6s</a><br/>\n",
       "Run page: <a href=\"https://app.wandb.ai/sayakpaul/reproducible-ml/runs/nj74t6ps\" target=\"_blank\">https://app.wandb.ai/sayakpaul/reproducible-ml/runs/nj74t6ps</a><br/>\n",
       "            "
      ],
      "text/plain": [
       "<IPython.core.display.HTML object>"
      ]
     },
     "metadata": {},
     "output_type": "display_data"
    },
    {
     "name": "stderr",
     "output_type": "stream",
     "text": [
      "Error generating diff: Reference at 'refs/remotes/origin/master' does not exist\n"
     ]
    },
    {
     "name": "stdout",
     "output_type": "stream",
     "text": [
      "Train on 60000 samples, validate on 10000 samples\n",
      "Epoch 1/20\n",
      "60000/60000 [==============================] - 2s 33us/sample - loss: 1.0310 - accuracy: 0.6870 - val_loss: 0.7503 - val_accuracy: 0.7553\n",
      "Epoch 2/20\n",
      "60000/60000 [==============================] - 1s 23us/sample - loss: 0.6687 - accuracy: 0.7862 - val_loss: 0.6417 - val_accuracy: 0.7864\n",
      "Epoch 3/20\n",
      "60000/60000 [==============================] - 1s 22us/sample - loss: 0.5911 - accuracy: 0.8082 - val_loss: 0.5869 - val_accuracy: 0.8050\n",
      "Epoch 4/20\n",
      "60000/60000 [==============================] - 1s 22us/sample - loss: 0.5491 - accuracy: 0.8191 - val_loss: 0.5601 - val_accuracy: 0.8074\n",
      "Epoch 5/20\n",
      "60000/60000 [==============================] - 1s 22us/sample - loss: 0.5216 - accuracy: 0.8250 - val_loss: 0.5358 - val_accuracy: 0.8149\n",
      "Epoch 6/20\n",
      "60000/60000 [==============================] - 1s 22us/sample - loss: 0.5025 - accuracy: 0.8312 - val_loss: 0.5254 - val_accuracy: 0.8183\n",
      "Epoch 7/20\n",
      "60000/60000 [==============================] - 1s 23us/sample - loss: 0.4876 - accuracy: 0.8351 - val_loss: 0.5084 - val_accuracy: 0.8253\n",
      "Epoch 8/20\n",
      "60000/60000 [==============================] - 1s 22us/sample - loss: 0.4754 - accuracy: 0.8389 - val_loss: 0.4991 - val_accuracy: 0.8282\n",
      "Epoch 9/20\n",
      "60000/60000 [==============================] - 1s 23us/sample - loss: 0.4649 - accuracy: 0.8424 - val_loss: 0.4959 - val_accuracy: 0.8267\n",
      "Epoch 10/20\n",
      "60000/60000 [==============================] - 1s 22us/sample - loss: 0.4563 - accuracy: 0.8436 - val_loss: 0.4827 - val_accuracy: 0.8341\n",
      "Epoch 11/20\n",
      "60000/60000 [==============================] - 1s 22us/sample - loss: 0.4488 - accuracy: 0.8468 - val_loss: 0.4775 - val_accuracy: 0.8323\n",
      "Epoch 12/20\n",
      "60000/60000 [==============================] - 1s 22us/sample - loss: 0.4416 - accuracy: 0.8488 - val_loss: 0.4707 - val_accuracy: 0.8378\n",
      "Epoch 13/20\n",
      "60000/60000 [==============================] - 1s 22us/sample - loss: 0.4359 - accuracy: 0.8503 - val_loss: 0.4637 - val_accuracy: 0.8391\n",
      "Epoch 14/20\n",
      "58496/60000 [============================>.] - ETA: 0s - loss: 0.4303 - accuracy: 0.8511Restoring model weights from the end of the best epoch.\n",
      "60000/60000 [==============================] - 1s 22us/sample - loss: 0.4307 - accuracy: 0.8512 - val_loss: 0.4646 - val_accuracy: 0.8348\n",
      "Epoch 00014: early stopping\n",
      "wandb: Agent Finished Run: nj74t6ps \n",
      "\n",
      "wandb: Agent Starting Run: 7kmm7md7 with config:\n",
      "\tepochs: 20\n",
      "\tlearning_rate: 0.01\n",
      "\toptimizer: adam\n",
      "wandb: Agent Started Run: 7kmm7md7\n"
     ]
    },
    {
     "data": {
      "text/html": [
       "\n",
       "                Logging results to <a href=\"https://wandb.com\" target=\"_blank\">Weights & Biases</a> <a href=\"https://docs.wandb.com/integrations/jupyter.html\" target=\"_blank\">(Documentation)</a>.<br/>\n",
       "                Project page: <a href=\"https://app.wandb.ai/sayakpaul/reproducible-ml\" target=\"_blank\">https://app.wandb.ai/sayakpaul/reproducible-ml</a><br/>\n",
       "                Sweep page: <a href=\"https://app.wandb.ai/sayakpaul/reproducible-ml/sweeps/6t8t4d6s\" target=\"_blank\">https://app.wandb.ai/sayakpaul/reproducible-ml/sweeps/6t8t4d6s</a><br/>\n",
       "Run page: <a href=\"https://app.wandb.ai/sayakpaul/reproducible-ml/runs/7kmm7md7\" target=\"_blank\">https://app.wandb.ai/sayakpaul/reproducible-ml/runs/7kmm7md7</a><br/>\n",
       "            "
      ],
      "text/plain": [
       "<IPython.core.display.HTML object>"
      ]
     },
     "metadata": {},
     "output_type": "display_data"
    },
    {
     "name": "stderr",
     "output_type": "stream",
     "text": [
      "Error generating diff: Reference at 'refs/remotes/origin/master' does not exist\n"
     ]
    },
    {
     "name": "stdout",
     "output_type": "stream",
     "text": [
      "Train on 60000 samples, validate on 10000 samples\n",
      "Epoch 1/20\n",
      "60000/60000 [==============================] - 2s 34us/sample - loss: 0.5257 - accuracy: 0.8180 - val_loss: 0.4436 - val_accuracy: 0.8460\n",
      "Epoch 2/20\n",
      "60000/60000 [==============================] - 1s 23us/sample - loss: 0.3913 - accuracy: 0.8607 - val_loss: 0.3942 - val_accuracy: 0.8611\n",
      "Epoch 3/20\n",
      "60000/60000 [==============================] - 1s 22us/sample - loss: 0.3493 - accuracy: 0.8747 - val_loss: 0.3751 - val_accuracy: 0.8612\n",
      "Epoch 4/20\n",
      "60000/60000 [==============================] - 1s 22us/sample - loss: 0.3207 - accuracy: 0.8842 - val_loss: 0.3597 - val_accuracy: 0.8716\n",
      "Epoch 5/20\n",
      "60000/60000 [==============================] - 1s 23us/sample - loss: 0.3072 - accuracy: 0.8881 - val_loss: 0.3488 - val_accuracy: 0.8747\n",
      "Epoch 6/20\n",
      "58880/60000 [============================>.] - ETA: 0s - loss: 0.2890 - accuracy: 0.8936Restoring model weights from the end of the best epoch.\n",
      "60000/60000 [==============================] - 1s 22us/sample - loss: 0.2888 - accuracy: 0.8938 - val_loss: 0.3519 - val_accuracy: 0.8749\n",
      "Epoch 00006: early stopping\n",
      "wandb: Agent Finished Run: 7kmm7md7 \n",
      "\n",
      "wandb: Agent Starting Run: 38n86f1i with config:\n",
      "\tepochs: 15\n",
      "\tlearning_rate: 0.001\n",
      "\toptimizer: adam\n",
      "wandb: Agent Started Run: 38n86f1i\n"
     ]
    },
    {
     "data": {
      "text/html": [
       "\n",
       "                Logging results to <a href=\"https://wandb.com\" target=\"_blank\">Weights & Biases</a> <a href=\"https://docs.wandb.com/integrations/jupyter.html\" target=\"_blank\">(Documentation)</a>.<br/>\n",
       "                Project page: <a href=\"https://app.wandb.ai/sayakpaul/reproducible-ml\" target=\"_blank\">https://app.wandb.ai/sayakpaul/reproducible-ml</a><br/>\n",
       "                Sweep page: <a href=\"https://app.wandb.ai/sayakpaul/reproducible-ml/sweeps/6t8t4d6s\" target=\"_blank\">https://app.wandb.ai/sayakpaul/reproducible-ml/sweeps/6t8t4d6s</a><br/>\n",
       "Run page: <a href=\"https://app.wandb.ai/sayakpaul/reproducible-ml/runs/38n86f1i\" target=\"_blank\">https://app.wandb.ai/sayakpaul/reproducible-ml/runs/38n86f1i</a><br/>\n",
       "            "
      ],
      "text/plain": [
       "<IPython.core.display.HTML object>"
      ]
     },
     "metadata": {},
     "output_type": "display_data"
    },
    {
     "name": "stderr",
     "output_type": "stream",
     "text": [
      "Error generating diff: Reference at 'refs/remotes/origin/master' does not exist\n"
     ]
    },
    {
     "name": "stdout",
     "output_type": "stream",
     "text": [
      "Train on 60000 samples, validate on 10000 samples\n",
      "Epoch 1/15\n",
      "60000/60000 [==============================] - 2s 35us/sample - loss: 0.5257 - accuracy: 0.8180 - val_loss: 0.4436 - val_accuracy: 0.8460\n",
      "Epoch 2/15\n",
      "60000/60000 [==============================] - 1s 23us/sample - loss: 0.3913 - accuracy: 0.8607 - val_loss: 0.3942 - val_accuracy: 0.8611\n",
      "Epoch 3/15\n",
      "60000/60000 [==============================] - 1s 22us/sample - loss: 0.3493 - accuracy: 0.8747 - val_loss: 0.3751 - val_accuracy: 0.8612\n",
      "Epoch 4/15\n",
      "60000/60000 [==============================] - 1s 23us/sample - loss: 0.3207 - accuracy: 0.8842 - val_loss: 0.3597 - val_accuracy: 0.8716\n",
      "Epoch 5/15\n",
      "60000/60000 [==============================] - 1s 23us/sample - loss: 0.3072 - accuracy: 0.8881 - val_loss: 0.3488 - val_accuracy: 0.8747\n",
      "Epoch 6/15\n",
      "58624/60000 [============================>.] - ETA: 0s - loss: 0.2888 - accuracy: 0.8936Restoring model weights from the end of the best epoch.\n",
      "60000/60000 [==============================] - 1s 22us/sample - loss: 0.2888 - accuracy: 0.8938 - val_loss: 0.3519 - val_accuracy: 0.8749\n",
      "Epoch 00006: early stopping\n",
      "wandb: Agent Finished Run: 38n86f1i \n",
      "\n",
      "wandb: Agent Starting Run: uozbab6o with config:\n",
      "\tepochs: 10\n",
      "\tlearning_rate: 1e-05\n",
      "\toptimizer: sgd\n",
      "wandb: Agent Started Run: uozbab6o\n"
     ]
    },
    {
     "data": {
      "text/html": [
       "\n",
       "                Logging results to <a href=\"https://wandb.com\" target=\"_blank\">Weights & Biases</a> <a href=\"https://docs.wandb.com/integrations/jupyter.html\" target=\"_blank\">(Documentation)</a>.<br/>\n",
       "                Project page: <a href=\"https://app.wandb.ai/sayakpaul/reproducible-ml\" target=\"_blank\">https://app.wandb.ai/sayakpaul/reproducible-ml</a><br/>\n",
       "                Sweep page: <a href=\"https://app.wandb.ai/sayakpaul/reproducible-ml/sweeps/6t8t4d6s\" target=\"_blank\">https://app.wandb.ai/sayakpaul/reproducible-ml/sweeps/6t8t4d6s</a><br/>\n",
       "Run page: <a href=\"https://app.wandb.ai/sayakpaul/reproducible-ml/runs/uozbab6o\" target=\"_blank\">https://app.wandb.ai/sayakpaul/reproducible-ml/runs/uozbab6o</a><br/>\n",
       "            "
      ],
      "text/plain": [
       "<IPython.core.display.HTML object>"
      ]
     },
     "metadata": {},
     "output_type": "display_data"
    },
    {
     "name": "stderr",
     "output_type": "stream",
     "text": [
      "Error generating diff: Reference at 'refs/remotes/origin/master' does not exist\n"
     ]
    },
    {
     "name": "stdout",
     "output_type": "stream",
     "text": [
      "Train on 60000 samples, validate on 10000 samples\n",
      "Epoch 1/10\n",
      "60000/60000 [==============================] - 2s 33us/sample - loss: 1.0310 - accuracy: 0.6870 - val_loss: 0.7503 - val_accuracy: 0.7553\n",
      "Epoch 2/10\n",
      "60000/60000 [==============================] - 1s 22us/sample - loss: 0.6687 - accuracy: 0.7862 - val_loss: 0.6417 - val_accuracy: 0.7864\n",
      "Epoch 3/10\n",
      "60000/60000 [==============================] - 1s 22us/sample - loss: 0.5911 - accuracy: 0.8082 - val_loss: 0.5869 - val_accuracy: 0.8050\n",
      "Epoch 4/10\n",
      "60000/60000 [==============================] - 1s 22us/sample - loss: 0.5491 - accuracy: 0.8191 - val_loss: 0.5601 - val_accuracy: 0.8074\n",
      "Epoch 5/10\n",
      "60000/60000 [==============================] - 1s 23us/sample - loss: 0.5216 - accuracy: 0.8250 - val_loss: 0.5358 - val_accuracy: 0.8149\n",
      "Epoch 6/10\n",
      "60000/60000 [==============================] - 1s 22us/sample - loss: 0.5025 - accuracy: 0.8312 - val_loss: 0.5254 - val_accuracy: 0.8183\n",
      "Epoch 7/10\n",
      "60000/60000 [==============================] - 1s 23us/sample - loss: 0.4876 - accuracy: 0.8351 - val_loss: 0.5084 - val_accuracy: 0.8253\n",
      "Epoch 8/10\n",
      "60000/60000 [==============================] - 1s 21us/sample - loss: 0.4754 - accuracy: 0.8389 - val_loss: 0.4991 - val_accuracy: 0.8282\n",
      "Epoch 9/10\n",
      "60000/60000 [==============================] - 1s 23us/sample - loss: 0.4649 - accuracy: 0.8424 - val_loss: 0.4959 - val_accuracy: 0.8267\n",
      "Epoch 10/10\n",
      "60000/60000 [==============================] - 1s 22us/sample - loss: 0.4563 - accuracy: 0.8436 - val_loss: 0.4827 - val_accuracy: 0.8341\n",
      "wandb: Agent Finished Run: uozbab6o \n",
      "\n",
      "wandb: Agent Starting Run: h80nuy0s with config:\n",
      "\tepochs: 15\n",
      "\tlearning_rate: 0.0001\n",
      "\toptimizer: adam\n",
      "wandb: Agent Started Run: h80nuy0s\n"
     ]
    },
    {
     "data": {
      "text/html": [
       "\n",
       "                Logging results to <a href=\"https://wandb.com\" target=\"_blank\">Weights & Biases</a> <a href=\"https://docs.wandb.com/integrations/jupyter.html\" target=\"_blank\">(Documentation)</a>.<br/>\n",
       "                Project page: <a href=\"https://app.wandb.ai/sayakpaul/reproducible-ml\" target=\"_blank\">https://app.wandb.ai/sayakpaul/reproducible-ml</a><br/>\n",
       "                Sweep page: <a href=\"https://app.wandb.ai/sayakpaul/reproducible-ml/sweeps/6t8t4d6s\" target=\"_blank\">https://app.wandb.ai/sayakpaul/reproducible-ml/sweeps/6t8t4d6s</a><br/>\n",
       "Run page: <a href=\"https://app.wandb.ai/sayakpaul/reproducible-ml/runs/h80nuy0s\" target=\"_blank\">https://app.wandb.ai/sayakpaul/reproducible-ml/runs/h80nuy0s</a><br/>\n",
       "            "
      ],
      "text/plain": [
       "<IPython.core.display.HTML object>"
      ]
     },
     "metadata": {},
     "output_type": "display_data"
    },
    {
     "name": "stderr",
     "output_type": "stream",
     "text": [
      "Error generating diff: Reference at 'refs/remotes/origin/master' does not exist\n"
     ]
    },
    {
     "name": "stdout",
     "output_type": "stream",
     "text": [
      "Train on 60000 samples, validate on 10000 samples\n",
      "Epoch 1/15\n",
      "60000/60000 [==============================] - 2s 35us/sample - loss: 0.5257 - accuracy: 0.8180 - val_loss: 0.4436 - val_accuracy: 0.8460\n",
      "Epoch 2/15\n",
      "60000/60000 [==============================] - 1s 23us/sample - loss: 0.3913 - accuracy: 0.8607 - val_loss: 0.3942 - val_accuracy: 0.8611\n",
      "Epoch 3/15\n",
      "60000/60000 [==============================] - 1s 23us/sample - loss: 0.3493 - accuracy: 0.8747 - val_loss: 0.3751 - val_accuracy: 0.8612\n",
      "Epoch 4/15\n",
      "60000/60000 [==============================] - 1s 22us/sample - loss: 0.3207 - accuracy: 0.8842 - val_loss: 0.3597 - val_accuracy: 0.8716\n",
      "Epoch 5/15\n",
      "60000/60000 [==============================] - 1s 23us/sample - loss: 0.3072 - accuracy: 0.8881 - val_loss: 0.3488 - val_accuracy: 0.8747\n",
      "Epoch 6/15\n",
      "57600/60000 [===========================>..] - ETA: 0s - loss: 0.2887 - accuracy: 0.8938Restoring model weights from the end of the best epoch.\n",
      "60000/60000 [==============================] - 1s 23us/sample - loss: 0.2888 - accuracy: 0.8938 - val_loss: 0.3519 - val_accuracy: 0.8749\n",
      "Epoch 00006: early stopping\n",
      "wandb: Agent Finished Run: h80nuy0s \n",
      "\n",
      "wandb: Agent Starting Run: mcxx5ju6 with config:\n",
      "\tepochs: 15\n",
      "\tlearning_rate: 0.0003\n",
      "\toptimizer: sgd\n",
      "wandb: Agent Started Run: mcxx5ju6\n"
     ]
    },
    {
     "data": {
      "text/html": [
       "\n",
       "                Logging results to <a href=\"https://wandb.com\" target=\"_blank\">Weights & Biases</a> <a href=\"https://docs.wandb.com/integrations/jupyter.html\" target=\"_blank\">(Documentation)</a>.<br/>\n",
       "                Project page: <a href=\"https://app.wandb.ai/sayakpaul/reproducible-ml\" target=\"_blank\">https://app.wandb.ai/sayakpaul/reproducible-ml</a><br/>\n",
       "                Sweep page: <a href=\"https://app.wandb.ai/sayakpaul/reproducible-ml/sweeps/6t8t4d6s\" target=\"_blank\">https://app.wandb.ai/sayakpaul/reproducible-ml/sweeps/6t8t4d6s</a><br/>\n",
       "Run page: <a href=\"https://app.wandb.ai/sayakpaul/reproducible-ml/runs/mcxx5ju6\" target=\"_blank\">https://app.wandb.ai/sayakpaul/reproducible-ml/runs/mcxx5ju6</a><br/>\n",
       "            "
      ],
      "text/plain": [
       "<IPython.core.display.HTML object>"
      ]
     },
     "metadata": {},
     "output_type": "display_data"
    },
    {
     "name": "stderr",
     "output_type": "stream",
     "text": [
      "Error generating diff: Reference at 'refs/remotes/origin/master' does not exist\n"
     ]
    },
    {
     "name": "stdout",
     "output_type": "stream",
     "text": [
      "Train on 60000 samples, validate on 10000 samples\n",
      "Epoch 1/15\n",
      "60000/60000 [==============================] - 2s 33us/sample - loss: 1.0310 - accuracy: 0.6870 - val_loss: 0.7503 - val_accuracy: 0.7553\n",
      "Epoch 2/15\n",
      "60000/60000 [==============================] - 1s 23us/sample - loss: 0.6687 - accuracy: 0.7862 - val_loss: 0.6417 - val_accuracy: 0.7864\n",
      "Epoch 3/15\n",
      "60000/60000 [==============================] - 1s 23us/sample - loss: 0.5911 - accuracy: 0.8082 - val_loss: 0.5869 - val_accuracy: 0.8050\n",
      "Epoch 4/15\n",
      "60000/60000 [==============================] - 1s 23us/sample - loss: 0.5491 - accuracy: 0.8191 - val_loss: 0.5601 - val_accuracy: 0.8074\n",
      "Epoch 5/15\n",
      "60000/60000 [==============================] - 1s 22us/sample - loss: 0.5216 - accuracy: 0.8250 - val_loss: 0.5358 - val_accuracy: 0.8149\n",
      "Epoch 6/15\n",
      "60000/60000 [==============================] - 1s 23us/sample - loss: 0.5025 - accuracy: 0.8312 - val_loss: 0.5254 - val_accuracy: 0.8183\n",
      "Epoch 7/15\n",
      "60000/60000 [==============================] - 1s 22us/sample - loss: 0.4876 - accuracy: 0.8351 - val_loss: 0.5084 - val_accuracy: 0.8253\n",
      "Epoch 8/15\n",
      "60000/60000 [==============================] - 1s 22us/sample - loss: 0.4754 - accuracy: 0.8389 - val_loss: 0.4991 - val_accuracy: 0.8282\n",
      "Epoch 9/15\n",
      "60000/60000 [==============================] - 1s 23us/sample - loss: 0.4649 - accuracy: 0.8424 - val_loss: 0.4959 - val_accuracy: 0.8267\n",
      "Epoch 10/15\n",
      "60000/60000 [==============================] - 1s 22us/sample - loss: 0.4563 - accuracy: 0.8436 - val_loss: 0.4827 - val_accuracy: 0.8341\n",
      "Epoch 11/15\n",
      "60000/60000 [==============================] - 1s 22us/sample - loss: 0.4488 - accuracy: 0.8468 - val_loss: 0.4775 - val_accuracy: 0.8323\n",
      "Epoch 12/15\n",
      "60000/60000 [==============================] - 1s 22us/sample - loss: 0.4416 - accuracy: 0.8488 - val_loss: 0.4707 - val_accuracy: 0.8378\n",
      "Epoch 13/15\n",
      "60000/60000 [==============================] - 1s 22us/sample - loss: 0.4359 - accuracy: 0.8503 - val_loss: 0.4637 - val_accuracy: 0.8391\n",
      "Epoch 14/15\n",
      "59136/60000 [============================>.] - ETA: 0s - loss: 0.4306 - accuracy: 0.8511Restoring model weights from the end of the best epoch.\n",
      "60000/60000 [==============================] - 1s 22us/sample - loss: 0.4307 - accuracy: 0.8512 - val_loss: 0.4646 - val_accuracy: 0.8348\n",
      "Epoch 00014: early stopping\n",
      "wandb: Agent Finished Run: mcxx5ju6 \n",
      "\n",
      "wandb: Agent Starting Run: hay3osok with config:\n",
      "\tepochs: 20\n",
      "\tlearning_rate: 0.0003\n",
      "\toptimizer: adam\n",
      "wandb: Agent Started Run: hay3osok\n"
     ]
    },
    {
     "data": {
      "text/html": [
       "\n",
       "                Logging results to <a href=\"https://wandb.com\" target=\"_blank\">Weights & Biases</a> <a href=\"https://docs.wandb.com/integrations/jupyter.html\" target=\"_blank\">(Documentation)</a>.<br/>\n",
       "                Project page: <a href=\"https://app.wandb.ai/sayakpaul/reproducible-ml\" target=\"_blank\">https://app.wandb.ai/sayakpaul/reproducible-ml</a><br/>\n",
       "                Sweep page: <a href=\"https://app.wandb.ai/sayakpaul/reproducible-ml/sweeps/6t8t4d6s\" target=\"_blank\">https://app.wandb.ai/sayakpaul/reproducible-ml/sweeps/6t8t4d6s</a><br/>\n",
       "Run page: <a href=\"https://app.wandb.ai/sayakpaul/reproducible-ml/runs/hay3osok\" target=\"_blank\">https://app.wandb.ai/sayakpaul/reproducible-ml/runs/hay3osok</a><br/>\n",
       "            "
      ],
      "text/plain": [
       "<IPython.core.display.HTML object>"
      ]
     },
     "metadata": {},
     "output_type": "display_data"
    },
    {
     "name": "stderr",
     "output_type": "stream",
     "text": [
      "Error generating diff: Reference at 'refs/remotes/origin/master' does not exist\n"
     ]
    },
    {
     "name": "stdout",
     "output_type": "stream",
     "text": [
      "Train on 60000 samples, validate on 10000 samples\n",
      "Epoch 1/20\n",
      "60000/60000 [==============================] - 2s 37us/sample - loss: 0.5257 - accuracy: 0.8180 - val_loss: 0.4436 - val_accuracy: 0.8460\n",
      "Epoch 2/20\n",
      "60000/60000 [==============================] - 1s 23us/sample - loss: 0.3913 - accuracy: 0.8607 - val_loss: 0.3942 - val_accuracy: 0.8611\n",
      "Epoch 3/20\n",
      "60000/60000 [==============================] - 1s 23us/sample - loss: 0.3493 - accuracy: 0.8747 - val_loss: 0.3751 - val_accuracy: 0.8612\n",
      "Epoch 4/20\n",
      "60000/60000 [==============================] - 1s 23us/sample - loss: 0.3207 - accuracy: 0.8842 - val_loss: 0.3597 - val_accuracy: 0.8716\n",
      "Epoch 5/20\n",
      "60000/60000 [==============================] - 1s 23us/sample - loss: 0.3072 - accuracy: 0.8881 - val_loss: 0.3488 - val_accuracy: 0.8747\n",
      "Epoch 6/20\n",
      "58240/60000 [============================>.] - ETA: 0s - loss: 0.2886 - accuracy: 0.8938Restoring model weights from the end of the best epoch.\n",
      "60000/60000 [==============================] - 1s 23us/sample - loss: 0.2888 - accuracy: 0.8938 - val_loss: 0.3519 - val_accuracy: 0.8749\n",
      "Epoch 00006: early stopping\n",
      "wandb: Agent Finished Run: hay3osok \n",
      "\n",
      "wandb: Agent Starting Run: 75ojk2pd with config:\n",
      "\tepochs: 15\n",
      "\tlearning_rate: 0.001\n",
      "\toptimizer: adam\n",
      "wandb: Agent Started Run: 75ojk2pd\n"
     ]
    },
    {
     "data": {
      "text/html": [
       "\n",
       "                Logging results to <a href=\"https://wandb.com\" target=\"_blank\">Weights & Biases</a> <a href=\"https://docs.wandb.com/integrations/jupyter.html\" target=\"_blank\">(Documentation)</a>.<br/>\n",
       "                Project page: <a href=\"https://app.wandb.ai/sayakpaul/reproducible-ml\" target=\"_blank\">https://app.wandb.ai/sayakpaul/reproducible-ml</a><br/>\n",
       "                Sweep page: <a href=\"https://app.wandb.ai/sayakpaul/reproducible-ml/sweeps/6t8t4d6s\" target=\"_blank\">https://app.wandb.ai/sayakpaul/reproducible-ml/sweeps/6t8t4d6s</a><br/>\n",
       "Run page: <a href=\"https://app.wandb.ai/sayakpaul/reproducible-ml/runs/75ojk2pd\" target=\"_blank\">https://app.wandb.ai/sayakpaul/reproducible-ml/runs/75ojk2pd</a><br/>\n",
       "            "
      ],
      "text/plain": [
       "<IPython.core.display.HTML object>"
      ]
     },
     "metadata": {},
     "output_type": "display_data"
    },
    {
     "name": "stderr",
     "output_type": "stream",
     "text": [
      "Error generating diff: Reference at 'refs/remotes/origin/master' does not exist\n"
     ]
    },
    {
     "name": "stdout",
     "output_type": "stream",
     "text": [
      "Train on 60000 samples, validate on 10000 samples\n",
      "Epoch 1/15\n",
      "60000/60000 [==============================] - 2s 34us/sample - loss: 0.5257 - accuracy: 0.8180 - val_loss: 0.4436 - val_accuracy: 0.8460\n",
      "Epoch 2/15\n",
      "60000/60000 [==============================] - 1s 23us/sample - loss: 0.3913 - accuracy: 0.8607 - val_loss: 0.3942 - val_accuracy: 0.8611\n",
      "Epoch 3/15\n",
      "60000/60000 [==============================] - 1s 23us/sample - loss: 0.3493 - accuracy: 0.8747 - val_loss: 0.3751 - val_accuracy: 0.8612\n",
      "Epoch 4/15\n",
      "60000/60000 [==============================] - 1s 22us/sample - loss: 0.3207 - accuracy: 0.8842 - val_loss: 0.3597 - val_accuracy: 0.8716\n",
      "Epoch 5/15\n",
      "60000/60000 [==============================] - 1s 23us/sample - loss: 0.3072 - accuracy: 0.8881 - val_loss: 0.3488 - val_accuracy: 0.8747\n",
      "Epoch 6/15\n",
      "57856/60000 [===========================>..] - ETA: 0s - loss: 0.2888 - accuracy: 0.8937Restoring model weights from the end of the best epoch.\n",
      "60000/60000 [==============================] - 1s 22us/sample - loss: 0.2888 - accuracy: 0.8938 - val_loss: 0.3519 - val_accuracy: 0.8749\n",
      "Epoch 00006: early stopping\n",
      "wandb: Agent Finished Run: 75ojk2pd \n",
      "\n",
      "wandb: Agent Starting Run: 27ew4ebz with config:\n",
      "\tepochs: 10\n",
      "\tlearning_rate: 3e-05\n",
      "\toptimizer: sgd\n",
      "wandb: Agent Started Run: 27ew4ebz\n"
     ]
    },
    {
     "data": {
      "text/html": [
       "\n",
       "                Logging results to <a href=\"https://wandb.com\" target=\"_blank\">Weights & Biases</a> <a href=\"https://docs.wandb.com/integrations/jupyter.html\" target=\"_blank\">(Documentation)</a>.<br/>\n",
       "                Project page: <a href=\"https://app.wandb.ai/sayakpaul/reproducible-ml\" target=\"_blank\">https://app.wandb.ai/sayakpaul/reproducible-ml</a><br/>\n",
       "                Sweep page: <a href=\"https://app.wandb.ai/sayakpaul/reproducible-ml/sweeps/6t8t4d6s\" target=\"_blank\">https://app.wandb.ai/sayakpaul/reproducible-ml/sweeps/6t8t4d6s</a><br/>\n",
       "Run page: <a href=\"https://app.wandb.ai/sayakpaul/reproducible-ml/runs/27ew4ebz\" target=\"_blank\">https://app.wandb.ai/sayakpaul/reproducible-ml/runs/27ew4ebz</a><br/>\n",
       "            "
      ],
      "text/plain": [
       "<IPython.core.display.HTML object>"
      ]
     },
     "metadata": {},
     "output_type": "display_data"
    },
    {
     "name": "stderr",
     "output_type": "stream",
     "text": [
      "Error generating diff: Reference at 'refs/remotes/origin/master' does not exist\n"
     ]
    },
    {
     "name": "stdout",
     "output_type": "stream",
     "text": [
      "Train on 60000 samples, validate on 10000 samples\n",
      "Epoch 1/10\n",
      "60000/60000 [==============================] - 2s 33us/sample - loss: 1.0310 - accuracy: 0.6870 - val_loss: 0.7503 - val_accuracy: 0.7553\n",
      "Epoch 2/10\n",
      "60000/60000 [==============================] - 1s 22us/sample - loss: 0.6687 - accuracy: 0.7862 - val_loss: 0.6417 - val_accuracy: 0.7864\n",
      "Epoch 3/10\n",
      "60000/60000 [==============================] - 1s 22us/sample - loss: 0.5911 - accuracy: 0.8082 - val_loss: 0.5869 - val_accuracy: 0.8050\n",
      "Epoch 4/10\n",
      "60000/60000 [==============================] - 1s 22us/sample - loss: 0.5491 - accuracy: 0.8191 - val_loss: 0.5601 - val_accuracy: 0.8074\n",
      "Epoch 5/10\n",
      "60000/60000 [==============================] - 1s 23us/sample - loss: 0.5216 - accuracy: 0.8250 - val_loss: 0.5358 - val_accuracy: 0.8149\n",
      "Epoch 6/10\n",
      "60000/60000 [==============================] - 1s 22us/sample - loss: 0.5025 - accuracy: 0.8312 - val_loss: 0.5254 - val_accuracy: 0.8183\n",
      "Epoch 7/10\n",
      "60000/60000 [==============================] - 1s 22us/sample - loss: 0.4876 - accuracy: 0.8351 - val_loss: 0.5084 - val_accuracy: 0.8253\n",
      "Epoch 8/10\n",
      "60000/60000 [==============================] - 1s 22us/sample - loss: 0.4754 - accuracy: 0.8389 - val_loss: 0.4991 - val_accuracy: 0.8282\n",
      "Epoch 9/10\n",
      "60000/60000 [==============================] - 1s 22us/sample - loss: 0.4649 - accuracy: 0.8424 - val_loss: 0.4959 - val_accuracy: 0.8267\n",
      "Epoch 10/10\n",
      "60000/60000 [==============================] - 1s 21us/sample - loss: 0.4563 - accuracy: 0.8436 - val_loss: 0.4827 - val_accuracy: 0.8341\n",
      "wandb: Agent Finished Run: 27ew4ebz \n",
      "\n",
      "wandb: Agent Starting Run: jv9jeobh with config:\n",
      "\tepochs: 20\n",
      "\tlearning_rate: 0.0003\n",
      "\toptimizer: adam\n",
      "wandb: Agent Started Run: jv9jeobh\n"
     ]
    },
    {
     "data": {
      "text/html": [
       "\n",
       "                Logging results to <a href=\"https://wandb.com\" target=\"_blank\">Weights & Biases</a> <a href=\"https://docs.wandb.com/integrations/jupyter.html\" target=\"_blank\">(Documentation)</a>.<br/>\n",
       "                Project page: <a href=\"https://app.wandb.ai/sayakpaul/reproducible-ml\" target=\"_blank\">https://app.wandb.ai/sayakpaul/reproducible-ml</a><br/>\n",
       "                Sweep page: <a href=\"https://app.wandb.ai/sayakpaul/reproducible-ml/sweeps/6t8t4d6s\" target=\"_blank\">https://app.wandb.ai/sayakpaul/reproducible-ml/sweeps/6t8t4d6s</a><br/>\n",
       "Run page: <a href=\"https://app.wandb.ai/sayakpaul/reproducible-ml/runs/jv9jeobh\" target=\"_blank\">https://app.wandb.ai/sayakpaul/reproducible-ml/runs/jv9jeobh</a><br/>\n",
       "            "
      ],
      "text/plain": [
       "<IPython.core.display.HTML object>"
      ]
     },
     "metadata": {},
     "output_type": "display_data"
    },
    {
     "name": "stderr",
     "output_type": "stream",
     "text": [
      "Error generating diff: Reference at 'refs/remotes/origin/master' does not exist\n"
     ]
    },
    {
     "name": "stdout",
     "output_type": "stream",
     "text": [
      "Train on 60000 samples, validate on 10000 samples\n",
      "Epoch 1/20\n",
      "60000/60000 [==============================] - 2s 34us/sample - loss: 0.5257 - accuracy: 0.8180 - val_loss: 0.4436 - val_accuracy: 0.8460\n",
      "Epoch 2/20\n",
      "60000/60000 [==============================] - 1s 23us/sample - loss: 0.3913 - accuracy: 0.8607 - val_loss: 0.3942 - val_accuracy: 0.8611\n",
      "Epoch 3/20\n",
      "60000/60000 [==============================] - 1s 23us/sample - loss: 0.3493 - accuracy: 0.8747 - val_loss: 0.3751 - val_accuracy: 0.8612\n",
      "Epoch 4/20\n",
      "60000/60000 [==============================] - 1s 23us/sample - loss: 0.3207 - accuracy: 0.8842 - val_loss: 0.3597 - val_accuracy: 0.8716\n",
      "Epoch 5/20\n",
      "60000/60000 [==============================] - 1s 23us/sample - loss: 0.3072 - accuracy: 0.8881 - val_loss: 0.3488 - val_accuracy: 0.8747\n",
      "Epoch 6/20\n",
      "59904/60000 [============================>.] - ETA: 0s - loss: 0.2889 - accuracy: 0.8937Restoring model weights from the end of the best epoch.\n",
      "60000/60000 [==============================] - 1s 23us/sample - loss: 0.2888 - accuracy: 0.8938 - val_loss: 0.3519 - val_accuracy: 0.8749\n",
      "Epoch 00006: early stopping\n",
      "wandb: Agent Finished Run: jv9jeobh \n",
      "\n",
      "wandb: Agent Starting Run: l3unzpl1 with config:\n",
      "\tepochs: 10\n",
      "\tlearning_rate: 0.001\n",
      "\toptimizer: adam\n",
      "wandb: Agent Started Run: l3unzpl1\n"
     ]
    },
    {
     "data": {
      "text/html": [
       "\n",
       "                Logging results to <a href=\"https://wandb.com\" target=\"_blank\">Weights & Biases</a> <a href=\"https://docs.wandb.com/integrations/jupyter.html\" target=\"_blank\">(Documentation)</a>.<br/>\n",
       "                Project page: <a href=\"https://app.wandb.ai/sayakpaul/reproducible-ml\" target=\"_blank\">https://app.wandb.ai/sayakpaul/reproducible-ml</a><br/>\n",
       "                Sweep page: <a href=\"https://app.wandb.ai/sayakpaul/reproducible-ml/sweeps/6t8t4d6s\" target=\"_blank\">https://app.wandb.ai/sayakpaul/reproducible-ml/sweeps/6t8t4d6s</a><br/>\n",
       "Run page: <a href=\"https://app.wandb.ai/sayakpaul/reproducible-ml/runs/l3unzpl1\" target=\"_blank\">https://app.wandb.ai/sayakpaul/reproducible-ml/runs/l3unzpl1</a><br/>\n",
       "            "
      ],
      "text/plain": [
       "<IPython.core.display.HTML object>"
      ]
     },
     "metadata": {},
     "output_type": "display_data"
    },
    {
     "name": "stderr",
     "output_type": "stream",
     "text": [
      "Error generating diff: Reference at 'refs/remotes/origin/master' does not exist\n"
     ]
    },
    {
     "name": "stdout",
     "output_type": "stream",
     "text": [
      "Train on 60000 samples, validate on 10000 samples\n",
      "Epoch 1/10\n",
      "60000/60000 [==============================] - 2s 35us/sample - loss: 0.5257 - accuracy: 0.8180 - val_loss: 0.4436 - val_accuracy: 0.8460\n",
      "Epoch 2/10\n",
      "60000/60000 [==============================] - 1s 24us/sample - loss: 0.3913 - accuracy: 0.8607 - val_loss: 0.3942 - val_accuracy: 0.8611\n",
      "Epoch 3/10\n",
      "60000/60000 [==============================] - 1s 22us/sample - loss: 0.3493 - accuracy: 0.8747 - val_loss: 0.3751 - val_accuracy: 0.8612\n",
      "Epoch 4/10\n",
      "60000/60000 [==============================] - 1s 23us/sample - loss: 0.3207 - accuracy: 0.8842 - val_loss: 0.3597 - val_accuracy: 0.8716\n",
      "Epoch 5/10\n",
      "60000/60000 [==============================] - 1s 23us/sample - loss: 0.3072 - accuracy: 0.8881 - val_loss: 0.3488 - val_accuracy: 0.8747\n",
      "Epoch 6/10\n",
      "59776/60000 [============================>.] - ETA: 0s - loss: 0.2891 - accuracy: 0.8936Restoring model weights from the end of the best epoch.\n",
      "60000/60000 [==============================] - 1s 23us/sample - loss: 0.2888 - accuracy: 0.8938 - val_loss: 0.3519 - val_accuracy: 0.8749\n",
      "Epoch 00006: early stopping\n",
      "wandb: Agent Finished Run: l3unzpl1 \n",
      "\n",
      "wandb: Agent Starting Run: z2xw7avj with config:\n",
      "\tepochs: 15\n",
      "\tlearning_rate: 0.001\n",
      "\toptimizer: sgd\n",
      "wandb: Agent Started Run: z2xw7avj\n"
     ]
    },
    {
     "data": {
      "text/html": [
       "\n",
       "                Logging results to <a href=\"https://wandb.com\" target=\"_blank\">Weights & Biases</a> <a href=\"https://docs.wandb.com/integrations/jupyter.html\" target=\"_blank\">(Documentation)</a>.<br/>\n",
       "                Project page: <a href=\"https://app.wandb.ai/sayakpaul/reproducible-ml\" target=\"_blank\">https://app.wandb.ai/sayakpaul/reproducible-ml</a><br/>\n",
       "                Sweep page: <a href=\"https://app.wandb.ai/sayakpaul/reproducible-ml/sweeps/6t8t4d6s\" target=\"_blank\">https://app.wandb.ai/sayakpaul/reproducible-ml/sweeps/6t8t4d6s</a><br/>\n",
       "Run page: <a href=\"https://app.wandb.ai/sayakpaul/reproducible-ml/runs/z2xw7avj\" target=\"_blank\">https://app.wandb.ai/sayakpaul/reproducible-ml/runs/z2xw7avj</a><br/>\n",
       "            "
      ],
      "text/plain": [
       "<IPython.core.display.HTML object>"
      ]
     },
     "metadata": {},
     "output_type": "display_data"
    },
    {
     "name": "stderr",
     "output_type": "stream",
     "text": [
      "Error generating diff: Reference at 'refs/remotes/origin/master' does not exist\n"
     ]
    },
    {
     "name": "stdout",
     "output_type": "stream",
     "text": [
      "Train on 60000 samples, validate on 10000 samples\n",
      "Epoch 1/15\n",
      "60000/60000 [==============================] - 2s 33us/sample - loss: 1.0310 - accuracy: 0.6870 - val_loss: 0.7503 - val_accuracy: 0.7553\n",
      "Epoch 2/15\n",
      "60000/60000 [==============================] - 1s 23us/sample - loss: 0.6687 - accuracy: 0.7862 - val_loss: 0.6417 - val_accuracy: 0.7864\n",
      "Epoch 3/15\n",
      "60000/60000 [==============================] - 1s 21us/sample - loss: 0.5911 - accuracy: 0.8082 - val_loss: 0.5869 - val_accuracy: 0.8050\n",
      "Epoch 4/15\n",
      "60000/60000 [==============================] - 1s 22us/sample - loss: 0.5491 - accuracy: 0.8191 - val_loss: 0.5601 - val_accuracy: 0.8074\n",
      "Epoch 5/15\n",
      "60000/60000 [==============================] - 1s 22us/sample - loss: 0.5216 - accuracy: 0.8250 - val_loss: 0.5358 - val_accuracy: 0.8149\n",
      "Epoch 6/15\n",
      "60000/60000 [==============================] - 1s 22us/sample - loss: 0.5025 - accuracy: 0.8312 - val_loss: 0.5254 - val_accuracy: 0.8183\n",
      "Epoch 7/15\n",
      "60000/60000 [==============================] - 1s 23us/sample - loss: 0.4876 - accuracy: 0.8351 - val_loss: 0.5084 - val_accuracy: 0.8253\n",
      "Epoch 8/15\n",
      "60000/60000 [==============================] - 1s 22us/sample - loss: 0.4754 - accuracy: 0.8389 - val_loss: 0.4991 - val_accuracy: 0.8282\n",
      "Epoch 9/15\n",
      "60000/60000 [==============================] - 1s 22us/sample - loss: 0.4649 - accuracy: 0.8424 - val_loss: 0.4959 - val_accuracy: 0.8267\n",
      "Epoch 10/15\n",
      "60000/60000 [==============================] - 1s 22us/sample - loss: 0.4563 - accuracy: 0.8436 - val_loss: 0.4827 - val_accuracy: 0.8341\n",
      "Epoch 11/15\n",
      "60000/60000 [==============================] - 1s 22us/sample - loss: 0.4488 - accuracy: 0.8468 - val_loss: 0.4775 - val_accuracy: 0.8323\n",
      "Epoch 12/15\n",
      "60000/60000 [==============================] - 1s 22us/sample - loss: 0.4416 - accuracy: 0.8488 - val_loss: 0.4707 - val_accuracy: 0.8378\n",
      "Epoch 13/15\n",
      "60000/60000 [==============================] - 1s 21us/sample - loss: 0.4359 - accuracy: 0.8503 - val_loss: 0.4637 - val_accuracy: 0.8391\n",
      "Epoch 14/15\n",
      "58112/60000 [============================>.] - ETA: 0s - loss: 0.4303 - accuracy: 0.8509Restoring model weights from the end of the best epoch.\n",
      "60000/60000 [==============================] - 1s 22us/sample - loss: 0.4307 - accuracy: 0.8512 - val_loss: 0.4646 - val_accuracy: 0.8348\n",
      "Epoch 00014: early stopping\n",
      "wandb: Agent Finished Run: z2xw7avj \n",
      "\n",
      "wandb: Agent Starting Run: ge0x5r8l with config:\n",
      "\tepochs: 15\n",
      "\tlearning_rate: 3e-05\n",
      "\toptimizer: adam\n",
      "wandb: Agent Started Run: ge0x5r8l\n"
     ]
    },
    {
     "data": {
      "text/html": [
       "\n",
       "                Logging results to <a href=\"https://wandb.com\" target=\"_blank\">Weights & Biases</a> <a href=\"https://docs.wandb.com/integrations/jupyter.html\" target=\"_blank\">(Documentation)</a>.<br/>\n",
       "                Project page: <a href=\"https://app.wandb.ai/sayakpaul/reproducible-ml\" target=\"_blank\">https://app.wandb.ai/sayakpaul/reproducible-ml</a><br/>\n",
       "                Sweep page: <a href=\"https://app.wandb.ai/sayakpaul/reproducible-ml/sweeps/6t8t4d6s\" target=\"_blank\">https://app.wandb.ai/sayakpaul/reproducible-ml/sweeps/6t8t4d6s</a><br/>\n",
       "Run page: <a href=\"https://app.wandb.ai/sayakpaul/reproducible-ml/runs/ge0x5r8l\" target=\"_blank\">https://app.wandb.ai/sayakpaul/reproducible-ml/runs/ge0x5r8l</a><br/>\n",
       "            "
      ],
      "text/plain": [
       "<IPython.core.display.HTML object>"
      ]
     },
     "metadata": {},
     "output_type": "display_data"
    },
    {
     "name": "stderr",
     "output_type": "stream",
     "text": [
      "Error generating diff: Reference at 'refs/remotes/origin/master' does not exist\n"
     ]
    },
    {
     "name": "stdout",
     "output_type": "stream",
     "text": [
      "Train on 60000 samples, validate on 10000 samples\n",
      "Epoch 1/15\n",
      "60000/60000 [==============================] - 2s 34us/sample - loss: 0.5257 - accuracy: 0.8180 - val_loss: 0.4436 - val_accuracy: 0.8460\n",
      "Epoch 2/15\n",
      "60000/60000 [==============================] - 1s 23us/sample - loss: 0.3913 - accuracy: 0.8607 - val_loss: 0.3942 - val_accuracy: 0.8611\n",
      "Epoch 3/15\n",
      "60000/60000 [==============================] - 1s 23us/sample - loss: 0.3493 - accuracy: 0.8747 - val_loss: 0.3751 - val_accuracy: 0.8612\n",
      "Epoch 4/15\n",
      "60000/60000 [==============================] - 1s 22us/sample - loss: 0.3207 - accuracy: 0.8842 - val_loss: 0.3597 - val_accuracy: 0.8716\n",
      "Epoch 5/15\n",
      "60000/60000 [==============================] - 1s 23us/sample - loss: 0.3072 - accuracy: 0.8881 - val_loss: 0.3488 - val_accuracy: 0.8747\n",
      "Epoch 6/15\n",
      "58240/60000 [============================>.] - ETA: 0s - loss: 0.2886 - accuracy: 0.8938Restoring model weights from the end of the best epoch.\n",
      "60000/60000 [==============================] - 1s 22us/sample - loss: 0.2888 - accuracy: 0.8938 - val_loss: 0.3519 - val_accuracy: 0.8749\n",
      "Epoch 00006: early stopping\n",
      "wandb: Agent Finished Run: ge0x5r8l \n",
      "\n",
      "wandb: Agent Starting Run: djbu7y40 with config:\n",
      "\tepochs: 15\n",
      "\tlearning_rate: 0.0001\n",
      "\toptimizer: adam\n",
      "wandb: Agent Started Run: djbu7y40\n"
     ]
    },
    {
     "data": {
      "text/html": [
       "\n",
       "                Logging results to <a href=\"https://wandb.com\" target=\"_blank\">Weights & Biases</a> <a href=\"https://docs.wandb.com/integrations/jupyter.html\" target=\"_blank\">(Documentation)</a>.<br/>\n",
       "                Project page: <a href=\"https://app.wandb.ai/sayakpaul/reproducible-ml\" target=\"_blank\">https://app.wandb.ai/sayakpaul/reproducible-ml</a><br/>\n",
       "                Sweep page: <a href=\"https://app.wandb.ai/sayakpaul/reproducible-ml/sweeps/6t8t4d6s\" target=\"_blank\">https://app.wandb.ai/sayakpaul/reproducible-ml/sweeps/6t8t4d6s</a><br/>\n",
       "Run page: <a href=\"https://app.wandb.ai/sayakpaul/reproducible-ml/runs/djbu7y40\" target=\"_blank\">https://app.wandb.ai/sayakpaul/reproducible-ml/runs/djbu7y40</a><br/>\n",
       "            "
      ],
      "text/plain": [
       "<IPython.core.display.HTML object>"
      ]
     },
     "metadata": {},
     "output_type": "display_data"
    },
    {
     "name": "stderr",
     "output_type": "stream",
     "text": [
      "Error generating diff: Reference at 'refs/remotes/origin/master' does not exist\n"
     ]
    },
    {
     "name": "stdout",
     "output_type": "stream",
     "text": [
      "Train on 60000 samples, validate on 10000 samples\n",
      "Epoch 1/15\n",
      "60000/60000 [==============================] - 2s 34us/sample - loss: 0.5257 - accuracy: 0.8180 - val_loss: 0.4436 - val_accuracy: 0.8460\n",
      "Epoch 2/15\n",
      "60000/60000 [==============================] - 1s 23us/sample - loss: 0.3913 - accuracy: 0.8607 - val_loss: 0.3942 - val_accuracy: 0.8611\n",
      "Epoch 3/15\n",
      "60000/60000 [==============================] - 1s 22us/sample - loss: 0.3493 - accuracy: 0.8747 - val_loss: 0.3751 - val_accuracy: 0.8612\n",
      "Epoch 4/15\n",
      "60000/60000 [==============================] - 1s 23us/sample - loss: 0.3207 - accuracy: 0.8842 - val_loss: 0.3597 - val_accuracy: 0.8716\n",
      "Epoch 5/15\n",
      "60000/60000 [==============================] - 1s 23us/sample - loss: 0.3072 - accuracy: 0.8881 - val_loss: 0.3488 - val_accuracy: 0.8747\n",
      "Epoch 6/15\n",
      "59520/60000 [============================>.] - ETA: 0s - loss: 0.2893 - accuracy: 0.8935Restoring model weights from the end of the best epoch.\n",
      "60000/60000 [==============================] - 1s 22us/sample - loss: 0.2888 - accuracy: 0.8938 - val_loss: 0.3519 - val_accuracy: 0.8749\n",
      "Epoch 00006: early stopping\n",
      "wandb: Agent Finished Run: djbu7y40 \n",
      "\n",
      "wandb: Agent Starting Run: mh1ygjlh with config:\n",
      "\tepochs: 20\n",
      "\tlearning_rate: 3e-05\n",
      "\toptimizer: sgd\n",
      "wandb: Agent Started Run: mh1ygjlh\n"
     ]
    },
    {
     "data": {
      "text/html": [
       "\n",
       "                Logging results to <a href=\"https://wandb.com\" target=\"_blank\">Weights & Biases</a> <a href=\"https://docs.wandb.com/integrations/jupyter.html\" target=\"_blank\">(Documentation)</a>.<br/>\n",
       "                Project page: <a href=\"https://app.wandb.ai/sayakpaul/reproducible-ml\" target=\"_blank\">https://app.wandb.ai/sayakpaul/reproducible-ml</a><br/>\n",
       "                Sweep page: <a href=\"https://app.wandb.ai/sayakpaul/reproducible-ml/sweeps/6t8t4d6s\" target=\"_blank\">https://app.wandb.ai/sayakpaul/reproducible-ml/sweeps/6t8t4d6s</a><br/>\n",
       "Run page: <a href=\"https://app.wandb.ai/sayakpaul/reproducible-ml/runs/mh1ygjlh\" target=\"_blank\">https://app.wandb.ai/sayakpaul/reproducible-ml/runs/mh1ygjlh</a><br/>\n",
       "            "
      ],
      "text/plain": [
       "<IPython.core.display.HTML object>"
      ]
     },
     "metadata": {},
     "output_type": "display_data"
    },
    {
     "name": "stderr",
     "output_type": "stream",
     "text": [
      "Error generating diff: Reference at 'refs/remotes/origin/master' does not exist\n"
     ]
    },
    {
     "name": "stdout",
     "output_type": "stream",
     "text": [
      "Train on 60000 samples, validate on 10000 samples\n",
      "Epoch 1/20\n",
      "60000/60000 [==============================] - 2s 33us/sample - loss: 1.0310 - accuracy: 0.6870 - val_loss: 0.7503 - val_accuracy: 0.7553\n",
      "Epoch 2/20\n",
      "60000/60000 [==============================] - 1s 23us/sample - loss: 0.6687 - accuracy: 0.7862 - val_loss: 0.6417 - val_accuracy: 0.7864\n",
      "Epoch 3/20\n",
      "60000/60000 [==============================] - 1s 22us/sample - loss: 0.5911 - accuracy: 0.8082 - val_loss: 0.5869 - val_accuracy: 0.8050\n",
      "Epoch 4/20\n",
      "60000/60000 [==============================] - 1s 22us/sample - loss: 0.5491 - accuracy: 0.8191 - val_loss: 0.5601 - val_accuracy: 0.8074\n",
      "Epoch 5/20\n",
      "60000/60000 [==============================] - 1s 23us/sample - loss: 0.5216 - accuracy: 0.8250 - val_loss: 0.5358 - val_accuracy: 0.8149\n",
      "Epoch 6/20\n",
      "60000/60000 [==============================] - 1s 22us/sample - loss: 0.5025 - accuracy: 0.8312 - val_loss: 0.5254 - val_accuracy: 0.8183\n",
      "Epoch 7/20\n",
      "60000/60000 [==============================] - 1s 23us/sample - loss: 0.4876 - accuracy: 0.8351 - val_loss: 0.5084 - val_accuracy: 0.8253\n",
      "Epoch 8/20\n",
      "60000/60000 [==============================] - 1s 22us/sample - loss: 0.4754 - accuracy: 0.8389 - val_loss: 0.4991 - val_accuracy: 0.8282\n",
      "Epoch 9/20\n",
      "60000/60000 [==============================] - 1s 22us/sample - loss: 0.4649 - accuracy: 0.8424 - val_loss: 0.4959 - val_accuracy: 0.8267\n",
      "Epoch 10/20\n",
      "60000/60000 [==============================] - 1s 22us/sample - loss: 0.4563 - accuracy: 0.8436 - val_loss: 0.4827 - val_accuracy: 0.8341\n",
      "Epoch 11/20\n",
      "60000/60000 [==============================] - 1s 22us/sample - loss: 0.4488 - accuracy: 0.8468 - val_loss: 0.4775 - val_accuracy: 0.8323\n",
      "Epoch 12/20\n",
      "60000/60000 [==============================] - 1s 22us/sample - loss: 0.4416 - accuracy: 0.8488 - val_loss: 0.4707 - val_accuracy: 0.8378\n",
      "Epoch 13/20\n",
      "60000/60000 [==============================] - 1s 22us/sample - loss: 0.4359 - accuracy: 0.8503 - val_loss: 0.4637 - val_accuracy: 0.8391\n",
      "Epoch 14/20\n",
      "59648/60000 [============================>.] - ETA: 0s - loss: 0.4307 - accuracy: 0.8511Restoring model weights from the end of the best epoch.\n",
      "60000/60000 [==============================] - 1s 23us/sample - loss: 0.4307 - accuracy: 0.8512 - val_loss: 0.4646 - val_accuracy: 0.8348\n",
      "Epoch 00014: early stopping\n",
      "wandb: Agent Finished Run: mh1ygjlh \n",
      "\n",
      "wandb: Agent Starting Run: cjmu9s9q with config:\n",
      "\tepochs: 10\n",
      "\tlearning_rate: 3e-05\n",
      "\toptimizer: adam\n",
      "wandb: Agent Started Run: cjmu9s9q\n"
     ]
    },
    {
     "data": {
      "text/html": [
       "\n",
       "                Logging results to <a href=\"https://wandb.com\" target=\"_blank\">Weights & Biases</a> <a href=\"https://docs.wandb.com/integrations/jupyter.html\" target=\"_blank\">(Documentation)</a>.<br/>\n",
       "                Project page: <a href=\"https://app.wandb.ai/sayakpaul/reproducible-ml\" target=\"_blank\">https://app.wandb.ai/sayakpaul/reproducible-ml</a><br/>\n",
       "                Sweep page: <a href=\"https://app.wandb.ai/sayakpaul/reproducible-ml/sweeps/6t8t4d6s\" target=\"_blank\">https://app.wandb.ai/sayakpaul/reproducible-ml/sweeps/6t8t4d6s</a><br/>\n",
       "Run page: <a href=\"https://app.wandb.ai/sayakpaul/reproducible-ml/runs/cjmu9s9q\" target=\"_blank\">https://app.wandb.ai/sayakpaul/reproducible-ml/runs/cjmu9s9q</a><br/>\n",
       "            "
      ],
      "text/plain": [
       "<IPython.core.display.HTML object>"
      ]
     },
     "metadata": {},
     "output_type": "display_data"
    },
    {
     "name": "stderr",
     "output_type": "stream",
     "text": [
      "Error generating diff: Reference at 'refs/remotes/origin/master' does not exist\n"
     ]
    },
    {
     "name": "stdout",
     "output_type": "stream",
     "text": [
      "Train on 60000 samples, validate on 10000 samples\n",
      "Epoch 1/10\n",
      "60000/60000 [==============================] - 2s 34us/sample - loss: 0.5257 - accuracy: 0.8180 - val_loss: 0.4436 - val_accuracy: 0.8460\n",
      "Epoch 2/10\n",
      "60000/60000 [==============================] - 1s 23us/sample - loss: 0.3913 - accuracy: 0.8607 - val_loss: 0.3942 - val_accuracy: 0.8611\n",
      "Epoch 3/10\n",
      "60000/60000 [==============================] - 1s 23us/sample - loss: 0.3493 - accuracy: 0.8747 - val_loss: 0.3751 - val_accuracy: 0.8612\n",
      "Epoch 4/10\n",
      "60000/60000 [==============================] - 1s 22us/sample - loss: 0.3207 - accuracy: 0.8842 - val_loss: 0.3597 - val_accuracy: 0.8716\n",
      "Epoch 5/10\n",
      "60000/60000 [==============================] - 1s 23us/sample - loss: 0.3072 - accuracy: 0.8881 - val_loss: 0.3488 - val_accuracy: 0.8747\n",
      "Epoch 6/10\n",
      "58496/60000 [============================>.] - ETA: 0s - loss: 0.2889 - accuracy: 0.8936Restoring model weights from the end of the best epoch.\n",
      "60000/60000 [==============================] - 1s 22us/sample - loss: 0.2888 - accuracy: 0.8938 - val_loss: 0.3519 - val_accuracy: 0.8749\n",
      "Epoch 00006: early stopping\n",
      "wandb: Agent Finished Run: cjmu9s9q \n",
      "\n",
      "wandb: Agent Starting Run: f0tppvng with config:\n",
      "\tepochs: 15\n",
      "\tlearning_rate: 0.0003\n",
      "\toptimizer: adam\n",
      "wandb: Agent Started Run: f0tppvng\n"
     ]
    },
    {
     "data": {
      "text/html": [
       "\n",
       "                Logging results to <a href=\"https://wandb.com\" target=\"_blank\">Weights & Biases</a> <a href=\"https://docs.wandb.com/integrations/jupyter.html\" target=\"_blank\">(Documentation)</a>.<br/>\n",
       "                Project page: <a href=\"https://app.wandb.ai/sayakpaul/reproducible-ml\" target=\"_blank\">https://app.wandb.ai/sayakpaul/reproducible-ml</a><br/>\n",
       "                Sweep page: <a href=\"https://app.wandb.ai/sayakpaul/reproducible-ml/sweeps/6t8t4d6s\" target=\"_blank\">https://app.wandb.ai/sayakpaul/reproducible-ml/sweeps/6t8t4d6s</a><br/>\n",
       "Run page: <a href=\"https://app.wandb.ai/sayakpaul/reproducible-ml/runs/f0tppvng\" target=\"_blank\">https://app.wandb.ai/sayakpaul/reproducible-ml/runs/f0tppvng</a><br/>\n",
       "            "
      ],
      "text/plain": [
       "<IPython.core.display.HTML object>"
      ]
     },
     "metadata": {},
     "output_type": "display_data"
    },
    {
     "name": "stderr",
     "output_type": "stream",
     "text": [
      "Error generating diff: Reference at 'refs/remotes/origin/master' does not exist\n"
     ]
    },
    {
     "name": "stdout",
     "output_type": "stream",
     "text": [
      "Train on 60000 samples, validate on 10000 samples\n",
      "Epoch 1/15\n",
      "60000/60000 [==============================] - 2s 35us/sample - loss: 0.5257 - accuracy: 0.8180 - val_loss: 0.4436 - val_accuracy: 0.8460\n",
      "Epoch 2/15\n",
      "60000/60000 [==============================] - 1s 23us/sample - loss: 0.3913 - accuracy: 0.8607 - val_loss: 0.3942 - val_accuracy: 0.8611\n",
      "Epoch 3/15\n",
      "60000/60000 [==============================] - 1s 23us/sample - loss: 0.3493 - accuracy: 0.8747 - val_loss: 0.3751 - val_accuracy: 0.8612\n",
      "Epoch 4/15\n",
      "60000/60000 [==============================] - 1s 22us/sample - loss: 0.3207 - accuracy: 0.8842 - val_loss: 0.3597 - val_accuracy: 0.8716\n",
      "Epoch 5/15\n",
      "60000/60000 [==============================] - 1s 22us/sample - loss: 0.3072 - accuracy: 0.8881 - val_loss: 0.3488 - val_accuracy: 0.8747\n",
      "Epoch 6/15\n",
      "57984/60000 [===========================>..] - ETA: 0s - loss: 0.2888 - accuracy: 0.8937Restoring model weights from the end of the best epoch.\n",
      "60000/60000 [==============================] - 1s 22us/sample - loss: 0.2888 - accuracy: 0.8938 - val_loss: 0.3519 - val_accuracy: 0.8749\n",
      "Epoch 00006: early stopping\n",
      "wandb: Agent Finished Run: f0tppvng \n",
      "\n",
      "wandb: Agent Starting Run: hzjl0roq with config:\n",
      "\tepochs: 15\n",
      "\tlearning_rate: 0.001\n",
      "\toptimizer: sgd\n",
      "wandb: Agent Started Run: hzjl0roq\n"
     ]
    },
    {
     "data": {
      "text/html": [
       "\n",
       "                Logging results to <a href=\"https://wandb.com\" target=\"_blank\">Weights & Biases</a> <a href=\"https://docs.wandb.com/integrations/jupyter.html\" target=\"_blank\">(Documentation)</a>.<br/>\n",
       "                Project page: <a href=\"https://app.wandb.ai/sayakpaul/reproducible-ml\" target=\"_blank\">https://app.wandb.ai/sayakpaul/reproducible-ml</a><br/>\n",
       "                Sweep page: <a href=\"https://app.wandb.ai/sayakpaul/reproducible-ml/sweeps/6t8t4d6s\" target=\"_blank\">https://app.wandb.ai/sayakpaul/reproducible-ml/sweeps/6t8t4d6s</a><br/>\n",
       "Run page: <a href=\"https://app.wandb.ai/sayakpaul/reproducible-ml/runs/hzjl0roq\" target=\"_blank\">https://app.wandb.ai/sayakpaul/reproducible-ml/runs/hzjl0roq</a><br/>\n",
       "            "
      ],
      "text/plain": [
       "<IPython.core.display.HTML object>"
      ]
     },
     "metadata": {},
     "output_type": "display_data"
    },
    {
     "name": "stderr",
     "output_type": "stream",
     "text": [
      "Error generating diff: Reference at 'refs/remotes/origin/master' does not exist\n"
     ]
    },
    {
     "name": "stdout",
     "output_type": "stream",
     "text": [
      "Train on 60000 samples, validate on 10000 samples\n",
      "Epoch 1/15\n",
      "60000/60000 [==============================] - 2s 33us/sample - loss: 1.0310 - accuracy: 0.6870 - val_loss: 0.7503 - val_accuracy: 0.7553\n",
      "Epoch 2/15\n",
      "60000/60000 [==============================] - 1s 22us/sample - loss: 0.6687 - accuracy: 0.7862 - val_loss: 0.6417 - val_accuracy: 0.7864\n",
      "Epoch 3/15\n",
      "60000/60000 [==============================] - 1s 22us/sample - loss: 0.5911 - accuracy: 0.8082 - val_loss: 0.5869 - val_accuracy: 0.8050\n",
      "Epoch 4/15\n",
      "60000/60000 [==============================] - 1s 21us/sample - loss: 0.5491 - accuracy: 0.8191 - val_loss: 0.5601 - val_accuracy: 0.8074\n",
      "Epoch 5/15\n",
      "60000/60000 [==============================] - 1s 23us/sample - loss: 0.5216 - accuracy: 0.8250 - val_loss: 0.5358 - val_accuracy: 0.8149\n",
      "Epoch 6/15\n",
      "60000/60000 [==============================] - 1s 22us/sample - loss: 0.5025 - accuracy: 0.8312 - val_loss: 0.5254 - val_accuracy: 0.8183\n",
      "Epoch 7/15\n",
      "60000/60000 [==============================] - 1s 22us/sample - loss: 0.4876 - accuracy: 0.8351 - val_loss: 0.5084 - val_accuracy: 0.8253\n",
      "Epoch 8/15\n",
      "60000/60000 [==============================] - 1s 21us/sample - loss: 0.4754 - accuracy: 0.8389 - val_loss: 0.4991 - val_accuracy: 0.8282\n",
      "Epoch 9/15\n",
      "60000/60000 [==============================] - 1s 22us/sample - loss: 0.4649 - accuracy: 0.8424 - val_loss: 0.4959 - val_accuracy: 0.8267\n",
      "Epoch 10/15\n",
      "60000/60000 [==============================] - 1s 22us/sample - loss: 0.4563 - accuracy: 0.8436 - val_loss: 0.4827 - val_accuracy: 0.8341\n",
      "Epoch 11/15\n",
      "60000/60000 [==============================] - 1s 22us/sample - loss: 0.4488 - accuracy: 0.8468 - val_loss: 0.4775 - val_accuracy: 0.8323\n",
      "Epoch 12/15\n",
      "60000/60000 [==============================] - 1s 22us/sample - loss: 0.4416 - accuracy: 0.8488 - val_loss: 0.4707 - val_accuracy: 0.8378\n",
      "Epoch 13/15\n",
      "60000/60000 [==============================] - 1s 22us/sample - loss: 0.4359 - accuracy: 0.8503 - val_loss: 0.4637 - val_accuracy: 0.8391\n",
      "Epoch 14/15\n",
      "59776/60000 [============================>.] - ETA: 0s - loss: 0.4308 - accuracy: 0.8511Restoring model weights from the end of the best epoch.\n",
      "60000/60000 [==============================] - 1s 22us/sample - loss: 0.4307 - accuracy: 0.8512 - val_loss: 0.4646 - val_accuracy: 0.8348\n",
      "Epoch 00014: early stopping\n",
      "wandb: Agent Finished Run: hzjl0roq \n",
      "\n",
      "wandb: Agent Starting Run: 1wx18i23 with config:\n",
      "\tepochs: 10\n",
      "\tlearning_rate: 0.0003\n",
      "\toptimizer: sgd\n",
      "wandb: Agent Started Run: 1wx18i23\n"
     ]
    },
    {
     "data": {
      "text/html": [
       "\n",
       "                Logging results to <a href=\"https://wandb.com\" target=\"_blank\">Weights & Biases</a> <a href=\"https://docs.wandb.com/integrations/jupyter.html\" target=\"_blank\">(Documentation)</a>.<br/>\n",
       "                Project page: <a href=\"https://app.wandb.ai/sayakpaul/reproducible-ml\" target=\"_blank\">https://app.wandb.ai/sayakpaul/reproducible-ml</a><br/>\n",
       "                Sweep page: <a href=\"https://app.wandb.ai/sayakpaul/reproducible-ml/sweeps/6t8t4d6s\" target=\"_blank\">https://app.wandb.ai/sayakpaul/reproducible-ml/sweeps/6t8t4d6s</a><br/>\n",
       "Run page: <a href=\"https://app.wandb.ai/sayakpaul/reproducible-ml/runs/1wx18i23\" target=\"_blank\">https://app.wandb.ai/sayakpaul/reproducible-ml/runs/1wx18i23</a><br/>\n",
       "            "
      ],
      "text/plain": [
       "<IPython.core.display.HTML object>"
      ]
     },
     "metadata": {},
     "output_type": "display_data"
    },
    {
     "name": "stderr",
     "output_type": "stream",
     "text": [
      "Error generating diff: Reference at 'refs/remotes/origin/master' does not exist\n"
     ]
    },
    {
     "name": "stdout",
     "output_type": "stream",
     "text": [
      "Train on 60000 samples, validate on 10000 samples\n",
      "Epoch 1/10\n",
      "60000/60000 [==============================] - 2s 32us/sample - loss: 1.0310 - accuracy: 0.6870 - val_loss: 0.7503 - val_accuracy: 0.7553\n",
      "Epoch 2/10\n",
      "60000/60000 [==============================] - 1s 22us/sample - loss: 0.6687 - accuracy: 0.7862 - val_loss: 0.6417 - val_accuracy: 0.7864\n",
      "Epoch 3/10\n",
      "60000/60000 [==============================] - 1s 22us/sample - loss: 0.5911 - accuracy: 0.8082 - val_loss: 0.5869 - val_accuracy: 0.8050\n",
      "Epoch 4/10\n",
      "60000/60000 [==============================] - 1s 22us/sample - loss: 0.5491 - accuracy: 0.8191 - val_loss: 0.5601 - val_accuracy: 0.8074\n",
      "Epoch 5/10\n",
      "60000/60000 [==============================] - 1s 22us/sample - loss: 0.5216 - accuracy: 0.8250 - val_loss: 0.5358 - val_accuracy: 0.8149\n",
      "Epoch 6/10\n",
      "60000/60000 [==============================] - 1s 22us/sample - loss: 0.5025 - accuracy: 0.8312 - val_loss: 0.5254 - val_accuracy: 0.8183\n",
      "Epoch 7/10\n",
      "60000/60000 [==============================] - 1s 22us/sample - loss: 0.4876 - accuracy: 0.8351 - val_loss: 0.5084 - val_accuracy: 0.8253\n",
      "Epoch 8/10\n",
      "60000/60000 [==============================] - 1s 22us/sample - loss: 0.4754 - accuracy: 0.8389 - val_loss: 0.4991 - val_accuracy: 0.8282\n",
      "Epoch 9/10\n",
      "60000/60000 [==============================] - 1s 22us/sample - loss: 0.4649 - accuracy: 0.8424 - val_loss: 0.4959 - val_accuracy: 0.8267\n",
      "Epoch 10/10\n",
      "60000/60000 [==============================] - 1s 22us/sample - loss: 0.4563 - accuracy: 0.8436 - val_loss: 0.4827 - val_accuracy: 0.8341\n",
      "wandb: Agent Finished Run: 1wx18i23 \n",
      "\n",
      "wandb: Agent Starting Run: 4vbzzl9c with config:\n",
      "\tepochs: 10\n",
      "\tlearning_rate: 3e-05\n",
      "\toptimizer: adam\n",
      "wandb: Agent Started Run: 4vbzzl9c\n"
     ]
    },
    {
     "data": {
      "text/html": [
       "\n",
       "                Logging results to <a href=\"https://wandb.com\" target=\"_blank\">Weights & Biases</a> <a href=\"https://docs.wandb.com/integrations/jupyter.html\" target=\"_blank\">(Documentation)</a>.<br/>\n",
       "                Project page: <a href=\"https://app.wandb.ai/sayakpaul/reproducible-ml\" target=\"_blank\">https://app.wandb.ai/sayakpaul/reproducible-ml</a><br/>\n",
       "                Sweep page: <a href=\"https://app.wandb.ai/sayakpaul/reproducible-ml/sweeps/6t8t4d6s\" target=\"_blank\">https://app.wandb.ai/sayakpaul/reproducible-ml/sweeps/6t8t4d6s</a><br/>\n",
       "Run page: <a href=\"https://app.wandb.ai/sayakpaul/reproducible-ml/runs/4vbzzl9c\" target=\"_blank\">https://app.wandb.ai/sayakpaul/reproducible-ml/runs/4vbzzl9c</a><br/>\n",
       "            "
      ],
      "text/plain": [
       "<IPython.core.display.HTML object>"
      ]
     },
     "metadata": {},
     "output_type": "display_data"
    },
    {
     "name": "stderr",
     "output_type": "stream",
     "text": [
      "Error generating diff: Reference at 'refs/remotes/origin/master' does not exist\n"
     ]
    },
    {
     "name": "stdout",
     "output_type": "stream",
     "text": [
      "Train on 60000 samples, validate on 10000 samples\n",
      "Epoch 1/10\n",
      "60000/60000 [==============================] - 2s 34us/sample - loss: 0.5257 - accuracy: 0.8180 - val_loss: 0.4436 - val_accuracy: 0.8460\n",
      "Epoch 2/10\n",
      "60000/60000 [==============================] - 1s 23us/sample - loss: 0.3913 - accuracy: 0.8607 - val_loss: 0.3942 - val_accuracy: 0.8611\n",
      "Epoch 3/10\n",
      "60000/60000 [==============================] - 1s 22us/sample - loss: 0.3493 - accuracy: 0.8747 - val_loss: 0.3751 - val_accuracy: 0.8612\n",
      "Epoch 4/10\n",
      "60000/60000 [==============================] - 1s 22us/sample - loss: 0.3207 - accuracy: 0.8842 - val_loss: 0.3597 - val_accuracy: 0.8716\n",
      "Epoch 5/10\n",
      "60000/60000 [==============================] - 1s 23us/sample - loss: 0.3072 - accuracy: 0.8881 - val_loss: 0.3488 - val_accuracy: 0.8747\n",
      "Epoch 6/10\n",
      "59136/60000 [============================>.] - ETA: 0s - loss: 0.2890 - accuracy: 0.8937Restoring model weights from the end of the best epoch.\n",
      "60000/60000 [==============================] - 1s 22us/sample - loss: 0.2888 - accuracy: 0.8938 - val_loss: 0.3519 - val_accuracy: 0.8749\n",
      "Epoch 00006: early stopping\n",
      "wandb: Agent Finished Run: 4vbzzl9c \n",
      "\n",
      "wandb: Agent Starting Run: 0mmskvbb with config:\n",
      "\tepochs: 10\n",
      "\tlearning_rate: 0.0003\n",
      "\toptimizer: adam\n",
      "wandb: Agent Started Run: 0mmskvbb\n"
     ]
    },
    {
     "data": {
      "text/html": [
       "\n",
       "                Logging results to <a href=\"https://wandb.com\" target=\"_blank\">Weights & Biases</a> <a href=\"https://docs.wandb.com/integrations/jupyter.html\" target=\"_blank\">(Documentation)</a>.<br/>\n",
       "                Project page: <a href=\"https://app.wandb.ai/sayakpaul/reproducible-ml\" target=\"_blank\">https://app.wandb.ai/sayakpaul/reproducible-ml</a><br/>\n",
       "                Sweep page: <a href=\"https://app.wandb.ai/sayakpaul/reproducible-ml/sweeps/6t8t4d6s\" target=\"_blank\">https://app.wandb.ai/sayakpaul/reproducible-ml/sweeps/6t8t4d6s</a><br/>\n",
       "Run page: <a href=\"https://app.wandb.ai/sayakpaul/reproducible-ml/runs/0mmskvbb\" target=\"_blank\">https://app.wandb.ai/sayakpaul/reproducible-ml/runs/0mmskvbb</a><br/>\n",
       "            "
      ],
      "text/plain": [
       "<IPython.core.display.HTML object>"
      ]
     },
     "metadata": {},
     "output_type": "display_data"
    },
    {
     "name": "stderr",
     "output_type": "stream",
     "text": [
      "Error generating diff: Reference at 'refs/remotes/origin/master' does not exist\n"
     ]
    },
    {
     "name": "stdout",
     "output_type": "stream",
     "text": [
      "Train on 60000 samples, validate on 10000 samples\n",
      "Epoch 1/10\n",
      "60000/60000 [==============================] - 2s 34us/sample - loss: 0.5257 - accuracy: 0.8180 - val_loss: 0.4436 - val_accuracy: 0.8460\n",
      "Epoch 2/10\n",
      "60000/60000 [==============================] - 1s 23us/sample - loss: 0.3913 - accuracy: 0.8607 - val_loss: 0.3942 - val_accuracy: 0.8611\n",
      "Epoch 3/10\n",
      "60000/60000 [==============================] - 1s 23us/sample - loss: 0.3493 - accuracy: 0.8747 - val_loss: 0.3751 - val_accuracy: 0.8612\n",
      "Epoch 4/10\n",
      "60000/60000 [==============================] - 1s 23us/sample - loss: 0.3207 - accuracy: 0.8842 - val_loss: 0.3597 - val_accuracy: 0.8716\n",
      "Epoch 5/10\n",
      "60000/60000 [==============================] - 1s 23us/sample - loss: 0.3072 - accuracy: 0.8881 - val_loss: 0.3488 - val_accuracy: 0.8747\n",
      "Epoch 6/10\n",
      "59648/60000 [============================>.] - ETA: 0s - loss: 0.2893 - accuracy: 0.8936Restoring model weights from the end of the best epoch.\n",
      "60000/60000 [==============================] - 1s 22us/sample - loss: 0.2888 - accuracy: 0.8938 - val_loss: 0.3519 - val_accuracy: 0.8749\n",
      "Epoch 00006: early stopping\n",
      "wandb: Agent Finished Run: 0mmskvbb \n",
      "\n",
      "wandb: Agent Starting Run: 24ajn956 with config:\n",
      "\tepochs: 10\n",
      "\tlearning_rate: 0.001\n",
      "\toptimizer: sgd\n",
      "wandb: Agent Started Run: 24ajn956\n"
     ]
    },
    {
     "data": {
      "text/html": [
       "\n",
       "                Logging results to <a href=\"https://wandb.com\" target=\"_blank\">Weights & Biases</a> <a href=\"https://docs.wandb.com/integrations/jupyter.html\" target=\"_blank\">(Documentation)</a>.<br/>\n",
       "                Project page: <a href=\"https://app.wandb.ai/sayakpaul/reproducible-ml\" target=\"_blank\">https://app.wandb.ai/sayakpaul/reproducible-ml</a><br/>\n",
       "                Sweep page: <a href=\"https://app.wandb.ai/sayakpaul/reproducible-ml/sweeps/6t8t4d6s\" target=\"_blank\">https://app.wandb.ai/sayakpaul/reproducible-ml/sweeps/6t8t4d6s</a><br/>\n",
       "Run page: <a href=\"https://app.wandb.ai/sayakpaul/reproducible-ml/runs/24ajn956\" target=\"_blank\">https://app.wandb.ai/sayakpaul/reproducible-ml/runs/24ajn956</a><br/>\n",
       "            "
      ],
      "text/plain": [
       "<IPython.core.display.HTML object>"
      ]
     },
     "metadata": {},
     "output_type": "display_data"
    },
    {
     "name": "stderr",
     "output_type": "stream",
     "text": [
      "Error generating diff: Reference at 'refs/remotes/origin/master' does not exist\n"
     ]
    },
    {
     "name": "stdout",
     "output_type": "stream",
     "text": [
      "Train on 60000 samples, validate on 10000 samples\n",
      "Epoch 1/10\n",
      "60000/60000 [==============================] - 2s 37us/sample - loss: 1.0310 - accuracy: 0.6870 - val_loss: 0.7503 - val_accuracy: 0.7553\n",
      "Epoch 2/10\n",
      "60000/60000 [==============================] - 2s 26us/sample - loss: 0.6687 - accuracy: 0.7862 - val_loss: 0.6417 - val_accuracy: 0.7864\n",
      "Epoch 3/10\n",
      "60000/60000 [==============================] - 1s 22us/sample - loss: 0.5911 - accuracy: 0.8082 - val_loss: 0.5869 - val_accuracy: 0.8050\n",
      "Epoch 4/10\n",
      "60000/60000 [==============================] - 1s 22us/sample - loss: 0.5491 - accuracy: 0.8191 - val_loss: 0.5601 - val_accuracy: 0.8074\n",
      "Epoch 5/10\n",
      "60000/60000 [==============================] - 1s 22us/sample - loss: 0.5216 - accuracy: 0.8250 - val_loss: 0.5358 - val_accuracy: 0.8149\n",
      "Epoch 6/10\n",
      "60000/60000 [==============================] - 1s 22us/sample - loss: 0.5025 - accuracy: 0.8312 - val_loss: 0.5254 - val_accuracy: 0.8183\n",
      "Epoch 7/10\n",
      "60000/60000 [==============================] - 1s 22us/sample - loss: 0.4876 - accuracy: 0.8351 - val_loss: 0.5084 - val_accuracy: 0.8253\n",
      "Epoch 8/10\n",
      "60000/60000 [==============================] - 1s 22us/sample - loss: 0.4754 - accuracy: 0.8389 - val_loss: 0.4991 - val_accuracy: 0.8282\n",
      "Epoch 9/10\n",
      "60000/60000 [==============================] - 1s 22us/sample - loss: 0.4649 - accuracy: 0.8424 - val_loss: 0.4959 - val_accuracy: 0.8267\n",
      "Epoch 10/10\n",
      "60000/60000 [==============================] - 1s 22us/sample - loss: 0.4563 - accuracy: 0.8436 - val_loss: 0.4827 - val_accuracy: 0.8341\n",
      "wandb: Agent Finished Run: 24ajn956 \n",
      "\n",
      "wandb: Agent Starting Run: 73bjuluc with config:\n",
      "\tepochs: 20\n",
      "\tlearning_rate: 0.0001\n",
      "\toptimizer: sgd\n",
      "wandb: Agent Started Run: 73bjuluc\n"
     ]
    },
    {
     "data": {
      "text/html": [
       "\n",
       "                Logging results to <a href=\"https://wandb.com\" target=\"_blank\">Weights & Biases</a> <a href=\"https://docs.wandb.com/integrations/jupyter.html\" target=\"_blank\">(Documentation)</a>.<br/>\n",
       "                Project page: <a href=\"https://app.wandb.ai/sayakpaul/reproducible-ml\" target=\"_blank\">https://app.wandb.ai/sayakpaul/reproducible-ml</a><br/>\n",
       "                Sweep page: <a href=\"https://app.wandb.ai/sayakpaul/reproducible-ml/sweeps/6t8t4d6s\" target=\"_blank\">https://app.wandb.ai/sayakpaul/reproducible-ml/sweeps/6t8t4d6s</a><br/>\n",
       "Run page: <a href=\"https://app.wandb.ai/sayakpaul/reproducible-ml/runs/73bjuluc\" target=\"_blank\">https://app.wandb.ai/sayakpaul/reproducible-ml/runs/73bjuluc</a><br/>\n",
       "            "
      ],
      "text/plain": [
       "<IPython.core.display.HTML object>"
      ]
     },
     "metadata": {},
     "output_type": "display_data"
    },
    {
     "name": "stderr",
     "output_type": "stream",
     "text": [
      "Error generating diff: Reference at 'refs/remotes/origin/master' does not exist\n"
     ]
    },
    {
     "name": "stdout",
     "output_type": "stream",
     "text": [
      "Train on 60000 samples, validate on 10000 samples\n",
      "Epoch 1/20\n",
      "60000/60000 [==============================] - 2s 33us/sample - loss: 1.0310 - accuracy: 0.6870 - val_loss: 0.7503 - val_accuracy: 0.7553\n",
      "Epoch 2/20\n",
      "60000/60000 [==============================] - 1s 22us/sample - loss: 0.6687 - accuracy: 0.7862 - val_loss: 0.6417 - val_accuracy: 0.7864\n",
      "Epoch 3/20\n",
      "60000/60000 [==============================] - 1s 22us/sample - loss: 0.5911 - accuracy: 0.8082 - val_loss: 0.5869 - val_accuracy: 0.8050\n",
      "Epoch 4/20\n",
      "60000/60000 [==============================] - 1s 21us/sample - loss: 0.5491 - accuracy: 0.8191 - val_loss: 0.5601 - val_accuracy: 0.8074\n",
      "Epoch 5/20\n",
      "60000/60000 [==============================] - 1s 22us/sample - loss: 0.5216 - accuracy: 0.8250 - val_loss: 0.5358 - val_accuracy: 0.8149\n",
      "Epoch 6/20\n",
      "60000/60000 [==============================] - 1s 21us/sample - loss: 0.5025 - accuracy: 0.8312 - val_loss: 0.5254 - val_accuracy: 0.8183\n",
      "Epoch 7/20\n",
      "60000/60000 [==============================] - 1s 22us/sample - loss: 0.4876 - accuracy: 0.8351 - val_loss: 0.5084 - val_accuracy: 0.8253\n",
      "Epoch 8/20\n",
      "60000/60000 [==============================] - 1s 21us/sample - loss: 0.4754 - accuracy: 0.8389 - val_loss: 0.4991 - val_accuracy: 0.8282\n",
      "Epoch 9/20\n",
      "60000/60000 [==============================] - 1s 22us/sample - loss: 0.4649 - accuracy: 0.8424 - val_loss: 0.4959 - val_accuracy: 0.8267\n",
      "Epoch 10/20\n",
      "60000/60000 [==============================] - 1s 21us/sample - loss: 0.4563 - accuracy: 0.8436 - val_loss: 0.4827 - val_accuracy: 0.8341\n",
      "Epoch 11/20\n",
      "60000/60000 [==============================] - 1s 22us/sample - loss: 0.4488 - accuracy: 0.8468 - val_loss: 0.4775 - val_accuracy: 0.8323\n",
      "Epoch 12/20\n",
      "60000/60000 [==============================] - 1s 22us/sample - loss: 0.4416 - accuracy: 0.8488 - val_loss: 0.4707 - val_accuracy: 0.8378\n",
      "Epoch 13/20\n",
      "60000/60000 [==============================] - 1s 22us/sample - loss: 0.4359 - accuracy: 0.8503 - val_loss: 0.4637 - val_accuracy: 0.8391\n",
      "Epoch 14/20\n",
      "59648/60000 [============================>.] - ETA: 0s - loss: 0.4307 - accuracy: 0.8511Restoring model weights from the end of the best epoch.\n",
      "60000/60000 [==============================] - 1s 22us/sample - loss: 0.4307 - accuracy: 0.8512 - val_loss: 0.4646 - val_accuracy: 0.8348\n",
      "Epoch 00014: early stopping\n",
      "wandb: Agent Finished Run: 73bjuluc \n",
      "\n",
      "wandb: Agent Starting Run: 33tyz70u with config:\n",
      "\tepochs: 15\n",
      "\tlearning_rate: 3e-05\n",
      "\toptimizer: sgd\n",
      "wandb: Agent Started Run: 33tyz70u\n"
     ]
    },
    {
     "data": {
      "text/html": [
       "\n",
       "                Logging results to <a href=\"https://wandb.com\" target=\"_blank\">Weights & Biases</a> <a href=\"https://docs.wandb.com/integrations/jupyter.html\" target=\"_blank\">(Documentation)</a>.<br/>\n",
       "                Project page: <a href=\"https://app.wandb.ai/sayakpaul/reproducible-ml\" target=\"_blank\">https://app.wandb.ai/sayakpaul/reproducible-ml</a><br/>\n",
       "                Sweep page: <a href=\"https://app.wandb.ai/sayakpaul/reproducible-ml/sweeps/6t8t4d6s\" target=\"_blank\">https://app.wandb.ai/sayakpaul/reproducible-ml/sweeps/6t8t4d6s</a><br/>\n",
       "Run page: <a href=\"https://app.wandb.ai/sayakpaul/reproducible-ml/runs/33tyz70u\" target=\"_blank\">https://app.wandb.ai/sayakpaul/reproducible-ml/runs/33tyz70u</a><br/>\n",
       "            "
      ],
      "text/plain": [
       "<IPython.core.display.HTML object>"
      ]
     },
     "metadata": {},
     "output_type": "display_data"
    },
    {
     "name": "stderr",
     "output_type": "stream",
     "text": [
      "Error generating diff: Reference at 'refs/remotes/origin/master' does not exist\n"
     ]
    },
    {
     "name": "stdout",
     "output_type": "stream",
     "text": [
      "Train on 60000 samples, validate on 10000 samples\n",
      "Epoch 1/15\n",
      "60000/60000 [==============================] - 2s 33us/sample - loss: 1.0310 - accuracy: 0.6870 - val_loss: 0.7503 - val_accuracy: 0.7553\n",
      "Epoch 2/15\n",
      "60000/60000 [==============================] - 1s 22us/sample - loss: 0.6687 - accuracy: 0.7862 - val_loss: 0.6417 - val_accuracy: 0.7864\n",
      "Epoch 3/15\n",
      "60000/60000 [==============================] - 1s 21us/sample - loss: 0.5911 - accuracy: 0.8082 - val_loss: 0.5869 - val_accuracy: 0.8050\n",
      "Epoch 4/15\n",
      "60000/60000 [==============================] - 1s 21us/sample - loss: 0.5491 - accuracy: 0.8191 - val_loss: 0.5601 - val_accuracy: 0.8074\n",
      "Epoch 5/15\n",
      "60000/60000 [==============================] - 1s 22us/sample - loss: 0.5216 - accuracy: 0.8250 - val_loss: 0.5358 - val_accuracy: 0.8149\n",
      "Epoch 6/15\n",
      "60000/60000 [==============================] - 1s 22us/sample - loss: 0.5025 - accuracy: 0.8312 - val_loss: 0.5254 - val_accuracy: 0.8183\n",
      "Epoch 7/15\n",
      "60000/60000 [==============================] - 1s 22us/sample - loss: 0.4876 - accuracy: 0.8351 - val_loss: 0.5084 - val_accuracy: 0.8253\n",
      "Epoch 8/15\n",
      "60000/60000 [==============================] - 1s 22us/sample - loss: 0.4754 - accuracy: 0.8389 - val_loss: 0.4991 - val_accuracy: 0.8282\n",
      "Epoch 9/15\n",
      "60000/60000 [==============================] - 1s 24us/sample - loss: 0.4649 - accuracy: 0.8424 - val_loss: 0.4959 - val_accuracy: 0.8267\n",
      "Epoch 10/15\n",
      "60000/60000 [==============================] - 1s 24us/sample - loss: 0.4563 - accuracy: 0.8436 - val_loss: 0.4827 - val_accuracy: 0.8341\n",
      "Epoch 11/15\n",
      "60000/60000 [==============================] - 1s 24us/sample - loss: 0.4488 - accuracy: 0.8468 - val_loss: 0.4775 - val_accuracy: 0.8323\n",
      "Epoch 12/15\n",
      "60000/60000 [==============================] - 1s 23us/sample - loss: 0.4416 - accuracy: 0.8488 - val_loss: 0.4707 - val_accuracy: 0.8378\n",
      "Epoch 13/15\n",
      "60000/60000 [==============================] - 1s 22us/sample - loss: 0.4359 - accuracy: 0.8503 - val_loss: 0.4637 - val_accuracy: 0.8391\n",
      "Epoch 14/15\n",
      "59776/60000 [============================>.] - ETA: 0s - loss: 0.4308 - accuracy: 0.8511Restoring model weights from the end of the best epoch.\n",
      "60000/60000 [==============================] - 1s 22us/sample - loss: 0.4307 - accuracy: 0.8512 - val_loss: 0.4646 - val_accuracy: 0.8348\n",
      "Epoch 00014: early stopping\n",
      "wandb: Agent Finished Run: 33tyz70u \n",
      "\n",
      "wandb: Agent Starting Run: uea1wcn5 with config:\n",
      "\tepochs: 10\n",
      "\tlearning_rate: 0.001\n",
      "\toptimizer: adam\n",
      "wandb: Agent Started Run: uea1wcn5\n"
     ]
    },
    {
     "data": {
      "text/html": [
       "\n",
       "                Logging results to <a href=\"https://wandb.com\" target=\"_blank\">Weights & Biases</a> <a href=\"https://docs.wandb.com/integrations/jupyter.html\" target=\"_blank\">(Documentation)</a>.<br/>\n",
       "                Project page: <a href=\"https://app.wandb.ai/sayakpaul/reproducible-ml\" target=\"_blank\">https://app.wandb.ai/sayakpaul/reproducible-ml</a><br/>\n",
       "                Sweep page: <a href=\"https://app.wandb.ai/sayakpaul/reproducible-ml/sweeps/6t8t4d6s\" target=\"_blank\">https://app.wandb.ai/sayakpaul/reproducible-ml/sweeps/6t8t4d6s</a><br/>\n",
       "Run page: <a href=\"https://app.wandb.ai/sayakpaul/reproducible-ml/runs/uea1wcn5\" target=\"_blank\">https://app.wandb.ai/sayakpaul/reproducible-ml/runs/uea1wcn5</a><br/>\n",
       "            "
      ],
      "text/plain": [
       "<IPython.core.display.HTML object>"
      ]
     },
     "metadata": {},
     "output_type": "display_data"
    },
    {
     "name": "stderr",
     "output_type": "stream",
     "text": [
      "Error generating diff: Reference at 'refs/remotes/origin/master' does not exist\n"
     ]
    },
    {
     "name": "stdout",
     "output_type": "stream",
     "text": [
      "Train on 60000 samples, validate on 10000 samples\n",
      "Epoch 1/10\n",
      "60000/60000 [==============================] - 2s 34us/sample - loss: 0.5257 - accuracy: 0.8180 - val_loss: 0.4436 - val_accuracy: 0.8460\n",
      "Epoch 2/10\n",
      "60000/60000 [==============================] - 1s 23us/sample - loss: 0.3913 - accuracy: 0.8607 - val_loss: 0.3942 - val_accuracy: 0.8611\n",
      "Epoch 3/10\n",
      "60000/60000 [==============================] - 1s 22us/sample - loss: 0.3493 - accuracy: 0.8747 - val_loss: 0.3751 - val_accuracy: 0.8612\n",
      "Epoch 4/10\n",
      "60000/60000 [==============================] - 1s 22us/sample - loss: 0.3207 - accuracy: 0.8842 - val_loss: 0.3597 - val_accuracy: 0.8716\n",
      "Epoch 5/10\n",
      "60000/60000 [==============================] - 1s 23us/sample - loss: 0.3072 - accuracy: 0.8881 - val_loss: 0.3488 - val_accuracy: 0.8747\n",
      "Epoch 6/10\n",
      "57856/60000 [===========================>..] - ETA: 0s - loss: 0.2888 - accuracy: 0.8937Restoring model weights from the end of the best epoch.\n",
      "60000/60000 [==============================] - 1s 22us/sample - loss: 0.2888 - accuracy: 0.8938 - val_loss: 0.3519 - val_accuracy: 0.8749\n",
      "Epoch 00006: early stopping\n",
      "wandb: Agent Finished Run: uea1wcn5 \n",
      "\n",
      "wandb: Agent Starting Run: uttnbeh1 with config:\n",
      "\tepochs: 20\n",
      "\tlearning_rate: 0.01\n",
      "\toptimizer: sgd\n",
      "wandb: Agent Started Run: uttnbeh1\n"
     ]
    },
    {
     "data": {
      "text/html": [
       "\n",
       "                Logging results to <a href=\"https://wandb.com\" target=\"_blank\">Weights & Biases</a> <a href=\"https://docs.wandb.com/integrations/jupyter.html\" target=\"_blank\">(Documentation)</a>.<br/>\n",
       "                Project page: <a href=\"https://app.wandb.ai/sayakpaul/reproducible-ml\" target=\"_blank\">https://app.wandb.ai/sayakpaul/reproducible-ml</a><br/>\n",
       "                Sweep page: <a href=\"https://app.wandb.ai/sayakpaul/reproducible-ml/sweeps/6t8t4d6s\" target=\"_blank\">https://app.wandb.ai/sayakpaul/reproducible-ml/sweeps/6t8t4d6s</a><br/>\n",
       "Run page: <a href=\"https://app.wandb.ai/sayakpaul/reproducible-ml/runs/uttnbeh1\" target=\"_blank\">https://app.wandb.ai/sayakpaul/reproducible-ml/runs/uttnbeh1</a><br/>\n",
       "            "
      ],
      "text/plain": [
       "<IPython.core.display.HTML object>"
      ]
     },
     "metadata": {},
     "output_type": "display_data"
    },
    {
     "name": "stderr",
     "output_type": "stream",
     "text": [
      "Error generating diff: Reference at 'refs/remotes/origin/master' does not exist\n"
     ]
    },
    {
     "name": "stdout",
     "output_type": "stream",
     "text": [
      "Train on 60000 samples, validate on 10000 samples\n",
      "Epoch 1/20\n",
      "60000/60000 [==============================] - 2s 34us/sample - loss: 1.0310 - accuracy: 0.6870 - val_loss: 0.7503 - val_accuracy: 0.7553\n",
      "Epoch 2/20\n",
      "60000/60000 [==============================] - 1s 22us/sample - loss: 0.6687 - accuracy: 0.7862 - val_loss: 0.6417 - val_accuracy: 0.7864\n",
      "Epoch 3/20\n",
      "60000/60000 [==============================] - 1s 22us/sample - loss: 0.5911 - accuracy: 0.8082 - val_loss: 0.5869 - val_accuracy: 0.8050\n",
      "Epoch 4/20\n",
      "60000/60000 [==============================] - 1s 22us/sample - loss: 0.5491 - accuracy: 0.8191 - val_loss: 0.5601 - val_accuracy: 0.8074\n",
      "Epoch 5/20\n",
      "60000/60000 [==============================] - 1s 22us/sample - loss: 0.5216 - accuracy: 0.8250 - val_loss: 0.5358 - val_accuracy: 0.8149\n",
      "Epoch 6/20\n",
      "60000/60000 [==============================] - 1s 21us/sample - loss: 0.5025 - accuracy: 0.8312 - val_loss: 0.5254 - val_accuracy: 0.8183\n",
      "Epoch 7/20\n",
      "60000/60000 [==============================] - 1s 22us/sample - loss: 0.4876 - accuracy: 0.8351 - val_loss: 0.5084 - val_accuracy: 0.8253\n",
      "Epoch 8/20\n",
      "60000/60000 [==============================] - 1s 22us/sample - loss: 0.4754 - accuracy: 0.8389 - val_loss: 0.4991 - val_accuracy: 0.8282\n",
      "Epoch 9/20\n",
      "60000/60000 [==============================] - 1s 22us/sample - loss: 0.4649 - accuracy: 0.8424 - val_loss: 0.4959 - val_accuracy: 0.8267\n",
      "Epoch 10/20\n",
      "60000/60000 [==============================] - 1s 22us/sample - loss: 0.4563 - accuracy: 0.8436 - val_loss: 0.4827 - val_accuracy: 0.8341\n",
      "Epoch 11/20\n",
      "60000/60000 [==============================] - 1s 22us/sample - loss: 0.4488 - accuracy: 0.8468 - val_loss: 0.4775 - val_accuracy: 0.8323\n",
      "Epoch 12/20\n",
      "60000/60000 [==============================] - 1s 22us/sample - loss: 0.4416 - accuracy: 0.8488 - val_loss: 0.4707 - val_accuracy: 0.8378\n",
      "Epoch 13/20\n",
      "60000/60000 [==============================] - 1s 22us/sample - loss: 0.4359 - accuracy: 0.8503 - val_loss: 0.4637 - val_accuracy: 0.8391\n",
      "Epoch 14/20\n",
      "57344/60000 [===========================>..] - ETA: 0s - loss: 0.4308 - accuracy: 0.8506Restoring model weights from the end of the best epoch.\n",
      "60000/60000 [==============================] - 1s 21us/sample - loss: 0.4307 - accuracy: 0.8512 - val_loss: 0.4646 - val_accuracy: 0.8348\n",
      "Epoch 00014: early stopping\n",
      "wandb: Agent Finished Run: uttnbeh1 \n",
      "\n",
      "wandb: Agent Starting Run: 6o12ai3u with config:\n",
      "\tepochs: 20\n",
      "\tlearning_rate: 1e-05\n",
      "\toptimizer: sgd\n",
      "wandb: Agent Started Run: 6o12ai3u\n"
     ]
    },
    {
     "data": {
      "text/html": [
       "\n",
       "                Logging results to <a href=\"https://wandb.com\" target=\"_blank\">Weights & Biases</a> <a href=\"https://docs.wandb.com/integrations/jupyter.html\" target=\"_blank\">(Documentation)</a>.<br/>\n",
       "                Project page: <a href=\"https://app.wandb.ai/sayakpaul/reproducible-ml\" target=\"_blank\">https://app.wandb.ai/sayakpaul/reproducible-ml</a><br/>\n",
       "                Sweep page: <a href=\"https://app.wandb.ai/sayakpaul/reproducible-ml/sweeps/6t8t4d6s\" target=\"_blank\">https://app.wandb.ai/sayakpaul/reproducible-ml/sweeps/6t8t4d6s</a><br/>\n",
       "Run page: <a href=\"https://app.wandb.ai/sayakpaul/reproducible-ml/runs/6o12ai3u\" target=\"_blank\">https://app.wandb.ai/sayakpaul/reproducible-ml/runs/6o12ai3u</a><br/>\n",
       "            "
      ],
      "text/plain": [
       "<IPython.core.display.HTML object>"
      ]
     },
     "metadata": {},
     "output_type": "display_data"
    },
    {
     "name": "stderr",
     "output_type": "stream",
     "text": [
      "Error generating diff: Reference at 'refs/remotes/origin/master' does not exist\n"
     ]
    },
    {
     "name": "stdout",
     "output_type": "stream",
     "text": [
      "Train on 60000 samples, validate on 10000 samples\n",
      "Epoch 1/20\n",
      "60000/60000 [==============================] - 2s 33us/sample - loss: 1.0310 - accuracy: 0.6870 - val_loss: 0.7503 - val_accuracy: 0.7553\n",
      "Epoch 2/20\n",
      "60000/60000 [==============================] - 1s 22us/sample - loss: 0.6687 - accuracy: 0.7862 - val_loss: 0.6417 - val_accuracy: 0.7864\n",
      "Epoch 3/20\n",
      "60000/60000 [==============================] - 1s 22us/sample - loss: 0.5911 - accuracy: 0.8082 - val_loss: 0.5869 - val_accuracy: 0.8050\n",
      "Epoch 4/20\n",
      "60000/60000 [==============================] - 1s 22us/sample - loss: 0.5491 - accuracy: 0.8191 - val_loss: 0.5601 - val_accuracy: 0.8074\n",
      "Epoch 5/20\n",
      "60000/60000 [==============================] - 1s 22us/sample - loss: 0.5216 - accuracy: 0.8250 - val_loss: 0.5358 - val_accuracy: 0.8149\n",
      "Epoch 6/20\n",
      "60000/60000 [==============================] - 1s 22us/sample - loss: 0.5025 - accuracy: 0.8312 - val_loss: 0.5254 - val_accuracy: 0.8183\n",
      "Epoch 7/20\n",
      "60000/60000 [==============================] - 1s 22us/sample - loss: 0.4876 - accuracy: 0.8351 - val_loss: 0.5084 - val_accuracy: 0.8253\n",
      "Epoch 8/20\n",
      "60000/60000 [==============================] - 1s 22us/sample - loss: 0.4754 - accuracy: 0.8389 - val_loss: 0.4991 - val_accuracy: 0.8282\n",
      "Epoch 9/20\n",
      "60000/60000 [==============================] - 1s 24us/sample - loss: 0.4649 - accuracy: 0.8424 - val_loss: 0.4959 - val_accuracy: 0.8267\n",
      "Epoch 10/20\n",
      "60000/60000 [==============================] - 1s 22us/sample - loss: 0.4563 - accuracy: 0.8436 - val_loss: 0.4827 - val_accuracy: 0.8341\n",
      "Epoch 11/20\n",
      "60000/60000 [==============================] - 1s 23us/sample - loss: 0.4488 - accuracy: 0.8468 - val_loss: 0.4775 - val_accuracy: 0.8323\n",
      "Epoch 12/20\n",
      "60000/60000 [==============================] - 1s 22us/sample - loss: 0.4416 - accuracy: 0.8488 - val_loss: 0.4707 - val_accuracy: 0.8378\n",
      "Epoch 13/20\n",
      "60000/60000 [==============================] - 1s 22us/sample - loss: 0.4359 - accuracy: 0.8503 - val_loss: 0.4637 - val_accuracy: 0.8391\n",
      "Epoch 14/20\n",
      "57472/60000 [===========================>..] - ETA: 0s - loss: 0.4307 - accuracy: 0.8507Restoring model weights from the end of the best epoch.\n",
      "60000/60000 [==============================] - 1s 21us/sample - loss: 0.4307 - accuracy: 0.8512 - val_loss: 0.4646 - val_accuracy: 0.8348\n",
      "Epoch 00014: early stopping\n",
      "wandb: Agent Finished Run: 6o12ai3u \n",
      "\n",
      "wandb: Agent Starting Run: wf8d6k6l with config:\n",
      "\tepochs: 20\n",
      "\tlearning_rate: 0.001\n",
      "\toptimizer: sgd\n",
      "wandb: Agent Started Run: wf8d6k6l\n"
     ]
    },
    {
     "data": {
      "text/html": [
       "\n",
       "                Logging results to <a href=\"https://wandb.com\" target=\"_blank\">Weights & Biases</a> <a href=\"https://docs.wandb.com/integrations/jupyter.html\" target=\"_blank\">(Documentation)</a>.<br/>\n",
       "                Project page: <a href=\"https://app.wandb.ai/sayakpaul/reproducible-ml\" target=\"_blank\">https://app.wandb.ai/sayakpaul/reproducible-ml</a><br/>\n",
       "                Sweep page: <a href=\"https://app.wandb.ai/sayakpaul/reproducible-ml/sweeps/6t8t4d6s\" target=\"_blank\">https://app.wandb.ai/sayakpaul/reproducible-ml/sweeps/6t8t4d6s</a><br/>\n",
       "Run page: <a href=\"https://app.wandb.ai/sayakpaul/reproducible-ml/runs/wf8d6k6l\" target=\"_blank\">https://app.wandb.ai/sayakpaul/reproducible-ml/runs/wf8d6k6l</a><br/>\n",
       "            "
      ],
      "text/plain": [
       "<IPython.core.display.HTML object>"
      ]
     },
     "metadata": {},
     "output_type": "display_data"
    },
    {
     "name": "stderr",
     "output_type": "stream",
     "text": [
      "Error generating diff: Reference at 'refs/remotes/origin/master' does not exist\n"
     ]
    },
    {
     "name": "stdout",
     "output_type": "stream",
     "text": [
      "Train on 60000 samples, validate on 10000 samples\n",
      "Epoch 1/20\n",
      "60000/60000 [==============================] - 2s 33us/sample - loss: 1.0310 - accuracy: 0.6870 - val_loss: 0.7503 - val_accuracy: 0.7553\n",
      "Epoch 2/20\n",
      "60000/60000 [==============================] - 1s 22us/sample - loss: 0.6687 - accuracy: 0.7862 - val_loss: 0.6417 - val_accuracy: 0.7864\n",
      "Epoch 3/20\n",
      "60000/60000 [==============================] - 1s 22us/sample - loss: 0.5911 - accuracy: 0.8082 - val_loss: 0.5869 - val_accuracy: 0.8050\n",
      "Epoch 4/20\n",
      "60000/60000 [==============================] - 1s 21us/sample - loss: 0.5491 - accuracy: 0.8191 - val_loss: 0.5601 - val_accuracy: 0.8074\n",
      "Epoch 5/20\n",
      "60000/60000 [==============================] - 1s 22us/sample - loss: 0.5216 - accuracy: 0.8250 - val_loss: 0.5358 - val_accuracy: 0.8149\n",
      "Epoch 6/20\n",
      "60000/60000 [==============================] - 1s 22us/sample - loss: 0.5025 - accuracy: 0.8312 - val_loss: 0.5254 - val_accuracy: 0.8183\n",
      "Epoch 7/20\n",
      "60000/60000 [==============================] - 1s 22us/sample - loss: 0.4876 - accuracy: 0.8351 - val_loss: 0.5084 - val_accuracy: 0.8253\n",
      "Epoch 8/20\n",
      "60000/60000 [==============================] - 1s 22us/sample - loss: 0.4754 - accuracy: 0.8389 - val_loss: 0.4991 - val_accuracy: 0.8282\n",
      "Epoch 9/20\n",
      "60000/60000 [==============================] - 1s 22us/sample - loss: 0.4649 - accuracy: 0.8424 - val_loss: 0.4959 - val_accuracy: 0.8267\n",
      "Epoch 10/20\n",
      "60000/60000 [==============================] - 1s 22us/sample - loss: 0.4563 - accuracy: 0.8436 - val_loss: 0.4827 - val_accuracy: 0.8341\n",
      "Epoch 11/20\n",
      "60000/60000 [==============================] - 1s 22us/sample - loss: 0.4488 - accuracy: 0.8468 - val_loss: 0.4775 - val_accuracy: 0.8323\n",
      "Epoch 12/20\n",
      "60000/60000 [==============================] - 1s 22us/sample - loss: 0.4416 - accuracy: 0.8488 - val_loss: 0.4707 - val_accuracy: 0.8378\n",
      "Epoch 13/20\n",
      "60000/60000 [==============================] - 1s 22us/sample - loss: 0.4359 - accuracy: 0.8503 - val_loss: 0.4637 - val_accuracy: 0.8391\n",
      "Epoch 14/20\n",
      "58112/60000 [============================>.] - ETA: 0s - loss: 0.4303 - accuracy: 0.8509Restoring model weights from the end of the best epoch.\n",
      "60000/60000 [==============================] - 1s 21us/sample - loss: 0.4307 - accuracy: 0.8512 - val_loss: 0.4646 - val_accuracy: 0.8348\n",
      "Epoch 00014: early stopping\n",
      "wandb: Agent Finished Run: wf8d6k6l \n",
      "\n",
      "wandb: Agent Starting Run: z8bhmhwt with config:\n",
      "\tepochs: 15\n",
      "\tlearning_rate: 1e-05\n",
      "\toptimizer: adam\n",
      "wandb: Agent Started Run: z8bhmhwt\n"
     ]
    },
    {
     "data": {
      "text/html": [
       "\n",
       "                Logging results to <a href=\"https://wandb.com\" target=\"_blank\">Weights & Biases</a> <a href=\"https://docs.wandb.com/integrations/jupyter.html\" target=\"_blank\">(Documentation)</a>.<br/>\n",
       "                Project page: <a href=\"https://app.wandb.ai/sayakpaul/reproducible-ml\" target=\"_blank\">https://app.wandb.ai/sayakpaul/reproducible-ml</a><br/>\n",
       "                Sweep page: <a href=\"https://app.wandb.ai/sayakpaul/reproducible-ml/sweeps/6t8t4d6s\" target=\"_blank\">https://app.wandb.ai/sayakpaul/reproducible-ml/sweeps/6t8t4d6s</a><br/>\n",
       "Run page: <a href=\"https://app.wandb.ai/sayakpaul/reproducible-ml/runs/z8bhmhwt\" target=\"_blank\">https://app.wandb.ai/sayakpaul/reproducible-ml/runs/z8bhmhwt</a><br/>\n",
       "            "
      ],
      "text/plain": [
       "<IPython.core.display.HTML object>"
      ]
     },
     "metadata": {},
     "output_type": "display_data"
    },
    {
     "name": "stderr",
     "output_type": "stream",
     "text": [
      "Error generating diff: Reference at 'refs/remotes/origin/master' does not exist\n"
     ]
    },
    {
     "name": "stdout",
     "output_type": "stream",
     "text": [
      "Train on 60000 samples, validate on 10000 samples\n",
      "Epoch 1/15\n",
      "60000/60000 [==============================] - 2s 36us/sample - loss: 0.5257 - accuracy: 0.8180 - val_loss: 0.4436 - val_accuracy: 0.8460\n",
      "Epoch 2/15\n",
      "60000/60000 [==============================] - 1s 23us/sample - loss: 0.3913 - accuracy: 0.8607 - val_loss: 0.3942 - val_accuracy: 0.8611\n",
      "Epoch 3/15\n",
      "60000/60000 [==============================] - 1s 22us/sample - loss: 0.3493 - accuracy: 0.8747 - val_loss: 0.3751 - val_accuracy: 0.8612\n",
      "Epoch 4/15\n",
      "60000/60000 [==============================] - 1s 23us/sample - loss: 0.3207 - accuracy: 0.8842 - val_loss: 0.3597 - val_accuracy: 0.8716\n",
      "Epoch 5/15\n",
      "60000/60000 [==============================] - 1s 23us/sample - loss: 0.3072 - accuracy: 0.8881 - val_loss: 0.3488 - val_accuracy: 0.8747\n",
      "Epoch 6/15\n",
      "58240/60000 [============================>.] - ETA: 0s - loss: 0.2886 - accuracy: 0.8938Restoring model weights from the end of the best epoch.\n",
      "60000/60000 [==============================] - 1s 22us/sample - loss: 0.2888 - accuracy: 0.8938 - val_loss: 0.3519 - val_accuracy: 0.8749\n",
      "Epoch 00006: early stopping\n",
      "wandb: Agent Finished Run: z8bhmhwt \n",
      "\n",
      "wandb: Agent Starting Run: o52drzh7 with config:\n",
      "\tepochs: 20\n",
      "\tlearning_rate: 0.0001\n",
      "\toptimizer: adam\n",
      "wandb: Agent Started Run: o52drzh7\n"
     ]
    },
    {
     "data": {
      "text/html": [
       "\n",
       "                Logging results to <a href=\"https://wandb.com\" target=\"_blank\">Weights & Biases</a> <a href=\"https://docs.wandb.com/integrations/jupyter.html\" target=\"_blank\">(Documentation)</a>.<br/>\n",
       "                Project page: <a href=\"https://app.wandb.ai/sayakpaul/reproducible-ml\" target=\"_blank\">https://app.wandb.ai/sayakpaul/reproducible-ml</a><br/>\n",
       "                Sweep page: <a href=\"https://app.wandb.ai/sayakpaul/reproducible-ml/sweeps/6t8t4d6s\" target=\"_blank\">https://app.wandb.ai/sayakpaul/reproducible-ml/sweeps/6t8t4d6s</a><br/>\n",
       "Run page: <a href=\"https://app.wandb.ai/sayakpaul/reproducible-ml/runs/o52drzh7\" target=\"_blank\">https://app.wandb.ai/sayakpaul/reproducible-ml/runs/o52drzh7</a><br/>\n",
       "            "
      ],
      "text/plain": [
       "<IPython.core.display.HTML object>"
      ]
     },
     "metadata": {},
     "output_type": "display_data"
    },
    {
     "name": "stderr",
     "output_type": "stream",
     "text": [
      "Error generating diff: Reference at 'refs/remotes/origin/master' does not exist\n"
     ]
    },
    {
     "name": "stdout",
     "output_type": "stream",
     "text": [
      "Train on 60000 samples, validate on 10000 samples\n",
      "Epoch 1/20\n",
      "60000/60000 [==============================] - 2s 35us/sample - loss: 0.5257 - accuracy: 0.8180 - val_loss: 0.4436 - val_accuracy: 0.8460\n",
      "Epoch 2/20\n",
      "60000/60000 [==============================] - 1s 23us/sample - loss: 0.3913 - accuracy: 0.8607 - val_loss: 0.3942 - val_accuracy: 0.8611\n",
      "Epoch 3/20\n",
      "60000/60000 [==============================] - 1s 22us/sample - loss: 0.3493 - accuracy: 0.8747 - val_loss: 0.3751 - val_accuracy: 0.8612\n",
      "Epoch 4/20\n",
      "60000/60000 [==============================] - 1s 22us/sample - loss: 0.3207 - accuracy: 0.8842 - val_loss: 0.3597 - val_accuracy: 0.8716\n",
      "Epoch 5/20\n",
      "60000/60000 [==============================] - 1s 22us/sample - loss: 0.3072 - accuracy: 0.8881 - val_loss: 0.3488 - val_accuracy: 0.8747\n",
      "Epoch 6/20\n",
      "57088/60000 [===========================>..] - ETA: 0s - loss: 0.2886 - accuracy: 0.8938Restoring model weights from the end of the best epoch.\n",
      "60000/60000 [==============================] - 1s 21us/sample - loss: 0.2888 - accuracy: 0.8938 - val_loss: 0.3519 - val_accuracy: 0.8749\n",
      "Epoch 00006: early stopping\n",
      "wandb: Agent Finished Run: o52drzh7 \n",
      "\n",
      "wandb: Agent Starting Run: kr2xrkbc with config:\n",
      "\tepochs: 20\n",
      "\tlearning_rate: 3e-05\n",
      "\toptimizer: sgd\n",
      "wandb: Agent Started Run: kr2xrkbc\n"
     ]
    },
    {
     "data": {
      "text/html": [
       "\n",
       "                Logging results to <a href=\"https://wandb.com\" target=\"_blank\">Weights & Biases</a> <a href=\"https://docs.wandb.com/integrations/jupyter.html\" target=\"_blank\">(Documentation)</a>.<br/>\n",
       "                Project page: <a href=\"https://app.wandb.ai/sayakpaul/reproducible-ml\" target=\"_blank\">https://app.wandb.ai/sayakpaul/reproducible-ml</a><br/>\n",
       "                Sweep page: <a href=\"https://app.wandb.ai/sayakpaul/reproducible-ml/sweeps/6t8t4d6s\" target=\"_blank\">https://app.wandb.ai/sayakpaul/reproducible-ml/sweeps/6t8t4d6s</a><br/>\n",
       "Run page: <a href=\"https://app.wandb.ai/sayakpaul/reproducible-ml/runs/kr2xrkbc\" target=\"_blank\">https://app.wandb.ai/sayakpaul/reproducible-ml/runs/kr2xrkbc</a><br/>\n",
       "            "
      ],
      "text/plain": [
       "<IPython.core.display.HTML object>"
      ]
     },
     "metadata": {},
     "output_type": "display_data"
    },
    {
     "name": "stderr",
     "output_type": "stream",
     "text": [
      "Error generating diff: Reference at 'refs/remotes/origin/master' does not exist\n"
     ]
    },
    {
     "name": "stdout",
     "output_type": "stream",
     "text": [
      "Train on 60000 samples, validate on 10000 samples\n",
      "Epoch 1/20\n",
      "60000/60000 [==============================] - 2s 33us/sample - loss: 1.0310 - accuracy: 0.6870 - val_loss: 0.7503 - val_accuracy: 0.7553\n",
      "Epoch 2/20\n",
      "60000/60000 [==============================] - 1s 22us/sample - loss: 0.6687 - accuracy: 0.7862 - val_loss: 0.6417 - val_accuracy: 0.7864\n",
      "Epoch 3/20\n",
      "60000/60000 [==============================] - 1s 22us/sample - loss: 0.5911 - accuracy: 0.8082 - val_loss: 0.5869 - val_accuracy: 0.8050\n",
      "Epoch 4/20\n",
      "60000/60000 [==============================] - 1s 22us/sample - loss: 0.5491 - accuracy: 0.8191 - val_loss: 0.5601 - val_accuracy: 0.8074\n",
      "Epoch 5/20\n",
      "60000/60000 [==============================] - 1s 22us/sample - loss: 0.5216 - accuracy: 0.8250 - val_loss: 0.5358 - val_accuracy: 0.8149\n",
      "Epoch 6/20\n",
      "60000/60000 [==============================] - 1s 22us/sample - loss: 0.5025 - accuracy: 0.8312 - val_loss: 0.5254 - val_accuracy: 0.8183\n",
      "Epoch 7/20\n",
      "60000/60000 [==============================] - 1s 22us/sample - loss: 0.4876 - accuracy: 0.8351 - val_loss: 0.5084 - val_accuracy: 0.8253\n",
      "Epoch 8/20\n",
      "60000/60000 [==============================] - 1s 22us/sample - loss: 0.4754 - accuracy: 0.8389 - val_loss: 0.4991 - val_accuracy: 0.8282\n",
      "Epoch 9/20\n",
      "60000/60000 [==============================] - 1s 23us/sample - loss: 0.4649 - accuracy: 0.8424 - val_loss: 0.4959 - val_accuracy: 0.8267\n",
      "Epoch 10/20\n",
      "60000/60000 [==============================] - 1s 22us/sample - loss: 0.4563 - accuracy: 0.8436 - val_loss: 0.4827 - val_accuracy: 0.8341\n",
      "Epoch 11/20\n",
      "60000/60000 [==============================] - 1s 22us/sample - loss: 0.4488 - accuracy: 0.8468 - val_loss: 0.4775 - val_accuracy: 0.8323\n",
      "Epoch 12/20\n",
      "60000/60000 [==============================] - 1s 22us/sample - loss: 0.4416 - accuracy: 0.8488 - val_loss: 0.4707 - val_accuracy: 0.8378\n",
      "Epoch 13/20\n",
      "60000/60000 [==============================] - 1s 22us/sample - loss: 0.4359 - accuracy: 0.8503 - val_loss: 0.4637 - val_accuracy: 0.8391\n",
      "Epoch 14/20\n",
      "58752/60000 [============================>.] - ETA: 0s - loss: 0.4304 - accuracy: 0.8510Restoring model weights from the end of the best epoch.\n",
      "60000/60000 [==============================] - 1s 22us/sample - loss: 0.4307 - accuracy: 0.8512 - val_loss: 0.4646 - val_accuracy: 0.8348\n",
      "Epoch 00014: early stopping\n",
      "wandb: Agent Finished Run: kr2xrkbc \n",
      "\n",
      "wandb: Agent Starting Run: xadocvze with config:\n",
      "\tepochs: 10\n",
      "\tlearning_rate: 0.0003\n",
      "\toptimizer: adam\n",
      "wandb: Agent Started Run: xadocvze\n"
     ]
    },
    {
     "data": {
      "text/html": [
       "\n",
       "                Logging results to <a href=\"https://wandb.com\" target=\"_blank\">Weights & Biases</a> <a href=\"https://docs.wandb.com/integrations/jupyter.html\" target=\"_blank\">(Documentation)</a>.<br/>\n",
       "                Project page: <a href=\"https://app.wandb.ai/sayakpaul/reproducible-ml\" target=\"_blank\">https://app.wandb.ai/sayakpaul/reproducible-ml</a><br/>\n",
       "                Sweep page: <a href=\"https://app.wandb.ai/sayakpaul/reproducible-ml/sweeps/6t8t4d6s\" target=\"_blank\">https://app.wandb.ai/sayakpaul/reproducible-ml/sweeps/6t8t4d6s</a><br/>\n",
       "Run page: <a href=\"https://app.wandb.ai/sayakpaul/reproducible-ml/runs/xadocvze\" target=\"_blank\">https://app.wandb.ai/sayakpaul/reproducible-ml/runs/xadocvze</a><br/>\n",
       "            "
      ],
      "text/plain": [
       "<IPython.core.display.HTML object>"
      ]
     },
     "metadata": {},
     "output_type": "display_data"
    },
    {
     "name": "stderr",
     "output_type": "stream",
     "text": [
      "Error generating diff: Reference at 'refs/remotes/origin/master' does not exist\n"
     ]
    },
    {
     "name": "stdout",
     "output_type": "stream",
     "text": [
      "Train on 60000 samples, validate on 10000 samples\n",
      "Epoch 1/10\n",
      "60000/60000 [==============================] - 2s 35us/sample - loss: 0.5257 - accuracy: 0.8180 - val_loss: 0.4436 - val_accuracy: 0.8460\n",
      "Epoch 2/10\n",
      "60000/60000 [==============================] - 1s 23us/sample - loss: 0.3913 - accuracy: 0.8607 - val_loss: 0.3942 - val_accuracy: 0.8611\n",
      "Epoch 3/10\n",
      "60000/60000 [==============================] - 1s 22us/sample - loss: 0.3493 - accuracy: 0.8747 - val_loss: 0.3751 - val_accuracy: 0.8612\n",
      "Epoch 4/10\n",
      "60000/60000 [==============================] - 1s 23us/sample - loss: 0.3207 - accuracy: 0.8842 - val_loss: 0.3597 - val_accuracy: 0.8716\n",
      "Epoch 5/10\n",
      "60000/60000 [==============================] - 1s 23us/sample - loss: 0.3072 - accuracy: 0.8881 - val_loss: 0.3488 - val_accuracy: 0.8747\n",
      "Epoch 6/10\n",
      "58880/60000 [============================>.] - ETA: 0s - loss: 0.2890 - accuracy: 0.8936Restoring model weights from the end of the best epoch.\n",
      "60000/60000 [==============================] - 1s 23us/sample - loss: 0.2888 - accuracy: 0.8938 - val_loss: 0.3519 - val_accuracy: 0.8749\n",
      "Epoch 00006: early stopping\n",
      "wandb: Agent Finished Run: xadocvze \n",
      "\n",
      "wandb: Agent Starting Run: 644p8k6b with config:\n",
      "\tepochs: 20\n",
      "\tlearning_rate: 0.0001\n",
      "\toptimizer: adam\n",
      "wandb: Agent Started Run: 644p8k6b\n"
     ]
    },
    {
     "data": {
      "text/html": [
       "\n",
       "                Logging results to <a href=\"https://wandb.com\" target=\"_blank\">Weights & Biases</a> <a href=\"https://docs.wandb.com/integrations/jupyter.html\" target=\"_blank\">(Documentation)</a>.<br/>\n",
       "                Project page: <a href=\"https://app.wandb.ai/sayakpaul/reproducible-ml\" target=\"_blank\">https://app.wandb.ai/sayakpaul/reproducible-ml</a><br/>\n",
       "                Sweep page: <a href=\"https://app.wandb.ai/sayakpaul/reproducible-ml/sweeps/6t8t4d6s\" target=\"_blank\">https://app.wandb.ai/sayakpaul/reproducible-ml/sweeps/6t8t4d6s</a><br/>\n",
       "Run page: <a href=\"https://app.wandb.ai/sayakpaul/reproducible-ml/runs/644p8k6b\" target=\"_blank\">https://app.wandb.ai/sayakpaul/reproducible-ml/runs/644p8k6b</a><br/>\n",
       "            "
      ],
      "text/plain": [
       "<IPython.core.display.HTML object>"
      ]
     },
     "metadata": {},
     "output_type": "display_data"
    },
    {
     "name": "stderr",
     "output_type": "stream",
     "text": [
      "Error generating diff: Reference at 'refs/remotes/origin/master' does not exist\n"
     ]
    },
    {
     "name": "stdout",
     "output_type": "stream",
     "text": [
      "Train on 60000 samples, validate on 10000 samples\n",
      "Epoch 1/20\n",
      "60000/60000 [==============================] - 2s 34us/sample - loss: 0.5257 - accuracy: 0.8180 - val_loss: 0.4436 - val_accuracy: 0.8460\n",
      "Epoch 2/20\n",
      "60000/60000 [==============================] - 1s 24us/sample - loss: 0.3913 - accuracy: 0.8607 - val_loss: 0.3942 - val_accuracy: 0.8611\n",
      "Epoch 3/20\n",
      "60000/60000 [==============================] - 1s 23us/sample - loss: 0.3493 - accuracy: 0.8747 - val_loss: 0.3751 - val_accuracy: 0.8612\n",
      "Epoch 4/20\n",
      "60000/60000 [==============================] - 1s 23us/sample - loss: 0.3207 - accuracy: 0.8842 - val_loss: 0.3597 - val_accuracy: 0.8716\n",
      "Epoch 5/20\n",
      "60000/60000 [==============================] - 1s 22us/sample - loss: 0.3072 - accuracy: 0.8881 - val_loss: 0.3488 - val_accuracy: 0.8747\n",
      "Epoch 6/20\n",
      "57216/60000 [===========================>..] - ETA: 0s - loss: 0.2887 - accuracy: 0.8938Restoring model weights from the end of the best epoch.\n",
      "60000/60000 [==============================] - 1s 22us/sample - loss: 0.2888 - accuracy: 0.8938 - val_loss: 0.3519 - val_accuracy: 0.8749\n",
      "Epoch 00006: early stopping\n",
      "wandb: Agent Finished Run: 644p8k6b \n",
      "\n",
      "wandb: Agent Starting Run: vy0648rq with config:\n",
      "\tepochs: 10\n",
      "\tlearning_rate: 1e-05\n",
      "\toptimizer: adam\n",
      "wandb: Agent Started Run: vy0648rq\n"
     ]
    },
    {
     "data": {
      "text/html": [
       "\n",
       "                Logging results to <a href=\"https://wandb.com\" target=\"_blank\">Weights & Biases</a> <a href=\"https://docs.wandb.com/integrations/jupyter.html\" target=\"_blank\">(Documentation)</a>.<br/>\n",
       "                Project page: <a href=\"https://app.wandb.ai/sayakpaul/reproducible-ml\" target=\"_blank\">https://app.wandb.ai/sayakpaul/reproducible-ml</a><br/>\n",
       "                Sweep page: <a href=\"https://app.wandb.ai/sayakpaul/reproducible-ml/sweeps/6t8t4d6s\" target=\"_blank\">https://app.wandb.ai/sayakpaul/reproducible-ml/sweeps/6t8t4d6s</a><br/>\n",
       "Run page: <a href=\"https://app.wandb.ai/sayakpaul/reproducible-ml/runs/vy0648rq\" target=\"_blank\">https://app.wandb.ai/sayakpaul/reproducible-ml/runs/vy0648rq</a><br/>\n",
       "            "
      ],
      "text/plain": [
       "<IPython.core.display.HTML object>"
      ]
     },
     "metadata": {},
     "output_type": "display_data"
    },
    {
     "name": "stderr",
     "output_type": "stream",
     "text": [
      "Error generating diff: Reference at 'refs/remotes/origin/master' does not exist\n"
     ]
    },
    {
     "name": "stdout",
     "output_type": "stream",
     "text": [
      "Train on 60000 samples, validate on 10000 samples\n",
      "Epoch 1/10\n",
      "60000/60000 [==============================] - 2s 33us/sample - loss: 0.5257 - accuracy: 0.8180 - val_loss: 0.4436 - val_accuracy: 0.8460\n",
      "Epoch 2/10\n",
      "60000/60000 [==============================] - 1s 23us/sample - loss: 0.3913 - accuracy: 0.8607 - val_loss: 0.3942 - val_accuracy: 0.8611\n",
      "Epoch 3/10\n",
      "60000/60000 [==============================] - 1s 23us/sample - loss: 0.3493 - accuracy: 0.8747 - val_loss: 0.3751 - val_accuracy: 0.8612\n",
      "Epoch 4/10\n",
      "60000/60000 [==============================] - 1s 23us/sample - loss: 0.3207 - accuracy: 0.8842 - val_loss: 0.3597 - val_accuracy: 0.8716\n",
      "Epoch 5/10\n",
      "60000/60000 [==============================] - 1s 23us/sample - loss: 0.3072 - accuracy: 0.8881 - val_loss: 0.3488 - val_accuracy: 0.8747\n",
      "Epoch 6/10\n",
      "59520/60000 [============================>.] - ETA: 0s - loss: 0.2893 - accuracy: 0.8935Restoring model weights from the end of the best epoch.\n",
      "60000/60000 [==============================] - 1s 23us/sample - loss: 0.2888 - accuracy: 0.8938 - val_loss: 0.3519 - val_accuracy: 0.8749\n",
      "Epoch 00006: early stopping\n",
      "wandb: Agent Finished Run: vy0648rq \n",
      "\n",
      "wandb: Agent Starting Run: pbq488p9 with config:\n",
      "\tepochs: 10\n",
      "\tlearning_rate: 0.001\n",
      "\toptimizer: sgd\n",
      "wandb: Agent Started Run: pbq488p9\n"
     ]
    },
    {
     "data": {
      "text/html": [
       "\n",
       "                Logging results to <a href=\"https://wandb.com\" target=\"_blank\">Weights & Biases</a> <a href=\"https://docs.wandb.com/integrations/jupyter.html\" target=\"_blank\">(Documentation)</a>.<br/>\n",
       "                Project page: <a href=\"https://app.wandb.ai/sayakpaul/reproducible-ml\" target=\"_blank\">https://app.wandb.ai/sayakpaul/reproducible-ml</a><br/>\n",
       "                Sweep page: <a href=\"https://app.wandb.ai/sayakpaul/reproducible-ml/sweeps/6t8t4d6s\" target=\"_blank\">https://app.wandb.ai/sayakpaul/reproducible-ml/sweeps/6t8t4d6s</a><br/>\n",
       "Run page: <a href=\"https://app.wandb.ai/sayakpaul/reproducible-ml/runs/pbq488p9\" target=\"_blank\">https://app.wandb.ai/sayakpaul/reproducible-ml/runs/pbq488p9</a><br/>\n",
       "            "
      ],
      "text/plain": [
       "<IPython.core.display.HTML object>"
      ]
     },
     "metadata": {},
     "output_type": "display_data"
    },
    {
     "name": "stderr",
     "output_type": "stream",
     "text": [
      "Error generating diff: Reference at 'refs/remotes/origin/master' does not exist\n"
     ]
    },
    {
     "name": "stdout",
     "output_type": "stream",
     "text": [
      "Train on 60000 samples, validate on 10000 samples\n",
      "Epoch 1/10\n",
      "60000/60000 [==============================] - 2s 34us/sample - loss: 1.0310 - accuracy: 0.6870 - val_loss: 0.7503 - val_accuracy: 0.7553\n",
      "Epoch 2/10\n",
      "60000/60000 [==============================] - 1s 22us/sample - loss: 0.6687 - accuracy: 0.7862 - val_loss: 0.6417 - val_accuracy: 0.7864\n",
      "Epoch 3/10\n",
      "60000/60000 [==============================] - 1s 24us/sample - loss: 0.5911 - accuracy: 0.8082 - val_loss: 0.5869 - val_accuracy: 0.8050\n",
      "Epoch 4/10\n",
      "60000/60000 [==============================] - 2s 25us/sample - loss: 0.5491 - accuracy: 0.8191 - val_loss: 0.5601 - val_accuracy: 0.8074\n",
      "Epoch 5/10\n",
      "60000/60000 [==============================] - 2s 25us/sample - loss: 0.5216 - accuracy: 0.8250 - val_loss: 0.5358 - val_accuracy: 0.8149\n",
      "Epoch 6/10\n",
      "60000/60000 [==============================] - 2s 25us/sample - loss: 0.5025 - accuracy: 0.8312 - val_loss: 0.5254 - val_accuracy: 0.8183\n",
      "Epoch 7/10\n",
      "60000/60000 [==============================] - 1s 25us/sample - loss: 0.4876 - accuracy: 0.8351 - val_loss: 0.5084 - val_accuracy: 0.8253\n",
      "Epoch 8/10\n",
      "60000/60000 [==============================] - 2s 25us/sample - loss: 0.4754 - accuracy: 0.8389 - val_loss: 0.4991 - val_accuracy: 0.8282\n",
      "Epoch 9/10\n",
      "60000/60000 [==============================] - 1s 25us/sample - loss: 0.4649 - accuracy: 0.8424 - val_loss: 0.4959 - val_accuracy: 0.8267\n",
      "Epoch 10/10\n",
      "60000/60000 [==============================] - 1s 23us/sample - loss: 0.4563 - accuracy: 0.8436 - val_loss: 0.4827 - val_accuracy: 0.8341\n",
      "wandb: Agent Finished Run: pbq488p9 \n",
      "\n",
      "wandb: Agent Starting Run: paty1r3l with config:\n",
      "\tepochs: 10\n",
      "\tlearning_rate: 0.01\n",
      "\toptimizer: sgd\n",
      "wandb: Agent Started Run: paty1r3l\n"
     ]
    },
    {
     "data": {
      "text/html": [
       "\n",
       "                Logging results to <a href=\"https://wandb.com\" target=\"_blank\">Weights & Biases</a> <a href=\"https://docs.wandb.com/integrations/jupyter.html\" target=\"_blank\">(Documentation)</a>.<br/>\n",
       "                Project page: <a href=\"https://app.wandb.ai/sayakpaul/reproducible-ml\" target=\"_blank\">https://app.wandb.ai/sayakpaul/reproducible-ml</a><br/>\n",
       "                Sweep page: <a href=\"https://app.wandb.ai/sayakpaul/reproducible-ml/sweeps/6t8t4d6s\" target=\"_blank\">https://app.wandb.ai/sayakpaul/reproducible-ml/sweeps/6t8t4d6s</a><br/>\n",
       "Run page: <a href=\"https://app.wandb.ai/sayakpaul/reproducible-ml/runs/paty1r3l\" target=\"_blank\">https://app.wandb.ai/sayakpaul/reproducible-ml/runs/paty1r3l</a><br/>\n",
       "            "
      ],
      "text/plain": [
       "<IPython.core.display.HTML object>"
      ]
     },
     "metadata": {},
     "output_type": "display_data"
    },
    {
     "name": "stderr",
     "output_type": "stream",
     "text": [
      "Error generating diff: Reference at 'refs/remotes/origin/master' does not exist\n"
     ]
    },
    {
     "name": "stdout",
     "output_type": "stream",
     "text": [
      "Train on 60000 samples, validate on 10000 samples\n",
      "Epoch 1/10\n",
      "60000/60000 [==============================] - 2s 34us/sample - loss: 1.0310 - accuracy: 0.6870 - val_loss: 0.7503 - val_accuracy: 0.7553\n",
      "Epoch 2/10\n",
      "60000/60000 [==============================] - 1s 23us/sample - loss: 0.6687 - accuracy: 0.7862 - val_loss: 0.6417 - val_accuracy: 0.7864\n",
      "Epoch 3/10\n",
      "60000/60000 [==============================] - 1s 22us/sample - loss: 0.5911 - accuracy: 0.8082 - val_loss: 0.5869 - val_accuracy: 0.8050\n",
      "Epoch 4/10\n",
      "60000/60000 [==============================] - 1s 22us/sample - loss: 0.5491 - accuracy: 0.8191 - val_loss: 0.5601 - val_accuracy: 0.8074\n",
      "Epoch 5/10\n",
      "60000/60000 [==============================] - 1s 22us/sample - loss: 0.5216 - accuracy: 0.8250 - val_loss: 0.5358 - val_accuracy: 0.8149\n",
      "Epoch 6/10\n",
      "60000/60000 [==============================] - 1s 22us/sample - loss: 0.5025 - accuracy: 0.8312 - val_loss: 0.5254 - val_accuracy: 0.8183\n",
      "Epoch 7/10\n",
      "60000/60000 [==============================] - 1s 22us/sample - loss: 0.4876 - accuracy: 0.8351 - val_loss: 0.5084 - val_accuracy: 0.8253\n",
      "Epoch 8/10\n",
      "60000/60000 [==============================] - 1s 23us/sample - loss: 0.4754 - accuracy: 0.8389 - val_loss: 0.4991 - val_accuracy: 0.8282\n",
      "Epoch 9/10\n",
      "60000/60000 [==============================] - 1s 23us/sample - loss: 0.4649 - accuracy: 0.8424 - val_loss: 0.4959 - val_accuracy: 0.8267\n",
      "Epoch 10/10\n",
      "60000/60000 [==============================] - 1s 22us/sample - loss: 0.4563 - accuracy: 0.8436 - val_loss: 0.4827 - val_accuracy: 0.8341\n",
      "wandb: Agent Finished Run: paty1r3l \n",
      "\n",
      "wandb: Agent Starting Run: 6hzdow6m with config:\n",
      "\tepochs: 15\n",
      "\tlearning_rate: 1e-05\n",
      "\toptimizer: adam\n",
      "wandb: Agent Started Run: 6hzdow6m\n"
     ]
    },
    {
     "data": {
      "text/html": [
       "\n",
       "                Logging results to <a href=\"https://wandb.com\" target=\"_blank\">Weights & Biases</a> <a href=\"https://docs.wandb.com/integrations/jupyter.html\" target=\"_blank\">(Documentation)</a>.<br/>\n",
       "                Project page: <a href=\"https://app.wandb.ai/sayakpaul/reproducible-ml\" target=\"_blank\">https://app.wandb.ai/sayakpaul/reproducible-ml</a><br/>\n",
       "                Sweep page: <a href=\"https://app.wandb.ai/sayakpaul/reproducible-ml/sweeps/6t8t4d6s\" target=\"_blank\">https://app.wandb.ai/sayakpaul/reproducible-ml/sweeps/6t8t4d6s</a><br/>\n",
       "Run page: <a href=\"https://app.wandb.ai/sayakpaul/reproducible-ml/runs/6hzdow6m\" target=\"_blank\">https://app.wandb.ai/sayakpaul/reproducible-ml/runs/6hzdow6m</a><br/>\n",
       "            "
      ],
      "text/plain": [
       "<IPython.core.display.HTML object>"
      ]
     },
     "metadata": {},
     "output_type": "display_data"
    },
    {
     "name": "stderr",
     "output_type": "stream",
     "text": [
      "Error generating diff: Reference at 'refs/remotes/origin/master' does not exist\n"
     ]
    },
    {
     "name": "stdout",
     "output_type": "stream",
     "text": [
      "Train on 60000 samples, validate on 10000 samples\n",
      "Epoch 1/15\n",
      "60000/60000 [==============================] - 2s 34us/sample - loss: 0.5257 - accuracy: 0.8180 - val_loss: 0.4436 - val_accuracy: 0.8460\n",
      "Epoch 2/15\n",
      "60000/60000 [==============================] - 1s 23us/sample - loss: 0.3913 - accuracy: 0.8607 - val_loss: 0.3942 - val_accuracy: 0.8611\n",
      "Epoch 3/15\n",
      "60000/60000 [==============================] - 1s 23us/sample - loss: 0.3493 - accuracy: 0.8747 - val_loss: 0.3751 - val_accuracy: 0.8612\n",
      "Epoch 4/15\n",
      "60000/60000 [==============================] - 1s 23us/sample - loss: 0.3207 - accuracy: 0.8842 - val_loss: 0.3597 - val_accuracy: 0.8716\n",
      "Epoch 5/15\n",
      "60000/60000 [==============================] - 1s 23us/sample - loss: 0.3072 - accuracy: 0.8881 - val_loss: 0.3488 - val_accuracy: 0.8747\n",
      "Epoch 6/15\n",
      "57856/60000 [===========================>..] - ETA: 0s - loss: 0.2888 - accuracy: 0.8937Restoring model weights from the end of the best epoch.\n",
      "60000/60000 [==============================] - 1s 22us/sample - loss: 0.2888 - accuracy: 0.8938 - val_loss: 0.3519 - val_accuracy: 0.8749\n",
      "Epoch 00006: early stopping\n",
      "wandb: Agent Finished Run: 6hzdow6m \n",
      "\n",
      "wandb: Agent Starting Run: u30x7ccg with config:\n",
      "\tepochs: 10\n",
      "\tlearning_rate: 0.0001\n",
      "\toptimizer: sgd\n",
      "wandb: Agent Started Run: u30x7ccg\n"
     ]
    },
    {
     "data": {
      "text/html": [
       "\n",
       "                Logging results to <a href=\"https://wandb.com\" target=\"_blank\">Weights & Biases</a> <a href=\"https://docs.wandb.com/integrations/jupyter.html\" target=\"_blank\">(Documentation)</a>.<br/>\n",
       "                Project page: <a href=\"https://app.wandb.ai/sayakpaul/reproducible-ml\" target=\"_blank\">https://app.wandb.ai/sayakpaul/reproducible-ml</a><br/>\n",
       "                Sweep page: <a href=\"https://app.wandb.ai/sayakpaul/reproducible-ml/sweeps/6t8t4d6s\" target=\"_blank\">https://app.wandb.ai/sayakpaul/reproducible-ml/sweeps/6t8t4d6s</a><br/>\n",
       "Run page: <a href=\"https://app.wandb.ai/sayakpaul/reproducible-ml/runs/u30x7ccg\" target=\"_blank\">https://app.wandb.ai/sayakpaul/reproducible-ml/runs/u30x7ccg</a><br/>\n",
       "            "
      ],
      "text/plain": [
       "<IPython.core.display.HTML object>"
      ]
     },
     "metadata": {},
     "output_type": "display_data"
    },
    {
     "name": "stderr",
     "output_type": "stream",
     "text": [
      "Error generating diff: Reference at 'refs/remotes/origin/master' does not exist\n"
     ]
    },
    {
     "name": "stdout",
     "output_type": "stream",
     "text": [
      "Train on 60000 samples, validate on 10000 samples\n",
      "Epoch 1/10\n",
      "60000/60000 [==============================] - 2s 33us/sample - loss: 1.0310 - accuracy: 0.6870 - val_loss: 0.7503 - val_accuracy: 0.7553\n",
      "Epoch 2/10\n",
      "60000/60000 [==============================] - 1s 22us/sample - loss: 0.6687 - accuracy: 0.7862 - val_loss: 0.6417 - val_accuracy: 0.7864\n",
      "Epoch 3/10\n",
      "60000/60000 [==============================] - 1s 22us/sample - loss: 0.5911 - accuracy: 0.8082 - val_loss: 0.5869 - val_accuracy: 0.8050\n",
      "Epoch 4/10\n",
      "60000/60000 [==============================] - 1s 24us/sample - loss: 0.5491 - accuracy: 0.8191 - val_loss: 0.5601 - val_accuracy: 0.8074\n",
      "Epoch 5/10\n",
      "60000/60000 [==============================] - 1s 23us/sample - loss: 0.5216 - accuracy: 0.8250 - val_loss: 0.5358 - val_accuracy: 0.8149\n",
      "Epoch 6/10\n",
      "60000/60000 [==============================] - 1s 24us/sample - loss: 0.5025 - accuracy: 0.8312 - val_loss: 0.5254 - val_accuracy: 0.8183\n",
      "Epoch 7/10\n",
      "60000/60000 [==============================] - 1s 24us/sample - loss: 0.4876 - accuracy: 0.8351 - val_loss: 0.5084 - val_accuracy: 0.8253\n",
      "Epoch 8/10\n",
      "60000/60000 [==============================] - 1s 21us/sample - loss: 0.4754 - accuracy: 0.8389 - val_loss: 0.4991 - val_accuracy: 0.8282\n",
      "Epoch 9/10\n",
      "60000/60000 [==============================] - 1s 22us/sample - loss: 0.4649 - accuracy: 0.8424 - val_loss: 0.4959 - val_accuracy: 0.8267\n",
      "Epoch 10/10\n",
      "60000/60000 [==============================] - 1s 22us/sample - loss: 0.4563 - accuracy: 0.8436 - val_loss: 0.4827 - val_accuracy: 0.8341\n",
      "wandb: Agent Finished Run: u30x7ccg \n",
      "\n",
      "wandb: Agent Starting Run: 5x983k1h with config:\n",
      "\tepochs: 20\n",
      "\tlearning_rate: 3e-05\n",
      "\toptimizer: sgd\n",
      "wandb: Agent Started Run: 5x983k1h\n"
     ]
    },
    {
     "data": {
      "text/html": [
       "\n",
       "                Logging results to <a href=\"https://wandb.com\" target=\"_blank\">Weights & Biases</a> <a href=\"https://docs.wandb.com/integrations/jupyter.html\" target=\"_blank\">(Documentation)</a>.<br/>\n",
       "                Project page: <a href=\"https://app.wandb.ai/sayakpaul/reproducible-ml\" target=\"_blank\">https://app.wandb.ai/sayakpaul/reproducible-ml</a><br/>\n",
       "                Sweep page: <a href=\"https://app.wandb.ai/sayakpaul/reproducible-ml/sweeps/6t8t4d6s\" target=\"_blank\">https://app.wandb.ai/sayakpaul/reproducible-ml/sweeps/6t8t4d6s</a><br/>\n",
       "Run page: <a href=\"https://app.wandb.ai/sayakpaul/reproducible-ml/runs/5x983k1h\" target=\"_blank\">https://app.wandb.ai/sayakpaul/reproducible-ml/runs/5x983k1h</a><br/>\n",
       "            "
      ],
      "text/plain": [
       "<IPython.core.display.HTML object>"
      ]
     },
     "metadata": {},
     "output_type": "display_data"
    },
    {
     "name": "stderr",
     "output_type": "stream",
     "text": [
      "Error generating diff: Reference at 'refs/remotes/origin/master' does not exist\n"
     ]
    },
    {
     "name": "stdout",
     "output_type": "stream",
     "text": [
      "Train on 60000 samples, validate on 10000 samples\n",
      "Epoch 1/20\n",
      "60000/60000 [==============================] - 2s 33us/sample - loss: 1.0310 - accuracy: 0.6870 - val_loss: 0.7503 - val_accuracy: 0.7553\n",
      "Epoch 2/20\n",
      "60000/60000 [==============================] - 1s 22us/sample - loss: 0.6687 - accuracy: 0.7862 - val_loss: 0.6417 - val_accuracy: 0.7864\n",
      "Epoch 3/20\n",
      "60000/60000 [==============================] - 1s 22us/sample - loss: 0.5911 - accuracy: 0.8082 - val_loss: 0.5869 - val_accuracy: 0.8050\n",
      "Epoch 4/20\n",
      "60000/60000 [==============================] - 1s 22us/sample - loss: 0.5491 - accuracy: 0.8191 - val_loss: 0.5601 - val_accuracy: 0.8074\n",
      "Epoch 5/20\n",
      "60000/60000 [==============================] - 1s 22us/sample - loss: 0.5216 - accuracy: 0.8250 - val_loss: 0.5358 - val_accuracy: 0.8149\n",
      "Epoch 6/20\n",
      "60000/60000 [==============================] - 1s 21us/sample - loss: 0.5025 - accuracy: 0.8312 - val_loss: 0.5254 - val_accuracy: 0.8183\n",
      "Epoch 7/20\n",
      "60000/60000 [==============================] - 1s 22us/sample - loss: 0.4876 - accuracy: 0.8351 - val_loss: 0.5084 - val_accuracy: 0.8253\n",
      "Epoch 8/20\n",
      "60000/60000 [==============================] - 1s 21us/sample - loss: 0.4754 - accuracy: 0.8389 - val_loss: 0.4991 - val_accuracy: 0.8282\n",
      "Epoch 9/20\n",
      "60000/60000 [==============================] - 1s 23us/sample - loss: 0.4649 - accuracy: 0.8424 - val_loss: 0.4959 - val_accuracy: 0.8267\n",
      "Epoch 10/20\n",
      "60000/60000 [==============================] - 1s 21us/sample - loss: 0.4563 - accuracy: 0.8436 - val_loss: 0.4827 - val_accuracy: 0.8341\n",
      "Epoch 11/20\n",
      "60000/60000 [==============================] - 1s 22us/sample - loss: 0.4488 - accuracy: 0.8468 - val_loss: 0.4775 - val_accuracy: 0.8323\n",
      "Epoch 12/20\n",
      "60000/60000 [==============================] - 1s 22us/sample - loss: 0.4416 - accuracy: 0.8488 - val_loss: 0.4707 - val_accuracy: 0.8378\n",
      "Epoch 13/20\n",
      "60000/60000 [==============================] - 1s 22us/sample - loss: 0.4359 - accuracy: 0.8503 - val_loss: 0.4637 - val_accuracy: 0.8391\n",
      "Epoch 14/20\n",
      "59008/60000 [============================>.] - ETA: 0s - loss: 0.4304 - accuracy: 0.8510Restoring model weights from the end of the best epoch.\n",
      "60000/60000 [==============================] - 1s 22us/sample - loss: 0.4307 - accuracy: 0.8512 - val_loss: 0.4646 - val_accuracy: 0.8348\n",
      "Epoch 00014: early stopping\n",
      "wandb: Agent Finished Run: 5x983k1h \n",
      "\n",
      "wandb: Agent Starting Run: f9pz41le with config:\n",
      "\tepochs: 20\n",
      "\tlearning_rate: 0.0003\n",
      "\toptimizer: sgd\n",
      "wandb: Agent Started Run: f9pz41le\n"
     ]
    },
    {
     "data": {
      "text/html": [
       "\n",
       "                Logging results to <a href=\"https://wandb.com\" target=\"_blank\">Weights & Biases</a> <a href=\"https://docs.wandb.com/integrations/jupyter.html\" target=\"_blank\">(Documentation)</a>.<br/>\n",
       "                Project page: <a href=\"https://app.wandb.ai/sayakpaul/reproducible-ml\" target=\"_blank\">https://app.wandb.ai/sayakpaul/reproducible-ml</a><br/>\n",
       "                Sweep page: <a href=\"https://app.wandb.ai/sayakpaul/reproducible-ml/sweeps/6t8t4d6s\" target=\"_blank\">https://app.wandb.ai/sayakpaul/reproducible-ml/sweeps/6t8t4d6s</a><br/>\n",
       "Run page: <a href=\"https://app.wandb.ai/sayakpaul/reproducible-ml/runs/f9pz41le\" target=\"_blank\">https://app.wandb.ai/sayakpaul/reproducible-ml/runs/f9pz41le</a><br/>\n",
       "            "
      ],
      "text/plain": [
       "<IPython.core.display.HTML object>"
      ]
     },
     "metadata": {},
     "output_type": "display_data"
    },
    {
     "name": "stderr",
     "output_type": "stream",
     "text": [
      "Error generating diff: Reference at 'refs/remotes/origin/master' does not exist\n"
     ]
    },
    {
     "name": "stdout",
     "output_type": "stream",
     "text": [
      "Train on 60000 samples, validate on 10000 samples\n",
      "Epoch 1/20\n",
      "60000/60000 [==============================] - 2s 33us/sample - loss: 1.0310 - accuracy: 0.6870 - val_loss: 0.7503 - val_accuracy: 0.7553\n",
      "Epoch 2/20\n",
      "60000/60000 [==============================] - 1s 23us/sample - loss: 0.6687 - accuracy: 0.7862 - val_loss: 0.6417 - val_accuracy: 0.7864\n",
      "Epoch 3/20\n",
      "60000/60000 [==============================] - 1s 23us/sample - loss: 0.5911 - accuracy: 0.8082 - val_loss: 0.5869 - val_accuracy: 0.8050\n",
      "Epoch 4/20\n",
      "60000/60000 [==============================] - 1s 22us/sample - loss: 0.5491 - accuracy: 0.8191 - val_loss: 0.5601 - val_accuracy: 0.8074\n",
      "Epoch 5/20\n",
      "60000/60000 [==============================] - 1s 22us/sample - loss: 0.5216 - accuracy: 0.8250 - val_loss: 0.5358 - val_accuracy: 0.8149\n",
      "Epoch 6/20\n",
      "60000/60000 [==============================] - 1s 22us/sample - loss: 0.5025 - accuracy: 0.8312 - val_loss: 0.5254 - val_accuracy: 0.8183\n",
      "Epoch 7/20\n",
      "60000/60000 [==============================] - 1s 23us/sample - loss: 0.4876 - accuracy: 0.8351 - val_loss: 0.5084 - val_accuracy: 0.8253\n",
      "Epoch 8/20\n",
      "60000/60000 [==============================] - 1s 23us/sample - loss: 0.4754 - accuracy: 0.8389 - val_loss: 0.4991 - val_accuracy: 0.8282\n",
      "Epoch 9/20\n",
      "60000/60000 [==============================] - 1s 22us/sample - loss: 0.4649 - accuracy: 0.8424 - val_loss: 0.4959 - val_accuracy: 0.8267\n",
      "Epoch 10/20\n",
      "60000/60000 [==============================] - 1s 22us/sample - loss: 0.4563 - accuracy: 0.8436 - val_loss: 0.4827 - val_accuracy: 0.8341\n",
      "Epoch 11/20\n",
      "60000/60000 [==============================] - 1s 23us/sample - loss: 0.4488 - accuracy: 0.8468 - val_loss: 0.4775 - val_accuracy: 0.8323\n",
      "Epoch 12/20\n",
      "60000/60000 [==============================] - 1s 22us/sample - loss: 0.4416 - accuracy: 0.8488 - val_loss: 0.4707 - val_accuracy: 0.8378\n",
      "Epoch 13/20\n",
      "60000/60000 [==============================] - 1s 22us/sample - loss: 0.4359 - accuracy: 0.8503 - val_loss: 0.4637 - val_accuracy: 0.8391\n",
      "Epoch 14/20\n",
      "59520/60000 [============================>.] - ETA: 0s - loss: 0.4307 - accuracy: 0.8512Restoring model weights from the end of the best epoch.\n",
      "60000/60000 [==============================] - 1s 22us/sample - loss: 0.4307 - accuracy: 0.8512 - val_loss: 0.4646 - val_accuracy: 0.8348\n",
      "Epoch 00014: early stopping\n",
      "wandb: Agent Finished Run: f9pz41le \n",
      "\n",
      "wandb: Agent Starting Run: m0ic9mdz with config:\n",
      "\tepochs: 10\n",
      "\tlearning_rate: 1e-05\n",
      "\toptimizer: adam\n",
      "wandb: Agent Started Run: m0ic9mdz\n"
     ]
    },
    {
     "data": {
      "text/html": [
       "\n",
       "                Logging results to <a href=\"https://wandb.com\" target=\"_blank\">Weights & Biases</a> <a href=\"https://docs.wandb.com/integrations/jupyter.html\" target=\"_blank\">(Documentation)</a>.<br/>\n",
       "                Project page: <a href=\"https://app.wandb.ai/sayakpaul/reproducible-ml\" target=\"_blank\">https://app.wandb.ai/sayakpaul/reproducible-ml</a><br/>\n",
       "                Sweep page: <a href=\"https://app.wandb.ai/sayakpaul/reproducible-ml/sweeps/6t8t4d6s\" target=\"_blank\">https://app.wandb.ai/sayakpaul/reproducible-ml/sweeps/6t8t4d6s</a><br/>\n",
       "Run page: <a href=\"https://app.wandb.ai/sayakpaul/reproducible-ml/runs/m0ic9mdz\" target=\"_blank\">https://app.wandb.ai/sayakpaul/reproducible-ml/runs/m0ic9mdz</a><br/>\n",
       "            "
      ],
      "text/plain": [
       "<IPython.core.display.HTML object>"
      ]
     },
     "metadata": {},
     "output_type": "display_data"
    },
    {
     "name": "stderr",
     "output_type": "stream",
     "text": [
      "Error generating diff: Reference at 'refs/remotes/origin/master' does not exist\n"
     ]
    },
    {
     "name": "stdout",
     "output_type": "stream",
     "text": [
      "Train on 60000 samples, validate on 10000 samples\n",
      "Epoch 1/10\n",
      "60000/60000 [==============================] - 2s 34us/sample - loss: 0.5257 - accuracy: 0.8180 - val_loss: 0.4436 - val_accuracy: 0.8460\n",
      "Epoch 2/10\n",
      "60000/60000 [==============================] - 1s 23us/sample - loss: 0.3913 - accuracy: 0.8607 - val_loss: 0.3942 - val_accuracy: 0.8611\n",
      "Epoch 3/10\n",
      "60000/60000 [==============================] - 1s 23us/sample - loss: 0.3493 - accuracy: 0.8747 - val_loss: 0.3751 - val_accuracy: 0.8612\n",
      "Epoch 4/10\n",
      "60000/60000 [==============================] - 1s 23us/sample - loss: 0.3207 - accuracy: 0.8842 - val_loss: 0.3597 - val_accuracy: 0.8716\n",
      "Epoch 5/10\n",
      "60000/60000 [==============================] - 1s 23us/sample - loss: 0.3072 - accuracy: 0.8881 - val_loss: 0.3488 - val_accuracy: 0.8747\n",
      "Epoch 6/10\n",
      "57984/60000 [===========================>..] - ETA: 0s - loss: 0.2888 - accuracy: 0.8937Restoring model weights from the end of the best epoch.\n",
      "60000/60000 [==============================] - 1s 22us/sample - loss: 0.2888 - accuracy: 0.8938 - val_loss: 0.3519 - val_accuracy: 0.8749\n",
      "Epoch 00006: early stopping\n",
      "wandb: Agent Finished Run: m0ic9mdz \n",
      "\n",
      "wandb: Agent Starting Run: 35i1l5nj with config:\n",
      "\tepochs: 10\n",
      "\tlearning_rate: 1e-05\n",
      "\toptimizer: sgd\n",
      "wandb: Agent Started Run: 35i1l5nj\n"
     ]
    },
    {
     "data": {
      "text/html": [
       "\n",
       "                Logging results to <a href=\"https://wandb.com\" target=\"_blank\">Weights & Biases</a> <a href=\"https://docs.wandb.com/integrations/jupyter.html\" target=\"_blank\">(Documentation)</a>.<br/>\n",
       "                Project page: <a href=\"https://app.wandb.ai/sayakpaul/reproducible-ml\" target=\"_blank\">https://app.wandb.ai/sayakpaul/reproducible-ml</a><br/>\n",
       "                Sweep page: <a href=\"https://app.wandb.ai/sayakpaul/reproducible-ml/sweeps/6t8t4d6s\" target=\"_blank\">https://app.wandb.ai/sayakpaul/reproducible-ml/sweeps/6t8t4d6s</a><br/>\n",
       "Run page: <a href=\"https://app.wandb.ai/sayakpaul/reproducible-ml/runs/35i1l5nj\" target=\"_blank\">https://app.wandb.ai/sayakpaul/reproducible-ml/runs/35i1l5nj</a><br/>\n",
       "            "
      ],
      "text/plain": [
       "<IPython.core.display.HTML object>"
      ]
     },
     "metadata": {},
     "output_type": "display_data"
    },
    {
     "name": "stderr",
     "output_type": "stream",
     "text": [
      "Error generating diff: Reference at 'refs/remotes/origin/master' does not exist\n"
     ]
    },
    {
     "name": "stdout",
     "output_type": "stream",
     "text": [
      "Train on 60000 samples, validate on 10000 samples\n",
      "Epoch 1/10\n",
      "60000/60000 [==============================] - 2s 33us/sample - loss: 1.0310 - accuracy: 0.6870 - val_loss: 0.7503 - val_accuracy: 0.7553\n",
      "Epoch 2/10\n",
      "60000/60000 [==============================] - 1s 22us/sample - loss: 0.6687 - accuracy: 0.7862 - val_loss: 0.6417 - val_accuracy: 0.7864\n",
      "Epoch 3/10\n",
      "60000/60000 [==============================] - 1s 22us/sample - loss: 0.5911 - accuracy: 0.8082 - val_loss: 0.5869 - val_accuracy: 0.8050\n",
      "Epoch 4/10\n",
      "60000/60000 [==============================] - 1s 22us/sample - loss: 0.5491 - accuracy: 0.8191 - val_loss: 0.5601 - val_accuracy: 0.8074\n",
      "Epoch 5/10\n",
      "60000/60000 [==============================] - 1s 22us/sample - loss: 0.5216 - accuracy: 0.8250 - val_loss: 0.5358 - val_accuracy: 0.8149\n",
      "Epoch 6/10\n",
      "60000/60000 [==============================] - 1s 22us/sample - loss: 0.5025 - accuracy: 0.8312 - val_loss: 0.5254 - val_accuracy: 0.8183\n",
      "Epoch 7/10\n",
      "60000/60000 [==============================] - 1s 22us/sample - loss: 0.4876 - accuracy: 0.8351 - val_loss: 0.5084 - val_accuracy: 0.8253\n",
      "Epoch 8/10\n",
      "60000/60000 [==============================] - 1s 22us/sample - loss: 0.4754 - accuracy: 0.8389 - val_loss: 0.4991 - val_accuracy: 0.8282\n",
      "Epoch 9/10\n",
      "60000/60000 [==============================] - 1s 22us/sample - loss: 0.4649 - accuracy: 0.8424 - val_loss: 0.4959 - val_accuracy: 0.8267\n",
      "Epoch 10/10\n",
      "60000/60000 [==============================] - 1s 22us/sample - loss: 0.4563 - accuracy: 0.8436 - val_loss: 0.4827 - val_accuracy: 0.8341\n",
      "wandb: Agent Finished Run: 35i1l5nj \n",
      "\n",
      "wandb: Agent Starting Run: biynkohh with config:\n",
      "\tepochs: 10\n",
      "\tlearning_rate: 0.01\n",
      "\toptimizer: sgd\n",
      "wandb: Agent Started Run: biynkohh\n"
     ]
    },
    {
     "data": {
      "text/html": [
       "\n",
       "                Logging results to <a href=\"https://wandb.com\" target=\"_blank\">Weights & Biases</a> <a href=\"https://docs.wandb.com/integrations/jupyter.html\" target=\"_blank\">(Documentation)</a>.<br/>\n",
       "                Project page: <a href=\"https://app.wandb.ai/sayakpaul/reproducible-ml\" target=\"_blank\">https://app.wandb.ai/sayakpaul/reproducible-ml</a><br/>\n",
       "                Sweep page: <a href=\"https://app.wandb.ai/sayakpaul/reproducible-ml/sweeps/6t8t4d6s\" target=\"_blank\">https://app.wandb.ai/sayakpaul/reproducible-ml/sweeps/6t8t4d6s</a><br/>\n",
       "Run page: <a href=\"https://app.wandb.ai/sayakpaul/reproducible-ml/runs/biynkohh\" target=\"_blank\">https://app.wandb.ai/sayakpaul/reproducible-ml/runs/biynkohh</a><br/>\n",
       "            "
      ],
      "text/plain": [
       "<IPython.core.display.HTML object>"
      ]
     },
     "metadata": {},
     "output_type": "display_data"
    },
    {
     "name": "stderr",
     "output_type": "stream",
     "text": [
      "Error generating diff: Reference at 'refs/remotes/origin/master' does not exist\n"
     ]
    },
    {
     "name": "stdout",
     "output_type": "stream",
     "text": [
      "Train on 60000 samples, validate on 10000 samples\n",
      "Epoch 1/10\n",
      "60000/60000 [==============================] - 2s 34us/sample - loss: 1.0310 - accuracy: 0.6870 - val_loss: 0.7503 - val_accuracy: 0.7553\n",
      "Epoch 2/10\n",
      "60000/60000 [==============================] - 1s 22us/sample - loss: 0.6687 - accuracy: 0.7862 - val_loss: 0.6417 - val_accuracy: 0.7864\n",
      "Epoch 3/10\n",
      "60000/60000 [==============================] - 1s 22us/sample - loss: 0.5911 - accuracy: 0.8082 - val_loss: 0.5869 - val_accuracy: 0.8050\n",
      "Epoch 4/10\n",
      "60000/60000 [==============================] - 1s 22us/sample - loss: 0.5491 - accuracy: 0.8191 - val_loss: 0.5601 - val_accuracy: 0.8074\n",
      "Epoch 5/10\n",
      "60000/60000 [==============================] - 1s 22us/sample - loss: 0.5216 - accuracy: 0.8250 - val_loss: 0.5358 - val_accuracy: 0.8149\n",
      "Epoch 6/10\n",
      "60000/60000 [==============================] - 1s 22us/sample - loss: 0.5025 - accuracy: 0.8312 - val_loss: 0.5254 - val_accuracy: 0.8183\n",
      "Epoch 7/10\n",
      "60000/60000 [==============================] - 1s 22us/sample - loss: 0.4876 - accuracy: 0.8351 - val_loss: 0.5084 - val_accuracy: 0.8253\n",
      "Epoch 8/10\n",
      "60000/60000 [==============================] - 1s 22us/sample - loss: 0.4754 - accuracy: 0.8389 - val_loss: 0.4991 - val_accuracy: 0.8282\n",
      "Epoch 9/10\n",
      "60000/60000 [==============================] - 1s 22us/sample - loss: 0.4649 - accuracy: 0.8424 - val_loss: 0.4959 - val_accuracy: 0.8267\n",
      "Epoch 10/10\n",
      "60000/60000 [==============================] - 1s 21us/sample - loss: 0.4563 - accuracy: 0.8436 - val_loss: 0.4827 - val_accuracy: 0.8341\n",
      "wandb: Agent Finished Run: biynkohh \n",
      "\n",
      "wandb: Agent Starting Run: 7qzm41t9 with config:\n",
      "\tepochs: 10\n",
      "\tlearning_rate: 1e-05\n",
      "\toptimizer: adam\n",
      "wandb: Agent Started Run: 7qzm41t9\n"
     ]
    },
    {
     "data": {
      "text/html": [
       "\n",
       "                Logging results to <a href=\"https://wandb.com\" target=\"_blank\">Weights & Biases</a> <a href=\"https://docs.wandb.com/integrations/jupyter.html\" target=\"_blank\">(Documentation)</a>.<br/>\n",
       "                Project page: <a href=\"https://app.wandb.ai/sayakpaul/reproducible-ml\" target=\"_blank\">https://app.wandb.ai/sayakpaul/reproducible-ml</a><br/>\n",
       "                Sweep page: <a href=\"https://app.wandb.ai/sayakpaul/reproducible-ml/sweeps/6t8t4d6s\" target=\"_blank\">https://app.wandb.ai/sayakpaul/reproducible-ml/sweeps/6t8t4d6s</a><br/>\n",
       "Run page: <a href=\"https://app.wandb.ai/sayakpaul/reproducible-ml/runs/7qzm41t9\" target=\"_blank\">https://app.wandb.ai/sayakpaul/reproducible-ml/runs/7qzm41t9</a><br/>\n",
       "            "
      ],
      "text/plain": [
       "<IPython.core.display.HTML object>"
      ]
     },
     "metadata": {},
     "output_type": "display_data"
    },
    {
     "name": "stderr",
     "output_type": "stream",
     "text": [
      "Error generating diff: Reference at 'refs/remotes/origin/master' does not exist\n"
     ]
    },
    {
     "name": "stdout",
     "output_type": "stream",
     "text": [
      "Train on 60000 samples, validate on 10000 samples\n",
      "Epoch 1/10\n",
      "60000/60000 [==============================] - 2s 35us/sample - loss: 0.5257 - accuracy: 0.8180 - val_loss: 0.4436 - val_accuracy: 0.8460\n",
      "Epoch 2/10\n",
      "60000/60000 [==============================] - 1s 23us/sample - loss: 0.3913 - accuracy: 0.8607 - val_loss: 0.3942 - val_accuracy: 0.8611\n",
      "Epoch 3/10\n",
      "60000/60000 [==============================] - 1s 22us/sample - loss: 0.3493 - accuracy: 0.8747 - val_loss: 0.3751 - val_accuracy: 0.8612\n",
      "Epoch 4/10\n",
      "60000/60000 [==============================] - 1s 23us/sample - loss: 0.3207 - accuracy: 0.8842 - val_loss: 0.3597 - val_accuracy: 0.8716\n",
      "Epoch 5/10\n",
      "60000/60000 [==============================] - 1s 22us/sample - loss: 0.3072 - accuracy: 0.8881 - val_loss: 0.3488 - val_accuracy: 0.8747\n",
      "Epoch 6/10\n",
      "58880/60000 [============================>.] - ETA: 0s - loss: 0.2890 - accuracy: 0.8936Restoring model weights from the end of the best epoch.\n",
      "60000/60000 [==============================] - 1s 22us/sample - loss: 0.2888 - accuracy: 0.8938 - val_loss: 0.3519 - val_accuracy: 0.8749\n",
      "Epoch 00006: early stopping\n",
      "wandb: Agent Finished Run: 7qzm41t9 \n",
      "\n",
      "wandb: Agent Starting Run: 26lki31p with config:\n",
      "\tepochs: 15\n",
      "\tlearning_rate: 0.0001\n",
      "\toptimizer: adam\n",
      "wandb: Agent Started Run: 26lki31p\n"
     ]
    },
    {
     "data": {
      "text/html": [
       "\n",
       "                Logging results to <a href=\"https://wandb.com\" target=\"_blank\">Weights & Biases</a> <a href=\"https://docs.wandb.com/integrations/jupyter.html\" target=\"_blank\">(Documentation)</a>.<br/>\n",
       "                Project page: <a href=\"https://app.wandb.ai/sayakpaul/reproducible-ml\" target=\"_blank\">https://app.wandb.ai/sayakpaul/reproducible-ml</a><br/>\n",
       "                Sweep page: <a href=\"https://app.wandb.ai/sayakpaul/reproducible-ml/sweeps/6t8t4d6s\" target=\"_blank\">https://app.wandb.ai/sayakpaul/reproducible-ml/sweeps/6t8t4d6s</a><br/>\n",
       "Run page: <a href=\"https://app.wandb.ai/sayakpaul/reproducible-ml/runs/26lki31p\" target=\"_blank\">https://app.wandb.ai/sayakpaul/reproducible-ml/runs/26lki31p</a><br/>\n",
       "            "
      ],
      "text/plain": [
       "<IPython.core.display.HTML object>"
      ]
     },
     "metadata": {},
     "output_type": "display_data"
    },
    {
     "name": "stderr",
     "output_type": "stream",
     "text": [
      "Error generating diff: Reference at 'refs/remotes/origin/master' does not exist\n"
     ]
    },
    {
     "name": "stdout",
     "output_type": "stream",
     "text": [
      "Train on 60000 samples, validate on 10000 samples\n",
      "Epoch 1/15\n",
      "60000/60000 [==============================] - 2s 34us/sample - loss: 0.5257 - accuracy: 0.8180 - val_loss: 0.4436 - val_accuracy: 0.8460\n",
      "Epoch 2/15\n",
      "60000/60000 [==============================] - 1s 23us/sample - loss: 0.3913 - accuracy: 0.8607 - val_loss: 0.3942 - val_accuracy: 0.8611\n",
      "Epoch 3/15\n",
      "60000/60000 [==============================] - 1s 22us/sample - loss: 0.3493 - accuracy: 0.8747 - val_loss: 0.3751 - val_accuracy: 0.8612\n",
      "Epoch 4/15\n",
      "60000/60000 [==============================] - 1s 22us/sample - loss: 0.3207 - accuracy: 0.8842 - val_loss: 0.3597 - val_accuracy: 0.8716\n",
      "Epoch 5/15\n",
      "60000/60000 [==============================] - 1s 23us/sample - loss: 0.3072 - accuracy: 0.8881 - val_loss: 0.3488 - val_accuracy: 0.8747\n",
      "Epoch 6/15\n",
      "59904/60000 [============================>.] - ETA: 0s - loss: 0.2889 - accuracy: 0.8937Restoring model weights from the end of the best epoch.\n",
      "60000/60000 [==============================] - 1s 22us/sample - loss: 0.2888 - accuracy: 0.8938 - val_loss: 0.3519 - val_accuracy: 0.8749\n",
      "Epoch 00006: early stopping\n",
      "wandb: Agent Finished Run: 26lki31p \n",
      "\n",
      "wandb: Agent Starting Run: 2iighfxt with config:\n",
      "\tepochs: 15\n",
      "\tlearning_rate: 3e-05\n",
      "\toptimizer: sgd\n",
      "wandb: Agent Started Run: 2iighfxt\n"
     ]
    },
    {
     "data": {
      "text/html": [
       "\n",
       "                Logging results to <a href=\"https://wandb.com\" target=\"_blank\">Weights & Biases</a> <a href=\"https://docs.wandb.com/integrations/jupyter.html\" target=\"_blank\">(Documentation)</a>.<br/>\n",
       "                Project page: <a href=\"https://app.wandb.ai/sayakpaul/reproducible-ml\" target=\"_blank\">https://app.wandb.ai/sayakpaul/reproducible-ml</a><br/>\n",
       "                Sweep page: <a href=\"https://app.wandb.ai/sayakpaul/reproducible-ml/sweeps/6t8t4d6s\" target=\"_blank\">https://app.wandb.ai/sayakpaul/reproducible-ml/sweeps/6t8t4d6s</a><br/>\n",
       "Run page: <a href=\"https://app.wandb.ai/sayakpaul/reproducible-ml/runs/2iighfxt\" target=\"_blank\">https://app.wandb.ai/sayakpaul/reproducible-ml/runs/2iighfxt</a><br/>\n",
       "            "
      ],
      "text/plain": [
       "<IPython.core.display.HTML object>"
      ]
     },
     "metadata": {},
     "output_type": "display_data"
    },
    {
     "name": "stderr",
     "output_type": "stream",
     "text": [
      "Error generating diff: Reference at 'refs/remotes/origin/master' does not exist\n"
     ]
    },
    {
     "name": "stdout",
     "output_type": "stream",
     "text": [
      "Train on 60000 samples, validate on 10000 samples\n",
      "Epoch 1/15\n",
      "60000/60000 [==============================] - 2s 33us/sample - loss: 1.0310 - accuracy: 0.6870 - val_loss: 0.7503 - val_accuracy: 0.7553\n",
      "Epoch 2/15\n",
      "60000/60000 [==============================] - 1s 22us/sample - loss: 0.6687 - accuracy: 0.7862 - val_loss: 0.6417 - val_accuracy: 0.7864\n",
      "Epoch 3/15\n",
      "60000/60000 [==============================] - 1s 22us/sample - loss: 0.5911 - accuracy: 0.8082 - val_loss: 0.5869 - val_accuracy: 0.8050\n",
      "Epoch 4/15\n",
      "60000/60000 [==============================] - 1s 22us/sample - loss: 0.5491 - accuracy: 0.8191 - val_loss: 0.5601 - val_accuracy: 0.8074\n",
      "Epoch 5/15\n",
      "60000/60000 [==============================] - 1s 22us/sample - loss: 0.5216 - accuracy: 0.8250 - val_loss: 0.5358 - val_accuracy: 0.8149\n",
      "Epoch 6/15\n",
      "60000/60000 [==============================] - 1s 22us/sample - loss: 0.5025 - accuracy: 0.8312 - val_loss: 0.5254 - val_accuracy: 0.8183\n",
      "Epoch 7/15\n",
      "60000/60000 [==============================] - 1s 22us/sample - loss: 0.4876 - accuracy: 0.8351 - val_loss: 0.5084 - val_accuracy: 0.8253\n",
      "Epoch 8/15\n",
      "60000/60000 [==============================] - 1s 21us/sample - loss: 0.4754 - accuracy: 0.8389 - val_loss: 0.4991 - val_accuracy: 0.8282\n",
      "Epoch 9/15\n",
      "60000/60000 [==============================] - 1s 22us/sample - loss: 0.4649 - accuracy: 0.8424 - val_loss: 0.4959 - val_accuracy: 0.8267\n",
      "Epoch 10/15\n",
      "60000/60000 [==============================] - 1s 22us/sample - loss: 0.4563 - accuracy: 0.8436 - val_loss: 0.4827 - val_accuracy: 0.8341\n",
      "Epoch 11/15\n",
      "60000/60000 [==============================] - 1s 22us/sample - loss: 0.4488 - accuracy: 0.8468 - val_loss: 0.4775 - val_accuracy: 0.8323\n",
      "Epoch 12/15\n",
      "60000/60000 [==============================] - 1s 22us/sample - loss: 0.4416 - accuracy: 0.8488 - val_loss: 0.4707 - val_accuracy: 0.8378\n",
      "Epoch 13/15\n",
      "60000/60000 [==============================] - 1s 22us/sample - loss: 0.4359 - accuracy: 0.8503 - val_loss: 0.4637 - val_accuracy: 0.8391\n",
      "Epoch 14/15\n",
      "59904/60000 [============================>.] - ETA: 0s - loss: 0.4307 - accuracy: 0.8512Restoring model weights from the end of the best epoch.\n",
      "60000/60000 [==============================] - 1s 22us/sample - loss: 0.4307 - accuracy: 0.8512 - val_loss: 0.4646 - val_accuracy: 0.8348\n",
      "Epoch 00014: early stopping\n",
      "wandb: Agent Finished Run: 2iighfxt \n",
      "\n",
      "wandb: Agent Starting Run: 8uxopt7g with config:\n",
      "\tepochs: 15\n",
      "\tlearning_rate: 0.01\n",
      "\toptimizer: sgd\n",
      "wandb: Agent Started Run: 8uxopt7g\n"
     ]
    },
    {
     "data": {
      "text/html": [
       "\n",
       "                Logging results to <a href=\"https://wandb.com\" target=\"_blank\">Weights & Biases</a> <a href=\"https://docs.wandb.com/integrations/jupyter.html\" target=\"_blank\">(Documentation)</a>.<br/>\n",
       "                Project page: <a href=\"https://app.wandb.ai/sayakpaul/reproducible-ml\" target=\"_blank\">https://app.wandb.ai/sayakpaul/reproducible-ml</a><br/>\n",
       "                Sweep page: <a href=\"https://app.wandb.ai/sayakpaul/reproducible-ml/sweeps/6t8t4d6s\" target=\"_blank\">https://app.wandb.ai/sayakpaul/reproducible-ml/sweeps/6t8t4d6s</a><br/>\n",
       "Run page: <a href=\"https://app.wandb.ai/sayakpaul/reproducible-ml/runs/8uxopt7g\" target=\"_blank\">https://app.wandb.ai/sayakpaul/reproducible-ml/runs/8uxopt7g</a><br/>\n",
       "            "
      ],
      "text/plain": [
       "<IPython.core.display.HTML object>"
      ]
     },
     "metadata": {},
     "output_type": "display_data"
    },
    {
     "name": "stderr",
     "output_type": "stream",
     "text": [
      "Error generating diff: Reference at 'refs/remotes/origin/master' does not exist\n"
     ]
    },
    {
     "name": "stdout",
     "output_type": "stream",
     "text": [
      "Train on 60000 samples, validate on 10000 samples\n",
      "Epoch 1/15\n",
      "60000/60000 [==============================] - 2s 32us/sample - loss: 1.0310 - accuracy: 0.6870 - val_loss: 0.7503 - val_accuracy: 0.7553\n",
      "Epoch 2/15\n",
      "60000/60000 [==============================] - 1s 22us/sample - loss: 0.6687 - accuracy: 0.7862 - val_loss: 0.6417 - val_accuracy: 0.7864\n",
      "Epoch 3/15\n",
      "60000/60000 [==============================] - 1s 21us/sample - loss: 0.5911 - accuracy: 0.8082 - val_loss: 0.5869 - val_accuracy: 0.8050\n",
      "Epoch 4/15\n",
      "60000/60000 [==============================] - 1s 22us/sample - loss: 0.5491 - accuracy: 0.8191 - val_loss: 0.5601 - val_accuracy: 0.8074\n",
      "Epoch 5/15\n",
      "60000/60000 [==============================] - 1s 22us/sample - loss: 0.5216 - accuracy: 0.8250 - val_loss: 0.5358 - val_accuracy: 0.8149\n",
      "Epoch 6/15\n",
      "60000/60000 [==============================] - 1s 22us/sample - loss: 0.5025 - accuracy: 0.8312 - val_loss: 0.5254 - val_accuracy: 0.8183\n",
      "Epoch 7/15\n",
      "60000/60000 [==============================] - 1s 22us/sample - loss: 0.4876 - accuracy: 0.8351 - val_loss: 0.5084 - val_accuracy: 0.8253\n",
      "Epoch 8/15\n",
      "60000/60000 [==============================] - 1s 23us/sample - loss: 0.4754 - accuracy: 0.8389 - val_loss: 0.4991 - val_accuracy: 0.8282\n",
      "Epoch 9/15\n",
      "60000/60000 [==============================] - 1s 22us/sample - loss: 0.4649 - accuracy: 0.8424 - val_loss: 0.4959 - val_accuracy: 0.8267\n",
      "Epoch 10/15\n",
      "60000/60000 [==============================] - 1s 22us/sample - loss: 0.4563 - accuracy: 0.8436 - val_loss: 0.4827 - val_accuracy: 0.8341\n",
      "Epoch 11/15\n",
      "60000/60000 [==============================] - 1s 23us/sample - loss: 0.4488 - accuracy: 0.8468 - val_loss: 0.4775 - val_accuracy: 0.8323\n",
      "Epoch 12/15\n",
      "60000/60000 [==============================] - 1s 22us/sample - loss: 0.4416 - accuracy: 0.8488 - val_loss: 0.4707 - val_accuracy: 0.8378\n",
      "Epoch 13/15\n",
      "60000/60000 [==============================] - 1s 22us/sample - loss: 0.4359 - accuracy: 0.8503 - val_loss: 0.4637 - val_accuracy: 0.8391\n",
      "Epoch 14/15\n",
      "57472/60000 [===========================>..] - ETA: 0s - loss: 0.4307 - accuracy: 0.8507Restoring model weights from the end of the best epoch.\n",
      "60000/60000 [==============================] - 1s 22us/sample - loss: 0.4307 - accuracy: 0.8512 - val_loss: 0.4646 - val_accuracy: 0.8348\n",
      "Epoch 00014: early stopping\n",
      "wandb: Agent Finished Run: 8uxopt7g \n",
      "\n",
      "wandb: Agent Starting Run: dquj0a1m with config:\n",
      "\tepochs: 20\n",
      "\tlearning_rate: 0.0001\n",
      "\toptimizer: sgd\n",
      "wandb: Agent Started Run: dquj0a1m\n"
     ]
    },
    {
     "data": {
      "text/html": [
       "\n",
       "                Logging results to <a href=\"https://wandb.com\" target=\"_blank\">Weights & Biases</a> <a href=\"https://docs.wandb.com/integrations/jupyter.html\" target=\"_blank\">(Documentation)</a>.<br/>\n",
       "                Project page: <a href=\"https://app.wandb.ai/sayakpaul/reproducible-ml\" target=\"_blank\">https://app.wandb.ai/sayakpaul/reproducible-ml</a><br/>\n",
       "                Sweep page: <a href=\"https://app.wandb.ai/sayakpaul/reproducible-ml/sweeps/6t8t4d6s\" target=\"_blank\">https://app.wandb.ai/sayakpaul/reproducible-ml/sweeps/6t8t4d6s</a><br/>\n",
       "Run page: <a href=\"https://app.wandb.ai/sayakpaul/reproducible-ml/runs/dquj0a1m\" target=\"_blank\">https://app.wandb.ai/sayakpaul/reproducible-ml/runs/dquj0a1m</a><br/>\n",
       "            "
      ],
      "text/plain": [
       "<IPython.core.display.HTML object>"
      ]
     },
     "metadata": {},
     "output_type": "display_data"
    },
    {
     "name": "stderr",
     "output_type": "stream",
     "text": [
      "Error generating diff: Reference at 'refs/remotes/origin/master' does not exist\n"
     ]
    },
    {
     "name": "stdout",
     "output_type": "stream",
     "text": [
      "Train on 60000 samples, validate on 10000 samples\n",
      "Epoch 1/20\n",
      "60000/60000 [==============================] - 2s 33us/sample - loss: 1.0310 - accuracy: 0.6870 - val_loss: 0.7503 - val_accuracy: 0.7553\n",
      "Epoch 2/20\n",
      "60000/60000 [==============================] - 1s 22us/sample - loss: 0.6687 - accuracy: 0.7862 - val_loss: 0.6417 - val_accuracy: 0.7864\n",
      "Epoch 3/20\n",
      "60000/60000 [==============================] - 1s 22us/sample - loss: 0.5911 - accuracy: 0.8082 - val_loss: 0.5869 - val_accuracy: 0.8050\n",
      "Epoch 4/20\n",
      "60000/60000 [==============================] - 1s 22us/sample - loss: 0.5491 - accuracy: 0.8191 - val_loss: 0.5601 - val_accuracy: 0.8074\n",
      "Epoch 5/20\n",
      "60000/60000 [==============================] - 1s 22us/sample - loss: 0.5216 - accuracy: 0.8250 - val_loss: 0.5358 - val_accuracy: 0.8149\n",
      "Epoch 6/20\n",
      "60000/60000 [==============================] - 1s 22us/sample - loss: 0.5025 - accuracy: 0.8312 - val_loss: 0.5254 - val_accuracy: 0.8183\n",
      "Epoch 7/20\n",
      "60000/60000 [==============================] - 1s 23us/sample - loss: 0.4876 - accuracy: 0.8351 - val_loss: 0.5084 - val_accuracy: 0.8253\n",
      "Epoch 8/20\n",
      "60000/60000 [==============================] - 1s 22us/sample - loss: 0.4754 - accuracy: 0.8389 - val_loss: 0.4991 - val_accuracy: 0.8282\n",
      "Epoch 9/20\n",
      "60000/60000 [==============================] - 1s 22us/sample - loss: 0.4649 - accuracy: 0.8424 - val_loss: 0.4959 - val_accuracy: 0.8267\n",
      "Epoch 10/20\n",
      "60000/60000 [==============================] - 1s 22us/sample - loss: 0.4563 - accuracy: 0.8436 - val_loss: 0.4827 - val_accuracy: 0.8341\n",
      "Epoch 11/20\n",
      "60000/60000 [==============================] - 1s 23us/sample - loss: 0.4488 - accuracy: 0.8468 - val_loss: 0.4775 - val_accuracy: 0.8323\n",
      "Epoch 12/20\n",
      "60000/60000 [==============================] - 1s 22us/sample - loss: 0.4416 - accuracy: 0.8488 - val_loss: 0.4707 - val_accuracy: 0.8378\n",
      "Epoch 13/20\n",
      "60000/60000 [==============================] - 1s 22us/sample - loss: 0.4359 - accuracy: 0.8503 - val_loss: 0.4637 - val_accuracy: 0.8391\n",
      "Epoch 14/20\n",
      "58112/60000 [============================>.] - ETA: 0s - loss: 0.4303 - accuracy: 0.8509Restoring model weights from the end of the best epoch.\n",
      "60000/60000 [==============================] - 1s 22us/sample - loss: 0.4307 - accuracy: 0.8512 - val_loss: 0.4646 - val_accuracy: 0.8348\n",
      "Epoch 00014: early stopping\n",
      "wandb: Agent Finished Run: dquj0a1m \n",
      "\n",
      "wandb: Agent Starting Run: yy1tcir1 with config:\n",
      "\tepochs: 15\n",
      "\tlearning_rate: 1e-05\n",
      "\toptimizer: sgd\n",
      "wandb: Agent Started Run: yy1tcir1\n"
     ]
    },
    {
     "data": {
      "text/html": [
       "\n",
       "                Logging results to <a href=\"https://wandb.com\" target=\"_blank\">Weights & Biases</a> <a href=\"https://docs.wandb.com/integrations/jupyter.html\" target=\"_blank\">(Documentation)</a>.<br/>\n",
       "                Project page: <a href=\"https://app.wandb.ai/sayakpaul/reproducible-ml\" target=\"_blank\">https://app.wandb.ai/sayakpaul/reproducible-ml</a><br/>\n",
       "                Sweep page: <a href=\"https://app.wandb.ai/sayakpaul/reproducible-ml/sweeps/6t8t4d6s\" target=\"_blank\">https://app.wandb.ai/sayakpaul/reproducible-ml/sweeps/6t8t4d6s</a><br/>\n",
       "Run page: <a href=\"https://app.wandb.ai/sayakpaul/reproducible-ml/runs/yy1tcir1\" target=\"_blank\">https://app.wandb.ai/sayakpaul/reproducible-ml/runs/yy1tcir1</a><br/>\n",
       "            "
      ],
      "text/plain": [
       "<IPython.core.display.HTML object>"
      ]
     },
     "metadata": {},
     "output_type": "display_data"
    },
    {
     "name": "stderr",
     "output_type": "stream",
     "text": [
      "Error generating diff: Reference at 'refs/remotes/origin/master' does not exist\n"
     ]
    },
    {
     "name": "stdout",
     "output_type": "stream",
     "text": [
      "Train on 60000 samples, validate on 10000 samples\n",
      "Epoch 1/15\n",
      "60000/60000 [==============================] - 2s 36us/sample - loss: 1.0310 - accuracy: 0.6870 - val_loss: 0.7503 - val_accuracy: 0.7553\n",
      "Epoch 2/15\n",
      "60000/60000 [==============================] - 1s 24us/sample - loss: 0.6687 - accuracy: 0.7862 - val_loss: 0.6417 - val_accuracy: 0.7864\n",
      "Epoch 3/15\n",
      "60000/60000 [==============================] - 1s 22us/sample - loss: 0.5911 - accuracy: 0.8082 - val_loss: 0.5869 - val_accuracy: 0.8050\n",
      "Epoch 4/15\n",
      "60000/60000 [==============================] - 1s 22us/sample - loss: 0.5491 - accuracy: 0.8191 - val_loss: 0.5601 - val_accuracy: 0.8074\n",
      "Epoch 5/15\n",
      "60000/60000 [==============================] - 1s 22us/sample - loss: 0.5216 - accuracy: 0.8250 - val_loss: 0.5358 - val_accuracy: 0.8149\n",
      "Epoch 6/15\n",
      "60000/60000 [==============================] - 1s 22us/sample - loss: 0.5025 - accuracy: 0.8312 - val_loss: 0.5254 - val_accuracy: 0.8183\n",
      "Epoch 7/15\n",
      "60000/60000 [==============================] - 1s 22us/sample - loss: 0.4876 - accuracy: 0.8351 - val_loss: 0.5084 - val_accuracy: 0.8253\n",
      "Epoch 8/15\n",
      "60000/60000 [==============================] - 1s 21us/sample - loss: 0.4754 - accuracy: 0.8389 - val_loss: 0.4991 - val_accuracy: 0.8282\n",
      "Epoch 9/15\n",
      "60000/60000 [==============================] - 1s 23us/sample - loss: 0.4649 - accuracy: 0.8424 - val_loss: 0.4959 - val_accuracy: 0.8267\n",
      "Epoch 10/15\n",
      "60000/60000 [==============================] - 1s 22us/sample - loss: 0.4563 - accuracy: 0.8436 - val_loss: 0.4827 - val_accuracy: 0.8341\n",
      "Epoch 11/15\n",
      "60000/60000 [==============================] - 1s 22us/sample - loss: 0.4488 - accuracy: 0.8468 - val_loss: 0.4775 - val_accuracy: 0.8323\n",
      "Epoch 12/15\n",
      "60000/60000 [==============================] - 1s 22us/sample - loss: 0.4416 - accuracy: 0.8488 - val_loss: 0.4707 - val_accuracy: 0.8378\n",
      "Epoch 13/15\n",
      "60000/60000 [==============================] - 1s 22us/sample - loss: 0.4359 - accuracy: 0.8503 - val_loss: 0.4637 - val_accuracy: 0.8391\n",
      "Epoch 14/15\n",
      "59648/60000 [============================>.] - ETA: 0s - loss: 0.4307 - accuracy: 0.8511Restoring model weights from the end of the best epoch.\n",
      "60000/60000 [==============================] - 1s 22us/sample - loss: 0.4307 - accuracy: 0.8512 - val_loss: 0.4646 - val_accuracy: 0.8348\n",
      "Epoch 00014: early stopping\n",
      "wandb: Agent Finished Run: yy1tcir1 \n",
      "\n",
      "wandb: Agent Starting Run: sqeb6l6p with config:\n",
      "\tepochs: 15\n",
      "\tlearning_rate: 1e-05\n",
      "\toptimizer: adam\n",
      "wandb: Agent Started Run: sqeb6l6p\n"
     ]
    },
    {
     "data": {
      "text/html": [
       "\n",
       "                Logging results to <a href=\"https://wandb.com\" target=\"_blank\">Weights & Biases</a> <a href=\"https://docs.wandb.com/integrations/jupyter.html\" target=\"_blank\">(Documentation)</a>.<br/>\n",
       "                Project page: <a href=\"https://app.wandb.ai/sayakpaul/reproducible-ml\" target=\"_blank\">https://app.wandb.ai/sayakpaul/reproducible-ml</a><br/>\n",
       "                Sweep page: <a href=\"https://app.wandb.ai/sayakpaul/reproducible-ml/sweeps/6t8t4d6s\" target=\"_blank\">https://app.wandb.ai/sayakpaul/reproducible-ml/sweeps/6t8t4d6s</a><br/>\n",
       "Run page: <a href=\"https://app.wandb.ai/sayakpaul/reproducible-ml/runs/sqeb6l6p\" target=\"_blank\">https://app.wandb.ai/sayakpaul/reproducible-ml/runs/sqeb6l6p</a><br/>\n",
       "            "
      ],
      "text/plain": [
       "<IPython.core.display.HTML object>"
      ]
     },
     "metadata": {},
     "output_type": "display_data"
    },
    {
     "name": "stderr",
     "output_type": "stream",
     "text": [
      "Error generating diff: Reference at 'refs/remotes/origin/master' does not exist\n"
     ]
    },
    {
     "name": "stdout",
     "output_type": "stream",
     "text": [
      "Train on 60000 samples, validate on 10000 samples\n",
      "Epoch 1/15\n",
      "60000/60000 [==============================] - 2s 35us/sample - loss: 0.5257 - accuracy: 0.8180 - val_loss: 0.4436 - val_accuracy: 0.8460\n",
      "Epoch 2/15\n",
      "60000/60000 [==============================] - 1s 23us/sample - loss: 0.3913 - accuracy: 0.8607 - val_loss: 0.3942 - val_accuracy: 0.8611\n",
      "Epoch 3/15\n",
      "60000/60000 [==============================] - 1s 22us/sample - loss: 0.3493 - accuracy: 0.8747 - val_loss: 0.3751 - val_accuracy: 0.8612\n",
      "Epoch 4/15\n",
      "60000/60000 [==============================] - 1s 23us/sample - loss: 0.3207 - accuracy: 0.8842 - val_loss: 0.3597 - val_accuracy: 0.8716\n",
      "Epoch 5/15\n",
      "60000/60000 [==============================] - 1s 24us/sample - loss: 0.3072 - accuracy: 0.8881 - val_loss: 0.3488 - val_accuracy: 0.8747\n",
      "Epoch 6/15\n",
      "59008/60000 [============================>.] - ETA: 0s - loss: 0.2888 - accuracy: 0.8937Restoring model weights from the end of the best epoch.\n",
      "60000/60000 [==============================] - 1s 22us/sample - loss: 0.2888 - accuracy: 0.8938 - val_loss: 0.3519 - val_accuracy: 0.8749\n",
      "Epoch 00006: early stopping\n",
      "wandb: Agent Finished Run: sqeb6l6p \n",
      "\n",
      "wandb: Agent Starting Run: fy5c6xv2 with config:\n",
      "\tepochs: 10\n",
      "\tlearning_rate: 0.0003\n",
      "\toptimizer: sgd\n",
      "wandb: Agent Started Run: fy5c6xv2\n"
     ]
    },
    {
     "data": {
      "text/html": [
       "\n",
       "                Logging results to <a href=\"https://wandb.com\" target=\"_blank\">Weights & Biases</a> <a href=\"https://docs.wandb.com/integrations/jupyter.html\" target=\"_blank\">(Documentation)</a>.<br/>\n",
       "                Project page: <a href=\"https://app.wandb.ai/sayakpaul/reproducible-ml\" target=\"_blank\">https://app.wandb.ai/sayakpaul/reproducible-ml</a><br/>\n",
       "                Sweep page: <a href=\"https://app.wandb.ai/sayakpaul/reproducible-ml/sweeps/6t8t4d6s\" target=\"_blank\">https://app.wandb.ai/sayakpaul/reproducible-ml/sweeps/6t8t4d6s</a><br/>\n",
       "Run page: <a href=\"https://app.wandb.ai/sayakpaul/reproducible-ml/runs/fy5c6xv2\" target=\"_blank\">https://app.wandb.ai/sayakpaul/reproducible-ml/runs/fy5c6xv2</a><br/>\n",
       "            "
      ],
      "text/plain": [
       "<IPython.core.display.HTML object>"
      ]
     },
     "metadata": {},
     "output_type": "display_data"
    },
    {
     "name": "stderr",
     "output_type": "stream",
     "text": [
      "Error generating diff: Reference at 'refs/remotes/origin/master' does not exist\n"
     ]
    },
    {
     "name": "stdout",
     "output_type": "stream",
     "text": [
      "Train on 60000 samples, validate on 10000 samples\n",
      "Epoch 1/10\n",
      "60000/60000 [==============================] - 2s 35us/sample - loss: 1.0310 - accuracy: 0.6870 - val_loss: 0.7503 - val_accuracy: 0.7553\n",
      "Epoch 2/10\n",
      "60000/60000 [==============================] - 1s 24us/sample - loss: 0.6687 - accuracy: 0.7862 - val_loss: 0.6417 - val_accuracy: 0.7864\n",
      "Epoch 3/10\n",
      "60000/60000 [==============================] - 1s 23us/sample - loss: 0.5911 - accuracy: 0.8082 - val_loss: 0.5869 - val_accuracy: 0.8050\n",
      "Epoch 4/10\n",
      "60000/60000 [==============================] - 1s 22us/sample - loss: 0.5491 - accuracy: 0.8191 - val_loss: 0.5601 - val_accuracy: 0.8074\n",
      "Epoch 5/10\n",
      "60000/60000 [==============================] - 1s 22us/sample - loss: 0.5216 - accuracy: 0.8250 - val_loss: 0.5358 - val_accuracy: 0.8149\n",
      "Epoch 6/10\n",
      "60000/60000 [==============================] - 1s 22us/sample - loss: 0.5025 - accuracy: 0.8312 - val_loss: 0.5254 - val_accuracy: 0.8183\n",
      "Epoch 7/10\n",
      "60000/60000 [==============================] - 1s 22us/sample - loss: 0.4876 - accuracy: 0.8351 - val_loss: 0.5084 - val_accuracy: 0.8253\n",
      "Epoch 8/10\n",
      "60000/60000 [==============================] - 1s 22us/sample - loss: 0.4754 - accuracy: 0.8389 - val_loss: 0.4991 - val_accuracy: 0.8282\n",
      "Epoch 9/10\n",
      "60000/60000 [==============================] - 1s 22us/sample - loss: 0.4649 - accuracy: 0.8424 - val_loss: 0.4959 - val_accuracy: 0.8267\n",
      "Epoch 10/10\n",
      "60000/60000 [==============================] - 1s 21us/sample - loss: 0.4563 - accuracy: 0.8436 - val_loss: 0.4827 - val_accuracy: 0.8341\n",
      "wandb: Agent Finished Run: fy5c6xv2 \n",
      "\n",
      "wandb: Agent Starting Run: xp6ekh1a with config:\n",
      "\tepochs: 10\n",
      "\tlearning_rate: 3e-05\n",
      "\toptimizer: sgd\n",
      "wandb: Agent Started Run: xp6ekh1a\n"
     ]
    },
    {
     "data": {
      "text/html": [
       "\n",
       "                Logging results to <a href=\"https://wandb.com\" target=\"_blank\">Weights & Biases</a> <a href=\"https://docs.wandb.com/integrations/jupyter.html\" target=\"_blank\">(Documentation)</a>.<br/>\n",
       "                Project page: <a href=\"https://app.wandb.ai/sayakpaul/reproducible-ml\" target=\"_blank\">https://app.wandb.ai/sayakpaul/reproducible-ml</a><br/>\n",
       "                Sweep page: <a href=\"https://app.wandb.ai/sayakpaul/reproducible-ml/sweeps/6t8t4d6s\" target=\"_blank\">https://app.wandb.ai/sayakpaul/reproducible-ml/sweeps/6t8t4d6s</a><br/>\n",
       "Run page: <a href=\"https://app.wandb.ai/sayakpaul/reproducible-ml/runs/xp6ekh1a\" target=\"_blank\">https://app.wandb.ai/sayakpaul/reproducible-ml/runs/xp6ekh1a</a><br/>\n",
       "            "
      ],
      "text/plain": [
       "<IPython.core.display.HTML object>"
      ]
     },
     "metadata": {},
     "output_type": "display_data"
    },
    {
     "name": "stderr",
     "output_type": "stream",
     "text": [
      "Error generating diff: Reference at 'refs/remotes/origin/master' does not exist\n"
     ]
    },
    {
     "name": "stdout",
     "output_type": "stream",
     "text": [
      "Train on 60000 samples, validate on 10000 samples\n",
      "Epoch 1/10\n",
      "60000/60000 [==============================] - 2s 33us/sample - loss: 1.0310 - accuracy: 0.6870 - val_loss: 0.7503 - val_accuracy: 0.7553\n",
      "Epoch 2/10\n",
      "60000/60000 [==============================] - 1s 22us/sample - loss: 0.6687 - accuracy: 0.7862 - val_loss: 0.6417 - val_accuracy: 0.7864\n",
      "Epoch 3/10\n",
      "60000/60000 [==============================] - 1s 22us/sample - loss: 0.5911 - accuracy: 0.8082 - val_loss: 0.5869 - val_accuracy: 0.8050\n",
      "Epoch 4/10\n",
      "60000/60000 [==============================] - 1s 22us/sample - loss: 0.5491 - accuracy: 0.8191 - val_loss: 0.5601 - val_accuracy: 0.8074\n",
      "Epoch 5/10\n",
      "60000/60000 [==============================] - 1s 22us/sample - loss: 0.5216 - accuracy: 0.8250 - val_loss: 0.5358 - val_accuracy: 0.8149\n",
      "Epoch 6/10\n",
      "60000/60000 [==============================] - 1s 22us/sample - loss: 0.5025 - accuracy: 0.8312 - val_loss: 0.5254 - val_accuracy: 0.8183\n",
      "Epoch 7/10\n",
      "60000/60000 [==============================] - 1s 22us/sample - loss: 0.4876 - accuracy: 0.8351 - val_loss: 0.5084 - val_accuracy: 0.8253\n",
      "Epoch 8/10\n",
      "60000/60000 [==============================] - 1s 22us/sample - loss: 0.4754 - accuracy: 0.8389 - val_loss: 0.4991 - val_accuracy: 0.8282\n",
      "Epoch 9/10\n",
      "60000/60000 [==============================] - 1s 23us/sample - loss: 0.4649 - accuracy: 0.8424 - val_loss: 0.4959 - val_accuracy: 0.8267\n",
      "Epoch 10/10\n",
      "60000/60000 [==============================] - 1s 22us/sample - loss: 0.4563 - accuracy: 0.8436 - val_loss: 0.4827 - val_accuracy: 0.8341\n",
      "wandb: Agent Finished Run: xp6ekh1a \n",
      "\n",
      "wandb: Agent Starting Run: fmoocgtb with config:\n",
      "\tepochs: 20\n",
      "\tlearning_rate: 0.0003\n",
      "\toptimizer: adam\n",
      "wandb: Agent Started Run: fmoocgtb\n"
     ]
    },
    {
     "data": {
      "text/html": [
       "\n",
       "                Logging results to <a href=\"https://wandb.com\" target=\"_blank\">Weights & Biases</a> <a href=\"https://docs.wandb.com/integrations/jupyter.html\" target=\"_blank\">(Documentation)</a>.<br/>\n",
       "                Project page: <a href=\"https://app.wandb.ai/sayakpaul/reproducible-ml\" target=\"_blank\">https://app.wandb.ai/sayakpaul/reproducible-ml</a><br/>\n",
       "                Sweep page: <a href=\"https://app.wandb.ai/sayakpaul/reproducible-ml/sweeps/6t8t4d6s\" target=\"_blank\">https://app.wandb.ai/sayakpaul/reproducible-ml/sweeps/6t8t4d6s</a><br/>\n",
       "Run page: <a href=\"https://app.wandb.ai/sayakpaul/reproducible-ml/runs/fmoocgtb\" target=\"_blank\">https://app.wandb.ai/sayakpaul/reproducible-ml/runs/fmoocgtb</a><br/>\n",
       "            "
      ],
      "text/plain": [
       "<IPython.core.display.HTML object>"
      ]
     },
     "metadata": {},
     "output_type": "display_data"
    },
    {
     "name": "stderr",
     "output_type": "stream",
     "text": [
      "Error generating diff: Reference at 'refs/remotes/origin/master' does not exist\n"
     ]
    },
    {
     "name": "stdout",
     "output_type": "stream",
     "text": [
      "Train on 60000 samples, validate on 10000 samples\n",
      "Epoch 1/20\n",
      "60000/60000 [==============================] - 2s 35us/sample - loss: 0.5257 - accuracy: 0.8180 - val_loss: 0.4436 - val_accuracy: 0.8460\n",
      "Epoch 2/20\n",
      "60000/60000 [==============================] - 1s 23us/sample - loss: 0.3913 - accuracy: 0.8607 - val_loss: 0.3942 - val_accuracy: 0.8611\n",
      "Epoch 3/20\n",
      "60000/60000 [==============================] - 1s 23us/sample - loss: 0.3493 - accuracy: 0.8747 - val_loss: 0.3751 - val_accuracy: 0.8612\n",
      "Epoch 4/20\n",
      "60000/60000 [==============================] - 1s 23us/sample - loss: 0.3207 - accuracy: 0.8842 - val_loss: 0.3597 - val_accuracy: 0.8716\n",
      "Epoch 5/20\n",
      "60000/60000 [==============================] - 1s 22us/sample - loss: 0.3072 - accuracy: 0.8881 - val_loss: 0.3488 - val_accuracy: 0.8747\n",
      "Epoch 6/20\n",
      "58240/60000 [============================>.] - ETA: 0s - loss: 0.2886 - accuracy: 0.8938Restoring model weights from the end of the best epoch.\n",
      "60000/60000 [==============================] - 1s 22us/sample - loss: 0.2888 - accuracy: 0.8938 - val_loss: 0.3519 - val_accuracy: 0.8749\n",
      "Epoch 00006: early stopping\n",
      "wandb: Agent Finished Run: fmoocgtb \n",
      "\n",
      "wandb: Agent Starting Run: 6j4b3j71 with config:\n",
      "\tepochs: 10\n",
      "\tlearning_rate: 1e-05\n",
      "\toptimizer: sgd\n",
      "wandb: Agent Started Run: 6j4b3j71\n"
     ]
    },
    {
     "data": {
      "text/html": [
       "\n",
       "                Logging results to <a href=\"https://wandb.com\" target=\"_blank\">Weights & Biases</a> <a href=\"https://docs.wandb.com/integrations/jupyter.html\" target=\"_blank\">(Documentation)</a>.<br/>\n",
       "                Project page: <a href=\"https://app.wandb.ai/sayakpaul/reproducible-ml\" target=\"_blank\">https://app.wandb.ai/sayakpaul/reproducible-ml</a><br/>\n",
       "                Sweep page: <a href=\"https://app.wandb.ai/sayakpaul/reproducible-ml/sweeps/6t8t4d6s\" target=\"_blank\">https://app.wandb.ai/sayakpaul/reproducible-ml/sweeps/6t8t4d6s</a><br/>\n",
       "Run page: <a href=\"https://app.wandb.ai/sayakpaul/reproducible-ml/runs/6j4b3j71\" target=\"_blank\">https://app.wandb.ai/sayakpaul/reproducible-ml/runs/6j4b3j71</a><br/>\n",
       "            "
      ],
      "text/plain": [
       "<IPython.core.display.HTML object>"
      ]
     },
     "metadata": {},
     "output_type": "display_data"
    },
    {
     "name": "stderr",
     "output_type": "stream",
     "text": [
      "Error generating diff: Reference at 'refs/remotes/origin/master' does not exist\n"
     ]
    },
    {
     "name": "stdout",
     "output_type": "stream",
     "text": [
      "Train on 60000 samples, validate on 10000 samples\n",
      "Epoch 1/10\n",
      "60000/60000 [==============================] - 2s 33us/sample - loss: 1.0310 - accuracy: 0.6870 - val_loss: 0.7503 - val_accuracy: 0.7553\n",
      "Epoch 2/10\n",
      "60000/60000 [==============================] - 1s 23us/sample - loss: 0.6687 - accuracy: 0.7862 - val_loss: 0.6417 - val_accuracy: 0.7864\n",
      "Epoch 3/10\n",
      "60000/60000 [==============================] - 1s 23us/sample - loss: 0.5911 - accuracy: 0.8082 - val_loss: 0.5869 - val_accuracy: 0.8050\n",
      "Epoch 4/10\n",
      "60000/60000 [==============================] - 1s 23us/sample - loss: 0.5491 - accuracy: 0.8191 - val_loss: 0.5601 - val_accuracy: 0.8074\n",
      "Epoch 5/10\n",
      "60000/60000 [==============================] - 1s 23us/sample - loss: 0.5216 - accuracy: 0.8250 - val_loss: 0.5358 - val_accuracy: 0.8149\n",
      "Epoch 6/10\n",
      "60000/60000 [==============================] - 1s 22us/sample - loss: 0.5025 - accuracy: 0.8312 - val_loss: 0.5254 - val_accuracy: 0.8183\n",
      "Epoch 7/10\n",
      "60000/60000 [==============================] - 1s 22us/sample - loss: 0.4876 - accuracy: 0.8351 - val_loss: 0.5084 - val_accuracy: 0.8253\n",
      "Epoch 8/10\n",
      "60000/60000 [==============================] - 1s 22us/sample - loss: 0.4754 - accuracy: 0.8389 - val_loss: 0.4991 - val_accuracy: 0.8282\n",
      "Epoch 9/10\n",
      "60000/60000 [==============================] - 1s 22us/sample - loss: 0.4649 - accuracy: 0.8424 - val_loss: 0.4959 - val_accuracy: 0.8267\n",
      "Epoch 10/10\n",
      "60000/60000 [==============================] - 1s 22us/sample - loss: 0.4563 - accuracy: 0.8436 - val_loss: 0.4827 - val_accuracy: 0.8341\n",
      "wandb: Agent Finished Run: 6j4b3j71 \n",
      "\n",
      "wandb: Agent Starting Run: c13wx713 with config:\n",
      "\tepochs: 10\n",
      "\tlearning_rate: 0.001\n",
      "\toptimizer: sgd\n",
      "wandb: Agent Started Run: c13wx713\n"
     ]
    },
    {
     "data": {
      "text/html": [
       "\n",
       "                Logging results to <a href=\"https://wandb.com\" target=\"_blank\">Weights & Biases</a> <a href=\"https://docs.wandb.com/integrations/jupyter.html\" target=\"_blank\">(Documentation)</a>.<br/>\n",
       "                Project page: <a href=\"https://app.wandb.ai/sayakpaul/reproducible-ml\" target=\"_blank\">https://app.wandb.ai/sayakpaul/reproducible-ml</a><br/>\n",
       "                Sweep page: <a href=\"https://app.wandb.ai/sayakpaul/reproducible-ml/sweeps/6t8t4d6s\" target=\"_blank\">https://app.wandb.ai/sayakpaul/reproducible-ml/sweeps/6t8t4d6s</a><br/>\n",
       "Run page: <a href=\"https://app.wandb.ai/sayakpaul/reproducible-ml/runs/c13wx713\" target=\"_blank\">https://app.wandb.ai/sayakpaul/reproducible-ml/runs/c13wx713</a><br/>\n",
       "            "
      ],
      "text/plain": [
       "<IPython.core.display.HTML object>"
      ]
     },
     "metadata": {},
     "output_type": "display_data"
    },
    {
     "name": "stderr",
     "output_type": "stream",
     "text": [
      "Error generating diff: Reference at 'refs/remotes/origin/master' does not exist\n"
     ]
    },
    {
     "name": "stdout",
     "output_type": "stream",
     "text": [
      "Train on 60000 samples, validate on 10000 samples\n",
      "Epoch 1/10\n",
      "60000/60000 [==============================] - 2s 33us/sample - loss: 1.0310 - accuracy: 0.6870 - val_loss: 0.7503 - val_accuracy: 0.7553\n",
      "Epoch 2/10\n",
      "60000/60000 [==============================] - 1s 22us/sample - loss: 0.6687 - accuracy: 0.7862 - val_loss: 0.6417 - val_accuracy: 0.7864\n",
      "Epoch 3/10\n",
      "60000/60000 [==============================] - 1s 22us/sample - loss: 0.5911 - accuracy: 0.8082 - val_loss: 0.5869 - val_accuracy: 0.8050\n",
      "Epoch 4/10\n",
      "60000/60000 [==============================] - 1s 22us/sample - loss: 0.5491 - accuracy: 0.8191 - val_loss: 0.5601 - val_accuracy: 0.8074\n",
      "Epoch 5/10\n",
      "60000/60000 [==============================] - 1s 22us/sample - loss: 0.5216 - accuracy: 0.8250 - val_loss: 0.5358 - val_accuracy: 0.8149\n",
      "Epoch 6/10\n",
      "60000/60000 [==============================] - 1s 22us/sample - loss: 0.5025 - accuracy: 0.8312 - val_loss: 0.5254 - val_accuracy: 0.8183\n",
      "Epoch 7/10\n",
      "60000/60000 [==============================] - 1s 22us/sample - loss: 0.4876 - accuracy: 0.8351 - val_loss: 0.5084 - val_accuracy: 0.8253\n",
      "Epoch 8/10\n",
      "60000/60000 [==============================] - 1s 22us/sample - loss: 0.4754 - accuracy: 0.8389 - val_loss: 0.4991 - val_accuracy: 0.8282\n",
      "Epoch 9/10\n",
      "60000/60000 [==============================] - 1s 23us/sample - loss: 0.4649 - accuracy: 0.8424 - val_loss: 0.4959 - val_accuracy: 0.8267\n",
      "Epoch 10/10\n",
      "60000/60000 [==============================] - 1s 22us/sample - loss: 0.4563 - accuracy: 0.8436 - val_loss: 0.4827 - val_accuracy: 0.8341\n",
      "wandb: Agent Finished Run: c13wx713 \n",
      "\n",
      "wandb: Agent Starting Run: be9qk3di with config:\n",
      "\tepochs: 20\n",
      "\tlearning_rate: 0.0003\n",
      "\toptimizer: sgd\n",
      "wandb: Agent Started Run: be9qk3di\n"
     ]
    },
    {
     "data": {
      "text/html": [
       "\n",
       "                Logging results to <a href=\"https://wandb.com\" target=\"_blank\">Weights & Biases</a> <a href=\"https://docs.wandb.com/integrations/jupyter.html\" target=\"_blank\">(Documentation)</a>.<br/>\n",
       "                Project page: <a href=\"https://app.wandb.ai/sayakpaul/reproducible-ml\" target=\"_blank\">https://app.wandb.ai/sayakpaul/reproducible-ml</a><br/>\n",
       "                Sweep page: <a href=\"https://app.wandb.ai/sayakpaul/reproducible-ml/sweeps/6t8t4d6s\" target=\"_blank\">https://app.wandb.ai/sayakpaul/reproducible-ml/sweeps/6t8t4d6s</a><br/>\n",
       "Run page: <a href=\"https://app.wandb.ai/sayakpaul/reproducible-ml/runs/be9qk3di\" target=\"_blank\">https://app.wandb.ai/sayakpaul/reproducible-ml/runs/be9qk3di</a><br/>\n",
       "            "
      ],
      "text/plain": [
       "<IPython.core.display.HTML object>"
      ]
     },
     "metadata": {},
     "output_type": "display_data"
    },
    {
     "name": "stderr",
     "output_type": "stream",
     "text": [
      "Error generating diff: Reference at 'refs/remotes/origin/master' does not exist\n"
     ]
    },
    {
     "name": "stdout",
     "output_type": "stream",
     "text": [
      "Train on 60000 samples, validate on 10000 samples\n",
      "Epoch 1/20\n",
      "60000/60000 [==============================] - 2s 34us/sample - loss: 1.0310 - accuracy: 0.6870 - val_loss: 0.7503 - val_accuracy: 0.7553\n",
      "Epoch 2/20\n",
      "60000/60000 [==============================] - 1s 22us/sample - loss: 0.6687 - accuracy: 0.7862 - val_loss: 0.6417 - val_accuracy: 0.7864\n",
      "Epoch 3/20\n",
      "60000/60000 [==============================] - 1s 22us/sample - loss: 0.5911 - accuracy: 0.8082 - val_loss: 0.5869 - val_accuracy: 0.8050\n",
      "Epoch 4/20\n",
      "60000/60000 [==============================] - 1s 21us/sample - loss: 0.5491 - accuracy: 0.8191 - val_loss: 0.5601 - val_accuracy: 0.8074\n",
      "Epoch 5/20\n",
      "60000/60000 [==============================] - 1s 22us/sample - loss: 0.5216 - accuracy: 0.8250 - val_loss: 0.5358 - val_accuracy: 0.8149\n",
      "Epoch 6/20\n",
      "60000/60000 [==============================] - 1s 22us/sample - loss: 0.5025 - accuracy: 0.8312 - val_loss: 0.5254 - val_accuracy: 0.8183\n",
      "Epoch 7/20\n",
      "60000/60000 [==============================] - 1s 22us/sample - loss: 0.4876 - accuracy: 0.8351 - val_loss: 0.5084 - val_accuracy: 0.8253\n",
      "Epoch 8/20\n",
      "60000/60000 [==============================] - 1s 22us/sample - loss: 0.4754 - accuracy: 0.8389 - val_loss: 0.4991 - val_accuracy: 0.8282\n",
      "Epoch 9/20\n",
      "60000/60000 [==============================] - 1s 23us/sample - loss: 0.4649 - accuracy: 0.8424 - val_loss: 0.4959 - val_accuracy: 0.8267\n",
      "Epoch 10/20\n",
      "60000/60000 [==============================] - 1s 22us/sample - loss: 0.4563 - accuracy: 0.8436 - val_loss: 0.4827 - val_accuracy: 0.8341\n",
      "Epoch 11/20\n",
      "60000/60000 [==============================] - 1s 23us/sample - loss: 0.4488 - accuracy: 0.8468 - val_loss: 0.4775 - val_accuracy: 0.8323\n",
      "Epoch 12/20\n",
      "60000/60000 [==============================] - 1s 22us/sample - loss: 0.4416 - accuracy: 0.8488 - val_loss: 0.4707 - val_accuracy: 0.8378\n",
      "Epoch 13/20\n",
      "60000/60000 [==============================] - 1s 23us/sample - loss: 0.4359 - accuracy: 0.8503 - val_loss: 0.4637 - val_accuracy: 0.8391\n",
      "Epoch 14/20\n",
      "57344/60000 [===========================>..] - ETA: 0s - loss: 0.4308 - accuracy: 0.8506Restoring model weights from the end of the best epoch.\n",
      "60000/60000 [==============================] - 1s 23us/sample - loss: 0.4307 - accuracy: 0.8512 - val_loss: 0.4646 - val_accuracy: 0.8348\n",
      "Epoch 00014: early stopping\n",
      "wandb: Agent Finished Run: be9qk3di \n",
      "\n",
      "wandb: Agent Starting Run: qotbrbx8 with config:\n",
      "\tepochs: 10\n",
      "\tlearning_rate: 0.001\n",
      "\toptimizer: adam\n",
      "wandb: Agent Started Run: qotbrbx8\n"
     ]
    },
    {
     "data": {
      "text/html": [
       "\n",
       "                Logging results to <a href=\"https://wandb.com\" target=\"_blank\">Weights & Biases</a> <a href=\"https://docs.wandb.com/integrations/jupyter.html\" target=\"_blank\">(Documentation)</a>.<br/>\n",
       "                Project page: <a href=\"https://app.wandb.ai/sayakpaul/reproducible-ml\" target=\"_blank\">https://app.wandb.ai/sayakpaul/reproducible-ml</a><br/>\n",
       "                Sweep page: <a href=\"https://app.wandb.ai/sayakpaul/reproducible-ml/sweeps/6t8t4d6s\" target=\"_blank\">https://app.wandb.ai/sayakpaul/reproducible-ml/sweeps/6t8t4d6s</a><br/>\n",
       "Run page: <a href=\"https://app.wandb.ai/sayakpaul/reproducible-ml/runs/qotbrbx8\" target=\"_blank\">https://app.wandb.ai/sayakpaul/reproducible-ml/runs/qotbrbx8</a><br/>\n",
       "            "
      ],
      "text/plain": [
       "<IPython.core.display.HTML object>"
      ]
     },
     "metadata": {},
     "output_type": "display_data"
    },
    {
     "name": "stderr",
     "output_type": "stream",
     "text": [
      "Error generating diff: Reference at 'refs/remotes/origin/master' does not exist\n"
     ]
    },
    {
     "name": "stdout",
     "output_type": "stream",
     "text": [
      "Train on 60000 samples, validate on 10000 samples\n",
      "Epoch 1/10\n",
      "60000/60000 [==============================] - 2s 35us/sample - loss: 0.5257 - accuracy: 0.8180 - val_loss: 0.4436 - val_accuracy: 0.8460\n",
      "Epoch 2/10\n",
      "60000/60000 [==============================] - 1s 23us/sample - loss: 0.3913 - accuracy: 0.8607 - val_loss: 0.3942 - val_accuracy: 0.8611\n",
      "Epoch 3/10\n",
      "60000/60000 [==============================] - 1s 23us/sample - loss: 0.3493 - accuracy: 0.8747 - val_loss: 0.3751 - val_accuracy: 0.8612\n",
      "Epoch 4/10\n",
      "60000/60000 [==============================] - 1s 22us/sample - loss: 0.3207 - accuracy: 0.8842 - val_loss: 0.3597 - val_accuracy: 0.8716\n",
      "Epoch 5/10\n",
      "60000/60000 [==============================] - 1s 22us/sample - loss: 0.3072 - accuracy: 0.8881 - val_loss: 0.3488 - val_accuracy: 0.8747\n",
      "Epoch 6/10\n",
      "58624/60000 [============================>.] - ETA: 0s - loss: 0.2888 - accuracy: 0.8936Restoring model weights from the end of the best epoch.\n",
      "60000/60000 [==============================] - 1s 22us/sample - loss: 0.2888 - accuracy: 0.8938 - val_loss: 0.3519 - val_accuracy: 0.8749\n",
      "Epoch 00006: early stopping\n",
      "wandb: Agent Finished Run: qotbrbx8 \n",
      "\n",
      "wandb: Agent Starting Run: 2zw5bv7v with config:\n",
      "\tepochs: 15\n",
      "\tlearning_rate: 1e-05\n",
      "\toptimizer: adam\n",
      "wandb: Agent Started Run: 2zw5bv7v\n"
     ]
    },
    {
     "data": {
      "text/html": [
       "\n",
       "                Logging results to <a href=\"https://wandb.com\" target=\"_blank\">Weights & Biases</a> <a href=\"https://docs.wandb.com/integrations/jupyter.html\" target=\"_blank\">(Documentation)</a>.<br/>\n",
       "                Project page: <a href=\"https://app.wandb.ai/sayakpaul/reproducible-ml\" target=\"_blank\">https://app.wandb.ai/sayakpaul/reproducible-ml</a><br/>\n",
       "                Sweep page: <a href=\"https://app.wandb.ai/sayakpaul/reproducible-ml/sweeps/6t8t4d6s\" target=\"_blank\">https://app.wandb.ai/sayakpaul/reproducible-ml/sweeps/6t8t4d6s</a><br/>\n",
       "Run page: <a href=\"https://app.wandb.ai/sayakpaul/reproducible-ml/runs/2zw5bv7v\" target=\"_blank\">https://app.wandb.ai/sayakpaul/reproducible-ml/runs/2zw5bv7v</a><br/>\n",
       "            "
      ],
      "text/plain": [
       "<IPython.core.display.HTML object>"
      ]
     },
     "metadata": {},
     "output_type": "display_data"
    },
    {
     "name": "stderr",
     "output_type": "stream",
     "text": [
      "Error generating diff: Reference at 'refs/remotes/origin/master' does not exist\n"
     ]
    },
    {
     "name": "stdout",
     "output_type": "stream",
     "text": [
      "Train on 60000 samples, validate on 10000 samples\n",
      "Epoch 1/15\n",
      "60000/60000 [==============================] - 2s 35us/sample - loss: 0.5257 - accuracy: 0.8180 - val_loss: 0.4436 - val_accuracy: 0.8460\n",
      "Epoch 2/15\n",
      "60000/60000 [==============================] - 1s 23us/sample - loss: 0.3913 - accuracy: 0.8607 - val_loss: 0.3942 - val_accuracy: 0.8611\n",
      "Epoch 3/15\n",
      "60000/60000 [==============================] - 1s 22us/sample - loss: 0.3493 - accuracy: 0.8747 - val_loss: 0.3751 - val_accuracy: 0.8612\n",
      "Epoch 4/15\n",
      "60000/60000 [==============================] - 1s 23us/sample - loss: 0.3207 - accuracy: 0.8842 - val_loss: 0.3597 - val_accuracy: 0.8716\n",
      "Epoch 5/15\n",
      "57728/60000 [===========================>..] - ETA: 0s - loss: 0.3075 - accuracy: 0.8879"
     ]
    }
   ],
   "source": [
    "# Start the sweep\n",
    "wandb.agent(sweep_id, train)"
   ]
  }
 ],
 "metadata": {
  "kernelspec": {
   "display_name": "Python 3",
   "language": "python",
   "name": "python3"
  },
  "language_info": {
   "codemirror_mode": {
    "name": "ipython",
    "version": 3
   },
   "file_extension": ".py",
   "mimetype": "text/x-python",
   "name": "python",
   "nbconvert_exporter": "python",
   "pygments_lexer": "ipython3",
   "version": "3.7.6"
  }
 },
 "nbformat": 4,
 "nbformat_minor": 4
}
